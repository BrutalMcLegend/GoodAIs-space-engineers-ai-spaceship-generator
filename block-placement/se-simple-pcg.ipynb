{
 "cells": [
  {
   "cell_type": "markdown",
   "metadata": {},
   "source": [
    "# Simple Procedural Content Generation for Space Engineers\n",
    "\n",
    "Create functional spaceships in Space Engineers by PCG using the [SE API](https://github.com/iv4xr-project/iv4xr-se-plugin).\n",
    "\n",
    "Additional information for SE can be found [here](https://github.com/iv4xr-project/iv4xr-se-plugin/tree/main/JvmClient#basic-space-engineers-engine-info).\n",
    "\n",
    "SE API calls are listed [here](https://github.com/iv4xr-project/iv4xr-se-plugin/blob/main/Source/Ivxr.SePlugin/Communication/AustinJsonRpcSpaceEngineers.cs).\n",
    "\n",
    "**NOTE**: Have the game *running*; leaving the game simply paused breaks the API (no calls are accepted). *Suggestion*: Use windowed mode, press `Start` after the scenario is loaded and return to this notebook."
   ]
  },
  {
   "cell_type": "markdown",
   "metadata": {},
   "source": [
    "Import required packages"
   ]
  },
  {
   "cell_type": "code",
   "execution_count": 113,
   "metadata": {},
   "outputs": [],
   "source": [
    "import ast\n",
    "import json\n",
    "import numpy as np\n",
    "import random\n",
    "import os\n",
    "import socket\n",
    "import time\n",
    "\n",
    "from enum import Enum\n",
    "from typing import List, Optional, Dict, Any, Tuple"
   ]
  },
  {
   "cell_type": "markdown",
   "metadata": {
    "tags": []
   },
   "source": [
    "## API Interfacing"
   ]
  },
  {
   "cell_type": "markdown",
   "metadata": {
    "tags": []
   },
   "source": [
    "Variables for the API:"
   ]
  },
  {
   "cell_type": "code",
   "execution_count": 114,
   "metadata": {},
   "outputs": [],
   "source": [
    "host = 'localhost'\n",
    "port = 3333"
   ]
  },
  {
   "cell_type": "markdown",
   "metadata": {},
   "source": [
    "API common structs/classes"
   ]
  },
  {
   "cell_type": "code",
   "execution_count": 115,
   "metadata": {},
   "outputs": [],
   "source": [
    "def vec2(x: int,\n",
    "         y: int) -> Dict[str, int]:\n",
    "    return {\n",
    "        \"X\": x,\n",
    "        \"Y\": y\n",
    "    }\n",
    "\n",
    "def vec3(x: int,\n",
    "         y: int,\n",
    "         z: int) -> Dict[str, int]:\n",
    "    return {\n",
    "        \"X\": x,\n",
    "        \"Y\": y,\n",
    "        \"Z\": z\n",
    "    }\n",
    "\n",
    "def vec2f(x: float,\n",
    "         y: float) -> Dict[str, float]:\n",
    "    return {\n",
    "        \"X\": x,\n",
    "        \"Y\": y\n",
    "    }\n",
    "\n",
    "def vec3f(x: float,\n",
    "         y: float,\n",
    "         z: float) -> Dict[str, float]:\n",
    "    return {\n",
    "        \"X\": x,\n",
    "        \"Y\": y,\n",
    "        \"Z\": z\n",
    "    }\n",
    "\n",
    "def sum_vecs(a: Dict[str, Any],\n",
    "             b: Dict[str, Any]) -> Dict[str, Any]:\n",
    "    return {\n",
    "        \"X\": a[\"X\"] + b[\"X\"],\n",
    "        \"Y\": a[\"Y\"] + b[\"Y\"],\n",
    "        \"Z\": a[\"Z\"] + b[\"Z\"],\n",
    "    }\n",
    "\n",
    "class Orientation(Enum):\n",
    "    UP = vec3f(0., 1., 0.)\n",
    "    DOWN = vec3f(0., -1., 0.)\n",
    "    RIGHT = vec3f(1., 0., 0.)\n",
    "    LEFT = vec3f(-1., 0., 0.)\n",
    "    FORWARD = vec3f(0., 0., -1.)\n",
    "    BACKWARD = vec3f(0., 0., 1.)"
   ]
  },
  {
   "cell_type": "markdown",
   "metadata": {},
   "source": [
    "Character position to camera position offset"
   ]
  },
  {
   "cell_type": "code",
   "execution_count": 116,
   "metadata": {
    "jupyter": {
     "source_hidden": true
    },
    "tags": []
   },
   "outputs": [],
   "source": [
    "character_camera_dist = vec3f(0., 1.6369286, 0.)"
   ]
  },
  {
   "cell_type": "markdown",
   "metadata": {},
   "source": [
    "### Block class"
   ]
  },
  {
   "cell_type": "code",
   "execution_count": 117,
   "metadata": {
    "tags": []
   },
   "outputs": [],
   "source": [
    "class Block:\n",
    "    def __init__(self,\n",
    "                 block_type: str,\n",
    "                 orientation_forward: Orientation = Orientation.FORWARD,\n",
    "                 orientation_up: Orientation = Orientation.UP):\n",
    "        self.block_type = block_type\n",
    "        self.orientation_forward = orientation_forward\n",
    "        self.orientation_up = orientation_up\n",
    "        self.position = vec3f(0., 0., 0.)\n",
    "    \n",
    "    def __str__(self) -> str:\n",
    "        return f'{self.block_type} at {self.position}; OF {self.orientation_forward}; OU {self.orientation_up}'\n",
    "    \n",
    "    def __repr__(self) -> str:\n",
    "        return f'{self.block_type} at {self.position}; OF {self.orientation_forward}; OU {self.orientation_up}'\n",
    "\n",
    "blocks_dims = {\n",
    "    's': 0.5,  # small\n",
    "    'n': 1.,  # normal\n",
    "    'l': 2.5  # large\n",
    "}\n",
    "\n",
    "def get_block_size(block: Block) -> str:\n",
    "    return 's' if block.block_type.startswith('Small') else ('l'if block.block_type.startswith('Large') else 'n')\n",
    "\n",
    "def get_block_dim(block: Block) -> float:\n",
    "    return blocks_dims[get_block_size(block)]"
   ]
  },
  {
   "cell_type": "markdown",
   "metadata": {},
   "source": [
    "### Structure class\n",
    "\n",
    "A structure is a 3D matrix filled with `Block`s. Currently, the `Structure` is a fixed-size 3D matrix of smallest size cubes (`0.5`); larger cubes are inserted once and occupy the neighbouring spaces."
   ]
  },
  {
   "cell_type": "code",
   "execution_count": 118,
   "metadata": {
    "tags": []
   },
   "outputs": [],
   "source": [
    "class Structure:\n",
    "    def __init__(self,\n",
    "                 origin: Dict[str, Any],\n",
    "                 orientation_forward: Dict[str, Any],\n",
    "                 orientation_up: Dict[str, Any],\n",
    "                 dimensions: Tuple[int, int, int] = (10, 10, 10)) -> None:\n",
    "        self._VALUE = 0.5\n",
    "        self.origin_coords = origin\n",
    "        self.orientation_forward = orientation_forward\n",
    "        self.orientation_up = orientation_up\n",
    "        self._structure: np.ndarray = 0.5 * np.ones(dimensions)  # keeps track of occupied spaces\n",
    "        self._blocks: Dict[float, Block] = {}  # keeps track of blocks info\n",
    "            \n",
    "    def add_block(self,\n",
    "                  block: Block,\n",
    "                  grid_position: Tuple[int, int, int]) -> None:\n",
    "        k, j, i = grid_position\n",
    "        assert self._structure[i][j][k] == 0.5, f'Error when attempting to place block {block.block_type}: space already occupied.'\n",
    "        block_size = get_block_size(block)\n",
    "        if block_size != 's':\n",
    "            # update neighbouring cells\n",
    "            r = 5 if block_size == 'l' else 2\n",
    "            n, target = np.sum(self._structure[i:i+r, j:j+r, k:k+r]) - self._VALUE, self._VALUE * ((r ** 3) - 1)\n",
    "            assert n == target, f'Error when placing block {block.block_type}: block would intersect already existing block(s).'\n",
    "            self._structure[i:i+r, j:j+r, k:k+r] = np.zeros((r,r,r))\n",
    "        block_id = float(self._VALUE + len(self._blocks.keys()) + 1)  # unique sequential block id as key in dict\n",
    "        self._structure[i, j, k] = block_id\n",
    "        self._blocks[block_id] = block\n",
    "        # update block position\n",
    "        dx, dy, dz = 0., 0., 0.\n",
    "        if i > 0:\n",
    "            for e in self._structure[0:i, j, k]:\n",
    "                dz += get_block_dim(self._blocks[e]) if e > self._VALUE else e\n",
    "        if j > 0:\n",
    "            for e in self._structure[i, 0:j, k]:\n",
    "                dy += get_block_dim(self._blocks[e]) if e > self._VALUE else e\n",
    "        if k > 0:\n",
    "            for e in self._structure[i, j, 0:k]:\n",
    "                dx += get_block_dim(self._blocks[e]) if e > self._VALUE else e        \n",
    "        block.position = sum_vecs(self.origin_coords, vec3f(dx, dy, dz))\n",
    "    \n",
    "    def get_all_blocks(self) -> List[Block]:\n",
    "        return self._blocks.values()"
   ]
  },
  {
   "cell_type": "markdown",
   "metadata": {
    "tags": []
   },
   "source": [
    "### API interfacing methods"
   ]
  },
  {
   "cell_type": "code",
   "execution_count": 119,
   "metadata": {
    "jupyter": {
     "source_hidden": true
    },
    "tags": []
   },
   "outputs": [],
   "source": [
    "def generate_json(method: str,\n",
    "                  params: Optional[List[Any]] = None) -> Dict[str, Any]:\n",
    "    return {\n",
    "        \"jsonrpc\": \"2.0\",\n",
    "        \"method\": method,\n",
    "        \"params\": params if params else [],\n",
    "        \"id\": random.getrandbits(16)\n",
    "    }\n",
    "\n",
    "def compactify_jsons(jsons: List[Dict[str, Any]]) -> List[str]:\n",
    "    \"\"\" JSONs should be single line & compact formatted before calling the API. (@Karel Hovorka)\"\"\"\n",
    "    compacted_jsons = ''\n",
    "    for j in jsons:\n",
    "        compacted_jsons += json.dumps(obj=j,\n",
    "                               separators=(',', ':'),\n",
    "                               indent=None)\n",
    "        compacted_jsons += '\\r\\n'\n",
    "\n",
    "    return compacted_jsons\n",
    "\n",
    "# Modified from https://www.binarytides.com/receive-full-data-with-the-recv-socket-function-in-python/\n",
    "def recv_with_timeout(s: socket.socket,\n",
    "                      timeout: int = 2):\n",
    "    #make socket non blocking\n",
    "    s.setblocking(0)\n",
    "    #total data partwise in an array\n",
    "    total_data = [];\n",
    "    #beginning time\n",
    "    begin = time.time()\n",
    "    while True:\n",
    "        # timeout termination\n",
    "        if total_data and time.time() - begin > timeout:\n",
    "            break\n",
    "        # wait to get data\n",
    "        elif time.time() - begin > timeout * 2:\n",
    "            break\n",
    "        # recv\n",
    "        try:\n",
    "            data = s.recv(8192).decode(\"utf-8\")\n",
    "            if data:\n",
    "                # early break if socket returns the same data\n",
    "                if len(total_data) > 1 and data == total_data[-1]:\n",
    "                    break\n",
    "                # append new data\n",
    "                total_data.append(data)\n",
    "                # change the beginning time for measurement\n",
    "                begin = time.time()\n",
    "            else:\n",
    "                #sleep to indicate a gap\n",
    "                time.sleep(0.1)\n",
    "        except:\n",
    "            # note: Exceptions are thrown due to socket not reading anything before and after data is passed\n",
    "            pass\n",
    "    # join all parts to make final string\n",
    "    return ''.join(total_data)\n",
    "\n",
    "def call_api(jsons: List[Dict[str, Any]]) -> List[Dict[str, Any]]:\n",
    "    # open socket for communication\n",
    "    s = socket.socket(family=socket.AF_INET,\n",
    "                      type=socket.SOCK_STREAM)\n",
    "    s.connect((host, port))    \n",
    "    # send methods as compacted JSON bytearray\n",
    "    s.sendall(compactify_jsons(jsons=jsons).encode('utf-8'))\n",
    "    # get response\n",
    "    res = recv_with_timeout(s)\n",
    "    # close socket\n",
    "    s.close()\n",
    "    # due to TCP streming packets, it's possible some JSON-RPC responses are the same;\n",
    "    # workaround: identify unique JSON-RPC responses by unique id\n",
    "    return [json.loads(x) for x in list(set(res.strip().split('\\r\\n')))]"
   ]
  },
  {
   "cell_type": "markdown",
   "metadata": {},
   "source": [
    "## Game speed\n",
    "\n",
    "We can toggle the game speed by togglin the game's frame limit.\n",
    "\n",
    "**NOTE**: Switch between `GameMode.PLACING` (fast) and `GameMode.EVALUATING` (slow)."
   ]
  },
  {
   "cell_type": "code",
   "execution_count": 120,
   "metadata": {
    "jupyter": {
     "source_hidden": true
    },
    "tags": []
   },
   "outputs": [],
   "source": [
    "class GameMode(Enum):\n",
    "    PLACING = False\n",
    "    EVALUATING = True\n",
    "\n",
    "def toggle_gamemode(mode: GameMode) -> None:\n",
    "    # \"we plan to change the API and rename this function in near future\" (@Karel Hovorka)\n",
    "    call_api(jsons=[generate_json(method=\"Admin.SetFrameLimitEnabled\",\n",
    "                                  params=[mode.value])])"
   ]
  },
  {
   "cell_type": "code",
   "execution_count": 121,
   "metadata": {
    "jupyter": {
     "source_hidden": true
    },
    "tags": []
   },
   "outputs": [],
   "source": [
    "toggle_gamemode(mode=GameMode.EVALUATING)"
   ]
  },
  {
   "cell_type": "markdown",
   "metadata": {
    "tags": []
   },
   "source": [
    "## Structure placement"
   ]
  },
  {
   "cell_type": "markdown",
   "metadata": {},
   "source": [
    "[Blocks DefintionIDs](https://github.com/iv4xr-project/iv4xr-se-plugin/tree/main/JvmClient#definitionid-id) are used to specify which block to place. Here we either ask the API directly to provide us the list of available DefintionIDs or we can load the .JSON which contains them (faster in future runs).\n",
    "\n",
    "**NOTE**: This cell produces the global variable `block_definitions`, a map between the block type and the API-supported ID to use in the request `params` field."
   ]
  },
  {
   "cell_type": "code",
   "execution_count": 122,
   "metadata": {
    "jupyter": {
     "source_hidden": true
    },
    "tags": []
   },
   "outputs": [],
   "source": [
    "if not os.path.exists('./block_definitions.json'):\n",
    "    # poll API for block definition ids\n",
    "    jsons = [ \n",
    "        generate_json(method=\"Definitions.BlockDefinitions\")\n",
    "        ]\n",
    "    res = json.loads(call_api(jsons=jsons))\n",
    "    # transform to map of type:id\n",
    "    block_definitions = {v['Type']:v for v in [entry['DefinitionId'] for entry in res['result']]}\n",
    "    with open('./block_definitions.json', 'w') as f:\n",
    "        json.dump(block_definitions, f)\n",
    "else:\n",
    "    with open('./block_definitions.json', 'r') as f:\n",
    "        block_definitions = json.load(f)"
   ]
  },
  {
   "cell_type": "markdown",
   "metadata": {},
   "source": [
    "Structure creation and placement."
   ]
  },
  {
   "cell_type": "code",
   "execution_count": 123,
   "metadata": {
    "tags": []
   },
   "outputs": [],
   "source": [
    "def get_base_values():\n",
    "    obs = call_api(jsons=[generate_json(method=\"Observer.Observe\")])[0]\n",
    "    base_position = obs['result']['Position']\n",
    "    orientation_forward = obs['result']['OrientationForward']\n",
    "    orientation_up = obs['result']['OrientationUp']\n",
    "    return base_position, orientation_forward, orientation_up\n",
    "\n",
    "def place_blocks(blocks: List[Block]) -> None:\n",
    "    # prepare jsons\n",
    "    jsons = [generate_json(method=\"Admin.Blocks.PlaceAt\",\n",
    "                           params={\n",
    "                               \"blockDefinitionId\": block_definitions[block.block_type],\n",
    "                               \"position\": block.position,\n",
    "                               \"orientationForward\": block.orientation_forward.value,\n",
    "                               \"orientationUp\": block.orientation_up.value\n",
    "                           }) for block in blocks]\n",
    "    # place blocks\n",
    "    call_api(jsons=jsons)"
   ]
  },
  {
   "cell_type": "markdown",
   "metadata": {},
   "source": [
    "Example of structure placement.\n",
    "\n",
    "At the moment, the structure spawns but is not functional as the blocks are not part of the same game grid. Waiting to hear back from GoodAI."
   ]
  },
  {
   "cell_type": "code",
   "execution_count": 124,
   "metadata": {},
   "outputs": [],
   "source": [
    "base_position, orientation_forward, orientation_up = get_base_values()\n",
    "structure = Structure(origin=base_position,\n",
    "                      orientation_forward=orientation_forward,\n",
    "                      orientation_up=orientation_up,\n",
    "                      dimensions=(10, 10, 10))\n",
    "structure.add_block(block=Block(block_type='LargeBlockSmallGenerator',\n",
    "                                orientation_forward=Orientation.LEFT,\n",
    "                                orientation_up=Orientation.DOWN),\n",
    "                    grid_position=(0, 0, 0)\n",
    "                    )\n",
    "structure.add_block(block=Block(block_type='LargeBlockCockpitSeat',\n",
    "                                orientation_forward=Orientation.UP,\n",
    "                                orientation_up=Orientation.RIGHT\n",
    "                                ),\n",
    "                                grid_position=(0, 5, 0))\n",
    "\n",
    "place_blocks(structure.get_all_blocks())"
   ]
  }
 ],
 "metadata": {
  "interpreter": {
   "hash": "20bab91c9f6d820bcc9168592ada9e5eef44cb7ec9e6ded26baf766bc800a1f4"
  },
  "kernelspec": {
   "display_name": "Python 3",
   "language": "python",
   "name": "python3"
  },
  "language_info": {
   "codemirror_mode": {
    "name": "ipython",
    "version": 3
   },
   "file_extension": ".py",
   "mimetype": "text/x-python",
   "name": "python",
   "nbconvert_exporter": "python",
   "pygments_lexer": "ipython3",
   "version": "3.8.8"
  }
 },
 "nbformat": 4,
 "nbformat_minor": 4
}
