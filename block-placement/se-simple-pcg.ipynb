{
 "cells": [
  {
   "cell_type": "markdown",
   "metadata": {},
   "source": [
    "# Simple Procedural Content Generation for Space Engineers\n",
    "\n",
    "Create functional spaceships in Space Engineers by PCG using the [SE API](https://github.com/iv4xr-project/iv4xr-se-plugin).\n",
    "\n",
    "Additional information for SE can be found [here](https://github.com/iv4xr-project/iv4xr-se-plugin/tree/main/JvmClient#basic-space-engineers-engine-info).\n",
    "\n",
    "SE API calls are listed [here](https://github.com/iv4xr-project/iv4xr-se-plugin/blob/main/Source/Ivxr.SePlugin/Communication/AustinJsonRpcSpaceEngineers.cs).\n",
    "\n",
    "**NOTE**: Have the game *running*; leaving the game simply paused breaks the API (no calls are accepted). *Suggestion*: Use windowed mode, press `Start` after the scenario is loaded and return to this notebook."
   ]
  },
  {
   "cell_type": "markdown",
   "metadata": {},
   "source": [
    "Import required packages"
   ]
  },
  {
   "cell_type": "code",
   "execution_count": 73,
   "metadata": {},
   "outputs": [],
   "source": [
    "import ast\n",
    "import json\n",
    "import random\n",
    "import os\n",
    "import socket\n",
    "import time\n",
    "from typing import List, Optional, Dict, Any, Tuple"
   ]
  },
  {
   "cell_type": "markdown",
   "metadata": {},
   "source": [
    "## API Interfacing"
   ]
  },
  {
   "cell_type": "markdown",
   "metadata": {},
   "source": [
    "Variables for the API:"
   ]
  },
  {
   "cell_type": "code",
   "execution_count": 22,
   "metadata": {},
   "outputs": [],
   "source": [
    "host = 'localhost'\n",
    "port = 3333"
   ]
  },
  {
   "cell_type": "markdown",
   "metadata": {},
   "source": [
    "API common structs/classes"
   ]
  },
  {
   "cell_type": "code",
   "execution_count": 141,
   "metadata": {},
   "outputs": [],
   "source": [
    "def vec2(x: int,\n",
    "         y: int) -> Dict[str, int]:\n",
    "    return {\n",
    "        \"X\": x,\n",
    "        \"Y\": y\n",
    "    }\n",
    "\n",
    "def vec3(x: int,\n",
    "         y: int,\n",
    "         z: int) -> Dict[str, int]:\n",
    "    return {\n",
    "        \"X\": x,\n",
    "        \"Y\": y,\n",
    "        \"Z\": z\n",
    "    }\n",
    "\n",
    "def vec2f(x: float,\n",
    "         y: float) -> Dict[str, float]:\n",
    "    return {\n",
    "        \"X\": x,\n",
    "        \"Y\": y\n",
    "    }\n",
    "\n",
    "def vec3f(x: float,\n",
    "         y: float,\n",
    "         z: float) -> Dict[str, float]:\n",
    "    return {\n",
    "        \"X\": x,\n",
    "        \"Y\": y,\n",
    "        \"Z\": z\n",
    "    }\n",
    "\n",
    "def sum_vecs(a: Dict[str, Any],\n",
    "             b: Dict[str, Any]) -> Dict[str, Any]:\n",
    "    return {\n",
    "        \"X\": a[\"X\"] + b[\"X\"],\n",
    "        \"Y\": a[\"Y\"] + b[\"Y\"],\n",
    "        \"Z\": a[\"Z\"] + b[\"Z\"],\n",
    "    }"
   ]
  },
  {
   "cell_type": "code",
   "execution_count": 154,
   "metadata": {},
   "outputs": [],
   "source": [
    "class Block:\n",
    "    def __init__(self,\n",
    "                 block_type: str,\n",
    "                 position: Dict[str, Any],\n",
    "                 orientation_forward: Dict[str, Any] = vec3f(0,0,0),\n",
    "                 orientation_up: Dict[str, Any] = vec3f(0,0,0),\n",
    "                 relative_position: bool = True):\n",
    "        self.block_type = block_type\n",
    "        self.relative_position = relative_position\n",
    "        self.position = position\n",
    "        self.orientation_forward = orientation_forward\n",
    "        self.orientation_up = orientation_up"
   ]
  },
  {
   "cell_type": "code",
   "execution_count": null,
   "metadata": {},
   "outputs": [],
   "source": [
    "character_camera_dist = vec3f((0., 1.6369286, 0.))"
   ]
  },
  {
   "cell_type": "markdown",
   "metadata": {},
   "source": [
    "API interfacing methods"
   ]
  },
  {
   "cell_type": "code",
   "execution_count": 135,
   "metadata": {},
   "outputs": [],
   "source": [
    "def generate_json(method: str,\n",
    "                  params: Optional[List[Any]] = None) -> Dict[str, Any]:\n",
    "    return {\n",
    "        \"jsonrpc\": \"2.0\",\n",
    "        \"method\": method,\n",
    "        \"params\": params if params else [],\n",
    "        \"id\": random.getrandbits(16)\n",
    "    }\n",
    "\n",
    "def compactify_jsons(jsons: List[Dict[str, Any]]) -> List[str]:\n",
    "    \"\"\" JSONs should be single line & compact formatted before calling the API. (@Karel Hovorka)\"\"\"\n",
    "    compacted_jsons = ''\n",
    "    for j in jsons:\n",
    "        compacted_jsons += json.dumps(obj=j,\n",
    "                               separators=(',', ':'),\n",
    "                               indent=None)\n",
    "        compacted_jsons += '\\r\\n'\n",
    "\n",
    "    return compacted_jsons\n",
    "\n",
    "# Modified from https://www.binarytides.com/receive-full-data-with-the-recv-socket-function-in-python/\n",
    "def recv_with_timeout(s: socket.socket,\n",
    "                      timeout: int = 2):\n",
    "    #make socket non blocking\n",
    "    s.setblocking(0)\n",
    "    #total data partwise in an array\n",
    "    total_data = [];\n",
    "    #beginning time\n",
    "    begin = time.time()\n",
    "    while True:\n",
    "        # timeout termination\n",
    "        if total_data and time.time() - begin > timeout:\n",
    "            break\n",
    "        # wait to get data\n",
    "        elif time.time() - begin > timeout * 2:\n",
    "            break\n",
    "        # recv\n",
    "        try:\n",
    "            data = s.recv(8192).decode(\"utf-8\")\n",
    "            if data:\n",
    "                # early break if socket returns the same data\n",
    "                if len(total_data) > 1 and data == total_data[-1]:\n",
    "                    break\n",
    "                # append new data\n",
    "                total_data.append(data)\n",
    "                # change the beginning time for measurement\n",
    "                begin = time.time()\n",
    "            else:\n",
    "                #sleep to indicate a gap\n",
    "                time.sleep(0.1)\n",
    "        except:\n",
    "            # note: Exceptions are thrown due to socket not reading anything before and after data is passed\n",
    "            pass\n",
    "    # join all parts to make final string\n",
    "    return ''.join(total_data)\n",
    "\n",
    "def call_api(jsons: List[Dict[str, Any]]) -> List[Dict[str, Any]]:\n",
    "    # open socket for communication\n",
    "    s = socket.socket(family=socket.AF_INET,\n",
    "                      type=socket.SOCK_STREAM)\n",
    "    s.connect((host, port))    \n",
    "    # send methods as compacted JSON bytearray\n",
    "    s.sendall(compactify_jsons(jsons=jsons).encode('utf-8'))\n",
    "    # get response\n",
    "    res = recv_with_timeout(s)\n",
    "    # close socket\n",
    "    s.close()\n",
    "    # due to TCP streming packets, it's possible some JSON-RPC responses are the same;\n",
    "    # workaround: identify unique JSON-RPC responses by unique id\n",
    "    return [json.loads(x) for x in list(set(res.strip().split('\\r\\n')))]"
   ]
  },
  {
   "cell_type": "markdown",
   "metadata": {},
   "source": [
    "Simple test:"
   ]
  },
  {
   "cell_type": "code",
   "execution_count": 136,
   "metadata": {},
   "outputs": [
    {
     "name": "stdout",
     "output_type": "stream",
     "text": [
      "[{'jsonrpc': '2.0', 'result': {'Velocity': {'X': 0.0, 'Y': 0.0, 'Z': 0.0}, 'Extent': {'X': 1.0, 'Y': 1.7999999523162842, 'Z': 1.0}, 'Camera': {'Position': {'X': 25.19757797204165, 'Y': -58.44419341854152, 'Z': -41.43892783281847}, 'OrientationForward': {'X': -0.37182876467704773, 'Y': -0.6148713231086731, 'Z': -0.6954686045646667}, 'OrientationUp': {'X': 0.8788108825683594, 'Y': 0.0081980861723423, 'Z': -0.47709980607032776}}, 'JetpackRunning': True, 'HelmetEnabled': True, 'HealthRatio': 1.0, 'HeadLocalXAngle': 0.0, 'HeadLocalYAngle': 0.0, 'TargetBlock': None, 'TargetUseObject': None, 'Id': 'se0', 'Position': {'X': 23.75538569446207, 'Y': -58.45764706531653, 'Z': -40.65597251262669}, 'OrientationForward': {'X': -0.37182876467704773, 'Y': -0.6148713231086731, 'Z': -0.6954686045646667}, 'OrientationUp': {'X': 0.8788108825683594, 'Y': 0.008198082447052002, 'Z': -0.47709980607032776}}, 'id': 38031}, {'jsonrpc': '2.0', 'result': {'Velocity': {'X': 0.0, 'Y': 0.0, 'Z': 0.0}, 'Extent': {'X': 1.0, 'Y': 1.7999999523162842, 'Z': 1.0}, 'Camera': {'Position': {'X': 25.19757797204165, 'Y': -58.44419341854152, 'Z': -41.43892783281847}, 'OrientationForward': {'X': -0.37182876467704773, 'Y': -0.6148713231086731, 'Z': -0.6954686045646667}, 'OrientationUp': {'X': 0.8788108825683594, 'Y': 0.0081980861723423, 'Z': -0.47709980607032776}}, 'JetpackRunning': True, 'HelmetEnabled': True, 'HealthRatio': 1.0, 'HeadLocalXAngle': 0.0, 'HeadLocalYAngle': 0.0, 'TargetBlock': None, 'TargetUseObject': None, 'Id': 'se0', 'Position': {'X': 23.75538569446207, 'Y': -58.45764706531653, 'Z': -40.65597251262669}, 'OrientationForward': {'X': -0.37182876467704773, 'Y': -0.6148713231086731, 'Z': -0.6954686045646667}, 'OrientationUp': {'X': 0.8788108825683594, 'Y': 0.008198082447052002, 'Z': -0.47709980607032776}}, 'id': 37370}]\n"
     ]
    }
   ],
   "source": [
    "jsons = [\n",
    "    generate_json(method=\"Character.TurnOnJetpack\"),\n",
    "    generate_json(method=\"Character.MoveAndRotate\",\n",
    "                  params={\n",
    "                    \"movement\": vec3(10, 0, -1),\n",
    "                    \"rotation3\": vec2f(0., 20.),\n",
    "                    \"roll\": 0.}\n",
    "                 )\n",
    "]\n",
    "\n",
    "print(call_api(jsons=jsons))"
   ]
  },
  {
   "cell_type": "markdown",
   "metadata": {
    "tags": []
   },
   "source": [
    "## Block placement"
   ]
  },
  {
   "cell_type": "markdown",
   "metadata": {},
   "source": [
    "[Blocks DefintionIDs](https://github.com/iv4xr-project/iv4xr-se-plugin/tree/main/JvmClient#definitionid-id) are used to specify which block to place. Here we either ask the API directly to provide us the list of available DefintionIDs or we can load the .JSON which contains them (faster in future runs).\n",
    "\n",
    "**NOTE**: This cell produces the global variable `block_definitions`, a map between the block type and the API-supported ID to use in the request `params` field."
   ]
  },
  {
   "cell_type": "code",
   "execution_count": 76,
   "metadata": {},
   "outputs": [],
   "source": [
    "if not os.path.exists('./block_definitions.json'):\n",
    "    # poll API for block definition ids\n",
    "    jsons = [ \n",
    "        generate_json(method=\"Definitions.BlockDefinitions\")\n",
    "        ]\n",
    "    res = json.loads(call_api(jsons=jsons))\n",
    "    # transform to map of type:id\n",
    "    block_definitions = {v['Type']:v for v in [entry['DefinitionId'] for entry in res['result']]}\n",
    "    with open('./block_definitions.json', 'w') as f:\n",
    "        json.dump(block_definitions, f)\n",
    "else:\n",
    "    with open('./block_definitions.json', 'r') as f:\n",
    "        block_definitions = json.load(f)"
   ]
  },
  {
   "cell_type": "markdown",
   "metadata": {},
   "source": [
    "Hardcoded structure (relative positions for each block)"
   ]
  },
  {
   "cell_type": "code",
   "execution_count": 176,
   "metadata": {},
   "outputs": [],
   "source": [
    "structure = [\n",
    "    Block('SmallBlockArmorBlock', vec3(0,0,0), vec3(0,0,1), vec3(1,0,0), relative_position=True),\n",
    "    Block('SmallBlockArmorBlock', vec3(0,0,1), vec3(0,0,1), vec3(1,0,0), relative_position=True),\n",
    "    Block('SmallBlockArmorBlock', vec3(0,0,2), vec3(0,0,1), vec3(1,0,0), relative_position=True),\n",
    "    Block('SmallBlockArmorBlock', vec3(0,1,2), vec3(0,0,1), vec3(1,0,0), relative_position=True),\n",
    "    Block('SmallBlockArmorBlock', vec3(0,2,2), vec3(0,0,1), vec3(1,0,0), relative_position=True),\n",
    "    Block('SmallBlockArmorBlock', vec3(0,2,1), vec3(0,0,1), vec3(1,0,0), relative_position=True),\n",
    "    Block('SmallBlockArmorBlock', vec3(0,2,0), vec3(0,0,1), vec3(1,0,0), relative_position=True),\n",
    "    Block('SmallBlockArmorBlock', vec3(0,1,0), vec3(0,0,1), vec3(1,0,0), relative_position=True),\n",
    "]"
   ]
  },
  {
   "cell_type": "code",
   "execution_count": 178,
   "metadata": {},
   "outputs": [],
   "source": [
    "def place_structure(structure):\n",
    "    # get base position and orientations (player-relative)\n",
    "    obs = call_api(jsons=[generate_json(method=\"Observer.Observe\")])[0]\n",
    "    base_position = obs['result']['Position']\n",
    "#     base_orientation_forward = obs['result']['OrientationForward']    \n",
    "#     base_orientation_up = obs['result']['OrientationUp']\n",
    "    # prepare jsons\n",
    "    jsons = [generate_json(method=\"Admin.Blocks.PlaceAt\",\n",
    "                           params={\n",
    "                               \"blockDefinitionId\": block_definitions[block.block_type],\n",
    "                               \"position\": sum_vecs(base_position, block.position) if block.relative_position else block.position,\n",
    "                               \"orientationForward\": block.orientation_forward,\n",
    "                               \"orientationUp\": block.orientation_up\n",
    "                           }) for block in structure]\n",
    "    # produce structure\n",
    "    call_api(jsons=jsons)"
   ]
  },
  {
   "cell_type": "markdown",
   "metadata": {},
   "source": [
    "Resulting structure should look like this:\n",
    "\n",
    "![block_placement_example](./block_placement_example.png)"
   ]
  },
  {
   "cell_type": "code",
   "execution_count": 179,
   "metadata": {},
   "outputs": [],
   "source": [
    "place_structure(structure)"
   ]
  }
 ],
 "metadata": {
  "interpreter": {
   "hash": "20bab91c9f6d820bcc9168592ada9e5eef44cb7ec9e6ded26baf766bc800a1f4"
  },
  "kernelspec": {
   "display_name": "Python 3",
   "language": "python",
   "name": "python3"
  },
  "language_info": {
   "codemirror_mode": {
    "name": "ipython",
    "version": 3
   },
   "file_extension": ".py",
   "mimetype": "text/x-python",
   "name": "python",
   "nbconvert_exporter": "python",
   "pygments_lexer": "ipython3",
   "version": "3.8.8"
  }
 },
 "nbformat": 4,
 "nbformat_minor": 4
}
