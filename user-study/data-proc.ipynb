{
 "cells": [
  {
   "cell_type": "markdown",
   "metadata": {},
   "source": [
    "# Data processor"
   ]
  },
  {
   "cell_type": "code",
   "execution_count": null,
   "metadata": {},
   "outputs": [],
   "source": [
    "import numpy as np\n",
    "import matplotlib.pyplot as plt\n",
    "import itertools\n",
    "from pcgsepy.stats.tests import anova, THRESHOLD_PVALUE\n",
    "from pcgsepy.stats.tests import kruskal_wallis\n",
    "from pcgsepy.stats.plots import plot_rankings\n",
    "from pcgsepy.stats.plots import plot_scores"
   ]
  },
  {
   "cell_type": "code",
   "execution_count": null,
   "metadata": {},
   "outputs": [],
   "source": [
    "n_volunteers = 10\n",
    "n_questions = 5\n",
    "n_categories = 4\n",
    "\n",
    "questions_place = {\n",
    "    'A': 'Solution satisfaction',\n",
    "    'B': 'System efficiency',\n",
    "    'C': 'User-friendliness',\n",
    "    'D': 'Runtime response',\n",
    "    'E': 'User fatigue'\n",
    "} \n",
    "\n",
    "scale = ['', 'Poor', 'Fair', 'Good', 'Excellent']\n",
    "\n",
    "samples_name = ['random-emitter', 'preference-matrix-emitter', 'contextual-bandit-emitter']"
   ]
  },
  {
   "cell_type": "markdown",
   "metadata": {},
   "source": [
    "## Load and preprocess data"
   ]
  },
  {
   "cell_type": "code",
   "execution_count": null,
   "metadata": {},
   "outputs": [],
   "source": [
    "questionnaire_data = 'dummy-questionnaire.csv'\n",
    "scores_data = 'dummy-scores.csv'\n",
    "\n",
    "questionnaire_responses = np.loadtxt(questionnaire_data, delimiter=',', dtype=np.uint8)\n",
    "scores_responses = np.loadtxt(scores_data, delimiter=',', dtype=np.uint8)\n",
    "\n",
    "responses = np.zeros(shape=((n_questions, n_categories)), dtype=np.uint8)\n",
    "for row in questionnaire_responses:\n",
    "    for i, elem in enumerate(row):\n",
    "        responses[i][elem - 1] = responses[i][elem - 1] + 1\n",
    "\n",
    "samples = [row for row in scores_responses]"
   ]
  },
  {
   "cell_type": "markdown",
   "metadata": {},
   "source": [
    "## Questionnaire plots"
   ]
  },
  {
   "cell_type": "code",
   "execution_count": null,
   "metadata": {},
   "outputs": [],
   "source": [
    "axd = plt.figure(constrained_layout=True).subplot_mosaic(\n",
    "    \"\"\"\n",
    "    AB\n",
    "    CD\n",
    "    E.\n",
    "    \"\"\"\n",
    ")\n",
    "\n",
    "for i in range(len(list(questions_place.keys()))):\n",
    "    plot_idx = list(questions_place.keys())[i]\n",
    "    axd[plot_idx].bar(np.arange(n_categories), responses[i], 1, color='lightblue', alpha=0.75)\n",
    "    axd[plot_idx].set_xticklabels(scale)\n",
    "    axd[plot_idx].set_yticks(np.arange(0, n_volunteers + 1, 1))\n",
    "    axd[plot_idx].set_title(questions_place[plot_idx])\n",
    "    axd[plot_idx].grid()\n",
    "\n",
    "# plt.suptitle('Questionnaire responses distribution')\n",
    "\n",
    "plt.show()"
   ]
  },
  {
   "cell_type": "code",
   "execution_count": null,
   "metadata": {},
   "outputs": [],
   "source": [
    "avg_response = np.mean(questionnaire_responses, axis=0)\n",
    "\n",
    "plt.bar(questions_place.values(), avg_response)\n",
    "plt.ylim(0, n_categories)\n",
    "plt.xticks(rotation = 45)\n",
    "# plt.title('Average category score')\n",
    "plt.show()"
   ]
  },
  {
   "cell_type": "markdown",
   "metadata": {},
   "source": [
    "## Shapiro-Wilk test"
   ]
  },
  {
   "cell_type": "code",
   "execution_count": null,
   "metadata": {},
   "outputs": [],
   "source": [
    "from pcgsepy.stats.tests import shapiro_wilk\n",
    "\n",
    "print('## SHAPIRO-WILK TEST ##')\n",
    "\n",
    "shapiro_test = shapiro_wilk(samples=samples)\n",
    "\n",
    "for (stat, pvalue), name in zip(shapiro_test, samples_name):\n",
    "    print(f'Result score for {name}:')\n",
    "    print(f'\\tStatistic: {stat}')\n",
    "    print(f'\\tp-value: {pvalue}')"
   ]
  },
  {
   "cell_type": "markdown",
   "metadata": {},
   "source": [
    "## One-way ANOVA test"
   ]
  },
  {
   "cell_type": "code",
   "execution_count": null,
   "metadata": {},
   "outputs": [],
   "source": [
    "print('## ONE-WAY ANOVA TEST ##')\n",
    "\n",
    "anova_test = anova(samples=samples)\n",
    "\n",
    "overall_stat, overall_pvalue = anova_test[0]\n",
    "\n",
    "print('Overall score:')\n",
    "print(f'\\tStatistic: {overall_stat}')\n",
    "print(f'\\tp-value: {overall_pvalue}')\n",
    "\n",
    "if overall_pvalue < THRESHOLD_PVALUE:\n",
    "    for (stat, pvalue), name in zip(anova_test[1:], itertools.combinations(iterable=samples_name, r=2)):\n",
    "        print(f'Result score for {\" x \".join(list(name))}:')\n",
    "        print(f'\\tStatistic: {stat}')\n",
    "        print(f'\\tp-value: {pvalue}')"
   ]
  },
  {
   "cell_type": "markdown",
   "metadata": {},
   "source": [
    "## Kruskal-Wallis H-test"
   ]
  },
  {
   "cell_type": "code",
   "execution_count": null,
   "metadata": {},
   "outputs": [],
   "source": [
    "print('## KRUSKAL-WALLIS TEST ##')\n",
    "\n",
    "kruskal_wallis_test = kruskal_wallis(samples=samples)\n",
    "\n",
    "overall_stat, overall_pvalue = kruskal_wallis_test[0]\n",
    "\n",
    "print('Overall score:')\n",
    "print(f'\\tStatistic: {overall_stat}')\n",
    "print(f'\\tp-value: {overall_pvalue}')\n",
    "\n",
    "if overall_pvalue < THRESHOLD_PVALUE:\n",
    "    for (stat, pvalue), name in zip(kruskal_wallis_test[1:], itertools.combinations(iterable=samples_name, r=2)):\n",
    "        print(f'Result score for {\" x \".join(list(name))}:')\n",
    "        print(f'\\tStatistic: {stat}')\n",
    "        print(f'\\tp-value: {pvalue}')"
   ]
  },
  {
   "cell_type": "markdown",
   "metadata": {},
   "source": [
    "## Ranking plots"
   ]
  },
  {
   "cell_type": "code",
   "execution_count": null,
   "metadata": {},
   "outputs": [],
   "source": [
    "plot_rankings(samples=samples,\n",
    "              labels=['3rd place', '2nd place', '1st place'],\n",
    "              names=samples_name,\n",
    "              title='')\n",
    "\n",
    "plot_scores(samples=samples,\n",
    "            names=samples_name,\n",
    "            score_to_value={1: 1, 2: 0.5, 3: 0.25},\n",
    "            title=''\n",
    "            )"
   ]
  }
 ],
 "metadata": {
  "kernelspec": {
   "display_name": "Python 3.8.13 ('pcg')",
   "language": "python",
   "name": "python3"
  },
  "language_info": {
   "codemirror_mode": {
    "name": "ipython",
    "version": 3
   },
   "file_extension": ".py",
   "mimetype": "text/x-python",
   "name": "python",
   "nbconvert_exporter": "python",
   "pygments_lexer": "ipython3",
   "version": "3.8.13"
  },
  "orig_nbformat": 4,
  "vscode": {
   "interpreter": {
    "hash": "baec60536c6749885c57d3beb549b4412d50c1c1ea218f0ac711a9872f2242c3"
   }
  }
 },
 "nbformat": 4,
 "nbformat_minor": 2
}
