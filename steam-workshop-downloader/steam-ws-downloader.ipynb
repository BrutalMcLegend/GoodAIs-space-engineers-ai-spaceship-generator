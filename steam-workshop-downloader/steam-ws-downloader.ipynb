{
 "cells": [
  {
   "cell_type": "markdown",
   "id": "a1f9a024-391c-4f7e-8597-0cf474c50ecb",
   "metadata": {},
   "source": [
    "# Steam Workshop Downloader\n",
    "\n",
    "Make sure you have `steamctl` installed. Use `pip install steamctl` to install it.\n",
    "\n",
    "Edit the `private` file:\n",
    "- first line should contain 'api XXXXXXXXXXXXXXXXXXXXXXXXXXXXXXXX'\n",
    "- second line should contain 'domain https:/your-domain.com'\n",
    "\n",
    "You can obtain a Steam API key [here](https://steamcommunity.com/login/home/?goto=%2Fdev%2Fapikey). You can use your Steam profile URL as domain."
   ]
  },
  {
   "cell_type": "code",
   "execution_count": 1,
   "id": "2f531294-2c2c-4ece-9cd1-bd33530960fd",
   "metadata": {},
   "outputs": [],
   "source": [
    "import os\n",
    "import requests\n",
    "import shutil\n",
    "\n",
    "from tqdm.notebook import tqdm, trange\n",
    "from bs4 import BeautifulSoup"
   ]
  },
  {
   "cell_type": "markdown",
   "id": "aaa64f42-ce8f-4754-aec8-f5ccb80f3e5d",
   "metadata": {},
   "source": [
    "Settings\n",
    "\n",
    "- `N_PAGES`: Integer, Number of pages to scrap\n",
    "- `APP_ID`: Integer, Steam application's ID (Space Engineers' is 244850)\n",
    "- `FILTER`: String, arbitrary filter\n",
    "- `SORT`: String, one of 'trend', 'mostrecent', 'lastupdated', 'totaluniquesubscribers'"
   ]
  },
  {
   "cell_type": "code",
   "execution_count": 2,
   "id": "983fcb2e-6671-4a89-a555-d37d7b218793",
   "metadata": {},
   "outputs": [],
   "source": [
    "N_PAGES = 2 # number of pages to scrap\n",
    "APP_ID = 244850  # the Space Engineers App ID\n",
    "FILTER = 'spaceship'  # filter string\n",
    "SORT = 'mostrecent'  # sorting order\n",
    "\n",
    "API_KEY = ''\n",
    "DOMAIN = ''"
   ]
  },
  {
   "cell_type": "markdown",
   "id": "c77fc0b7-5e5f-496a-a137-394fab04cb42",
   "metadata": {},
   "source": [
    "Create a directory to place the downloaded content."
   ]
  },
  {
   "cell_type": "code",
   "execution_count": 3,
   "id": "75a93ec4-edd4-48c9-9ea7-1865da6b5656",
   "metadata": {},
   "outputs": [],
   "source": [
    "os.makedirs('downloads', exist_ok=True)"
   ]
  },
  {
   "cell_type": "markdown",
   "id": "9dd5f0f3-95b9-4063-aebb-0fbec1d7729a",
   "metadata": {
    "tags": []
   },
   "source": [
    "Update the API_KEY in `steamctl`"
   ]
  },
  {
   "cell_type": "code",
   "execution_count": 4,
   "id": "220bf321-6359-45da-b773-207044ad560a",
   "metadata": {},
   "outputs": [],
   "source": [
    "with open('private', 'r') as f:\n",
    "    ls = f.readlines()\n",
    "    API_KEY = ls[0].strip().split(' ')[1]\n",
    "    DOMAIN = ls[1].strip().split(' ')[1]\n",
    "\n",
    "res = os.popen(f'steamctl webapi set-key {API_KEY}').read()\n",
    "if not res.startswith('Current'):\n",
    "    print('Error setting API key; check console.')"
   ]
  },
  {
   "cell_type": "markdown",
   "id": "7c4fd7b6-579a-4748-8bbd-3b6ba1a32952",
   "metadata": {},
   "source": [
    "Scrape Workshop page to get the entries IDs"
   ]
  },
  {
   "cell_type": "code",
   "execution_count": 5,
   "id": "6eb1d509-f902-4391-ba88-eb17b9168853",
   "metadata": {},
   "outputs": [
    {
     "data": {
      "application/vnd.jupyter.widget-view+json": {
       "model_id": "702aa51d019e44cf9369c44fb0095a95",
       "version_major": 2,
       "version_minor": 0
      },
      "text/plain": [
       "Scraping workshop pages:   0%|          | 0/2 [00:00<?, ?it/s]"
      ]
     },
     "metadata": {},
     "output_type": "display_data"
    }
   ],
   "source": [
    "file_ids = []\n",
    "\n",
    "for n in trange(N_PAGES, desc='Scraping workshop pages'):\n",
    "    page_url = f'https://steamcommunity.com/workshop/browse/?appid={APP_ID}&searchtext={FILTER}&browsesort={SORT}&section=home&actualsort={SORT}&p={n}'\n",
    "    response = requests.get(page_url)\n",
    "    soup = BeautifulSoup(response.text)\n",
    "    entries = soup.find_all('a', class_='ugc')\n",
    "    \n",
    "    for entry in entries:\n",
    "        file_ids.append(entry.get('data-publishedfileid'))"
   ]
  },
  {
   "cell_type": "markdown",
   "id": "1b8dee2b-1e2b-4878-8af8-b617252d52be",
   "metadata": {},
   "source": [
    "Download each entry in its own folder"
   ]
  },
  {
   "cell_type": "code",
   "execution_count": 6,
   "id": "3deb9fc8-87be-4888-be9b-82e81f2f90fe",
   "metadata": {},
   "outputs": [
    {
     "data": {
      "application/vnd.jupyter.widget-view+json": {
       "model_id": "bf537191c58c40fc86cad8d14b46372a",
       "version_major": 2,
       "version_minor": 0
      },
      "text/plain": [
       "Downloading content:   0%|          | 0/60 [00:00<?, ?it/s]"
      ]
     },
     "metadata": {},
     "output_type": "display_data"
    }
   ],
   "source": [
    "for i in trange(len(file_ids), desc='Downloading content'):\n",
    "    file_id = file_ids[i]\n",
    "    os.makedirs(f'downloads/{file_id}', exist_ok=True)\n",
    "    os.popen(f'cd downloads/{file_id} && steamctl workshop download --anonymous {file_id}').read()"
   ]
  },
  {
   "cell_type": "markdown",
   "id": "2353c9f8-1ea7-4282-9d34-c8612240a1e6",
   "metadata": {},
   "source": [
    "Remove content that does not contain structure blueprints (i.e.: does not contain any `.sbc` file)"
   ]
  },
  {
   "cell_type": "code",
   "execution_count": 7,
   "id": "6869e4e6-326b-46e6-a4ca-de748d2e79b1",
   "metadata": {},
   "outputs": [
    {
     "data": {
      "application/vnd.jupyter.widget-view+json": {
       "model_id": "b2774ba8337f457e810c017151c09ef6",
       "version_major": 2,
       "version_minor": 0
      },
      "text/plain": [
       "Removing bad folders:   0%|          | 0/4 [00:00<?, ?it/s]"
      ]
     },
     "metadata": {},
     "output_type": "display_data"
    }
   ],
   "source": [
    "subdirs = os.listdir('downloads')\n",
    "\n",
    "to_remove = []\n",
    "\n",
    "for subdir in subdirs:\n",
    "    files = os.listdir(os.path.join('downloads', subdir))\n",
    "    if len(files) != 4 or files[0] != 'bp.sbc':\n",
    "        to_remove.append(os.path.join('downloads', subdir))\n",
    "\n",
    "for i in trange(len(to_remove), desc='Removing bad folders'):\n",
    "    shutil.rmtree(to_remove[i])"
   ]
  },
  {
   "cell_type": "markdown",
   "id": "291e5d7f-6a6e-4743-aa60-2f6b51e3d796",
   "metadata": {},
   "source": [
    "Rename all `bp.sbc` files in each valid directory with the directory name (ID) and move them to a separate folder."
   ]
  },
  {
   "cell_type": "code",
   "execution_count": 8,
   "id": "4181c3cd-bf18-45e2-8814-272881d71835",
   "metadata": {},
   "outputs": [
    {
     "data": {
      "application/vnd.jupyter.widget-view+json": {
       "model_id": "1ba23f67d5ae44b8b98922ecf66c06aa",
       "version_major": 2,
       "version_minor": 0
      },
      "text/plain": [
       "Moving content and cleaning downloads:   0%|          | 0/26 [00:00<?, ?it/s]"
      ]
     },
     "metadata": {},
     "output_type": "display_data"
    }
   ],
   "source": [
    "subdirs = os.listdir('downloads')\n",
    "\n",
    "os.makedirs('content', exist_ok=True)\n",
    "\n",
    "for i in trange(len(subdirs), desc='Moving content and cleaning downloads'):\n",
    "    content_dir = os.path.join('downloads', subdirs[i])\n",
    "    shutil.move(os.path.join(content_dir, 'bp.sbc'),\n",
    "                os.path.join('content', f'{subdirs[i]}.sbc'))\n",
    "shutil.rmtree('downloads')"
   ]
  },
  {
   "cell_type": "markdown",
   "id": "ba1a5eac-88ca-4094-ae3d-838f89d732b5",
   "metadata": {},
   "source": [
    "### Convert `sbc`s to a `Structure`\n",
    "\n",
    "Convert the `sbc` files to a `Structure`. This will be moved to the `pcgsepy.common.api_call` once working properly. "
   ]
  },
  {
   "cell_type": "code",
   "execution_count": 2,
   "id": "c7ab6ef3-f8b4-460d-a7a6-4b2201c24f8c",
   "metadata": {},
   "outputs": [],
   "source": [
    "from pcgsepy.structure import *\n",
    "from pcgsepy.common.vecs import *\n",
    "from pcgsepy.common.api_call import *\n",
    "\n",
    "import matplotlib.pyplot as plt\n",
    "import numpy as np\n",
    "import xml.etree.ElementTree as ET\n",
    "\n",
    "sbc_file = os.path.join('content/2560343403.sbc')\n",
    "root = ET.parse(sbc_file).getroot()"
   ]
  },
  {
   "cell_type": "code",
   "execution_count": 3,
   "id": "a476682d-849f-426a-a8c4-4cc15e112ffc",
   "metadata": {},
   "outputs": [],
   "source": [
    "to_orientation = {\n",
    "    'Up': Orientation.UP,\n",
    "    'Down': Orientation.DOWN,\n",
    "    'Left': Orientation.LEFT,\n",
    "    'Right': Orientation.RIGHT,\n",
    "    'Forward': Orientation.FORWARD,\n",
    "    'Backward': Orientation.BACKWARD\n",
    "}\n",
    "\n",
    "grid_enum_to_offset = {\n",
    "    'Small': 1,\n",
    "    'Normal': 2,\n",
    "    'Large': 5\n",
    "}"
   ]
  },
  {
   "cell_type": "code",
   "execution_count": 10,
   "id": "aeaad356-998d-4fde-a1f4-14fe734efb5b",
   "metadata": {},
   "outputs": [],
   "source": [
    "STRUCTURE_DIM = 500\n",
    "structure = Structure(origin=Vec.v3f(0., 0., 0.),\n",
    "                        orientation_forward=Orientation.FORWARD.value,\n",
    "                        orientation_up=Orientation.UP.value,\n",
    "                        dimensions=(STRUCTURE_DIM, STRUCTURE_DIM, STRUCTURE_DIM))"
   ]
  },
  {
   "cell_type": "code",
   "execution_count": null,
   "id": "efd3518e-10b9-41b4-b5f1-e59c7577aa4f",
   "metadata": {},
   "outputs": [],
   "source": [
    "for grid in root.findall('.//{*}CubeGrid'):\n",
    "    grid_size = None\n",
    "    for child in grid:\n",
    "        if child.tag == 'GridSizeEnum':\n",
    "            grid_size = grid_enum_to_offset[child.text]\n",
    "        elif child.tag == 'Cubeblocks'\n",
    "            for n, block_node in enumerate(child):  #  CubeBlocks node\n",
    "            block_type = ''\n",
    "            position = (0, 0, 0)\n",
    "            orientations = {'Forward': Orientation.FORWARD, 'Up': Orientation.UP}  # to change\n",
    "            for i, p in enumerate(block_node):\n",
    "                if p.tag == 'SubtypeName':\n",
    "                    block_type = p.text\n",
    "                elif p.tag == 'Min':\n",
    "                    position = (grid_size * int(p.attrib['x']),\n",
    "                                grid_size * int(p.attrib['y']),\n",
    "                                grid_size * int(p.attrib['z']))\n",
    "                elif p.tag == 'BlockOrientation':\n",
    "                    orientations = {\n",
    "                        'Forward': to_orientation[p.attrib['Forward']],\n",
    "                        'Up': to_orientation[p.attrib['Up']]\n",
    "                    }\n",
    "            if not block_type:\n",
    "                continue\n",
    "            block = Block(block_type=block_type,\n",
    "                          orientation_forward=orientations['Forward'],\n",
    "                          orientation_up=orientations['Up'])\n",
    "            structure.add_block(block=block,\n",
    "                                grid_position=((STRUCTURE_DIM // 2) + position[0],\n",
    "                                               (STRUCTURE_DIM // 2) + position[1],\n",
    "                                               (STRUCTURE_DIM // 2) + position[2]))"
   ]
  },
  {
   "cell_type": "code",
   "execution_count": 11,
   "id": "2334fa14-4b7c-413c-b27b-60ebd416f70b",
   "metadata": {},
   "outputs": [
    {
     "data": {
      "image/png": "[encoded data removed]",
      "text/plain": [
       "<Figure size 432x288 with 1 Axes>"
      ]
     },
     "metadata": {
      "needs_background": "light"
     },
     "output_type": "display_data"
    }
   ],
   "source": [
    "def plot_structure(structure: Structure,\n",
    "                    title: str,\n",
    "                    axis_limits: Tuple[int, int, int]) -> None:\n",
    "        %matplotlib inline\n",
    "        ax = plt.axes(projection='3d')\n",
    "        arr = structure._structure != structure._VALUE\n",
    "        x, y, z = np.nonzero(arr)\n",
    "        ax.scatter(x, y, z, c=np.ones(len(x)), cmap='jet', linewidth=0.1)\n",
    "        ax.set_xlim3d(0, axis_limits[0])\n",
    "        ax.set_ylim3d(0, axis_limits[1])\n",
    "        ax.set_zlim3d(0, axis_limits[2])\n",
    "        ax.set_xlabel(\"$\\\\vec{x}$\")\n",
    "        ax.set_ylabel(\"$\\\\vec{y}$\")\n",
    "        ax.set_zlabel(\"$\\\\vec{z}$\")\n",
    "        plt.title(title)\n",
    "        plt.show()\n",
    "\n",
    "plot_structure(structure=structure,\n",
    "               title='2560343403',\n",
    "               axis_limits=(STRUCTURE_DIM, STRUCTURE_DIM, STRUCTURE_DIM))"
   ]
  },
  {
   "cell_type": "markdown",
   "id": "aa8da6c9-0ec0-43e0-a188-3b7ddb5445ab",
   "metadata": {},
   "source": [
    "Spawn structure in game"
   ]
  },
  {
   "cell_type": "code",
   "execution_count": null,
   "id": "fa660629-f5f3-4d94-a651-e6b45d9298b2",
   "metadata": {},
   "outputs": [],
   "source": [
    "base_position, orientation_forward, orientation_up = get_base_values()\n",
    "structure.update(origin=base_position,\n",
    "                 orientation_forward=orientation_forward,\n",
    "                 orientation_up=orientation_up)\n",
    "toggle_gamemode(GameMode.PLACING)\n",
    "place_blocks(structure.get_all_blocks())\n",
    "toggle_gamemode(GameMode.EVALUATING)"
   ]
  },
  {
   "cell_type": "code",
   "execution_count": null,
   "id": "12b04045-9347-4f0d-b197-c068d9875bdc",
   "metadata": {},
   "outputs": [],
   "source": []
  }
 ],
 "metadata": {
  "kernelspec": {
   "display_name": "Python 3",
   "language": "python",
   "name": "python3"
  },
  "language_info": {
   "codemirror_mode": {
    "name": "ipython",
    "version": 3
   },
   "file_extension": ".py",
   "mimetype": "text/x-python",
   "name": "python",
   "nbconvert_exporter": "python",
   "pygments_lexer": "ipython3",
   "version": "3.8.8"
  }
 },
 "nbformat": 4,
 "nbformat_minor": 5
}
