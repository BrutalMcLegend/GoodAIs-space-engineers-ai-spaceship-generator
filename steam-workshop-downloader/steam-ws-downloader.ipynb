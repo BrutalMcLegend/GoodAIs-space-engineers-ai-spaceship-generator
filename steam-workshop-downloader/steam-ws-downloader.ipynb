{
 "cells": [
  {
   "cell_type": "markdown",
   "id": "a1f9a024-391c-4f7e-8597-0cf474c50ecb",
   "metadata": {},
   "source": [
    "# Steam Workshop Downloader\n",
    "\n",
    "Make sure you have `steamctl` installed. Use `pip install steamctl` to install it.\n",
    "\n",
    "Edit the `private` file:\n",
    "- first line should contain 'api XXXXXXXXXXXXXXXXXXXXXXXXXXXXXXXX'\n",
    "- second line should contain 'domain https:/your-domain.com'\n",
    "\n",
    "You can obtain a Steam API key [here](https://steamcommunity.com/login/home/?goto=%2Fdev%2Fapikey). You can use your Steam profile URL as domain."
   ]
  },
  {
   "cell_type": "code",
   "execution_count": 1,
   "id": "2f531294-2c2c-4ece-9cd1-bd33530960fd",
   "metadata": {},
   "outputs": [],
   "source": [
    "import os\n",
    "import requests\n",
    "import shutil\n",
    "\n",
    "from tqdm.notebook import tqdm, trange\n",
    "from bs4 import BeautifulSoup"
   ]
  },
  {
   "cell_type": "markdown",
   "id": "aaa64f42-ce8f-4754-aec8-f5ccb80f3e5d",
   "metadata": {},
   "source": [
    "Settings\n",
    "\n",
    "- `N_PAGES`: Integer, Number of pages to scrap\n",
    "- `APP_ID`: Integer, Steam application's ID (Space Engineers' is 244850)\n",
    "- `FILTER`: String, arbitrary filter\n",
    "- `SORT`: String, one of 'trend', 'mostrecent', 'lastupdated', 'totaluniquesubscribers'"
   ]
  },
  {
   "cell_type": "code",
   "execution_count": 2,
   "id": "983fcb2e-6671-4a89-a555-d37d7b218793",
   "metadata": {},
   "outputs": [],
   "source": [
    "N_PAGES = 10 # number of pages to scrap\n",
    "APP_ID = 244850  # the Space Engineers App ID\n",
    "FILTER = 'spaceship'  # filter string\n",
    "SORT = 'mostrecent'  # sorting order\n",
    "\n",
    "API_KEY = ''\n",
    "DOMAIN = ''"
   ]
  },
  {
   "cell_type": "markdown",
   "id": "c77fc0b7-5e5f-496a-a137-394fab04cb42",
   "metadata": {},
   "source": [
    "Create a directory to place the downloaded content."
   ]
  },
  {
   "cell_type": "code",
   "execution_count": 3,
   "id": "75a93ec4-edd4-48c9-9ea7-1865da6b5656",
   "metadata": {},
   "outputs": [],
   "source": [
    "os.makedirs('downloads', exist_ok=True)"
   ]
  },
  {
   "cell_type": "markdown",
   "id": "9dd5f0f3-95b9-4063-aebb-0fbec1d7729a",
   "metadata": {
    "tags": []
   },
   "source": [
    "Update the API_KEY in `steamctl`"
   ]
  },
  {
   "cell_type": "code",
   "execution_count": 4,
   "id": "220bf321-6359-45da-b773-207044ad560a",
   "metadata": {},
   "outputs": [],
   "source": [
    "with open('private', 'r') as f:\n",
    "    ls = f.readlines()\n",
    "    API_KEY = ls[0].strip().split(' ')[1]\n",
    "    DOMAIN = ls[1].strip().split(' ')[1]\n",
    "\n",
    "res = os.popen(f'steamctl webapi set-key {API_KEY}').read()\n",
    "if not res.startswith('Current'):\n",
    "    print('Error setting API key; check console.')"
   ]
  },
  {
   "cell_type": "markdown",
   "id": "7c4fd7b6-579a-4748-8bbd-3b6ba1a32952",
   "metadata": {},
   "source": [
    "Scrape Workshop page to get the entries IDs"
   ]
  },
  {
   "cell_type": "code",
   "execution_count": 5,
   "id": "6eb1d509-f902-4391-ba88-eb17b9168853",
   "metadata": {},
   "outputs": [
    {
     "data": {
      "application/vnd.jupyter.widget-view+json": {
       "model_id": "54d65419724348d1be8456a32b22e863",
       "version_major": 2,
       "version_minor": 0
      },
      "text/plain": [
       "Scraping workshop pages:   0%|          | 0/10 [00:00<?, ?it/s]"
      ]
     },
     "metadata": {},
     "output_type": "display_data"
    }
   ],
   "source": [
    "file_ids = []\n",
    "\n",
    "for n in trange(N_PAGES, desc='Scraping workshop pages'):\n",
    "    page_url = f'https://steamcommunity.com/workshop/browse/?appid={APP_ID}&searchtext={FILTER}&browsesort={SORT}&section=home&actualsort={SORT}&p={n}'\n",
    "    response = requests.get(page_url)\n",
    "    soup = BeautifulSoup(response.text)\n",
    "    entries = soup.find_all('a', class_='ugc')\n",
    "    \n",
    "    for entry in entries:\n",
    "        file_ids.append(entry.get('data-publishedfileid'))"
   ]
  },
  {
   "cell_type": "markdown",
   "id": "1b8dee2b-1e2b-4878-8af8-b617252d52be",
   "metadata": {},
   "source": [
    "Download each entry in its own folder"
   ]
  },
  {
   "cell_type": "code",
   "execution_count": 6,
   "id": "3deb9fc8-87be-4888-be9b-82e81f2f90fe",
   "metadata": {},
   "outputs": [
    {
     "data": {
      "application/vnd.jupyter.widget-view+json": {
       "model_id": "251eb212b28d46a6b108db574fff448b",
       "version_major": 2,
       "version_minor": 0
      },
      "text/plain": [
       "Downloading content:   0%|          | 0/300 [00:00<?, ?it/s]"
      ]
     },
     "metadata": {},
     "output_type": "display_data"
    }
   ],
   "source": [
    "for i in trange(len(file_ids), desc='Downloading content'):\n",
    "    file_id = file_ids[i]\n",
    "    os.makedirs(f'downloads/{file_id}', exist_ok=True)\n",
    "    os.popen(f'cd downloads/{file_id} && steamctl workshop download --anonymous {file_id}').read()"
   ]
  },
  {
   "cell_type": "markdown",
   "id": "2353c9f8-1ea7-4282-9d34-c8612240a1e6",
   "metadata": {},
   "source": [
    "Remove content that does not contain structure blueprints (i.e.: does not contain any `.sbc` file)"
   ]
  },
  {
   "cell_type": "code",
   "execution_count": 7,
   "id": "6869e4e6-326b-46e6-a4ca-de748d2e79b1",
   "metadata": {},
   "outputs": [
    {
     "data": {
      "application/vnd.jupyter.widget-view+json": {
       "model_id": "1d19674263af46ee9a40705a5171ee0d",
       "version_major": 2,
       "version_minor": 0
      },
      "text/plain": [
       "Removing bad folders:   0%|          | 0/36 [00:00<?, ?it/s]"
      ]
     },
     "metadata": {},
     "output_type": "display_data"
    }
   ],
   "source": [
    "subdirs = os.listdir('downloads')\n",
    "\n",
    "to_remove = []\n",
    "\n",
    "for subdir in subdirs:\n",
    "    files = os.listdir(os.path.join('downloads', subdir))\n",
    "    if len(files) != 4 or files[0] != 'bp.sbc':\n",
    "        to_remove.append(os.path.join('downloads', subdir))\n",
    "\n",
    "for i in trange(len(to_remove), desc='Removing bad folders'):\n",
    "    shutil.rmtree(to_remove[i])"
   ]
  },
  {
   "cell_type": "markdown",
   "id": "291e5d7f-6a6e-4743-aa60-2f6b51e3d796",
   "metadata": {},
   "source": [
    "Rename all `bp.sbc` files in each valid directory with the directory name (ID) and move them to a separate folder."
   ]
  },
  {
   "cell_type": "code",
   "execution_count": 8,
   "id": "4181c3cd-bf18-45e2-8814-272881d71835",
   "metadata": {},
   "outputs": [
    {
     "data": {
      "application/vnd.jupyter.widget-view+json": {
       "model_id": "e6bd58e4ca8c42c9914937e3029a25b6",
       "version_major": 2,
       "version_minor": 0
      },
      "text/plain": [
       "Moving content and cleaning downloads:   0%|          | 0/234 [00:00<?, ?it/s]"
      ]
     },
     "metadata": {},
     "output_type": "display_data"
    }
   ],
   "source": [
    "subdirs = os.listdir('downloads')\n",
    "\n",
    "os.makedirs('content', exist_ok=True)\n",
    "\n",
    "for i in trange(len(subdirs), desc='Moving content and cleaning downloads'):\n",
    "    content_dir = os.path.join('downloads', subdirs[i])\n",
    "    shutil.move(os.path.join(content_dir, 'bp.sbc'),\n",
    "                os.path.join('content', f'{subdirs[i]}.sbc'))\n",
    "shutil.rmtree('downloads')"
   ]
  },
  {
   "cell_type": "markdown",
   "id": "ba1a5eac-88ca-4094-ae3d-838f89d732b5",
   "metadata": {},
   "source": [
    "### Convert `sbc`s to a `Structure`\n",
    "\n",
    "Show the conversion of a few `sbc` files to a `Structure`."
   ]
  },
  {
   "cell_type": "code",
   "execution_count": 1,
   "id": "c7ab6ef3-f8b4-460d-a7a6-4b2201c24f8c",
   "metadata": {},
   "outputs": [],
   "source": [
    "from pcgsepy.structure import *\n",
    "from pcgsepy.common.vecs import *\n",
    "from pcgsepy.common.api_call import *\n",
    "from pcgsepy.xml_conversion import *\n",
    "\n",
    "import matplotlib.pyplot as plt\n",
    "import numpy as np\n",
    "from random import sample\n",
    "import xml.etree.ElementTree as ET"
   ]
  },
  {
   "cell_type": "code",
   "execution_count": 2,
   "id": "b01b9454-ed86-4d9c-a80e-78781908f7ad",
   "metadata": {},
   "outputs": [],
   "source": [
    "TO_SHOW = 5\n",
    "\n",
    "files = sample([f for f in os.listdir('content') if f.endswith('sbc')],\n",
    "               k=TO_SHOW)"
   ]
  },
  {
   "cell_type": "code",
   "execution_count": null,
   "id": "5b646299-e839-485d-8022-23b0f0949483",
   "metadata": {},
   "outputs": [],
   "source": [
    "if False:\n",
    "    for f in files:\n",
    "        sbc_file = os.path.join('content', f)\n",
    "        root = ET.parse(sbc_file).getroot()\n",
    "\n",
    "        structure = convert_xml_to_structure(root_node=root,\n",
    "                                             struct_dim=600)\n",
    "\n",
    "        plot_structure(structure=structure,\n",
    "                       title=f[:-4],\n",
    "                       axis_limits=(600, 600, 600))"
   ]
  },
  {
   "cell_type": "markdown",
   "id": "c5e287ff-f509-4086-80b8-533a59a720a2",
   "metadata": {},
   "source": [
    "### Plot structures volume distribution"
   ]
  },
  {
   "cell_type": "code",
   "execution_count": 4,
   "id": "9dc94bfe-74b7-4ae4-b57d-efd8f8613190",
   "metadata": {},
   "outputs": [],
   "source": [
    "k = 100\n",
    "\n",
    "files = sample([f for f in os.listdir('content') if f.endswith('sbc')],\n",
    "               k=k)"
   ]
  },
  {
   "cell_type": "code",
   "execution_count": 5,
   "id": "ec7c7ae0-f2e3-4f1e-9455-d20992d0fd15",
   "metadata": {},
   "outputs": [],
   "source": [
    "def compute_volume(structure: Structure) -> int:\n",
    "    arr = structure._structure - structure._VALUE\n",
    "    return np.count_nonzero(arr)    "
   ]
  },
  {
   "cell_type": "code",
   "execution_count": 11,
   "id": "6e8308f4-358f-4066-a88b-0407ea0bc304",
   "metadata": {},
   "outputs": [
    {
     "name": "stdout",
     "output_type": "stream",
     "text": [
      "Skipping {f}...\n"
     ]
    }
   ],
   "source": [
    "volumes = {}\n",
    "cnt = 0\n",
    "\n",
    "for f in files:\n",
    "    try:\n",
    "        sbc_file = os.path.join('content', f)\n",
    "        root = ET.parse(sbc_file).getroot()\n",
    "\n",
    "        structure = convert_xml_to_structure(root_node=root,\n",
    "                                             struct_dim=1000)\n",
    "\n",
    "        volume = compute_volume(structure)\n",
    "        if volume in volumes.keys():\n",
    "            volumes[volume] += 1\n",
    "        else:\n",
    "            volumes[volume] = 1\n",
    "    except Exception:\n",
    "        print('Skipping {f}...')\n",
    "        cnt += 1\n",
    "        continue"
   ]
  },
  {
   "cell_type": "code",
   "execution_count": 23,
   "id": "527d165e-02bb-41e1-9407-f6f093c7afad",
   "metadata": {},
   "outputs": [
    {
     "data": {
      "image/png": "[encoded data removed]",
      "text/plain": [
       "<Figure size 432x288 with 1 Axes>"
      ]
     },
     "metadata": {
      "needs_background": "light"
     },
     "output_type": "display_data"
    }
   ],
   "source": [
    "plt.hist(volumes.keys(), 200)\n",
    "plt.xlabel(\"Volume\")\n",
    "plt.ylabel(\"# artefacts\")\n",
    "plt.title(f'Volume distributions of {k - cnt} artefacts')\n",
    "plt.show()"
   ]
  },
  {
   "cell_type": "code",
   "execution_count": 14,
   "id": "03a6eb51-574d-4add-bd4a-30acc83cabe0",
   "metadata": {},
   "outputs": [
    {
     "name": "stdout",
     "output_type": "stream",
     "text": [
      "3348433 54\n"
     ]
    }
   ],
   "source": [
    "print(max(volumes.keys()), min(volumes.keys()))"
   ]
  }
 ],
 "metadata": {
  "kernelspec": {
   "display_name": "Python 3 (ipykernel)",
   "language": "python",
   "name": "python3"
  },
  "language_info": {
   "codemirror_mode": {
    "name": "ipython",
    "version": 3
   },
   "file_extension": ".py",
   "mimetype": "text/x-python",
   "name": "python",
   "nbconvert_exporter": "python",
   "pygments_lexer": "ipython3",
   "version": "3.7.11"
  }
 },
 "nbformat": 4,
 "nbformat_minor": 5
}
