{
 "cells": [
  {
   "cell_type": "markdown",
   "id": "a1f9a024-391c-4f7e-8597-0cf474c50ecb",
   "metadata": {},
   "source": [
    "# Steam Workshop Downloader\n",
    "\n",
    "Make sure you have `steamctl` installed. Use `pip install steamctl` to install it.\n",
    "\n",
    "Edit the `private` file:\n",
    "- first line should contain 'api XXXXXXXXXXXXXXXXXXXXXXXXXXXXXXXX'\n",
    "- second line should contain 'domain https:/your-domain.com'\n",
    "\n",
    "You can obtain a Steam API key [here](https://steamcommunity.com/login/home/?goto=%2Fdev%2Fapikey). You can use your Steam profile URL as domain."
   ]
  },
  {
   "cell_type": "code",
   "execution_count": 9,
   "id": "2f531294-2c2c-4ece-9cd1-bd33530960fd",
   "metadata": {
    "execution": {
     "iopub.execute_input": "2022-01-19T16:01:10.309425Z",
     "iopub.status.busy": "2022-01-19T16:01:10.309425Z",
     "iopub.status.idle": "2022-01-19T16:01:10.327399Z",
     "shell.execute_reply": "2022-01-19T16:01:10.327399Z",
     "shell.execute_reply.started": "2022-01-19T16:01:10.309425Z"
    },
    "tags": []
   },
   "outputs": [],
   "source": [
    "import os\n",
    "import requests\n",
    "import shutil\n",
    "\n",
    "from tqdm.notebook import tqdm, trange\n",
    "from bs4 import BeautifulSoup"
   ]
  },
  {
   "cell_type": "markdown",
   "id": "aaa64f42-ce8f-4754-aec8-f5ccb80f3e5d",
   "metadata": {},
   "source": [
    "Settings\n",
    "\n",
    "- `N_PAGES`: Integer, Number of pages to scrap\n",
    "- `APP_ID`: Integer, Steam application's ID (Space Engineers' is 244850)\n",
    "- `FILTER`: String, arbitrary filter\n",
    "- `SORT`: String, one of 'trend', 'mostrecent', 'lastupdated', 'totaluniquesubscribers'"
   ]
  },
  {
   "cell_type": "code",
   "execution_count": 10,
   "id": "983fcb2e-6671-4a89-a555-d37d7b218793",
   "metadata": {
    "execution": {
     "iopub.execute_input": "2022-01-19T16:01:10.329364Z",
     "iopub.status.busy": "2022-01-19T16:01:10.329364Z",
     "iopub.status.idle": "2022-01-19T16:01:10.343356Z",
     "shell.execute_reply": "2022-01-19T16:01:10.343356Z",
     "shell.execute_reply.started": "2022-01-19T16:01:10.329364Z"
    },
    "tags": []
   },
   "outputs": [],
   "source": [
    "N_PAGES = 30 # number of pages to scrap\n",
    "APP_ID = 244850  # the Space Engineers App ID\n",
    "FILTER = 'spaceship'  # filter string\n",
    "SORT = 'trend'  # sorting order\n",
    "\n",
    "API_KEY = ''\n",
    "DOMAIN = ''"
   ]
  },
  {
   "cell_type": "markdown",
   "id": "c77fc0b7-5e5f-496a-a137-394fab04cb42",
   "metadata": {},
   "source": [
    "Create a directory to place the downloaded content."
   ]
  },
  {
   "cell_type": "code",
   "execution_count": 11,
   "id": "75a93ec4-edd4-48c9-9ea7-1865da6b5656",
   "metadata": {
    "execution": {
     "iopub.execute_input": "2022-01-19T16:01:10.344332Z",
     "iopub.status.busy": "2022-01-19T16:01:10.344332Z",
     "iopub.status.idle": "2022-01-19T16:01:10.360280Z",
     "shell.execute_reply": "2022-01-19T16:01:10.359314Z",
     "shell.execute_reply.started": "2022-01-19T16:01:10.344332Z"
    },
    "tags": []
   },
   "outputs": [],
   "source": [
    "os.makedirs('downloads', exist_ok=True)"
   ]
  },
  {
   "cell_type": "markdown",
   "id": "9dd5f0f3-95b9-4063-aebb-0fbec1d7729a",
   "metadata": {
    "tags": []
   },
   "source": [
    "Update the API_KEY in `steamctl`"
   ]
  },
  {
   "cell_type": "code",
   "execution_count": 12,
   "id": "220bf321-6359-45da-b773-207044ad560a",
   "metadata": {
    "execution": {
     "iopub.execute_input": "2022-01-19T16:01:10.362290Z",
     "iopub.status.busy": "2022-01-19T16:01:10.361293Z",
     "iopub.status.idle": "2022-01-19T16:01:10.829386Z",
     "shell.execute_reply": "2022-01-19T16:01:10.828420Z",
     "shell.execute_reply.started": "2022-01-19T16:01:10.362290Z"
    },
    "tags": []
   },
   "outputs": [],
   "source": [
    "with open('private', 'r') as f:\n",
    "    ls = f.readlines()\n",
    "    API_KEY = ls[0].strip().split(' ')[1]\n",
    "    DOMAIN = ls[1].strip().split(' ')[1]\n",
    "\n",
    "res = os.popen(f'steamctl webapi set-key {API_KEY}').read()\n",
    "if not res.startswith('Current'):\n",
    "    print('Error setting API key; check console.')"
   ]
  },
  {
   "cell_type": "markdown",
   "id": "7c4fd7b6-579a-4748-8bbd-3b6ba1a32952",
   "metadata": {},
   "source": [
    "Scrape Workshop page to get the entries IDs"
   ]
  },
  {
   "cell_type": "code",
   "execution_count": 13,
   "id": "6eb1d509-f902-4391-ba88-eb17b9168853",
   "metadata": {
    "execution": {
     "iopub.execute_input": "2022-01-19T16:01:10.830412Z",
     "iopub.status.busy": "2022-01-19T16:01:10.830412Z",
     "iopub.status.idle": "2022-01-19T16:01:46.113121Z",
     "shell.execute_reply": "2022-01-19T16:01:46.112118Z",
     "shell.execute_reply.started": "2022-01-19T16:01:10.830412Z"
    },
    "tags": []
   },
   "outputs": [
    {
     "data": {
      "application/vnd.jupyter.widget-view+json": {
       "model_id": "ea8a5ba3c3194cb4a82e8e72c3e8f290",
       "version_major": 2,
       "version_minor": 0
      },
      "text/plain": [
       "Scraping workshop pages:   0%|          | 0/30 [00:00<?, ?it/s]"
      ]
     },
     "metadata": {},
     "output_type": "display_data"
    }
   ],
   "source": [
    "file_ids = []\n",
    "\n",
    "for n in trange(N_PAGES, desc='Scraping workshop pages'):\n",
    "    page_url = f'https://steamcommunity.com/workshop/browse/?appid={APP_ID}&searchtext={FILTER}&browsesort={SORT}&section=home&actualsort={SORT}&p={n}'\n",
    "    response = requests.get(page_url)\n",
    "    soup = BeautifulSoup(response.text)\n",
    "    entries = soup.find_all('a', class_='ugc')\n",
    "\n",
    "    for entry in entries:\n",
    "        file_ids.append(entry.get('data-publishedfileid'))"
   ]
  },
  {
   "cell_type": "markdown",
   "id": "1b8dee2b-1e2b-4878-8af8-b617252d52be",
   "metadata": {},
   "source": [
    "Download each entry in its own folder"
   ]
  },
  {
   "cell_type": "code",
   "execution_count": 14,
   "id": "3deb9fc8-87be-4888-be9b-82e81f2f90fe",
   "metadata": {
    "execution": {
     "iopub.execute_input": "2022-01-19T16:01:46.114116Z",
     "iopub.status.busy": "2022-01-19T16:01:46.114116Z",
     "iopub.status.idle": "2022-01-19T16:36:05.136278Z",
     "shell.execute_reply": "2022-01-19T16:36:05.135292Z",
     "shell.execute_reply.started": "2022-01-19T16:01:46.114116Z"
    },
    "tags": []
   },
   "outputs": [
    {
     "data": {
      "application/vnd.jupyter.widget-view+json": {
       "model_id": "72c2ebb700764f89a047451a5f5ee160",
       "version_major": 2,
       "version_minor": 0
      },
      "text/plain": [
       "Downloading content:   0%|          | 0/900 [00:00<?, ?it/s]"
      ]
     },
     "metadata": {},
     "output_type": "display_data"
    }
   ],
   "source": [
    "for i in trange(len(file_ids), desc='Downloading content'):\n",
    "    file_id = file_ids[i]\n",
    "    os.makedirs(f'downloads/{file_id}', exist_ok=True)\n",
    "    os.popen(f'cd downloads/{file_id} && steamctl workshop download --anonymous {file_id}').read()"
   ]
  },
  {
   "cell_type": "markdown",
   "id": "2353c9f8-1ea7-4282-9d34-c8612240a1e6",
   "metadata": {},
   "source": [
    "Remove content that does not contain structure blueprints (i.e.: does not contain any `.sbc` file)"
   ]
  },
  {
   "cell_type": "code",
   "execution_count": 15,
   "id": "6869e4e6-326b-46e6-a4ca-de748d2e79b1",
   "metadata": {
    "execution": {
     "iopub.execute_input": "2022-01-19T16:36:05.138278Z",
     "iopub.status.busy": "2022-01-19T16:36:05.137269Z",
     "iopub.status.idle": "2022-01-19T16:36:05.797393Z",
     "shell.execute_reply": "2022-01-19T16:36:05.797393Z",
     "shell.execute_reply.started": "2022-01-19T16:36:05.137269Z"
    },
    "tags": []
   },
   "outputs": [
    {
     "data": {
      "application/vnd.jupyter.widget-view+json": {
       "model_id": "e0f922f0fabf47ea90ef4561bdd95d7e",
       "version_major": 2,
       "version_minor": 0
      },
      "text/plain": [
       "Removing bad folders:   0%|          | 0/625 [00:00<?, ?it/s]"
      ]
     },
     "metadata": {},
     "output_type": "display_data"
    }
   ],
   "source": [
    "subdirs = os.listdir('downloads')\n",
    "\n",
    "to_remove = []\n",
    "\n",
    "for subdir in subdirs:\n",
    "    files = os.listdir(os.path.join('downloads', subdir))\n",
    "    if 'bp.sbc' not in files:\n",
    "        to_remove.append(os.path.join('downloads', subdir))\n",
    "\n",
    "for i in trange(len(to_remove), desc='Removing bad folders'):\n",
    "    shutil.rmtree(to_remove[i])"
   ]
  },
  {
   "cell_type": "markdown",
   "id": "291e5d7f-6a6e-4743-aa60-2f6b51e3d796",
   "metadata": {},
   "source": [
    "Rename all `bp.sbc` files in each valid directory with the directory name (ID) and move them to a separate folder."
   ]
  },
  {
   "cell_type": "code",
   "execution_count": 16,
   "id": "4181c3cd-bf18-45e2-8814-272881d71835",
   "metadata": {
    "execution": {
     "iopub.execute_input": "2022-01-19T16:36:05.798391Z",
     "iopub.status.busy": "2022-01-19T16:36:05.798391Z",
     "iopub.status.idle": "2022-01-19T16:36:06.713102Z",
     "shell.execute_reply": "2022-01-19T16:36:06.713102Z",
     "shell.execute_reply.started": "2022-01-19T16:36:05.798391Z"
    },
    "tags": []
   },
   "outputs": [
    {
     "data": {
      "application/vnd.jupyter.widget-view+json": {
       "model_id": "5cbf0711c44d443790a39786cba6de8a",
       "version_major": 2,
       "version_minor": 0
      },
      "text/plain": [
       "Moving content and cleaning downloads:   0%|          | 0/241 [00:00<?, ?it/s]"
      ]
     },
     "metadata": {},
     "output_type": "display_data"
    }
   ],
   "source": [
    "subdirs = os.listdir('downloads')\n",
    "\n",
    "os.makedirs('content', exist_ok=True)\n",
    "\n",
    "for i in trange(len(subdirs), desc='Moving content and cleaning downloads'):\n",
    "    content_dir = os.path.join('downloads', subdirs[i])\n",
    "    shutil.move(os.path.join(content_dir, 'bp.sbc'),\n",
    "                os.path.join('content', f'{subdirs[i]}.sbc'))\n",
    "shutil.rmtree('downloads')"
   ]
  }
 ],
 "metadata": {
  "kernelspec": {
   "display_name": "Python 3 (ipykernel)",
   "language": "python",
   "name": "python3"
  },
  "language_info": {
   "codemirror_mode": {
    "name": "ipython",
    "version": 3
   },
   "file_extension": ".py",
   "mimetype": "text/x-python",
   "name": "python",
   "nbconvert_exporter": "python",
   "pygments_lexer": "ipython3",
   "version": "3.8.12"
  }
 },
 "nbformat": 4,
 "nbformat_minor": 5
}
