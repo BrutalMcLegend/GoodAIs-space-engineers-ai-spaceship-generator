{
 "cells": [
  {
   "cell_type": "markdown",
   "id": "a756f05f",
   "metadata": {},
   "source": [
    "# Spaceships analyzer\n",
    "\n",
    "This notebook is used to analyze the spaceships downloaded previously and compute metrics of interest."
   ]
  },
  {
   "cell_type": "markdown",
   "id": "05868ae8",
   "metadata": {},
   "source": [
    "## Imports"
   ]
  },
  {
   "cell_type": "code",
   "execution_count": null,
   "id": "a41a1fa4-6c15-4539-8538-b71c3052fcd8",
   "metadata": {
    "execution": {
     "iopub.execute_input": "2022-01-27T15:44:58.723747Z",
     "iopub.status.busy": "2022-01-27T15:44:58.723747Z",
     "iopub.status.idle": "2022-01-27T15:45:01.522860Z",
     "shell.execute_reply": "2022-01-27T15:45:01.521733Z",
     "shell.execute_reply.started": "2022-01-27T15:44:58.723747Z"
    },
    "tags": []
   },
   "outputs": [],
   "source": [
    "import numpy as np\n",
    "import os\n",
    "import xml.etree.ElementTree as ET\n",
    "import matplotlib.pyplot as plt\n",
    "import scipy.stats as stats\n",
    "import json\n",
    "import pickle\n",
    "from tqdm.notebook import tqdm\n",
    "from pathlib import Path\n",
    "\n",
    "\n",
    "from pcgsepy.setup_utils import setup_matplotlib\n",
    "from pcgsepy.xml_conversion import convert_xml_to_structure"
   ]
  },
  {
   "cell_type": "markdown",
   "id": "7ff0cd85",
   "metadata": {},
   "source": [
    "## Main variables"
   ]
  },
  {
   "cell_type": "code",
   "execution_count": null,
   "id": "d3d04170-af17-474a-b767-5aece4952640",
   "metadata": {
    "execution": {
     "iopub.execute_input": "2022-01-27T15:45:01.525839Z",
     "iopub.status.busy": "2022-01-27T15:45:01.525337Z",
     "iopub.status.idle": "2022-01-27T15:45:01.535690Z",
     "shell.execute_reply": "2022-01-27T15:45:01.534343Z",
     "shell.execute_reply.started": "2022-01-27T15:45:01.525337Z"
    },
    "tags": []
   },
   "outputs": [],
   "source": [
    "RUN_ANALYSIS = False\n",
    "SPACESHIPS_DIR = './content'\n",
    "OUTPUT_DIR = '../lsystem/stats'\n",
    "\n",
    "setup_matplotlib()\n",
    "\n",
    "fuots = []\n",
    "fiots = []\n",
    "volumes = []\n",
    "lom = []\n",
    "los = []"
   ]
  },
  {
   "cell_type": "code",
   "execution_count": null,
   "id": "6dbcf1ac",
   "metadata": {},
   "outputs": [],
   "source": [
    "Path(OUTPUT_DIR).mkdir(parents=True, exist_ok=True)"
   ]
  },
  {
   "cell_type": "markdown",
   "id": "eb13b488",
   "metadata": {},
   "source": [
    "## Spaceships loading and metrics computing"
   ]
  },
  {
   "cell_type": "code",
   "execution_count": null,
   "id": "1b9b67e8-452d-4b6b-afa2-1d1851b59a23",
   "metadata": {
    "execution": {
     "iopub.execute_input": "2022-01-27T15:45:01.554925Z",
     "iopub.status.busy": "2022-01-27T15:45:01.554925Z",
     "iopub.status.idle": "2022-01-27T15:45:01.575929Z",
     "shell.execute_reply": "2022-01-27T15:45:01.575013Z",
     "shell.execute_reply.started": "2022-01-27T15:45:01.554925Z"
    },
    "tags": []
   },
   "outputs": [],
   "source": [
    "available_spaceships = os.listdir(SPACESHIPS_DIR)[1:]\n",
    "\n",
    "def parse_stats():\n",
    "    for s in tqdm(available_spaceships, desc='Analyzing spaceships...'):\n",
    "        bp = os.path.join(SPACESHIPS_DIR, s)\n",
    "        try:\n",
    "            root = ET.parse(bp).getroot()\n",
    "            structure = convert_xml_to_structure(root_node=root)\n",
    "            structure.sanify()\n",
    "\n",
    "            functional_blocks_volume, filled_volume = 0., 0.\n",
    "            for b in structure.get_all_blocks():\n",
    "                if not b.block_type.startswith('MyObjectBuilder_CubeBlock_'):\n",
    "                    functional_blocks_volume += b.volume\n",
    "                filled_volume += b.volume\n",
    "\n",
    "            total_volume = structure.as_array.shape\n",
    "            total_volume = total_volume[0] * total_volume[1] * total_volume[2]\n",
    "\n",
    "            fuots.append(functional_blocks_volume / (functional_blocks_volume + filled_volume))\n",
    "            fiots.append((functional_blocks_volume + filled_volume) / total_volume)\n",
    "            volumes.append(functional_blocks_volume + filled_volume)\n",
    "\n",
    "            total_volume = structure.as_array.shape\n",
    "            largest_axis, medium_axis, smallest_axis = reversed(sorted(list(total_volume)))\n",
    "            lom.append(largest_axis / medium_axis)\n",
    "            los.append(largest_axis / smallest_axis)\n",
    "        except Exception:\n",
    "            pass"
   ]
  },
  {
   "cell_type": "code",
   "execution_count": null,
   "id": "6f6411ba-7782-4167-b3a3-6d3fc21fed46",
   "metadata": {
    "execution": {
     "iopub.execute_input": "2022-01-27T15:45:01.578823Z",
     "iopub.status.busy": "2022-01-27T15:45:01.578456Z",
     "iopub.status.idle": "2022-01-27T15:45:01.601491Z",
     "shell.execute_reply": "2022-01-27T15:45:01.600335Z",
     "shell.execute_reply.started": "2022-01-27T15:45:01.578823Z"
    },
    "tags": []
   },
   "outputs": [],
   "source": [
    "if not os.path.exists('spaceships_stats.json') or RUN_ANALYSIS:\n",
    "    parse_stats()\n",
    "    with open('spaceships_stats.json', 'w') as f:\n",
    "        json.dump({\n",
    "            'volumes': volumes,\n",
    "            'fuots': fuots,\n",
    "            'fiots': fiots,\n",
    "            'lom': lom,\n",
    "            'los': los\n",
    "        }, f)\n",
    "else:\n",
    "    with open('spaceships_stats.json', 'r') as f:\n",
    "        spaceships_stats = json.load(f)\n",
    "        fuots = spaceships_stats['fuots']\n",
    "        fiots = spaceships_stats['fiots']\n",
    "        volumes = spaceships_stats['volumes']\n",
    "        lom = spaceships_stats['lom']\n",
    "        los = spaceships_stats['los']"
   ]
  },
  {
   "cell_type": "markdown",
   "id": "8d9ff37c",
   "metadata": {},
   "source": [
    "## Estimators fitting and metrics plotting"
   ]
  },
  {
   "cell_type": "code",
   "execution_count": null,
   "id": "5c7d4bae-1eb2-481a-8a7c-dda26a77e360",
   "metadata": {
    "execution": {
     "iopub.execute_input": "2022-01-27T15:45:01.604990Z",
     "iopub.status.busy": "2022-01-27T15:45:01.603947Z",
     "iopub.status.idle": "2022-01-27T15:45:01.621047Z",
     "shell.execute_reply": "2022-01-27T15:45:01.619550Z",
     "shell.execute_reply.started": "2022-01-27T15:45:01.603947Z"
    },
    "tags": []
   },
   "outputs": [],
   "source": [
    "N_BINS = int(np.ceil(len(volumes) / 3))\n",
    "VOLUME_CUTOFF = 1e6\n",
    "COLOR_BINS = '#4CD7D0'\n",
    "COLOR_LINE = '#2D807B'"
   ]
  },
  {
   "cell_type": "code",
   "execution_count": null,
   "id": "6d9a6921-46d6-4a9c-a89e-78e0af6fff27",
   "metadata": {
    "execution": {
     "iopub.execute_input": "2022-01-27T15:45:01.638840Z",
     "iopub.status.busy": "2022-01-27T15:45:01.638285Z",
     "iopub.status.idle": "2022-01-27T15:45:02.150364Z",
     "shell.execute_reply": "2022-01-27T15:45:02.149392Z",
     "shell.execute_reply.started": "2022-01-27T15:45:01.638840Z"
    },
    "tags": []
   },
   "outputs": [],
   "source": [
    "to_plot = [v for v in volumes if v <= VOLUME_CUTOFF]\n",
    "diff = 100 * len(to_plot) / len(volumes)\n",
    "plt.hist(to_plot, bins=N_BINS, fc=COLOR_BINS)\n",
    "plt.title('Volume distribution')\n",
    "plt.ylabel('# occurrences')\n",
    "plt.xlabel('Volume')\n",
    "plt.ticklabel_format(axis=\"x\", style=\"sci\", scilimits=(0,0))\n",
    "plt.autoscale(enable=True, axis='x', tight=True)\n",
    "plt.savefig('results/stats/stats-volume.png', transparent=True)\n",
    "plt.show()"
   ]
  },
  {
   "cell_type": "code",
   "execution_count": null,
   "id": "c9af5ea0-2027-4322-8f46-6585701314e7",
   "metadata": {
    "execution": {
     "iopub.execute_input": "2022-01-27T15:45:02.151387Z",
     "iopub.status.busy": "2022-01-27T15:45:02.151387Z",
     "iopub.status.idle": "2022-01-27T15:45:03.083755Z",
     "shell.execute_reply": "2022-01-27T15:45:03.082697Z",
     "shell.execute_reply.started": "2022-01-27T15:45:02.151387Z"
    },
    "tags": []
   },
   "outputs": [],
   "source": [
    "from sklearn.neighbors import KernelDensity\n",
    "\n",
    "to_analyze = [f for f, v in zip(fuots, volumes) if v <= VOLUME_CUTOFF]\n",
    "mean, std = np.mean(to_analyze), np.std(to_analyze)\n",
    "x = np.linspace(min(to_analyze), max(to_analyze), N_BINS)\n",
    "gkde = stats.gaussian_kde(to_analyze)\n",
    "estimated = gkde.evaluate(x)\n",
    "\n",
    "with open('estimators/futo.pkl', 'wb') as f:\n",
    "    pickle.dump(gkde, f)\n",
    "\n",
    "plt.hist(to_analyze, bins=N_BINS, fc=COLOR_BINS, density=True)\n",
    "plt.plot(x, estimated, c=COLOR_LINE, lw=2)\n",
    "plt.title('Functional blocks / total blocks')\n",
    "plt.ylabel('Density')\n",
    "plt.xlabel('Proportion')\n",
    "plt.autoscale(enable=True, axis='x', tight=True)\n",
    "plt.tight_layout()\n",
    "plt.savefig('results/stats/stats-futo.png', transparent=True, bbox_inches='tight')\n",
    "plt.show()"
   ]
  },
  {
   "cell_type": "code",
   "execution_count": null,
   "id": "b232389a-630f-4c79-ad03-d3ac211074a4",
   "metadata": {
    "execution": {
     "iopub.execute_input": "2022-01-27T15:45:03.084785Z",
     "iopub.status.busy": "2022-01-27T15:45:03.084785Z",
     "iopub.status.idle": "2022-01-27T15:45:03.716519Z",
     "shell.execute_reply": "2022-01-27T15:45:03.716519Z",
     "shell.execute_reply.started": "2022-01-27T15:45:03.084785Z"
    },
    "tags": []
   },
   "outputs": [],
   "source": [
    "to_analyze = [f for f, v in zip(fiots, volumes) if v <= VOLUME_CUTOFF]\n",
    "mean, std = np.mean(to_analyze), np.std(to_analyze)\n",
    "x = np.linspace(min(to_analyze), max(to_analyze), N_BINS)\n",
    "gkde = stats.gaussian_kde(to_analyze)\n",
    "estimated = gkde.evaluate(x)\n",
    "\n",
    "with open('estimators/tovo.pkl', 'wb') as f:\n",
    "    pickle.dump(gkde, f)\n",
    "\n",
    "plt.hist(to_analyze, bins=N_BINS, fc=COLOR_BINS, density=True)\n",
    "plt.plot(x, estimated, c=COLOR_LINE, lw=2)\n",
    "plt.title('Filled volume / total volume')\n",
    "plt.ylabel('Density')\n",
    "plt.xlabel('Proportion')\n",
    "plt.autoscale(enable=True, axis='x', tight=True)\n",
    "plt.tight_layout()\n",
    "plt.savefig('results/stats/stats-tovo.png', transparent=True, bbox_inches='tight')\n",
    "plt.show()"
   ]
  },
  {
   "cell_type": "code",
   "execution_count": null,
   "id": "9748aee6-1a80-427c-bd7b-da88f8bb035c",
   "metadata": {
    "execution": {
     "iopub.execute_input": "2022-01-27T15:45:03.721255Z",
     "iopub.status.busy": "2022-01-27T15:45:03.716519Z",
     "iopub.status.idle": "2022-01-27T15:45:04.694443Z",
     "shell.execute_reply": "2022-01-27T15:45:04.693445Z",
     "shell.execute_reply.started": "2022-01-27T15:45:03.721255Z"
    },
    "tags": []
   },
   "outputs": [],
   "source": [
    "to_analyze = [f for f, v in zip(lom, volumes) if v <= VOLUME_CUTOFF]\n",
    "mean, std = np.mean(to_analyze), np.std(to_analyze)\n",
    "x = np.linspace(min(to_analyze), max(to_analyze), N_BINS)\n",
    "gkde = stats.gaussian_kde(to_analyze)\n",
    "estimated = gkde.evaluate(x)\n",
    "\n",
    "with open('estimators/mame.pkl', 'wb') as f:\n",
    "    pickle.dump(gkde, f)\n",
    "\n",
    "plt.hist(to_analyze, bins=N_BINS, fc=COLOR_BINS, density=True)\n",
    "plt.plot(x, estimated, c=COLOR_LINE, lw=2)\n",
    "plt.title('Largest axis / Medium axis')\n",
    "plt.ylabel('Density')\n",
    "plt.xlabel('Proportion')\n",
    "plt.autoscale(enable=True, axis='x', tight=True)\n",
    "plt.tight_layout()\n",
    "plt.savefig('results/stats/stats-mame.png', transparent=True, bbox_inches='tight')\n",
    "plt.show()"
   ]
  },
  {
   "cell_type": "code",
   "execution_count": null,
   "id": "f96146cd-42a8-4c75-ba60-9d737171f9ac",
   "metadata": {
    "execution": {
     "iopub.execute_input": "2022-01-27T15:45:04.694443Z",
     "iopub.status.busy": "2022-01-27T15:45:04.694443Z",
     "iopub.status.idle": "2022-01-27T15:45:05.701140Z",
     "shell.execute_reply": "2022-01-27T15:45:05.700143Z",
     "shell.execute_reply.started": "2022-01-27T15:45:04.694443Z"
    },
    "tags": []
   },
   "outputs": [],
   "source": [
    "to_analyze = [f for f, v in zip(los, volumes) if v <= VOLUME_CUTOFF]\n",
    "mean, std = np.mean(to_analyze), np.std(to_analyze)\n",
    "x = np.linspace(min(to_analyze), max(to_analyze), N_BINS)\n",
    "gkde = stats.gaussian_kde(to_analyze)\n",
    "estimated = gkde.evaluate(x)\n",
    "\n",
    "with open('estimators/mami.pkl', 'wb') as f:\n",
    "    pickle.dump(gkde, f)\n",
    "\n",
    "plt.hist(to_analyze, bins=N_BINS, fc=COLOR_BINS, density=True)\n",
    "plt.plot(x, estimated, c=COLOR_LINE, lw=2)\n",
    "plt.title('Largest axis / Smallest axis')\n",
    "plt.ylabel('Density')\n",
    "plt.xlabel('Proportion')\n",
    "plt.autoscale(enable=True, axis='x', tight=True)\n",
    "plt.tight_layout()\n",
    "plt.savefig('results/stats/stats-mami.png', transparent=True, bbox_inches='tight')\n",
    "plt.show()"
   ]
  }
 ],
 "metadata": {
  "kernelspec": {
   "display_name": "Python 3.8.13 ('pcg')",
   "language": "python",
   "name": "python3"
  },
  "language_info": {
   "codemirror_mode": {
    "name": "ipython",
    "version": 3
   },
   "file_extension": ".py",
   "mimetype": "text/x-python",
   "name": "python",
   "nbconvert_exporter": "python",
   "pygments_lexer": "ipython3",
   "version": "3.8.13"
  },
  "vscode": {
   "interpreter": {
    "hash": "baec60536c6749885c57d3beb549b4412d50c1c1ea218f0ac711a9872f2242c3"
   }
  }
 },
 "nbformat": 4,
 "nbformat_minor": 5
}
