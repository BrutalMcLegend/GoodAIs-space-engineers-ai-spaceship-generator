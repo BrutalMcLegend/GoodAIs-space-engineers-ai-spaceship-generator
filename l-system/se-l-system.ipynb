{
 "cells": [
  {
   "cell_type": "markdown",
   "metadata": {
    "tags": []
   },
   "source": [
    "# Simple L-System for Space Engineers\n",
    "\n",
    "Uses the PCGSEPy library included in this repository.\n",
    "\n",
    "**NOTE**: Have the game *running*; leaving the game simply paused breaks the API (no calls are accepted). *Suggestion*: Use windowed mode, press `Start` after the scenario is loaded and return to this notebook."
   ]
  },
  {
   "cell_type": "markdown",
   "metadata": {},
   "source": [
    "Import required packages"
   ]
  },
  {
   "cell_type": "code",
   "execution_count": 1,
   "metadata": {
    "tags": []
   },
   "outputs": [],
   "source": [
    "from enum import Enum, auto\n",
    "from typing import Any, Callable, Dict, List\n",
    "\n",
    "import numpy as np\n",
    "\n",
    "\n",
    "from pcgsepy.common.api_call import GameMode, get_base_values, toggle_gamemode\n",
    "from pcgsepy.structure import *"
   ]
  },
  {
   "cell_type": "markdown",
   "metadata": {
    "tags": []
   },
   "source": [
    "## Simple L-system\n",
    "\n",
    "A simple L-system to generate a structure using rules.\n",
    "\n",
    "Strings used as high-level structure:\n",
    "- `cockpit`\n",
    "- `engine`\n",
    "- `corridor`\n",
    "- `thruster`\n",
    "- etc...\n",
    "\n",
    "Strings used to define blocks:\n",
    "- *See `block_definitions.json` for a full list*.\n",
    "\n",
    "Strings used to define rotation commands:\n",
    "- `rotXcwY`: Clockwise rotation from X to Y\n",
    "- `rotXcwZ`: Clockwise rotation from X to Z\n",
    "- `rotYcwX`: Clockwise rotation from Y to X \n",
    "- `rotYcwZ`: Clockwise rotation from Y to Z \n",
    "- `rotZcwX`: Clockwise rotation from Z to X \n",
    "- `rotZcwY`: Clockwise rotation from Z to Y \n",
    "- `rotXccwY`: Counter-clockwise rotation from X to Y \n",
    "- `rotXccwZ`: Counter-clockwise rotation from X to Z  \n",
    "- `rotYccwX`: Counter-clockwise rotation from Y to X  \n",
    "- `rotYccwZ`: Counter-clockwise rotation from Y to Z  \n",
    "- `rotZccwX`: Counter-clockwise rotation from Z to X  \n",
    "- `rotZccwY`: Counter-clockwise rotation from Z to Y   \n",
    "\n",
    "Characters used as actions:\n",
    "- `[` and `]`]: Push and pop current coordinate\n",
    "- `+`: Move forward along `x`\n",
    "- `-`: Move backward along `x`\n",
    "- `!`: Move forward along `y`\n",
    "- `?`: Move backward along `y`\n",
    "- `>`: Move forward along `z`\n",
    "- `<`: Move backward along `z`"
   ]
  },
  {
   "cell_type": "markdown",
   "metadata": {
    "tags": []
   },
   "source": [
    "### L Parser class.\n",
    "\n",
    "Expansion and production methods transform the initial axiom using the provided rules for a number `n` of iterations.\n",
    "\n",
    "**NOTE**: Rules can have multiple characters in the *RHS*, which allows for more complex axioms. Rules are stochastic (i.e.: $LHS \\rightarrow p(RHS | LHS)$); to make a rule deterministic simply use a single $LHS \\rightarrow RHS$ with $p=1.$."
   ]
  },
  {
   "cell_type": "code",
   "execution_count": 2,
   "metadata": {},
   "outputs": [],
   "source": [
    "from pcgsepy.lsystem.parser import LParser\n",
    "from pcgsepy.lsystem.rules import StochasticRules, RuleMaker"
   ]
  },
  {
   "cell_type": "markdown",
   "metadata": {
    "tags": []
   },
   "source": [
    "### Maps\n",
    "\n",
    "Mapping axiom atoms to `Structure` interactions:"
   ]
  },
  {
   "cell_type": "code",
   "execution_count": 3,
   "metadata": {
    "tags": []
   },
   "outputs": [],
   "source": [
    "from pcgsepy.lsystem.actions import *\n",
    "\n",
    "# atoms_alphabet = {\n",
    "#     \"+\": {\"action\": AtomAction.MOVE, \"args\": Orientation.RIGHT},\n",
    "#     \"-\": {\"action\": AtomAction.MOVE, \"args\": Orientation.LEFT},\n",
    "#     \"!\": {\"action\": AtomAction.MOVE, \"args\": Orientation.UP},\n",
    "#     \"?\": {\"action\": AtomAction.MOVE, \"args\": Orientation.DOWN},\n",
    "#     \">\": {\"action\": AtomAction.MOVE, \"args\": Orientation.FORWARD},\n",
    "#     \"<\": {\"action\": AtomAction.MOVE, \"args\": Orientation.BACKWARD},\n",
    "#     \"RotXcwY\": {\"action\": AtomAction.ROTATE, \"args\": Rotations.XcwY},\n",
    "#     \"RotXcwZ\": {\"action\": AtomAction.ROTATE, \"args\": Rotations.XcwZ},\n",
    "#     \"RotYcwX\": {\"action\": AtomAction.ROTATE, \"args\": Rotations.YcwX},\n",
    "#     \"RotYcwZ\": {\"action\": AtomAction.ROTATE, \"args\": Rotations.YcwZ},\n",
    "#     \"RotZcwX\": {\"action\": AtomAction.ROTATE, \"args\": Rotations.ZcwX},\n",
    "#     \"RotZcwY\": {\"action\": AtomAction.ROTATE, \"args\": Rotations.ZcwY},\n",
    "#     \"RotXccwY\": {\"action\": AtomAction.ROTATE, \"args\": Rotations.XccwY},\n",
    "#     \"RotXccwZ\": {\"action\": AtomAction.ROTATE, \"args\": Rotations.XccwZ},\n",
    "#     \"RotYccwX\": {\"action\": AtomAction.ROTATE, \"args\": Rotations.YccwX},\n",
    "#     \"RotYccwZ\": {\"action\": AtomAction.ROTATE, \"args\": Rotations.YccwZ},\n",
    "#     \"RotZccwX\": {\"action\": AtomAction.ROTATE, \"args\": Rotations.ZccwX},\n",
    "#     \"RotZccwY\": {\"action\": AtomAction.ROTATE, \"args\": Rotations.ZccwY},\n",
    "#     \"[\": {\"action\": AtomAction.PUSH, \"args\": []},\n",
    "#     \"]\": {\"action\": AtomAction.POP, \"args\": []},\n",
    "#     \"cockpit\": {\"action\": AtomAction.PLACE, \"args\": []},\n",
    "#     \"corridor\": {\"action\": AtomAction.PLACE, \"args\": []},\n",
    "#     \"thruster\": {\"action\": AtomAction.PLACE, \"args\": []},\n",
    "# }\n",
    "\n",
    "with open(\"./block_definitions.json\", \"r\") as f:\n",
    "    block_definitions = json.load(f)\n",
    "    for k in block_definitions.keys():\n",
    "        if k != \"\":\n",
    "            atoms_alphabet[k] = {\"action\": AtomAction.PLACE, \"args\": [k]}\n",
    "\n",
    "# orientations_ids = {\n",
    "#     \"U\": Orientation.UP,\n",
    "#     \"D\": Orientation.DOWN,\n",
    "#     \"L\": Orientation.LEFT,\n",
    "#     \"R\": Orientation.RIGHT,\n",
    "#     \"F\": Orientation.FORWARD,\n",
    "#     \"B\": Orientation.BACKWARD,\n",
    "# }"
   ]
  },
  {
   "cell_type": "code",
   "execution_count": 4,
   "metadata": {
    "tags": []
   },
   "outputs": [],
   "source": [
    "# # Note: This can definitely be simplified, but for now it *works*\n",
    "# _rotate_orientations = {\n",
    "#     Orientation.UP: {\n",
    "#         Rotations.XcwY: Orientation.RIGHT,\n",
    "#         Rotations.XccwY: Orientation.LEFT,\n",
    "#         Rotations.XcwZ: Orientation.UP,\n",
    "#         Rotations.XccwZ: Orientation.UP,\n",
    "#         Rotations.YcwX: Orientation.RIGHT,\n",
    "#         Rotations.YccwX: Orientation.LEFT,\n",
    "#         Rotations.YcwZ: Orientation.BACKWARD,\n",
    "#         Rotations.YccwZ: Orientation.FORWARD,\n",
    "#         Rotations.ZcwX: Orientation.UP,\n",
    "#         Rotations.ZccwX: Orientation.UP,\n",
    "#         Rotations.ZcwY: Orientation.BACKWARD,\n",
    "#         Rotations.ZccwY: Orientation.FORWARD,\n",
    "#     },\n",
    "#     Orientation.DOWN: {\n",
    "#         Rotations.XcwY: Orientation.LEFT,\n",
    "#         Rotations.XccwY: Orientation.RIGHT,\n",
    "#         Rotations.XcwZ: Orientation.DOWN,\n",
    "#         Rotations.XccwZ: Orientation.DOWN,\n",
    "#         Rotations.YcwX: Orientation.LEFT,\n",
    "#         Rotations.YccwX: Orientation.RIGHT,\n",
    "#         Rotations.YcwZ: Orientation.FORWARD,\n",
    "#         Rotations.YccwZ: Orientation.BACKWARD,\n",
    "#         Rotations.ZcwX: Orientation.DOWN,\n",
    "#         Rotations.ZccwX: Orientation.DOWN,\n",
    "#         Rotations.ZcwY: Orientation.FORWARD,\n",
    "#         Rotations.ZccwY: Orientation.BACKWARD,\n",
    "#     },\n",
    "#     Orientation.LEFT: {\n",
    "#         Rotations.XcwY: Orientation.UP,\n",
    "#         Rotations.XccwY: Orientation.DOWN,\n",
    "#         Rotations.XcwZ: Orientation.BACKWARD,\n",
    "#         Rotations.XccwZ: Orientation.FORWARD,\n",
    "#         Rotations.YcwX: Orientation.UP,\n",
    "#         Rotations.YccwX: Orientation.DOWN,\n",
    "#         Rotations.YcwZ: Orientation.LEFT,\n",
    "#         Rotations.YccwZ: Orientation.LEFT,\n",
    "#         Rotations.ZcwX: Orientation.FORWARD,\n",
    "#         Rotations.ZccwX: Orientation.BACKWARD,\n",
    "#         Rotations.ZcwY: Orientation.LEFT,\n",
    "#         Rotations.ZccwY: Orientation.LEFT,\n",
    "#     },\n",
    "#     Orientation.RIGHT: {\n",
    "#         Rotations.XcwY: Orientation.DOWN,\n",
    "#         Rotations.XccwY: Orientation.UP,\n",
    "#         Rotations.XcwZ: Orientation.FORWARD,\n",
    "#         Rotations.XccwZ: Orientation.BACKWARD,\n",
    "#         Rotations.YcwX: Orientation.DOWN,\n",
    "#         Rotations.YccwX: Orientation.UP,\n",
    "#         Rotations.YcwZ: Orientation.RIGHT,\n",
    "#         Rotations.YccwZ: Orientation.RIGHT,\n",
    "#         Rotations.ZcwX: Orientation.BACKWARD,\n",
    "#         Rotations.ZccwX: Orientation.FORWARD,\n",
    "#         Rotations.ZcwY: Orientation.RIGHT,\n",
    "#         Rotations.ZccwY: Orientation.RIGHT,\n",
    "#     },\n",
    "#     Orientation.FORWARD: {\n",
    "#         Rotations.XcwY: Orientation.FORWARD,\n",
    "#         Rotations.XccwY: Orientation.FORWARD,\n",
    "#         Rotations.XcwZ: Orientation.RIGHT,\n",
    "#         Rotations.XccwZ: Orientation.LEFT,\n",
    "#         Rotations.YcwX: Orientation.FORWARD,\n",
    "#         Rotations.YccwX: Orientation.FORWARD,\n",
    "#         Rotations.YcwZ: Orientation.DOWN,\n",
    "#         Rotations.YccwZ: Orientation.UP,\n",
    "#         Rotations.ZcwX: Orientation.RIGHT,\n",
    "#         Rotations.ZccwX: Orientation.LEFT,\n",
    "#         Rotations.ZcwY: Orientation.UP,\n",
    "#         Rotations.ZccwY: Orientation.DOWN,\n",
    "#     },\n",
    "#     Orientation.BACKWARD: {\n",
    "#         Rotations.XcwY: Orientation.BACKWARD,\n",
    "#         Rotations.XccwY: Orientation.BACKWARD,\n",
    "#         Rotations.XcwZ: Orientation.LEFT,\n",
    "#         Rotations.XccwZ: Orientation.RIGHT,\n",
    "#         Rotations.YcwX: Orientation.BACKWARD,\n",
    "#         Rotations.YccwX: Orientation.BACKWARD,\n",
    "#         Rotations.YcwZ: Orientation.UP,\n",
    "#         Rotations.YccwZ: Orientation.DOWN,\n",
    "#         Rotations.ZcwX: Orientation.LEFT,\n",
    "#         Rotations.ZccwX: Orientation.RIGHT,\n",
    "#         Rotations.ZcwY: Orientation.DOWN,\n",
    "#         Rotations.ZccwY: Orientation.UP,\n",
    "#     },\n",
    "# }\n",
    "\n",
    "\n",
    "# def rotate_orientation(o: Orientation, rs: List[Rotations]) -> Orientation:\n",
    "#     for r in rs:\n",
    "#         o = _rotate_orientations[o][r]\n",
    "#     return o"
   ]
  },
  {
   "cell_type": "markdown",
   "metadata": {},
   "source": [
    "### Constraint handler"
   ]
  },
  {
   "cell_type": "code",
   "execution_count": 5,
   "metadata": {},
   "outputs": [],
   "source": [
    "from pcgsepy.lsystem.constraints import *"
   ]
  },
  {
   "cell_type": "code",
   "execution_count": 6,
   "metadata": {},
   "outputs": [],
   "source": [
    "from pcgsepy.lsystem.constraints_funcs import *"
   ]
  },
  {
   "cell_type": "markdown",
   "metadata": {
    "tags": []
   },
   "source": [
    "### Solver class\n",
    "\n",
    "The `Solver` can both solve for a given axiom and fill a `Structure` with an axiom."
   ]
  },
  {
   "cell_type": "code",
   "execution_count": 7,
   "metadata": {
    "tags": []
   },
   "outputs": [],
   "source": [
    "from pcgsepy.lsystem.solver import LSolver"
   ]
  },
  {
   "cell_type": "markdown",
   "metadata": {
    "tags": []
   },
   "source": [
    "### Rule maker\n",
    "\n",
    "Read a configuration file with the rules and create the Rule object."
   ]
  },
  {
   "cell_type": "markdown",
   "metadata": {
    "tags": []
   },
   "source": [
    "## L-System\n",
    "\n",
    "Populate different structures with L-system solutions at different iterations."
   ]
  },
  {
   "cell_type": "code",
   "execution_count": 8,
   "metadata": {},
   "outputs": [],
   "source": [
    "from pcgsepy.lsystem.lsystem import LSystem"
   ]
  },
  {
   "cell_type": "code",
   "execution_count": 10,
   "metadata": {
    "tags": []
   },
   "outputs": [
    {
     "name": "stdout",
     "output_type": "stream",
     "text": [
      "### HL SOLVER ###\n",
      "Expansion n.1/4; current number of axioms: 1\n",
      "Expansion n.2/4; current number of axioms: 1\n",
      "Expansion n.3/4; current number of axioms: 1\n",
      "Expansion n.4/4; current number of axioms: 2\n",
      "--- AXIOM ---\n",
      " cockpit>>>>>corridor>>>>>corridor>>>>>corridor>>>>>corridor>>>>>corridor>>>>>corridor>>>>>?????RotZcwY[corridor>>>>>thruster]!!!!!\n",
      "--- FINAL CONSTRAINTS CHECK---\n",
      "Constraint required_components (HARD_CONSTRAINT) at END:\tTrue\n",
      "--- AXIOM ---\n",
      " cockpit>>>>>corridor>>>>>-----RotZcwX[corridor>>>>>]+++++corridor>>>>>?????RotZcwY[corridor>>>>>]!!!!!corridor>>>>>corridor>>>>>corridor>>>>>?????RotZcwY[corridor>>>>>]!!!!!\n",
      "--- FINAL CONSTRAINTS CHECK---\n",
      "Constraint required_components (HARD_CONSTRAINT) at END:\tFalse\n",
      "--- AXIOM ---\n",
      " cockpit>>>>>corridor>>>>>corridor>>>>>corridor>>>>>?????RotZcwY[corridor>>>>>]!!!!!corridor>>>>>?????RotZcwY[corridor>>>>>]!!!!!?????RotZcwY[corridor>>>>>thruster]!!!!!\n",
      "--- FINAL CONSTRAINTS CHECK---\n",
      "Constraint required_components (HARD_CONSTRAINT) at END:\tTrue\n",
      "--- AXIOM ---\n",
      " cockpit>>>>>corridor>>>>>corridor>>>>>corridor>>>>>corridor>>>>>corridor>>>>>corridor>>>>>corridor>>>>>-----RotZcwX[corridor>>>>>]+++++\n",
      "--- FINAL CONSTRAINTS CHECK---\n",
      "Constraint required_components (HARD_CONSTRAINT) at END:\tFalse\n",
      "\n",
      "### LL SOLVER ###\n",
      "Expansion n.1/1; current number of axioms: 1\n"
     ]
    },
    {
     "data": {
      "image/png": "[encoded data removed]",
      "text/plain": [
       "<Figure size 432x288 with 1 Axes>"
      ]
     },
     "metadata": {
      "needs_background": "light"
     },
     "output_type": "display_data"
    }
   ],
   "source": [
    "lsystem = LSystem(hl_rules=\"hlrules\", ll_rules=\"llrules\", alphabet=atoms_alphabet)\n",
    "\n",
    "lsystem.add_hl_constraint(\n",
    "    c=ConstraintHandler(\n",
    "        name=\"required_components\",\n",
    "        level=ConstraintLevel.HARD_CONSTRAINT,\n",
    "        when=ConstraintTime.END,\n",
    "        f=components_constraint,\n",
    "    )\n",
    ")\n",
    "\n",
    "# lsystem.add_hl_constraint(\n",
    "#     c=ConstraintHandler(\n",
    "#         name=\"no_intersections\",\n",
    "#         level=ConstraintLevel.HARD_CONSTRAINT,\n",
    "#         when=ConstraintTime.DURING,\n",
    "#         f=intersection_constraint,\n",
    "#     )\n",
    "# )\n",
    "\n",
    "structure = lsystem.apply_rules(\n",
    "    starting_axiom=\"begin\",\n",
    "    structure_dims=(100, 100, 100),\n",
    "    iterations=4,\n",
    "    make_graph=True,\n",
    ")"
   ]
  },
  {
   "cell_type": "markdown",
   "metadata": {},
   "source": [
    "### Game interaction\n",
    "\n",
    "Place structure in-game by updating its position and rotation according to the player."
   ]
  },
  {
   "cell_type": "code",
   "execution_count": null,
   "metadata": {},
   "outputs": [],
   "source": [
    "if False:\n",
    "    base_position, orientation_forward, orientation_up = get_base_values()\n",
    "    # orientation_forward = Orientation.FORWARD\n",
    "    # orientation_up = Orientation.UP\n",
    "    structure.update(\n",
    "        origin=base_position,\n",
    "        orientation_forward=orientation_forward,\n",
    "        orientation_up=orientation_up,\n",
    "    )\n",
    "    toggle_gamemode(GameMode.PLACING)\n",
    "    place_blocks(structure.get_all_blocks(), False)\n",
    "    toggle_gamemode(GameMode.EVALUATING)"
   ]
  },
  {
   "cell_type": "code",
   "execution_count": null,
   "metadata": {},
   "outputs": [],
   "source": [
    "# jsons = [\n",
    "#         generate_json(method=\"Observer.ObserveBlocks\")\n",
    "#         ]\n",
    "# call_api(jsons=jsons)"
   ]
  }
 ],
 "metadata": {
  "interpreter": {
   "hash": "20bab91c9f6d820bcc9168592ada9e5eef44cb7ec9e6ded26baf766bc800a1f4"
  },
  "kernelspec": {
   "display_name": "Python 3 (ipykernel)",
   "language": "python",
   "name": "python3"
  },
  "language_info": {
   "codemirror_mode": {
    "name": "ipython",
    "version": 3
   },
   "file_extension": ".py",
   "mimetype": "text/x-python",
   "name": "python",
   "nbconvert_exporter": "python",
   "pygments_lexer": "ipython3",
   "version": "3.7.11"
  }
 },
 "nbformat": 4,
 "nbformat_minor": 4
}
