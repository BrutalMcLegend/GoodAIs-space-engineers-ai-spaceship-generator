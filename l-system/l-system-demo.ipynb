{
 "cells": [
  {
   "cell_type": "markdown",
   "metadata": {},
   "source": [
    "# L-System for Space Engineers DEMO\n",
    "\n",
    "Uses the `PCGSEPy` library included in this repository.\n",
    "\n",
    "**NOTE**: Have the game *running*; leaving the game simply paused breaks the API (no calls are accepted). *Suggestion*: Use windowed mode, press `Start` after the scenario is loaded and return to this notebook."
   ]
  },
  {
   "cell_type": "markdown",
   "metadata": {},
   "source": [
    "Import Python packages:"
   ]
  },
  {
   "cell_type": "code",
   "execution_count": 1,
   "metadata": {
    "execution": {
     "iopub.execute_input": "2022-02-24T11:43:50.053253Z",
     "iopub.status.busy": "2022-02-24T11:43:50.053253Z",
     "iopub.status.idle": "2022-02-24T11:43:50.280138Z",
     "shell.execute_reply": "2022-02-24T11:43:50.279142Z",
     "shell.execute_reply.started": "2022-02-24T11:43:50.053253Z"
    },
    "tags": []
   },
   "outputs": [],
   "source": [
    "import json\n",
    "import numpy as np"
   ]
  },
  {
   "cell_type": "markdown",
   "metadata": {},
   "source": [
    "GECCO-compatible `matplotlib` options:"
   ]
  },
  {
   "cell_type": "code",
   "execution_count": 2,
   "metadata": {
    "execution": {
     "iopub.execute_input": "2022-02-24T11:43:50.281135Z",
     "iopub.status.busy": "2022-02-24T11:43:50.281135Z",
     "iopub.status.idle": "2022-02-24T11:43:50.586933Z",
     "shell.execute_reply": "2022-02-24T11:43:50.585944Z",
     "shell.execute_reply.started": "2022-02-24T11:43:50.281135Z"
    }
   },
   "outputs": [],
   "source": [
    "import matplotlib\n",
    "\n",
    "matplotlib.rcParams['pdf.fonttype'] = 42\n",
    "matplotlib.rcParams['ps.fonttype'] = 42"
   ]
  },
  {
   "cell_type": "markdown",
   "metadata": {},
   "source": [
    "Import `PCGSEPy` modules:"
   ]
  },
  {
   "cell_type": "code",
   "execution_count": 3,
   "metadata": {
    "execution": {
     "iopub.execute_input": "2022-02-24T11:43:50.591919Z",
     "iopub.status.busy": "2022-02-24T11:43:50.591919Z",
     "iopub.status.idle": "2022-02-24T11:43:51.569250Z",
     "shell.execute_reply": "2022-02-24T11:43:51.568120Z",
     "shell.execute_reply.started": "2022-02-24T11:43:50.591919Z"
    }
   },
   "outputs": [],
   "source": [
    "from pcgsepy.common.api_call import GameMode, get_base_values, toggle_gamemode\n",
    "from pcgsepy.common.vecs import orientation_from_str, Vec \n",
    "from pcgsepy.config import COMMON_ATOMS, HL_ATOMS, N_ITERATIONS, REQ_TILES \n",
    "from pcgsepy.lsystem.rules import RuleMaker, StochasticRules\n",
    "from pcgsepy.lsystem.actions import AtomAction, Rotations\n",
    "from pcgsepy.lsystem.parser import HLParser, LLParser\n",
    "from pcgsepy.lsystem.solver import LSolver\n",
    "from pcgsepy.lsystem.constraints import ConstraintHandler, ConstraintLevel, ConstraintTime\n",
    "from pcgsepy.lsystem.constraints_funcs import components_constraint, intersection_constraint, symmetry_constraint, axis_constraint\n",
    "from pcgsepy.lsystem.lsystem import LSystem\n",
    "from pcgsepy.structure import block_definitions, place_blocks, Structure"
   ]
  },
  {
   "cell_type": "markdown",
   "metadata": {
    "tags": []
   },
   "source": [
    "## Parsing rules\n",
    "\n",
    "Rules are written in the text files (defined in the configuration file) and are then read and validated by the `RuleMaker`. A rule set is then created as a `StochasticRules` object.\n",
    "\n",
    "The `LParser` expands a given axiom using its rule set.\n",
    "\n",
    "**NOTE**: Rules can have multiple characters in the *RHS*, which allows for more complex axioms. Rules are stochastic (i.e.: $LHS \\rightarrow p(RHS | LHS)$); to make a rule deterministic simply use a single $LHS \\rightarrow RHS$ with $p=1.$."
   ]
  },
  {
   "cell_type": "markdown",
   "metadata": {
    "tags": []
   },
   "source": [
    "## Alphabets\n",
    "\n",
    "We define the alphabets used in the L-System.\n",
    "\n",
    "Strings used as high-level structure:\n",
    "- `cockpit`\n",
    "- `engine`\n",
    "- `corridor`\n",
    "- `thruster`\n",
    "- etc...\n",
    "\n",
    "Strings used to define blocks:\n",
    "- *See `block_definitions.json` for a full list*.\n",
    "\n",
    "Strings used to define rotation commands:\n",
    "- `rotXcwY`: Clockwise rotation from X to Y\n",
    "- `rotXcwZ`: Clockwise rotation from X to Z\n",
    "- `rotYcwX`: Clockwise rotation from Y to X \n",
    "- `rotYcwZ`: Clockwise rotation from Y to Z \n",
    "- `rotZcwX`: Clockwise rotation from Z to X \n",
    "- `rotZcwY`: Clockwise rotation from Z to Y \n",
    "- `rotXccwY`: Counter-clockwise rotation from X to Y \n",
    "- `rotXccwZ`: Counter-clockwise rotation from X to Z  \n",
    "- `rotYccwX`: Counter-clockwise rotation from Y to X  \n",
    "- `rotYccwZ`: Counter-clockwise rotation from Y to Z  \n",
    "- `rotZccwX`: Counter-clockwise rotation from Z to X  \n",
    "- `rotZccwY`: Counter-clockwise rotation from Z to Y   \n",
    "\n",
    "Characters used as actions:\n",
    "- `[` and `]`]: Push and pop current coordinate\n",
    "- `+`: Move forward along `x`\n",
    "- `-`: Move backward along `x`\n",
    "- `!`: Move forward along `y`\n",
    "- `?`: Move backward along `y`\n",
    "- `>`: Move forward along `z`\n",
    "- `<`: Move backward along `z`\n",
    "\n",
    "We first have the alphabet comprised of common atoms."
   ]
  },
  {
   "cell_type": "code",
   "execution_count": 4,
   "metadata": {
    "execution": {
     "iopub.execute_input": "2022-02-24T11:43:51.571877Z",
     "iopub.status.busy": "2022-02-24T11:43:51.570844Z",
     "iopub.status.idle": "2022-02-24T11:43:51.592679Z",
     "shell.execute_reply": "2022-02-24T11:43:51.591531Z",
     "shell.execute_reply.started": "2022-02-24T11:43:51.571877Z"
    },
    "tags": []
   },
   "outputs": [],
   "source": [
    "with open(COMMON_ATOMS, \"r\") as f:\n",
    "    common_alphabet = json.load(f)\n",
    "\n",
    "for k in common_alphabet:\n",
    "    action, args = common_alphabet[k][\"action\"], common_alphabet[k][\"args\"]\n",
    "    action = AtomAction(action)\n",
    "    if action == AtomAction.MOVE:\n",
    "        args = orientation_from_str[args]\n",
    "    elif action == AtomAction.ROTATE:\n",
    "        args = Rotations(args)\n",
    "    common_alphabet[k] = {\"action\": action, \"args\": args}"
   ]
  },
  {
   "cell_type": "markdown",
   "metadata": {},
   "source": [
    "Then the alphabet with high-level atoms is loaded, providing also the dimension of each atom in a high-level structure.\n",
    "\n",
    "We also define the offset of each atom. This is used when realigning the high-level structure for a rotation with the previous high-level structure."
   ]
  },
  {
   "cell_type": "code",
   "execution_count": 5,
   "metadata": {
    "execution": {
     "iopub.execute_input": "2022-02-24T11:43:51.595639Z",
     "iopub.status.busy": "2022-02-24T11:43:51.594908Z",
     "iopub.status.idle": "2022-02-24T11:43:51.616829Z",
     "shell.execute_reply": "2022-02-24T11:43:51.615829Z",
     "shell.execute_reply.started": "2022-02-24T11:43:51.594908Z"
    }
   },
   "outputs": [],
   "source": [
    "with open(HL_ATOMS, \"r\") as f:\n",
    "    hl_atoms = json.load(f)\n",
    "\n",
    "tiles_dimensions = {}\n",
    "tiles_block_offset = {}\n",
    "for tile in hl_atoms.keys():\n",
    "    dx, dy, dz = hl_atoms[tile][\"dimensions\"]\n",
    "    tiles_dimensions[tile] = Vec.v3i(dx, dy, dz)\n",
    "    tiles_block_offset[tile] = hl_atoms[tile][\"offset\"]\n",
    "\n",
    "hl_alphabet = {}\n",
    "for k in common_alphabet.keys():\n",
    "    hl_alphabet[k] = common_alphabet[k]\n",
    "\n",
    "for hk in hl_atoms.keys():\n",
    "    hl_alphabet[hk] = {\"action\": AtomAction.PLACE, \"args\": []}"
   ]
  },
  {
   "cell_type": "markdown",
   "metadata": {},
   "source": [
    "And then the alphabet of low-level atoms is loaded."
   ]
  },
  {
   "cell_type": "code",
   "execution_count": 6,
   "metadata": {
    "execution": {
     "iopub.execute_input": "2022-02-24T11:43:51.618891Z",
     "iopub.status.busy": "2022-02-24T11:43:51.618891Z",
     "iopub.status.idle": "2022-02-24T11:43:51.632098Z",
     "shell.execute_reply": "2022-02-24T11:43:51.631100Z",
     "shell.execute_reply.started": "2022-02-24T11:43:51.618891Z"
    }
   },
   "outputs": [],
   "source": [
    "ll_alphabet = {}\n",
    "\n",
    "for k in common_alphabet.keys():\n",
    "    ll_alphabet[k] = common_alphabet[k]\n",
    "\n",
    "for k in block_definitions.keys():\n",
    "    if k != \"\":  # TODO: This is a probable bug, reported to the SE API devs\n",
    "        ll_alphabet[k] = {\"action\": AtomAction.PLACE, \"args\": [k]}"
   ]
  },
  {
   "cell_type": "markdown",
   "metadata": {
    "tags": []
   },
   "source": [
    "## Solver class\n",
    "\n",
    "The `Solver` can both solve for a given axiom and fill a `Structure` with an axiom."
   ]
  },
  {
   "cell_type": "code",
   "execution_count": 7,
   "metadata": {
    "execution": {
     "iopub.execute_input": "2022-02-24T11:43:51.634122Z",
     "iopub.status.busy": "2022-02-24T11:43:51.633095Z",
     "iopub.status.idle": "2022-02-24T11:43:51.653675Z",
     "shell.execute_reply": "2022-02-24T11:43:51.653032Z",
     "shell.execute_reply.started": "2022-02-24T11:43:51.634122Z"
    }
   },
   "outputs": [],
   "source": [
    "hl_rules = RuleMaker(ruleset='hlrules').get_rules()\n",
    "ll_rules = RuleMaker(ruleset='llrules').get_rules()\n",
    "\n",
    "hl_parser = HLParser(rules=hl_rules)\n",
    "ll_parser = LLParser(rules=ll_rules)\n",
    "\n",
    "hl_solver = LSolver(parser=hl_parser,\n",
    "                    atoms_alphabet=hl_alphabet,\n",
    "                    extra_args={\n",
    "                        'tiles_dimensions': tiles_dimensions,\n",
    "                        'tiles_block_offset': tiles_block_offset,\n",
    "                        'll_rules': ll_rules\n",
    "                    })\n",
    "ll_solver = LSolver(parser=ll_parser,\n",
    "                    atoms_alphabet=dict(hl_alphabet, **ll_alphabet),\n",
    "                    extra_args={})"
   ]
  },
  {
   "cell_type": "markdown",
   "metadata": {},
   "source": [
    "## Constraints\n",
    "\n",
    "Constraints are `ConstraintHandler` objects with a constraint function defined in the `pcgsepy.lsystem.constraints_funcs` module. Each of these constraints must always return a `bool` (`True` if the constraint is satisfied, `False` otherwise).\n",
    "\n",
    "Additional parameters for the constraints can be defined by adding the parameter to the `extra_args` dictionary of the `ConstraintHandler` object after initialization."
   ]
  },
  {
   "cell_type": "code",
   "execution_count": 8,
   "metadata": {
    "execution": {
     "iopub.execute_input": "2022-02-24T11:43:51.655877Z",
     "iopub.status.busy": "2022-02-24T11:43:51.654672Z",
     "iopub.status.idle": "2022-02-24T11:43:51.667475Z",
     "shell.execute_reply": "2022-02-24T11:43:51.667475Z",
     "shell.execute_reply.started": "2022-02-24T11:43:51.655877Z"
    }
   },
   "outputs": [],
   "source": [
    "rcc1 = ConstraintHandler(\n",
    "    name=\"required_components\",\n",
    "    level=ConstraintLevel.HARD_CONSTRAINT,\n",
    "    when=ConstraintTime.END,\n",
    "    f=components_constraint,\n",
    "    extra_args={\n",
    "        'alphabet': hl_alphabet\n",
    "    }\n",
    ")\n",
    "rcc1.extra_args[\"req_tiles\"] = ['cockpit']\n",
    "\n",
    "rcc2 = ConstraintHandler(\n",
    "    name=\"required_components\",\n",
    "    level=ConstraintLevel.HARD_CONSTRAINT,\n",
    "    when=ConstraintTime.END,\n",
    "    f=components_constraint,\n",
    "    extra_args={\n",
    "        'alphabet': hl_alphabet\n",
    "    }\n",
    ")\n",
    "rcc2.extra_args[\"req_tiles\"] = ['corridorcargo', 'corridorgyros', 'corridorreactors']\n",
    "\n",
    "rcc3 = ConstraintHandler(\n",
    "    name=\"required_components\",\n",
    "    level=ConstraintLevel.HARD_CONSTRAINT,\n",
    "    when=ConstraintTime.END,\n",
    "    f=components_constraint,\n",
    "    extra_args={\n",
    "        'alphabet': hl_alphabet\n",
    "    }\n",
    ")\n",
    "rcc3.extra_args[\"req_tiles\"] = ['thrusters']\n",
    "\n",
    "nic = ConstraintHandler(\n",
    "    name=\"no_intersections\",\n",
    "    level=ConstraintLevel.HARD_CONSTRAINT,\n",
    "    when=ConstraintTime.DURING,\n",
    "    f=intersection_constraint,\n",
    "    extra_args={\n",
    "        'alphabet': dict(hl_alphabet, **ll_alphabet)\n",
    "    },\n",
    "    needs_ll=True\n",
    ")\n",
    "nic.extra_args[\"tiles_dimensions\"] = tiles_dimensions\n",
    "\n",
    "sc = ConstraintHandler(\n",
    "    name=\"symmetry\",\n",
    "    level=ConstraintLevel.SOFT_CONSTRAINT,\n",
    "    when=ConstraintTime.END,\n",
    "    f=symmetry_constraint,\n",
    "    extra_args={\n",
    "        'alphabet': dict(hl_alphabet, **ll_alphabet)\n",
    "    }\n",
    ")\n",
    "\n",
    "ax = ConstraintHandler(\n",
    "    name=\"axis1\",\n",
    "    level=ConstraintLevel.SOFT_CONSTRAINT,\n",
    "    when=ConstraintTime.END,\n",
    "    f=axis_constraint,\n",
    "    extra_args={\n",
    "        'alphabet': dict(hl_alphabet, **ll_alphabet)\n",
    "    },\n",
    "    needs_ll=True\n",
    ")\n",
    "\n",
    "# wopc = ConstraintHandler(\n",
    "#     name=\"wheels_on_plane\",\n",
    "#     level=ConstraintLevel.SOFT_CONSTRAINT,\n",
    "#     when=ConstraintTime.END,\n",
    "#     f=wheels_plane_constraint,\n",
    "#     extra_args={\n",
    "#         'alphabet': dict(hl_alphabet, **ll_alphabet)\n",
    "#     }\n",
    "# )"
   ]
  },
  {
   "cell_type": "markdown",
   "metadata": {
    "tags": []
   },
   "source": [
    "## L-System\n",
    "\n",
    "The `LSystem` populates different structures with L-system solutions at different iterations."
   ]
  },
  {
   "cell_type": "code",
   "execution_count": 9,
   "metadata": {
    "execution": {
     "iopub.execute_input": "2022-02-24T11:43:51.669471Z",
     "iopub.status.busy": "2022-02-24T11:43:51.668473Z",
     "iopub.status.idle": "2022-02-24T11:43:51.678626Z",
     "shell.execute_reply": "2022-02-24T11:43:51.677663Z",
     "shell.execute_reply.started": "2022-02-24T11:43:51.669471Z"
    },
    "tags": []
   },
   "outputs": [],
   "source": [
    "import logging\n",
    "\n",
    "logging.basicConfig()\n",
    "logger = logging.getLogger('base-logger')\n",
    "logger.setLevel(logging.INFO)"
   ]
  },
  {
   "cell_type": "code",
   "execution_count": 10,
   "metadata": {
    "execution": {
     "iopub.execute_input": "2022-02-24T11:43:51.679090Z",
     "iopub.status.busy": "2022-02-24T11:43:51.679090Z",
     "iopub.status.idle": "2022-02-24T11:43:51.693235Z",
     "shell.execute_reply": "2022-02-24T11:43:51.692206Z",
     "shell.execute_reply.started": "2022-02-24T11:43:51.679090Z"
    },
    "tags": []
   },
   "outputs": [],
   "source": [
    "lsystem = LSystem(\n",
    "    hl_solver=hl_solver,\n",
    "    ll_solver=ll_solver,\n",
    "    names=['HeadModule', 'BodyModule', 'TailModule']\n",
    ")"
   ]
  },
  {
   "cell_type": "markdown",
   "metadata": {},
   "source": [
    "We add the constraints to the `LSystem` at the correct abstraction level."
   ]
  },
  {
   "cell_type": "code",
   "execution_count": 11,
   "metadata": {
    "execution": {
     "iopub.execute_input": "2022-02-24T11:43:51.694631Z",
     "iopub.status.busy": "2022-02-24T11:43:51.693605Z",
     "iopub.status.idle": "2022-02-24T11:43:51.717920Z",
     "shell.execute_reply": "2022-02-24T11:43:51.716922Z",
     "shell.execute_reply.started": "2022-02-24T11:43:51.694631Z"
    },
    "tags": []
   },
   "outputs": [],
   "source": [
    "lsystem.add_hl_constraints(cs=[\n",
    "    [nic, rcc1],\n",
    "    [nic, rcc2, ax],\n",
    "    [nic, rcc3]\n",
    "])\n",
    "\n",
    "lsystem.add_ll_constraints(cs=[\n",
    "    [sc],\n",
    "    [sc],\n",
    "    [sc]\n",
    "])"
   ]
  },
  {
   "cell_type": "markdown",
   "metadata": {},
   "source": [
    "We can run the L-System for a fixed number of iterations and obtain a candidate (high-level and low-level) axiom solution."
   ]
  },
  {
   "cell_type": "code",
   "execution_count": 12,
   "metadata": {
    "execution": {
     "iopub.execute_input": "2022-02-24T11:43:51.721355Z",
     "iopub.status.busy": "2022-02-24T11:43:51.721355Z",
     "iopub.status.idle": "2022-02-24T11:43:52.922222Z",
     "shell.execute_reply": "2022-02-24T11:43:52.921091Z",
     "shell.execute_reply.started": "2022-02-24T11:43:51.721355Z"
    }
   },
   "outputs": [],
   "source": [
    "from pcgsepy.lsystem.structure_maker import LLStructureMaker\n",
    "from pcgsepy.common.vecs import Orientation\n",
    "from pcgsepy.structure import Structure\n",
    "import numpy as np\n",
    "from pcgsepy.evo.fitness import futo_es, tovo_es, mame_es, mami_es, futo_max, tovo_max, mame_max, mami_max\n",
    "from pcgsepy.config import USE_BBOX, BBOX_X, BBOX_Y, BBOX_Z, EXP_NAME\n",
    "from pcgsepy.lsystem.solution import CandidateSolution\n",
    "\n",
    "\n",
    "def save_stats(solution: CandidateSolution) -> None:\n",
    "    ml_string = lsystem.hl_solver.translator.transform(string=solution.string)\n",
    "    ll_solution = lsystem.ll_solver.solve(string=ml_string,\n",
    "                                          iterations=1,\n",
    "                                          strings_per_iteration=1,\n",
    "                                          check_sat=False)[0]\n",
    "\n",
    "    base_position, orientation_forward, orientation_up = Vec.v3i(\n",
    "                0, 0, 0), Orientation.FORWARD.value, Orientation.UP.value\n",
    "    structure = Structure(origin=base_position,\n",
    "                          orientation_forward=orientation_forward,\n",
    "                          orientation_up=orientation_up)\n",
    "    structure = LLStructureMaker(\n",
    "        atoms_alphabet=lsystem.ll_solver.atoms_alphabet,\n",
    "        position=base_position).fill_structure(structure=structure,\n",
    "                                               string=ll_solution.string)\n",
    "    structure.sanify()\n",
    "\n",
    "    x, y, z = structure.as_array().shape\n",
    "    bbox = (BBOX_X - abs(BBOX_X - x)) / BBOX_X\n",
    "    bbox *= (BBOX_Y - abs(BBOX_Y - y)) / BBOX_Y\n",
    "    bbox *= (BBOX_Z - abs(BBOX_Z - z)) / BBOX_Z\n",
    "    bbox /= 3\n",
    "\n",
    "    functional_blocks_volume, filled_volume = 0., 0.\n",
    "    for b in structure.get_all_blocks():\n",
    "        if not b.block_type.startswith('MyObjectBuilder_CubeBlock_'):\n",
    "            functional_blocks_volume += b.volume\n",
    "        filled_volume += b.volume\n",
    "\n",
    "    total_volume = structure.as_array().shape\n",
    "    total_volume = total_volume[0] * total_volume[1] * total_volume[2]\n",
    "\n",
    "    futo = functional_blocks_volume / (functional_blocks_volume + filled_volume)\n",
    "    tovo = (functional_blocks_volume + filled_volume) / total_volume\n",
    "    volume = functional_blocks_volume + filled_volume\n",
    "\n",
    "    total_volume = structure.as_array().shape\n",
    "    largest_axis, medium_axis, smallest_axis = reversed(sorted(list(total_volume)))\n",
    "    mame = largest_axis / medium_axis\n",
    "    mami = largest_axis / smallest_axis\n",
    "\n",
    "    with open(f'{EXP_NAME}_atoms.log', 'a') as f:\n",
    "        f.write(f'\\n\\n{solution.string}')\n",
    "        f.write(f'\\nVolume: {volume}')\n",
    "        f.write(f'\\nBBox: {(x, y, z)} ({bbox})')\n",
    "        f.write(f'\\nFunctional blocks / total blocks = {futo} ({futo_es.evaluate(futo) / futo_max})')\n",
    "        f.write(f'\\nFilled volume / total volume = {tovo} ({tovo_es.evaluate(tovo) / tovo_max})')\n",
    "        f.write(f'\\nLargest axis / Medium axis = {mame} ({mame_es.evaluate(mame) / mame_max})')\n",
    "        f.write(f'\\nLargest axis / Medium axis = {mami} ({mami_es.evaluate(mami)/ mami_max})')"
   ]
  },
  {
   "cell_type": "code",
   "execution_count": 13,
   "metadata": {
    "execution": {
     "iopub.execute_input": "2022-02-24T11:43:52.925874Z",
     "iopub.status.busy": "2022-02-24T11:43:52.924883Z",
     "iopub.status.idle": "2022-02-24T11:44:23.979950Z",
     "shell.execute_reply": "2022-02-24T11:44:23.979950Z",
     "shell.execute_reply.started": "2022-02-24T11:43:52.924883Z"
    },
    "tags": []
   },
   "outputs": [
    {
     "name": "stderr",
     "output_type": "stream",
     "text": [
      "INFO:base-logger:[HeadModule] Started high level solving...\n",
      "INFO:base-logger:Expansion n.1/1; current number of strings: 1\n",
      "INFO:base-logger:[HeadModule] Started low level solving...\n",
      "INFO:base-logger:Expansion n.1/1; current number of strings: 1\n",
      "INFO:base-logger:[BodyModule] Started high level solving...\n",
      "INFO:base-logger:Expansion n.1/5; current number of strings: 1\n",
      "INFO:base-logger:Expansion n.2/5; current number of strings: 2\n",
      "INFO:base-logger:Expansion n.3/5; current number of strings: 3\n",
      "INFO:base-logger:Expansion n.4/5; current number of strings: 6\n",
      "INFO:base-logger:Expansion n.5/5; current number of strings: 10\n",
      "INFO:base-logger:[BodyModule] Started low level solving...\n",
      "INFO:base-logger:Expansion n.1/1; current number of strings: 1\n",
      "INFO:base-logger:Expansion n.1/1; current number of strings: 1\n",
      "INFO:base-logger:[TailModule] Started high level solving...\n",
      "INFO:base-logger:Expansion n.1/1; current number of strings: 1\n",
      "INFO:base-logger:[TailModule] Started low level solving...\n",
      "INFO:base-logger:Expansion n.1/1; current number of strings: 1\n",
      "INFO:base-logger:Expansion n.1/1; current number of strings: 1\n",
      "INFO:base-logger:Expansion n.1/1; current number of strings: 1\n",
      "INFO:base-logger:Expansion n.1/1; current number of strings: 1\n",
      "INFO:base-logger:Expansion n.1/1; current number of strings: 1\n"
     ]
    }
   ],
   "source": [
    "from tqdm.notebook import trange\n",
    "\n",
    "from pcgsepy.config import N_RUNS\n",
    "\n",
    "generated = 0\n",
    "\n",
    "while generated < N_RUNS:\n",
    "    solutions = lsystem.apply_rules(\n",
    "        starting_strings=[\n",
    "            'head',\n",
    "            'body',\n",
    "            'tail'\n",
    "        ],\n",
    "        iterations=[\n",
    "            1,\n",
    "            N_ITERATIONS,\n",
    "            1\n",
    "        ],\n",
    "        create_structures=True,\n",
    "        make_graph=False,\n",
    "    )\n",
    "    for solution in solutions:\n",
    "        save_stats(solution)\n",
    "        generated += 1"
   ]
  },
  {
   "cell_type": "markdown",
   "metadata": {
    "tags": []
   },
   "source": [
    "# Game interaction\n",
    "\n",
    "Place structure in-game by updating its position and rotation according to the player."
   ]
  },
  {
   "cell_type": "code",
   "execution_count": 14,
   "metadata": {
    "execution": {
     "iopub.execute_input": "2022-02-24T11:44:23.979950Z",
     "iopub.status.busy": "2022-02-24T11:44:23.979950Z",
     "iopub.status.idle": "2022-02-24T11:44:24.000321Z",
     "shell.execute_reply": "2022-02-24T11:44:23.999321Z",
     "shell.execute_reply.started": "2022-02-24T11:44:23.979950Z"
    },
    "tags": []
   },
   "outputs": [],
   "source": [
    "do_place_blocks = False\n",
    "to_spawn = solutions[1].content"
   ]
  },
  {
   "cell_type": "code",
   "execution_count": 15,
   "metadata": {
    "execution": {
     "iopub.execute_input": "2022-02-24T11:44:24.004586Z",
     "iopub.status.busy": "2022-02-24T11:44:24.003199Z",
     "iopub.status.idle": "2022-02-24T11:44:24.015056Z",
     "shell.execute_reply": "2022-02-24T11:44:24.014024Z",
     "shell.execute_reply.started": "2022-02-24T11:44:24.004196Z"
    },
    "tags": []
   },
   "outputs": [],
   "source": [
    "if do_place_blocks:\n",
    "    base_position, orientation_forward, orientation_up = get_base_values()\n",
    "    to_spawn.update(\n",
    "        origin=base_position,\n",
    "        orientation_forward=orientation_forward,\n",
    "        orientation_up=orientation_up,\n",
    "    )\n",
    "    toggle_gamemode(GameMode.PLACING)\n",
    "    place_blocks(to_spawn.get_all_blocks(), False)\n",
    "    toggle_gamemode(GameMode.EVALUATING)"
   ]
  }
 ],
 "metadata": {
  "interpreter": {
   "hash": "20bab91c9f6d820bcc9168592ada9e5eef44cb7ec9e6ded26baf766bc800a1f4"
  },
  "kernelspec": {
   "display_name": "Python 3 (ipykernel)",
   "language": "python",
   "name": "python3"
  },
  "language_info": {
   "codemirror_mode": {
    "name": "ipython",
    "version": 3
   },
   "file_extension": ".py",
   "mimetype": "text/x-python",
   "name": "python",
   "nbconvert_exporter": "python",
   "pygments_lexer": "ipython3",
   "version": "3.8.12"
  },
  "toc-autonumbering": true,
  "toc-showcode": false,
  "toc-showmarkdowntxt": false,
  "toc-showtags": false
 },
 "nbformat": 4,
 "nbformat_minor": 4
}
