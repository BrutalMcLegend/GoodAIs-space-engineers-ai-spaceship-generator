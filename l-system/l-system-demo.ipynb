{
 "cells": [
  {
   "cell_type": "markdown",
   "metadata": {
    "tags": []
   },
   "source": [
    "# L-System for Space Engineers DEMO\n",
    "\n",
    "Uses the `PCGSEPy` library included in this repository.\n",
    "\n",
    "**NOTE**: Have the game *running*; leaving the game simply paused breaks the API (no calls are accepted). *Suggestion*: Use windowed mode, press `Start` after the scenario is loaded and return to this notebook."
   ]
  },
  {
   "cell_type": "markdown",
   "metadata": {},
   "source": [
    "Import Python packages:"
   ]
  },
  {
   "cell_type": "code",
   "execution_count": 63,
   "metadata": {
    "execution": {
     "iopub.execute_input": "2022-01-06T13:53:09.900495Z",
     "iopub.status.busy": "2022-01-06T13:53:09.900495Z",
     "iopub.status.idle": "2022-01-06T13:53:09.913554Z",
     "shell.execute_reply": "2022-01-06T13:53:09.913554Z",
     "shell.execute_reply.started": "2022-01-06T13:53:09.900495Z"
    },
    "tags": []
   },
   "outputs": [],
   "source": [
    "import json"
   ]
  },
  {
   "cell_type": "markdown",
   "metadata": {},
   "source": [
    "GECCO-compatible `matplotlib` options:"
   ]
  },
  {
   "cell_type": "code",
   "execution_count": 64,
   "metadata": {
    "execution": {
     "iopub.execute_input": "2022-01-06T13:53:09.916688Z",
     "iopub.status.busy": "2022-01-06T13:53:09.916688Z",
     "iopub.status.idle": "2022-01-06T13:53:09.930116Z",
     "shell.execute_reply": "2022-01-06T13:53:09.929422Z",
     "shell.execute_reply.started": "2022-01-06T13:53:09.916688Z"
    }
   },
   "outputs": [],
   "source": [
    "import matplotlib\n",
    "\n",
    "matplotlib.rcParams['pdf.fonttype'] = 42\n",
    "matplotlib.rcParams['ps.fonttype'] = 42"
   ]
  },
  {
   "cell_type": "markdown",
   "metadata": {},
   "source": [
    "Import `PCGSEPy` modules:"
   ]
  },
  {
   "cell_type": "code",
   "execution_count": 65,
   "metadata": {
    "execution": {
     "iopub.execute_input": "2022-01-06T13:53:09.931385Z",
     "iopub.status.busy": "2022-01-06T13:53:09.931385Z",
     "iopub.status.idle": "2022-01-06T13:53:09.946373Z",
     "shell.execute_reply": "2022-01-06T13:53:09.945380Z",
     "shell.execute_reply.started": "2022-01-06T13:53:09.931385Z"
    }
   },
   "outputs": [],
   "source": [
    "from pcgsepy.common.api_call import GameMode, get_base_values, toggle_gamemode\n",
    "from pcgsepy.common.vecs import orientation_from_str, Vec \n",
    "from pcgsepy.config import COMMON_ATOMS, HL_ATOMS, N_ITERATIONS, REQ_TILES \n",
    "from pcgsepy.lsystem.rules import RuleMaker, StochasticRules\n",
    "from pcgsepy.lsystem.actions import AtomAction, Rotations\n",
    "from pcgsepy.lsystem.parser import HLParser, LLParser\n",
    "from pcgsepy.lsystem.solver import LSolver\n",
    "from pcgsepy.lsystem.constraints import ConstraintHandler, ConstraintLevel, ConstraintTime\n",
    "from pcgsepy.lsystem.constraints_funcs import components_constraint, intersection_constraint, symmetry_constraint, wheels_plane_constraint\n",
    "from pcgsepy.lsystem.lsystem import LSystem\n",
    "from pcgsepy.structure import block_definitions, place_blocks, Structure"
   ]
  },
  {
   "cell_type": "markdown",
   "metadata": {
    "tags": []
   },
   "source": [
    "## Parsing rules\n",
    "\n",
    "Rules are written in the text files (defined in the configuration file) and are then read and validated by the `RuleMaker`. A rule set is then created as a `StochasticRules` object.\n",
    "\n",
    "The `LParser` expands a given axiom using its rule set.\n",
    "\n",
    "**NOTE**: Rules can have multiple characters in the *RHS*, which allows for more complex axioms. Rules are stochastic (i.e.: $LHS \\rightarrow p(RHS | LHS)$); to make a rule deterministic simply use a single $LHS \\rightarrow RHS$ with $p=1.$."
   ]
  },
  {
   "cell_type": "markdown",
   "metadata": {
    "tags": []
   },
   "source": [
    "## Alphabets\n",
    "\n",
    "We define the alphabets used in the L-System.\n",
    "\n",
    "Strings used as high-level structure:\n",
    "- `cockpit`\n",
    "- `engine`\n",
    "- `corridor`\n",
    "- `thruster`\n",
    "- etc...\n",
    "\n",
    "Strings used to define blocks:\n",
    "- *See `block_definitions.json` for a full list*.\n",
    "\n",
    "Strings used to define rotation commands:\n",
    "- `rotXcwY`: Clockwise rotation from X to Y\n",
    "- `rotXcwZ`: Clockwise rotation from X to Z\n",
    "- `rotYcwX`: Clockwise rotation from Y to X \n",
    "- `rotYcwZ`: Clockwise rotation from Y to Z \n",
    "- `rotZcwX`: Clockwise rotation from Z to X \n",
    "- `rotZcwY`: Clockwise rotation from Z to Y \n",
    "- `rotXccwY`: Counter-clockwise rotation from X to Y \n",
    "- `rotXccwZ`: Counter-clockwise rotation from X to Z  \n",
    "- `rotYccwX`: Counter-clockwise rotation from Y to X  \n",
    "- `rotYccwZ`: Counter-clockwise rotation from Y to Z  \n",
    "- `rotZccwX`: Counter-clockwise rotation from Z to X  \n",
    "- `rotZccwY`: Counter-clockwise rotation from Z to Y   \n",
    "\n",
    "Characters used as actions:\n",
    "- `[` and `]`]: Push and pop current coordinate\n",
    "- `+`: Move forward along `x`\n",
    "- `-`: Move backward along `x`\n",
    "- `!`: Move forward along `y`\n",
    "- `?`: Move backward along `y`\n",
    "- `>`: Move forward along `z`\n",
    "- `<`: Move backward along `z`\n",
    "\n",
    "We first have the alphabet comprised of common atoms."
   ]
  },
  {
   "cell_type": "code",
   "execution_count": 66,
   "metadata": {
    "execution": {
     "iopub.execute_input": "2022-01-06T13:53:09.948369Z",
     "iopub.status.busy": "2022-01-06T13:53:09.948124Z",
     "iopub.status.idle": "2022-01-06T13:53:09.962331Z",
     "shell.execute_reply": "2022-01-06T13:53:09.961337Z",
     "shell.execute_reply.started": "2022-01-06T13:53:09.948369Z"
    },
    "tags": []
   },
   "outputs": [],
   "source": [
    "with open(COMMON_ATOMS, \"r\") as f:\n",
    "    common_alphabet = json.load(f)\n",
    "\n",
    "for k in common_alphabet:\n",
    "    action, args = common_alphabet[k][\"action\"], common_alphabet[k][\"args\"]\n",
    "    action = AtomAction(action)\n",
    "    if action == AtomAction.MOVE:\n",
    "        args = orientation_from_str[args]\n",
    "    elif action == AtomAction.ROTATE:\n",
    "        args = Rotations(args)\n",
    "    common_alphabet[k] = {\"action\": action, \"args\": args}"
   ]
  },
  {
   "cell_type": "markdown",
   "metadata": {},
   "source": [
    "Then the alphabet with high-level atoms is loaded, providing also the dimension of each atom in a high-level structure.\n",
    "\n",
    "We also define the offset of each atom. This is used when realigning the high-level structure for a rotation with the previous high-level structure."
   ]
  },
  {
   "cell_type": "code",
   "execution_count": 67,
   "metadata": {
    "execution": {
     "iopub.execute_input": "2022-01-06T13:53:09.966322Z",
     "iopub.status.busy": "2022-01-06T13:53:09.965328Z",
     "iopub.status.idle": "2022-01-06T13:53:09.978260Z",
     "shell.execute_reply": "2022-01-06T13:53:09.977040Z",
     "shell.execute_reply.started": "2022-01-06T13:53:09.966322Z"
    }
   },
   "outputs": [],
   "source": [
    "with open(HL_ATOMS, \"r\") as f:\n",
    "    hl_atoms = json.load(f)\n",
    "\n",
    "tiles_dimensions = {}\n",
    "tiles_block_offset = {}\n",
    "for tile in hl_atoms.keys():\n",
    "    dx, dy, dz = hl_atoms[tile][\"dimensions\"]\n",
    "    tiles_dimensions[tile] = Vec.v3i(dx, dy, dz)\n",
    "    tiles_block_offset[tile] = hl_atoms[tile][\"offset\"]\n",
    "\n",
    "hl_alphabet = {}\n",
    "for k in common_alphabet.keys():\n",
    "    hl_alphabet[k] = common_alphabet[k]\n",
    "\n",
    "for hk in hl_atoms.keys():\n",
    "    hl_alphabet[hk] = {\"action\": AtomAction.PLACE, \"args\": []}"
   ]
  },
  {
   "cell_type": "markdown",
   "metadata": {},
   "source": [
    "And then the alphabet of low-level atoms is loaded."
   ]
  },
  {
   "cell_type": "code",
   "execution_count": 68,
   "metadata": {
    "execution": {
     "iopub.execute_input": "2022-01-06T13:53:09.980283Z",
     "iopub.status.busy": "2022-01-06T13:53:09.979255Z",
     "iopub.status.idle": "2022-01-06T13:53:09.993252Z",
     "shell.execute_reply": "2022-01-06T13:53:09.992257Z",
     "shell.execute_reply.started": "2022-01-06T13:53:09.980283Z"
    }
   },
   "outputs": [],
   "source": [
    "ll_alphabet = {}\n",
    "\n",
    "for k in common_alphabet.keys():\n",
    "    ll_alphabet[k] = common_alphabet[k]\n",
    "\n",
    "for k in block_definitions.keys():\n",
    "    if k != \"\":  # TODO: This is a probable bug, reported to the SE API devs\n",
    "        ll_alphabet[k] = {\"action\": AtomAction.PLACE, \"args\": [k]}"
   ]
  },
  {
   "cell_type": "markdown",
   "metadata": {
    "tags": []
   },
   "source": [
    "## Solver class\n",
    "\n",
    "The `Solver` can both solve for a given axiom and fill a `Structure` with an axiom."
   ]
  },
  {
   "cell_type": "code",
   "execution_count": 69,
   "metadata": {
    "execution": {
     "iopub.execute_input": "2022-01-06T13:53:09.995243Z",
     "iopub.status.busy": "2022-01-06T13:53:09.994250Z",
     "iopub.status.idle": "2022-01-06T13:53:10.008208Z",
     "shell.execute_reply": "2022-01-06T13:53:10.008208Z",
     "shell.execute_reply.started": "2022-01-06T13:53:09.995243Z"
    }
   },
   "outputs": [],
   "source": [
    "hl_rules = RuleMaker(ruleset='hlrules').get_rules()\n",
    "ll_rules = RuleMaker(ruleset='llrules').get_rules()\n",
    "\n",
    "hl_parser = HLParser(rules=hl_rules)\n",
    "ll_parser = LLParser(rules=ll_rules)\n",
    "\n",
    "hl_solver = LSolver(parser=hl_parser,\n",
    "                    atoms_alphabet=hl_alphabet,\n",
    "                    extra_args={\n",
    "                        'tiles_dimensions': tiles_dimensions,\n",
    "                        'tiles_block_offset': tiles_block_offset,\n",
    "                        'll_rules': ll_rules\n",
    "                    })\n",
    "ll_solver = LSolver(parser=ll_parser,\n",
    "                    atoms_alphabet=dict(hl_alphabet, **ll_alphabet),\n",
    "                    extra_args={})"
   ]
  },
  {
   "cell_type": "markdown",
   "metadata": {},
   "source": [
    "## Constraints\n",
    "\n",
    "Constraints are `ConstraintHandler` objects with a constraint function defined in the `pcgsepy.lsystem.constraints_funcs` module. Each of these constraints must always return a `bool` (`True` if the constraint is satisfied, `False` otherwise).\n",
    "\n",
    "Additional parameters for the constraints can be defined by adding the parameter to the `extra_args` dictionary of the `ConstraintHandler` object after initialization."
   ]
  },
  {
   "cell_type": "code",
   "execution_count": 70,
   "metadata": {
    "execution": {
     "iopub.execute_input": "2022-01-06T13:53:10.011200Z",
     "iopub.status.busy": "2022-01-06T13:53:10.011200Z",
     "iopub.status.idle": "2022-01-06T13:53:10.025132Z",
     "shell.execute_reply": "2022-01-06T13:53:10.024164Z",
     "shell.execute_reply.started": "2022-01-06T13:53:10.011200Z"
    }
   },
   "outputs": [],
   "source": [
    "rcc1 = ConstraintHandler(\n",
    "    name=\"required_components\",\n",
    "    level=ConstraintLevel.HARD_CONSTRAINT,\n",
    "    when=ConstraintTime.END,\n",
    "    f=components_constraint,\n",
    "    extra_args={\n",
    "        'alphabet': hl_alphabet\n",
    "    }\n",
    ")\n",
    "rcc1.extra_args[\"req_tiles\"] = ['cockpit']\n",
    "\n",
    "rcc2 = ConstraintHandler(\n",
    "    name=\"required_components\",\n",
    "    level=ConstraintLevel.HARD_CONSTRAINT,\n",
    "    when=ConstraintTime.END,\n",
    "    f=components_constraint,\n",
    "    extra_args={\n",
    "        'alphabet': hl_alphabet\n",
    "    }\n",
    ")\n",
    "rcc2.extra_args[\"req_tiles\"] = ['corridorcargo', 'corridorgyros', 'corridorreactors']\n",
    "\n",
    "rcc3 = ConstraintHandler(\n",
    "    name=\"required_components\",\n",
    "    level=ConstraintLevel.HARD_CONSTRAINT,\n",
    "    when=ConstraintTime.END,\n",
    "    f=components_constraint,\n",
    "    extra_args={\n",
    "        'alphabet': hl_alphabet\n",
    "    }\n",
    ")\n",
    "rcc3.extra_args[\"req_tiles\"] = ['thrusters']\n",
    "\n",
    "nic = ConstraintHandler(\n",
    "    name=\"no_intersections\",\n",
    "    level=ConstraintLevel.HARD_CONSTRAINT,\n",
    "    when=ConstraintTime.DURING,\n",
    "    f=intersection_constraint,\n",
    "    extra_args={\n",
    "        'alphabet': dict(hl_alphabet, **ll_alphabet)\n",
    "    },\n",
    "    needs_ll=True\n",
    ")\n",
    "nic.extra_args[\"tiles_dimensions\"] = tiles_dimensions\n",
    "\n",
    "sc = ConstraintHandler(\n",
    "    name=\"symmetry\",\n",
    "    level=ConstraintLevel.SOFT_CONSTRAINT,\n",
    "    when=ConstraintTime.END,\n",
    "    f=symmetry_constraint,\n",
    "    extra_args={\n",
    "        'alphabet': dict(hl_alphabet, **ll_alphabet)\n",
    "    }\n",
    ")\n",
    "\n",
    "# wopc = ConstraintHandler(\n",
    "#     name=\"wheels_on_plane\",\n",
    "#     level=ConstraintLevel.SOFT_CONSTRAINT,\n",
    "#     when=ConstraintTime.END,\n",
    "#     f=wheels_plane_constraint,\n",
    "#     extra_args={\n",
    "#         'alphabet': dict(hl_alphabet, **ll_alphabet)\n",
    "#     }\n",
    "# )"
   ]
  },
  {
   "cell_type": "markdown",
   "metadata": {
    "tags": []
   },
   "source": [
    "## L-System\n",
    "\n",
    "The `LSystem` populates different structures with L-system solutions at different iterations."
   ]
  },
  {
   "cell_type": "code",
   "execution_count": 71,
   "metadata": {
    "execution": {
     "iopub.execute_input": "2022-01-06T13:53:10.027156Z",
     "iopub.status.busy": "2022-01-06T13:53:10.026454Z",
     "iopub.status.idle": "2022-01-06T13:53:10.040122Z",
     "shell.execute_reply": "2022-01-06T13:53:10.040122Z",
     "shell.execute_reply.started": "2022-01-06T13:53:10.027156Z"
    },
    "tags": []
   },
   "outputs": [],
   "source": [
    "import logging\n",
    "\n",
    "logging.basicConfig()\n",
    "logger = logging.getLogger('base-logger')\n",
    "logger.setLevel(logging.INFO)"
   ]
  },
  {
   "cell_type": "code",
   "execution_count": 72,
   "metadata": {
    "execution": {
     "iopub.execute_input": "2022-01-06T13:53:10.042116Z",
     "iopub.status.busy": "2022-01-06T13:53:10.042116Z",
     "iopub.status.idle": "2022-01-06T13:53:10.057075Z",
     "shell.execute_reply": "2022-01-06T13:53:10.056079Z",
     "shell.execute_reply.started": "2022-01-06T13:53:10.042116Z"
    },
    "tags": []
   },
   "outputs": [],
   "source": [
    "lsystem = LSystem(\n",
    "    hl_solver=hl_solver, ll_solver=ll_solver, names=['HeadModule', 'BodyModule', 'TailModule']\n",
    ")"
   ]
  },
  {
   "cell_type": "markdown",
   "metadata": {},
   "source": [
    "We add the constraints to the `LSystem` at the correct abstraction level.lsystem.add_hl_constraint(c=rcc)\n",
    "lsystem.add_hl_constraint(c=nic)\n",
    "lsystem.add_ll_constraint(c=sc)\n",
    "lsystem.add_ll_constraint(c=wopc)"
   ]
  },
  {
   "cell_type": "code",
   "execution_count": 73,
   "metadata": {
    "execution": {
     "iopub.execute_input": "2022-01-06T13:53:10.058532Z",
     "iopub.status.busy": "2022-01-06T13:53:10.058532Z",
     "iopub.status.idle": "2022-01-06T13:53:10.072041Z",
     "shell.execute_reply": "2022-01-06T13:53:10.072041Z",
     "shell.execute_reply.started": "2022-01-06T13:53:10.058532Z"
    },
    "tags": []
   },
   "outputs": [],
   "source": [
    "lsystem.add_hl_constraints(cs=[\n",
    "    [nic, rcc1],\n",
    "    [nic, rcc2],\n",
    "    [nic, rcc3]\n",
    "])\n",
    "\n",
    "lsystem.add_ll_constraints(cs=[\n",
    "    [sc],\n",
    "    [sc],\n",
    "    [sc]\n",
    "])"
   ]
  },
  {
   "cell_type": "markdown",
   "metadata": {},
   "source": [
    "We can run the L-System for a fixed number of iterations and obtain a candidate (high-level and low-level) axiom solution."
   ]
  },
  {
   "cell_type": "code",
   "execution_count": 74,
   "metadata": {
    "execution": {
     "iopub.execute_input": "2022-01-06T13:53:10.074030Z",
     "iopub.status.busy": "2022-01-06T13:53:10.074030Z",
     "iopub.status.idle": "2022-01-06T13:53:22.278392Z",
     "shell.execute_reply": "2022-01-06T13:53:22.277366Z",
     "shell.execute_reply.started": "2022-01-06T13:53:10.074030Z"
    },
    "tags": []
   },
   "outputs": [
    {
     "name": "stderr",
     "output_type": "stream",
     "text": [
      "INFO:base-logger:[HeadModule] Started high level solving...\n",
      "INFO:base-logger:Expansion n.1/1; current number of axioms: 1\n",
      "INFO:base-logger:[HeadModule] Started low level solving...\n",
      "INFO:base-logger:Expansion n.1/1; current number of axioms: 1\n",
      "INFO:base-logger:[BodyModule] Started high level solving...\n",
      "INFO:base-logger:Expansion n.1/4; current number of axioms: 1\n",
      "INFO:base-logger:Expansion n.2/4; current number of axioms: 2\n",
      "INFO:base-logger:Expansion n.3/4; current number of axioms: 2\n",
      "INFO:base-logger:Expansion n.4/4; current number of axioms: 4\n",
      "INFO:base-logger:[BodyModule] Started low level solving...\n",
      "INFO:base-logger:Expansion n.1/1; current number of axioms: 1\n",
      "INFO:base-logger:[TailModule] Started high level solving...\n",
      "INFO:base-logger:Expansion n.1/1; current number of axioms: 1\n",
      "INFO:base-logger:[TailModule] Started low level solving...\n",
      "INFO:base-logger:Expansion n.1/1; current number of axioms: 1\n",
      "INFO:base-logger:Expansion n.1/1; current number of axioms: 1\n"
     ]
    },
    {
     "data": {
      "image/png": "[encoded data removed]",
      "text/plain": [
       "<Figure size 432x288 with 1 Axes>"
      ]
     },
     "metadata": {
      "needs_background": "light"
     },
     "output_type": "display_data"
    },
    {
     "name": "stdout",
     "output_type": "stream",
     "text": [
      "High Level Axioms:\n",
      "\t: cockpitcorridorsimple(1)corridorgyros(1)corridorsimple(1)corridorcargo(2)[RotYcwXcorridorsimple(1)[RotYccwZcorridorsimple(1)]corridorreactors(2)]thrusters\n",
      "Low Level Axioms:\n",
      "\t: LargeBlockArmorSlope(B,L)+(5)LargeBlockArmorBlock(F,U)+(5)LargeBlockArmorBlock(F,U)+(5)LargeBlockArmorBlock(F,U)+(5)LargeBlockArmorSlope(B,R)!(5)-(20)LargeBlockArmorSlope(B,L)+(5)LargeBlockArmorBlock(F,U)+(5)LargeBlockArmorBlock(F,U)+(5)LargeBlockArmorBlock(F,U)+(5)LargeBlockArmorSlope(B,R)!(5)-(20)LargeBlockArmorSlope(B,L)+(5)LargeBlockArmorBlock(F,U)+(5)LargeBlockArmorBlock(F,U)+(5)LargeBlockArmorBlock(F,U)+(5)LargeBlockArmorSlope(B,R)<(5)?(10)-(20)LargeBlockArmorBlock(F,U)+(5)Window1x1Flat(B,R)+(5)Window1x1Flat(B,R)+(5)Window1x1Flat(B,R)+(5)LargeBlockArmorBlock(F,U)!(5)-(20)LargeBlockArmorBlock(F,U)+(10)SmallLight(B,L)+(10)LargeBlockArmorBlock(F,U)!(5)-(20)LargeBlockArmorBlock(F,U)+(20)LargeBlockArmorBlock(F,U)<(5)?(10)-(20)LargeBlockArmorBlock(F,U)+(5)Window1x1Flat(B,R)+(5)Window1x1Flat(B,R)+(5)Window1x1Flat(B,R)+(5)LargeBlockArmorBlock(F,U)!(5)-(20)LargeBlockArmorBlock(F,U)+(15)OpenCockpitLarge(D,L)+(5)LargeBlockArmorBlock(F,U)!(5)-(20)LargeBlockArmorBlock(F,U)+(20)LargeBlockArmorBlock(F,U)<(5)?(10)-(20)LargeBlockArmorBlock(F,U)+(5)Window1x1Flat(B,R)+(5)Window1x1Flat(B,R)+(5)Window1x1Flat(B,R)+(5)LargeBlockArmorBlock(F,U)!(5)-(20)LargeBlockArmorBlock(F,U)+(10)SmallLight(F,L)+(10)LargeBlockArmorBlock(F,U)!(5)-(20)LargeBlockArmorBlock(F,U)+(20)LargeBlockArmorBlock(F,U)<(5)?(10)-(20)LargeBlockArmorSlope(F,L)+(5)LargeBlockArmorBlock(F,U)+(5)LargeBlockArmorBlock(F,U)+(5)LargeBlockArmorBlock(F,U)+(5)LargeBlockArmorSlope(F,R)!(5)-(20)LargeBlockArmorSlope(F,L)+(5)LargeBlockArmorBlock(F,U)+(5)LargeBlockArmorBlock(F,U)+(5)LargeBlockArmorBlock(F,U)+(5)LargeBlockArmorSlope(F,R)!(5)-(20)LargeBlockArmorSlope(F,L)+(5)LargeBlockArmorBlock(F,U)+(5)LargeBlockArmorBlock(F,U)+(5)LargeBlockArmorBlock(F,U)+(5)LargeBlockArmorSlope(F,R)-(20)?(10)>(20)!(15)LargeBlockArmorSlope(B,L)+(5)LargeBlockArmorBlock(F,U)+(5)LargeBlockArmorBlock(F,U)+(5)LargeBlockArmorBlock(F,U)+(5)LargeBlockArmorSlope(B,R)!(5)-(20)LargeBlockArmorSlope(B,L)+(5)LargeBlockArmorBlock(F,U)+(5)LargeBlockArmorBlock(F,U)+(5)LargeBlockArmorBlock(F,U)+(5)LargeBlockArmorSlope(B,R)!(5)-(20)LargeBlockArmorSlope(B,L)+(5)LargeBlockArmorBlock(F,U)+(5)LargeBlockArmorBlock(F,U)+(5)LargeBlockArmorBlock(F,U)+(5)LargeBlockArmorSlope(B,R)<(5)?(10)-(20)LargeBlockArmorBlock(F,U)+(20)LargeBlockArmorBlock(F,U)!(5)-(20)LargeBlockArmorBlock(F,U)+(20)LargeBlockArmorBlock(F,U)!(5)-(20)LargeBlockArmorBlock(F,U)+(20)LargeBlockArmorBlock(F,U)<(5)?(10)-(20)LargeBlockArmorBlock(F,U)+(20)LargeBlockArmorBlock(F,U)!(5)-(20)LargeBlockArmorBlock(F,U)+(5)SmallLight(R,D)+(15)LargeBlockArmorBlock(F,U)!(5)-(20)LargeBlockArmorBlock(F,U)+(20)LargeBlockArmorBlock(F,U)<(5)?(10)-(20)LargeBlockArmorBlock(F,U)+(20)LargeBlockArmorBlock(F,U)!(5)-(20)LargeBlockArmorBlock(F,U)+(20)LargeBlockArmorBlock(F,U)!(5)-(20)LargeBlockArmorBlock(F,U)+(20)LargeBlockArmorBlock(F,U)<(5)?(10)-(20)LargeBlockArmorSlope(F,L)+(5)LargeBlockArmorBlock(F,U)+(5)LargeBlockArmorBlock(F,U)+(5)LargeBlockArmorBlock(F,U)+(5)LargeBlockArmorSlope(F,R)!(5)-(20)LargeBlockArmorSlope(F,L)+(5)LargeBlockArmorBlock(F,U)+(5)LargeBlockArmorBlock(F,U)+(5)LargeBlockArmorBlock(F,U)+(5)LargeBlockArmorSlope(F,R)!(5)-(20)LargeBlockArmorSlope(F,L)+(5)LargeBlockArmorBlock(F,U)+(5)LargeBlockArmorBlock(F,U)+(5)LargeBlockArmorBlock(F,U)+(5)LargeBlockArmorSlope(F,R)-(20)?(10)>(20)!(15)LargeBlockArmorSlope(B,L)+(5)LargeBlockArmorBlock(F,U)+(5)LargeBlockArmorBlock(F,U)+(5)LargeBlockArmorBlock(F,U)+(5)LargeBlockArmorSlope(B,R)!(5)-(20)LargeBlockArmorSlope(B,L)+(5)LargeBlockArmorBlock(F,U)+(5)LargeBlockArmorBlock(F,U)+(5)LargeBlockArmorBlock(F,U)+(5)LargeBlockArmorSlope(B,R)!(5)-(20)LargeBlockArmorSlope(B,L)+(5)LargeBlockArmorBlock(F,U)+(5)LargeBlockArmorBlock(F,U)+(5)LargeBlockArmorBlock(F,U)+(5)LargeBlockArmorSlope(B,R)<(5)?(10)-(20)LargeBlockArmorBlock(F,U)+(5)LargeBlockGyro(F,R)+(15)LargeBlockArmorBlock(F,U)!(5)-(20)LargeBlockArmorBlock(F,U)+(20)LargeBlockArmorBlock(F,U)!(5)-(20)LargeBlockArmorBlock(F,U)+(5)LargeBlockGyro(D,R)+(15)LargeBlockArmorBlock(F,U)<(5)?(10)-(20)LargeBlockArmorBlock(F,U)+(20)LargeBlockArmorBlock(F,U)!(5)-(20)LargeBlockArmorBlock(F,U)+(20)LargeBlockArmorBlock(F,U)!(5)-(20)LargeBlockArmorBlock(F,U)+(20)LargeBlockArmorBlock(F,U)<(5)?(10)-(20)LargeBlockArmorBlock(F,U)+(5)LargeBlockGyro(F,R)+(15)LargeBlockArmorBlock(F,U)!(5)-(20)LargeBlockArmorBlock(F,U)+(20)LargeBlockArmorBlock(F,U)!(5)-(20)LargeBlockArmorBlock(F,U)+(5)LargeBlockGyro(D,R)+(15)LargeBlockArmorBlock(F,U)<(5)?(10)-(20)LargeBlockArmorSlope(F,L)+(5)LargeBlockArmorBlock(F,U)+(5)LargeBlockArmorBlock(F,U)+(5)LargeBlockArmorBlock(F,U)+(5)LargeBlockArmorSlope(F,R)!(5)-(20)LargeBlockArmorSlope(F,L)+(5)LargeBlockArmorBlock(F,U)+(5)LargeBlockArmorBlock(F,U)+(5)LargeBlockArmorBlock(F,U)+(5)LargeBlockArmorSlope(F,R)!(5)-(20)LargeBlockArmorSlope(F,L)+(5)LargeBlockArmorBlock(F,U)+(5)LargeBlockArmorBlock(F,U)+(5)LargeBlockArmorBlock(F,U)+(5)LargeBlockArmorSlope(F,R)-(20)?(10)>(20)!(15)LargeBlockArmorSlope(B,L)+(5)LargeBlockArmorBlock(F,U)+(5)LargeBlockArmorBlock(F,U)+(5)LargeBlockArmorBlock(F,U)+(5)LargeBlockArmorSlope(B,R)!(5)-(20)LargeBlockArmorSlope(B,L)+(5)LargeBlockArmorBlock(F,U)+(5)LargeBlockArmorBlock(F,U)+(5)LargeBlockArmorBlock(F,U)+(5)LargeBlockArmorSlope(B,R)!(5)-(20)LargeBlockArmorSlope(B,L)+(5)LargeBlockArmorBlock(F,U)+(5)LargeBlockArmorBlock(F,U)+(5)LargeBlockArmorBlock(F,U)+(5)LargeBlockArmorSlope(B,R)<(5)?(10)-(20)LargeBlockArmorBlock(F,U)+(20)LargeBlockArmorBlock(F,U)!(5)-(20)LargeBlockArmorBlock(F,U)+(20)LargeBlockArmorBlock(F,U)!(5)-(20)LargeBlockArmorBlock(F,U)+(20)LargeBlockArmorBlock(F,U)<(5)?(10)-(20)LargeBlockArmorBlock(F,U)+(20)LargeBlockArmorBlock(F,U)!(5)-(20)LargeBlockArmorBlock(F,U)+(5)SmallLight(R,D)+(15)LargeBlockArmorBlock(F,U)!(5)-(20)LargeBlockArmorBlock(F,U)+(20)LargeBlockArmorBlock(F,U)<(5)?(10)-(20)LargeBlockArmorBlock(F,U)+(20)LargeBlockArmorBlock(F,U)!(5)-(20)LargeBlockArmorBlock(F,U)+(20)LargeBlockArmorBlock(F,U)!(5)-(20)LargeBlockArmorBlock(F,U)+(20)LargeBlockArmorBlock(F,U)<(5)?(10)-(20)LargeBlockArmorSlope(F,L)+(5)LargeBlockArmorBlock(F,U)+(5)LargeBlockArmorBlock(F,U)+(5)LargeBlockArmorBlock(F,U)+(5)LargeBlockArmorSlope(F,R)!(5)-(20)LargeBlockArmorSlope(F,L)+(5)LargeBlockArmorBlock(F,U)+(5)LargeBlockArmorBlock(F,U)+(5)LargeBlockArmorBlock(F,U)+(5)LargeBlockArmorSlope(F,R)!(5)-(20)LargeBlockArmorSlope(F,L)+(5)LargeBlockArmorBlock(F,U)+(5)LargeBlockArmorBlock(F,U)+(5)LargeBlockArmorBlock(F,U)+(5)LargeBlockArmorSlope(F,R)-(20)?(10)>(20)!(15)LargeBlockArmorSlope(B,L)+(5)LargeBlockArmorBlock(F,U)+(5)LargeBlockArmorBlock(F,U)+(5)LargeBlockArmorBlock(F,U)+(5)LargeBlockArmorSlope(B,R)!(5)-(20)LargeBlockArmorSlope(B,L)+(5)LargeBlockArmorBlock(F,U)+(5)LargeBlockArmorBlock(F,U)+(5)LargeBlockArmorBlock(F,U)+(5)LargeBlockArmorSlope(B,R)!(5)-(20)LargeBlockArmorSlope(B,L)+(5)LargeBlockArmorBlock(F,U)+(5)LargeBlockArmorBlock(F,U)+(5)LargeBlockArmorBlock(F,U)+(5)LargeBlockArmorSlope(B,R)<(5)?(10)-(20)LargeBlockArmorBlock(F,U)+(10)LargeBlockSmallContainer(F,L)+(10)LargeBlockArmorBlock(F,U)!(5)-(20)LargeBlockArmorBlock(F,U)+(10)LargeBlockSmallContainer(F,L)+(10)LargeBlockArmorBlock(F,U)!(5)-(20)LargeBlockArmorBlock(F,U)+(10)LargeBlockSmallContainer(F,L)+(10)LargeBlockArmorBlock(F,U)<(5)?(10)-(20)LargeBlockArmorBlock(F,U)+(20)LargeBlockArmorBlock(F,U)!(5)-(20)LargeBlockArmorBlock(F,U)+(20)LargeBlockArmorBlock(F,U)!(5)-(20)LargeBlockArmorBlock(F,U)+(20)LargeBlockArmorBlock(F,U)<(5)?(10)-(20)LargeBlockArmorBlock(F,U)+(10)LargeBlockSmallContainer(F,L)+(10)LargeBlockArmorBlock(F,U)!(5)-(20)LargeBlockArmorBlock(F,U)+(10)LargeBlockSmallContainer(F,L)+(10)LargeBlockArmorBlock(F,U)!(5)-(20)LargeBlockArmorBlock(F,U)+(10)LargeBlockSmallContainer(F,L)+(10)LargeBlockArmorBlock(F,U)<(5)?(10)-(20)LargeBlockArmorSlope(F,L)+(5)LargeBlockArmorBlock(F,U)+(5)LargeBlockArmorBlock(F,U)+(5)LargeBlockArmorBlock(F,U)+(5)LargeBlockArmorSlope(F,R)!(5)-(20)LargeBlockArmorSlope(F,L)+(5)LargeBlockArmorBlock(F,U)+(5)LargeBlockArmorBlock(F,U)+(5)LargeBlockArmorBlock(F,U)+(5)LargeBlockArmorSlope(F,R)!(5)-(20)LargeBlockArmorSlope(F,L)+(5)LargeBlockArmorBlock(F,U)+(5)LargeBlockArmorBlock(F,U)+(5)LargeBlockArmorBlock(F,U)+(5)LargeBlockArmorSlope(F,R)-(20)?(10)>(20)!(15)LargeBlockArmorSlope(B,L)+(5)LargeBlockArmorBlock(F,U)+(5)LargeBlockArmorBlock(F,U)+(5)LargeBlockArmorBlock(F,U)+(5)LargeBlockArmorSlope(B,R)!(5)-(20)LargeBlockArmorSlope(B,L)+(5)LargeBlockArmorBlock(F,U)+(5)LargeBlockArmorBlock(F,U)+(5)LargeBlockArmorBlock(F,U)+(5)LargeBlockArmorSlope(B,R)!(5)-(20)LargeBlockArmorSlope(B,L)+(5)LargeBlockArmorBlock(F,U)+(5)LargeBlockArmorBlock(F,U)+(5)LargeBlockArmorBlock(F,U)+(5)LargeBlockArmorSlope(B,R)<(5)?(10)-(20)LargeBlockArmorBlock(F,U)+(10)LargeBlockSmallContainer(F,L)+(10)LargeBlockArmorBlock(F,U)!(5)-(20)LargeBlockArmorBlock(F,U)+(10)LargeBlockSmallContainer(F,L)+(10)LargeBlockArmorBlock(F,U)!(5)-(20)LargeBlockArmorBlock(F,U)+(10)LargeBlockSmallContainer(F,L)+(10)LargeBlockArmorBlock(F,U)<(5)?(10)-(20)LargeBlockArmorBlock(F,U)+(20)LargeBlockArmorBlock(F,U)!(5)-(20)LargeBlockArmorBlock(F,U)+(20)LargeBlockArmorBlock(F,U)!(5)-(20)LargeBlockArmorBlock(F,U)+(20)LargeBlockArmorBlock(F,U)<(5)?(10)-(20)LargeBlockArmorBlock(F,U)+(10)LargeBlockSmallContainer(F,L)+(10)LargeBlockArmorBlock(F,U)!(5)-(20)LargeBlockArmorBlock(F,U)+(10)LargeBlockSmallContainer(F,L)+(10)LargeBlockArmorBlock(F,U)!(5)-(20)LargeBlockArmorBlock(F,U)+(10)LargeBlockSmallContainer(F,L)+(10)LargeBlockArmorBlock(F,U)<(5)?(10)-(20)LargeBlockArmorSlope(F,L)+(5)LargeBlockArmorBlock(F,U)+(5)LargeBlockArmorBlock(F,U)+(5)LargeBlockArmorBlock(F,U)+(5)LargeBlockArmorSlope(F,R)!(5)-(20)LargeBlockArmorSlope(F,L)+(5)LargeBlockArmorBlock(F,U)+(5)LargeBlockArmorBlock(F,U)+(5)LargeBlockArmorBlock(F,U)+(5)LargeBlockArmorSlope(F,R)!(5)-(20)LargeBlockArmorSlope(F,L)+(5)LargeBlockArmorBlock(F,U)+(5)LargeBlockArmorBlock(F,U)+(5)LargeBlockArmorBlock(F,U)+(5)LargeBlockArmorSlope(F,R)-(20)?(10)>(20)!(15)[-(5)RotYcwXLargeBlockArmorSlope(B,L)+(5)LargeBlockArmorBlock(F,U)+(5)LargeBlockArmorBlock(F,U)+(5)LargeBlockArmorBlock(F,U)+(5)LargeBlockArmorSlope(B,R)!(5)-(20)LargeBlockArmorSlope(B,L)+(5)LargeBlockArmorBlock(F,U)+(5)LargeBlockArmorBlock(F,U)+(5)LargeBlockArmorBlock(F,U)+(5)LargeBlockArmorSlope(B,R)!(5)-(20)LargeBlockArmorSlope(B,L)+(5)LargeBlockArmorBlock(F,U)+(5)LargeBlockArmorBlock(F,U)+(5)LargeBlockArmorBlock(F,U)+(5)LargeBlockArmorSlope(B,R)<(5)?(10)-(20)LargeBlockArmorBlock(F,U)+(20)LargeBlockArmorBlock(F,U)!(5)-(20)LargeBlockArmorBlock(F,U)+(20)LargeBlockArmorBlock(F,U)!(5)-(20)LargeBlockArmorBlock(F,U)+(20)LargeBlockArmorBlock(F,U)<(5)?(10)-(20)LargeBlockArmorBlock(F,U)+(20)LargeBlockArmorBlock(F,U)!(5)-(20)LargeBlockArmorBlock(F,U)+(20)LargeBlockArmorBlock(F,U)!(5)-(20)LargeBlockArmorBlock(F,U)+(20)LargeBlockArmorBlock(F,U)<(5)?(10)-(20)LargeBlockArmorBlock(F,U)+(20)LargeBlockArmorBlock(F,U)!(5)-(20)LargeBlockArmorBlock(F,U)+(20)LargeBlockArmorBlock(F,U)!(5)-(20)LargeBlockArmorBlock(F,U)+(20)LargeBlockArmorBlock(F,U)<(5)?(10)-(20)LargeBlockArmorSlope(F,L)+(5)LargeBlockArmorBlock(F,U)+(5)LargeBlockArmorBlock(F,U)+(5)LargeBlockArmorBlock(F,U)+(5)LargeBlockArmorSlope(F,R)!(5)-(20)LargeBlockArmorSlope(F,L)+(5)LargeBlockArmorBlock(F,U)+(5)LargeBlockArmorBlock(F,U)+(5)LargeBlockArmorBlock(F,U)+(5)LargeBlockArmorSlope(F,R)!(5)-(20)LargeBlockArmorSlope(F,L)+(5)LargeBlockArmorBlock(F,U)+(5)LargeBlockArmorBlock(F,U)+(5)LargeBlockArmorBlock(F,U)+(5)LargeBlockArmorSlope(F,R)-(20)?(10)>(20)!(15)[!(20)<(25)RotYccwZLargeBlockArmorSlope(B,L)+(5)LargeBlockArmorBlock(F,U)+(5)LargeBlockArmorBlock(F,U)+(5)LargeBlockArmorBlock(F,U)+(5)LargeBlockArmorSlope(B,R)!(5)-(20)LargeBlockArmorSlope(B,L)+(5)LargeBlockArmorBlock(F,U)+(5)LargeBlockArmorBlock(F,U)+(5)LargeBlockArmorBlock(F,U)+(5)LargeBlockArmorSlope(B,R)!(5)-(20)LargeBlockArmorSlope(B,L)+(5)LargeBlockArmorBlock(F,U)+(5)LargeBlockArmorBlock(F,U)+(5)LargeBlockArmorBlock(F,U)+(5)LargeBlockArmorSlope(B,R)<(5)?(10)-(20)LargeBlockArmorBlock(F,U)+(20)LargeBlockArmorBlock(F,U)!(5)-(20)LargeBlockArmorBlock(F,U)+(20)LargeBlockArmorBlock(F,U)!(5)-(20)LargeBlockArmorBlock(F,U)+(20)LargeBlockArmorBlock(F,U)<(5)?(10)-(20)LargeBlockArmorBlock(F,U)+(20)LargeBlockArmorBlock(F,U)!(5)-(20)LargeBlockArmorBlock(F,U)+(20)LargeBlockArmorBlock(F,U)!(5)-(20)LargeBlockArmorBlock(F,U)+(20)LargeBlockArmorBlock(F,U)<(5)?(10)-(20)LargeBlockArmorBlock(F,U)+(20)LargeBlockArmorBlock(F,U)!(5)-(20)LargeBlockArmorBlock(F,U)+(20)LargeBlockArmorBlock(F,U)!(5)-(20)LargeBlockArmorBlock(F,U)+(20)LargeBlockArmorBlock(F,U)<(5)?(10)-(20)LargeBlockArmorSlope(F,L)+(5)LargeBlockArmorBlock(F,U)+(5)LargeBlockArmorBlock(F,U)+(5)LargeBlockArmorBlock(F,U)+(5)LargeBlockArmorSlope(F,R)!(5)-(20)LargeBlockArmorSlope(F,L)+(5)LargeBlockArmorBlock(F,U)+(5)LargeBlockArmorBlock(F,U)+(5)LargeBlockArmorBlock(F,U)+(5)LargeBlockArmorSlope(F,R)!(5)-(20)LargeBlockArmorSlope(F,L)+(5)LargeBlockArmorBlock(F,U)+(5)LargeBlockArmorBlock(F,U)+(5)LargeBlockArmorBlock(F,U)+(5)LargeBlockArmorSlope(F,R)-(20)?(10)>(20)!(15)LargeBlockArmorSlope(B,L)+(5)LargeBlockArmorBlock(F,U)+(5)LargeBlockArmorBlock(F,U)+(5)LargeBlockArmorBlock(F,U)+(5)LargeBlockArmorSlope(B,R)!(5)-(20)LargeBlockArmorCorner(D,F)+(5)LargeBlockArmorSlope(D,F)+(5)LargeBlockArmorSlope(D,F)+(5)LargeBlockArmorSlope(D,F)+(5)LargeBlockArmorCorner(D,R)<(5)?(5)-(20)LargeBlockArmorBlock(F,U)+(5)SmallLight(D,F)+(10)SmallLight(D,F)+(5)LargeBlockArmorBlock(F,U)!(5)-(20)LargeBlockArmorSlope(D,L)+(5)LargeBlockArmorBlock(F,U)+(5)LargeBlockArmorBlock(F,U)+(5)LargeBlockArmorBlock(F,U)+(5)LargeBlockArmorSlope(D,R)<(5)?(5)-(20)LargeBlockArmorBlock(F,U)+(20)LargeBlockArmorBlock(F,U)!(5)-(20)LargeBlockArmorSlope(D,L)+(5)LargeBlockArmorBlock(F,U)+(5)Window1x1Flat(B,L)+(5)LargeBlockArmorBlock(F,U)+(5)LargeBlockArmorSlope(D,R)<(5)?(5)-(20)LargeBlockArmorBlock(F,U)+(5)SmallLight(D,F)+(10)SmallLight(D,F)+(5)LargeBlockArmorBlock(F,U)!(5)-(20)LargeBlockArmorSlope(D,L)+(5)LargeBlockArmorBlock(F,U)+(5)LargeBlockArmorBlock(F,U)+(5)LargeBlockArmorBlock(F,U)+(5)LargeBlockArmorSlope(D,R)<(5)?(5)-(20)LargeBlockArmorSlope(F,L)+(5)LargeBlockArmorBlock(F,U)+(5)LargeBlockArmorBlock(F,U)+(5)LargeBlockArmorBlock(F,U)+(5)LargeBlockArmorSlope(F,R)!(5)-(20)LargeBlockArmorCorner(F,U)+(5)LargeBlockArmorSlope(F,U)+(5)LargeBlockArmorSlope(F,U)+(5)LargeBlockArmorSlope(F,U)+(5)LargeBlockArmorCorner(F,R)-(20)?(5)>(20)!(10)]LargeBlockArmorSlope(B,L)+(5)LargeBlockArmorBlock(F,U)+(5)LargeBlockArmorBlock(F,U)+(5)LargeBlockArmorBlock(F,U)+(5)LargeBlockArmorSlope(B,R)!(5)-(20)LargeBlockArmorSlope(B,L)+(5)LargeBlockArmorBlock(F,U)+(5)LargeBlockArmorBlock(F,U)+(5)LargeBlockArmorBlock(F,U)+(5)LargeBlockArmorSlope(B,R)!(5)-(20)LargeBlockArmorSlope(B,L)+(5)Window1x1Flat(D,R)+(5)Window1x1Flat(D,R)+(5)Window1x1Flat(D,R)+(5)LargeBlockArmorSlope(B,R)!(5)-(20)LargeBlockArmorSlope(B,L)+(5)LargeBlockArmorBlock(F,U)+(5)LargeBlockArmorBlock(F,U)+(5)LargeBlockArmorBlock(F,U)+(5)LargeBlockArmorSlope(B,R)!(5)-(20)LargeBlockArmorSlope(B,L)+(5)LargeBlockArmorBlock(F,U)+(5)LargeBlockArmorBlock(F,U)+(5)LargeBlockArmorBlock(F,U)+(5)LargeBlockArmorSlope(B,R)<(5)?(20)-(20)LargeBlockArmorBlock(F,U)+(20)LargeBlockArmorBlock(F,U)!(5)-(20)LargeBlockArmorBlock(F,U)+(20)LargeBlockArmorBlock(F,U)!(5)-(20)LargeBlockArmorBlock(F,U)+(20)LargeBlockArmorBlock(F,U)!(5)-(20)LargeBlockArmorBlock(F,U)+(20)LargeBlockArmorBlock(F,U)!(5)-(20)LargeBlockArmorBlock(F,U)+(20)LargeBlockArmorBlock(F,U)<(5)?(20)-(20)LargeBlockArmorBlock(F,U)+(20)LargeBlockArmorBlock(F,U)!(5)-(20)LargeBlockArmorBlock(F,U)+(20)LargeBlockArmorBlock(F,U)!(5)-(20)LargeBlockArmorBlock(F,U)+(20)LargeBlockArmorBlock(F,U)!(5)-(20)LargeBlockArmorBlock(F,U)+(20)LargeBlockArmorBlock(F,U)!(5)-(20)LargeBlockArmorBlock(F,U)+(20)LargeBlockArmorBlock(F,U)<(5)?(20)-(20)LargeBlockArmorBlock(F,U)+(20)LargeBlockArmorBlock(F,U)!(5)-(20)LargeBlockArmorBlock(F,U)+(20)LargeBlockArmorBlock(F,U)!(5)-(20)LargeBlockArmorBlock(F,U)+(20)LargeBlockArmorBlock(F,U)!(5)-(20)LargeBlockArmorBlock(F,U)+(20)LargeBlockArmorBlock(F,U)!(5)-(20)LargeBlockArmorBlock(F,U)+(20)LargeBlockArmorBlock(F,U)<(5)?(20)-(20)LargeBlockArmorCornerInv(D,R)+(5)LargeBlockArmorBlock(F,U)+(5)LargeBlockArmorBlock(F,U)+(5)LargeBlockArmorBlock(F,U)+(5)LargeBlockArmorCornerInv(D,F)!(5)-(20)LargeBlockArmorBlock(F,U)+(20)LargeBlockArmorBlock(F,U)!(5)-(20)LargeBlockArmorBlock(F,U)+(20)LargeBlockArmorBlock(F,U)!(5)-(20)LargeBlockArmorBlock(F,U)+(20)LargeBlockArmorBlock(F,U)!(5)-(20)LargeBlockArmorCornerInv(B,R)+(5)LargeBlockArmorBlock(F,U)+(5)LargeBlockArmorBlock(F,U)+(5)LargeBlockArmorBlock(F,U)+(5)LargeBlockArmorCornerInv(B,D)-(20)?(20)>(20)!(25)LargeBlockArmorSlope(B,L)+(5)LargeBlockArmorBlock(F,U)+(5)LargeBlockArmorBlock(F,U)+(5)LargeBlockArmorBlock(F,U)+(5)LargeBlockArmorSlope(B,R)!(5)-(20)LargeBlockArmorSlope(B,L)+(5)LargeBlockArmorBlock(F,U)+(5)LargeBlockArmorBlock(F,U)+(5)LargeBlockArmorBlock(F,U)+(5)LargeBlockArmorSlope(B,R)!(5)-(20)LargeBlockArmorSlope(B,L)+(5)LargeBlockArmorBlock(F,U)+(5)LargeBlockArmorBlock(F,U)+(5)LargeBlockArmorBlock(F,U)+(5)LargeBlockArmorSlope(B,R)<(5)?(10)-(20)LargeBlockArmorBlock(F,U)+(15)LargeBlockSmallGenerator(F,L)+(5)LargeBlockArmorBlock(F,U)!(5)-(20)LargeBlockArmorBlock(F,U)+(20)LargeBlockArmorBlock(F,U)!(5)-(20)LargeBlockArmorBlock(F,U)+(15)LargeBlockSmallGenerator(F,L)+(5)LargeBlockArmorBlock(F,U)<(5)?(10)-(20)LargeBlockArmorBlock(F,U)+(20)LargeBlockArmorBlock(F,U)!(5)-(20)LargeBlockArmorSlope(F,L)+(20)LargeBlockArmorBlock(F,U)!(5)-(20)LargeBlockArmorSlope(F,L)+(20)LargeBlockArmorBlock(F,U)<(5)?(10)-(20)LargeBlockArmorBlock(F,U)+(15)LargeBlockSmallGenerator(B,L)+(5)LargeBlockArmorBlock(F,U)!(5)-(20)LargeBlockArmorBlock(F,U)+(20)LargeBlockArmorBlock(F,U)!(5)-(20)LargeBlockArmorBlock(F,U)+(15)LargeBlockSmallGenerator(B,L)+(5)LargeBlockArmorBlock(F,U)<(5)?(10)-(20)LargeBlockArmorSlope(F,L)+(5)LargeBlockArmorBlock(F,U)+(5)LargeBlockArmorBlock(F,U)+(5)LargeBlockArmorBlock(F,U)+(5)LargeBlockArmorSlope(F,R)!(5)-(20)LargeBlockArmorSlope(F,L)+(5)LargeBlockArmorBlock(F,U)+(5)LargeBlockArmorBlock(F,U)+(5)LargeBlockArmorBlock(F,U)+(5)LargeBlockArmorSlope(F,R)!(5)-(20)LargeBlockArmorSlope(F,L)+(5)LargeBlockArmorBlock(F,U)+(5)LargeBlockArmorBlock(F,U)+(5)LargeBlockArmorBlock(F,U)+(5)LargeBlockArmorSlope(F,R)-(20)?(10)>(20)!(15)LargeBlockArmorSlope(B,L)+(5)LargeBlockArmorBlock(F,U)+(5)LargeBlockArmorBlock(F,U)+(5)LargeBlockArmorBlock(F,U)+(5)LargeBlockArmorSlope(B,R)!(5)-(20)LargeBlockArmorSlope(B,L)+(5)LargeBlockArmorBlock(F,U)+(5)LargeBlockArmorBlock(F,U)+(5)LargeBlockArmorBlock(F,U)+(5)LargeBlockArmorSlope(B,R)!(5)-(20)LargeBlockArmorSlope(B,L)+(5)LargeBlockArmorBlock(F,U)+(5)LargeBlockArmorBlock(F,U)+(5)LargeBlockArmorBlock(F,U)+(5)LargeBlockArmorSlope(B,R)<(5)?(10)-(20)LargeBlockArmorBlock(F,U)+(15)LargeBlockSmallGenerator(F,L)+(5)LargeBlockArmorBlock(F,U)!(5)-(20)LargeBlockArmorBlock(F,U)+(20)LargeBlockArmorBlock(F,U)!(5)-(20)LargeBlockArmorBlock(F,U)+(15)LargeBlockSmallGenerator(F,L)+(5)LargeBlockArmorBlock(F,U)<(5)?(10)-(20)LargeBlockArmorBlock(F,U)+(20)LargeBlockArmorBlock(F,U)!(5)-(20)LargeBlockArmorSlope(F,L)+(20)LargeBlockArmorBlock(F,U)!(5)-(20)LargeBlockArmorSlope(F,L)+(20)LargeBlockArmorBlock(F,U)<(5)?(10)-(20)LargeBlockArmorBlock(F,U)+(15)LargeBlockSmallGenerator(B,L)+(5)LargeBlockArmorBlock(F,U)!(5)-(20)LargeBlockArmorBlock(F,U)+(20)LargeBlockArmorBlock(F,U)!(5)-(20)LargeBlockArmorBlock(F,U)+(15)LargeBlockSmallGenerator(B,L)+(5)LargeBlockArmorBlock(F,U)<(5)?(10)-(20)LargeBlockArmorSlope(F,L)+(5)LargeBlockArmorBlock(F,U)+(5)LargeBlockArmorBlock(F,U)+(5)LargeBlockArmorBlock(F,U)+(5)LargeBlockArmorSlope(F,R)!(5)-(20)LargeBlockArmorSlope(F,L)+(5)LargeBlockArmorBlock(F,U)+(5)LargeBlockArmorBlock(F,U)+(5)LargeBlockArmorBlock(F,U)+(5)LargeBlockArmorSlope(F,R)!(5)-(20)LargeBlockArmorSlope(F,L)+(5)LargeBlockArmorBlock(F,U)+(5)LargeBlockArmorBlock(F,U)+(5)LargeBlockArmorBlock(F,U)+(5)LargeBlockArmorSlope(F,R)-(20)?(10)>(20)!(15)LargeBlockArmorSlope(B,L)+(5)LargeBlockArmorBlock(F,U)+(5)LargeBlockArmorBlock(F,U)+(5)LargeBlockArmorBlock(F,U)+(5)LargeBlockArmorSlope(B,R)!(5)-(20)LargeBlockArmorCorner(D,F)+(5)LargeBlockArmorSlope(D,F)+(5)LargeBlockArmorSlope(D,F)+(5)LargeBlockArmorSlope(D,F)+(5)LargeBlockArmorCorner(D,R)<(5)?(5)-(20)LargeBlockArmorBlock(F,U)+(5)SmallLight(D,F)+(10)SmallLight(D,F)+(5)LargeBlockArmorBlock(F,U)!(5)-(20)LargeBlockArmorSlope(D,L)+(5)LargeBlockArmorBlock(F,U)+(5)LargeBlockArmorBlock(F,U)+(5)LargeBlockArmorBlock(F,U)+(5)LargeBlockArmorSlope(D,R)<(5)?(5)-(20)LargeBlockArmorBlock(F,U)+(20)LargeBlockArmorBlock(F,U)!(5)-(20)LargeBlockArmorSlope(D,L)+(5)LargeBlockArmorBlock(F,U)+(5)Window1x1Flat(B,L)+(5)LargeBlockArmorBlock(F,U)+(5)LargeBlockArmorSlope(D,R)<(5)?(5)-(20)LargeBlockArmorBlock(F,U)+(5)SmallLight(D,F)+(10)SmallLight(D,F)+(5)LargeBlockArmorBlock(F,U)!(5)-(20)LargeBlockArmorSlope(D,L)+(5)LargeBlockArmorBlock(F,U)+(5)LargeBlockArmorBlock(F,U)+(5)LargeBlockArmorBlock(F,U)+(5)LargeBlockArmorSlope(D,R)<(5)?(5)-(20)LargeBlockArmorSlope(F,L)+(5)LargeBlockArmorBlock(F,U)+(5)LargeBlockArmorBlock(F,U)+(5)LargeBlockArmorBlock(F,U)+(5)LargeBlockArmorSlope(F,R)!(5)-(20)LargeBlockArmorCorner(F,U)+(5)LargeBlockArmorSlope(F,U)+(5)LargeBlockArmorSlope(F,U)+(5)LargeBlockArmorSlope(F,U)+(5)LargeBlockArmorCorner(F,R)-(20)?(5)>(20)!(10)]LargeBlockArmorCornerInv(F,R)+(5)LargeBlockArmorBlock(F,U)+(5)LargeBlockArmorBlock(F,U)+(5)LargeBlockArmorBlock(F,U)+(5)LargeBlockArmorSlope(B,R)!(5)-(20)LargeBlockArmorBlock(F,U)+(5)LargeBlockArmorBlock(F,U)+(5)LargeBlockArmorBlock(F,U)+(5)LargeBlockArmorBlock(F,U)+(5)LargeBlockArmorSlope(B,R)!(5)-(20)LargeBlockArmorBlock(F,U)+(5)LargeBlockArmorBlock(F,U)+(5)Window1x1Flat(R,U)+(5)LargeBlockArmorBlock(F,U)+(5)LargeBlockArmorSlope(B,R)!(5)-(20)LargeBlockArmorBlock(F,U)+(5)LargeBlockArmorBlock(F,U)+(5)LargeBlockArmorBlock(F,U)+(5)LargeBlockArmorBlock(F,U)+(5)LargeBlockArmorSlope(B,R)!(5)-(20)LargeBlockArmorCornerInv(U,R)+(5)LargeBlockArmorBlock(F,U)+(5)LargeBlockArmorBlock(F,U)+(5)LargeBlockArmorBlock(F,U)+(5)LargeBlockArmorSlope(B,R)<(5)?(20)-(20)LargeBlockArmorBlock(F,U)+(20)LargeBlockArmorBlock(F,U)!(5)LargeBlockArmorBlock(F,U)!(5)LargeBlockArmorBlock(F,U)!(5)LargeBlockArmorBlock(F,U)!(5)-(20)LargeBlockArmorBlock(F,U)+(20)LargeBlockArmorBlock(F,U)<(5)?(20)-(20)LargeBlockArmorBlock(F,U)+(20)LargeBlockArmorBlock(F,U)!(5)LargeBlockArmorBlock(F,U)!(5)LargeBlockArmorBlock(F,U)!(5)LargeBlockArmorBlock(F,U)!(5)-(20)LargeBlockArmorBlock(F,U)+(20)LargeBlockArmorBlock(F,U)<(5)?(20)-(20)LargeBlockArmorBlock(F,U)+(20)LargeBlockArmorBlock(F,U)!(5)LargeBlockArmorBlock(F,U)!(5)LargeBlockArmorBlock(F,U)!(5)LargeBlockArmorBlock(F,U)!(5)-(20)LargeBlockArmorBlock(F,U)+(20)LargeBlockArmorBlock(F,U)<(5)?(20)-(20)LargeBlockArmorCornerInv(D,R)+(5)LargeBlockArmorBlock(F,U)+(5)LargeBlockArmorBlock(F,U)+(5)LargeBlockArmorBlock(F,U)+(5)LargeBlockArmorSlope(F,R)!(5)-(20)LargeBlockArmorBlock(F,U)+(5)LargeBlockArmorBlock(F,U)+(5)LargeBlockArmorBlock(F,U)+(5)LargeBlockArmorBlock(F,U)+(5)LargeBlockArmorSlope(F,R)!(5)-(20)LargeBlockArmorBlock(F,U)+(5)LargeBlockArmorBlock(F,U)+(5)Window1x1Flat(R,D)+(5)LargeBlockArmorBlock(F,U)+(5)LargeBlockArmorSlope(F,R)!(5)-(20)LargeBlockArmorBlock(F,U)+(5)LargeBlockArmorBlock(F,U)+(5)LargeBlockArmorBlock(F,U)+(5)LargeBlockArmorBlock(F,U)+(5)LargeBlockArmorSlope(F,R)!(5)-(20)LargeBlockArmorCornerInv(B,R)+(5)LargeBlockArmorBlock(F,U)+(5)LargeBlockArmorBlock(F,U)+(5)LargeBlockArmorBlock(F,U)+(5)LargeBlockArmorSlope(F,R)-(20)?(20)>(20)!(25)LargeBlockArmorSlope(B,L)+(5)LargeBlockArmorBlock(F,U)+(5)LargeBlockArmorBlock(F,U)+(5)LargeBlockArmorBlock(F,U)+(5)LargeBlockArmorSlope(B,R)!(5)-(20)LargeBlockArmorSlope(B,L)+(5)LargeBlockArmorBlock(F,U)+(5)LargeBlockArmorBlock(F,U)+(5)LargeBlockArmorBlock(F,U)+(5)LargeBlockArmorSlope(B,R)!(5)-(20)LargeBlockArmorSlope(B,L)+(5)LargeBlockArmorBlock(F,U)+(5)LargeBlockArmorBlock(F,U)+(5)LargeBlockArmorBlock(F,U)+(5)LargeBlockArmorSlope(B,R)<(5)?(10)-(20)LargeBlockArmorBlock(F,U)+(20)LargeBlockArmorBlock(F,U)!(5)-(20)LargeBlockArmorBlock(F,U)+(10)SmallLight(D,F)+(10)LargeBlockArmorBlock(F,U)!(5)-(20)LargeBlockArmorBlock(F,U)+(5)LargeBlockSmallThrust(U,R)+(5)LargeBlockArmorBlock(F,U)+(5)LargeBlockSmallThrust(U,R)+(5)LargeBlockArmorBlock(F,U)<(5)?(10)-(20)LargeBlockArmorBlock(F,U)+(20)LargeBlockArmorBlock(F,U)!(5)-(20)LargeBlockArmorBlock(F,U)+(20)LargeBlockArmorBlock(F,U)!(5)-(20)LargeBlockArmorBlock(F,U)+(5)LargeBlockArmorBlock(F,U)+(5)LargeBlockArmorBlock(F,U)+(5)LargeBlockArmorBlock(F,U)+(5)LargeBlockArmorBlock(F,U)<(5)?(10)-(20)LargeBlockArmorBlock(F,U)+(20)LargeBlockArmorBlock(F,U)!(5)-(20)LargeBlockArmorBlock(F,U)+(10)SmallLight(D,F)+(10)LargeBlockArmorBlock(F,U)!(5)-(20)LargeBlockArmorBlock(F,U)+(5)LargeBlockSmallThrust(U,R)+(5)LargeBlockArmorBlock(F,U)+(5)LargeBlockSmallThrust(U,R)+(5)LargeBlockArmorBlock(F,U)<(5)?(10)-(20)LargeBlockArmorSlope(F,L)+(5)LargeBlockArmorBlock(F,U)+(5)LargeBlockArmorBlock(F,U)+(5)LargeBlockArmorBlock(F,U)+(5)LargeBlockArmorSlope(F,R)!(5)-(20)LargeBlockArmorSlope(F,L)+(5)LargeBlockArmorBlock(F,U)+(5)LargeBlockArmorBlock(F,U)+(5)LargeBlockArmorBlock(F,U)+(5)LargeBlockArmorSlope(F,R)!(5)-(20)LargeBlockArmorSlope(F,L)+(5)LargeBlockArmorBlock(F,U)+(5)LargeBlockArmorBlock(F,U)+(5)LargeBlockArmorBlock(F,U)+(5)LargeBlockArmorSlope(F,R)-(20)?(10)>(20)!(15)\n"
     ]
    }
   ],
   "source": [
    "structures, hl_axioms, ll_axioms = lsystem.apply_rules(\n",
    "    starting_axioms=[\n",
    "        'head',\n",
    "        'body',\n",
    "        'tail'\n",
    "    ],\n",
    "    iterations=[\n",
    "        1,\n",
    "        N_ITERATIONS,\n",
    "        1\n",
    "    ],\n",
    "    make_graph=True,\n",
    ")\n",
    "\n",
    "div = '\\n\\t: '\n",
    "print(f'High Level Axioms:\\n\\t: {div.join(hl_axioms)}\\nLow Level Axioms:\\n\\t: {div.join(ll_axioms)}')"
   ]
  },
  {
   "cell_type": "markdown",
   "metadata": {
    "tags": []
   },
   "source": [
    "# Game interaction\n",
    "\n",
    "Place structure in-game by updating its position and rotation according to the player."
   ]
  },
  {
   "cell_type": "code",
   "execution_count": 75,
   "metadata": {
    "execution": {
     "iopub.execute_input": "2022-01-06T13:53:22.281533Z",
     "iopub.status.busy": "2022-01-06T13:53:22.280395Z",
     "iopub.status.idle": "2022-01-06T13:53:22.293323Z",
     "shell.execute_reply": "2022-01-06T13:53:22.292519Z",
     "shell.execute_reply.started": "2022-01-06T13:53:22.281533Z"
    }
   },
   "outputs": [],
   "source": [
    "do_place_blocks = False"
   ]
  },
  {
   "cell_type": "code",
   "execution_count": 76,
   "metadata": {
    "execution": {
     "iopub.execute_input": "2022-01-06T13:53:22.297341Z",
     "iopub.status.busy": "2022-01-06T13:53:22.296466Z",
     "iopub.status.idle": "2022-01-06T13:53:22.308313Z",
     "shell.execute_reply": "2022-01-06T13:53:22.307319Z",
     "shell.execute_reply.started": "2022-01-06T13:53:22.297341Z"
    },
    "tags": []
   },
   "outputs": [],
   "source": [
    "if do_place_blocks:\n",
    "    base_position, orientation_forward, orientation_up = get_base_values()\n",
    "    structures[0].update(\n",
    "        origin=base_position,\n",
    "        orientation_forward=orientation_forward,\n",
    "        orientation_up=orientation_up,\n",
    "    )\n",
    "    toggle_gamemode(GameMode.PLACING)\n",
    "    place_blocks(structures[0].get_all_blocks(), False)\n",
    "    toggle_gamemode(GameMode.EVALUATING)"
   ]
  }
 ],
 "metadata": {
  "interpreter": {
   "hash": "20bab91c9f6d820bcc9168592ada9e5eef44cb7ec9e6ded26baf766bc800a1f4"
  },
  "kernelspec": {
   "display_name": "Python 3 (ipykernel)",
   "language": "python",
   "name": "python3"
  },
  "language_info": {
   "codemirror_mode": {
    "name": "ipython",
    "version": 3
   },
   "file_extension": ".py",
   "mimetype": "text/x-python",
   "name": "python",
   "nbconvert_exporter": "python",
   "pygments_lexer": "ipython3",
   "version": "3.8.12"
  },
  "toc-autonumbering": true,
  "toc-showcode": false,
  "toc-showmarkdowntxt": false,
  "toc-showtags": false
 },
 "nbformat": 4,
 "nbformat_minor": 4
}
