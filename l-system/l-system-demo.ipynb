{
 "cells": [
  {
   "cell_type": "markdown",
   "metadata": {
    "tags": []
   },
   "source": [
    "# L-System for Space Engineers DEMO\n",
    "\n",
    "Uses the `PCGSEPy` library included in this repository.\n",
    "\n",
    "**NOTE**: Have the game *running*; leaving the game simply paused breaks the API (no calls are accepted). *Suggestion*: Use windowed mode, press `Start` after the scenario is loaded and return to this notebook."
   ]
  },
  {
   "cell_type": "markdown",
   "metadata": {},
   "source": [
    "Import Python packages:"
   ]
  },
  {
   "cell_type": "code",
   "execution_count": 1,
   "metadata": {
    "tags": []
   },
   "outputs": [],
   "source": [
    "import json"
   ]
  },
  {
   "cell_type": "markdown",
   "metadata": {},
   "source": [
    "Import `PCGSEPy` modules:"
   ]
  },
  {
   "cell_type": "code",
   "execution_count": 2,
   "metadata": {},
   "outputs": [],
   "source": [
    "from pcgsepy.common.api_call import GameMode, get_base_values, toggle_gamemode\n",
    "from pcgsepy.common.vecs import orientation_from_str, Vec \n",
    "from pcgsepy.config import COMMON_ATOMS, HL_ATOMS, N_ITERATIONS, REQ_TILES \n",
    "from pcgsepy.lsystem.rules import RuleMaker, StochasticRules\n",
    "from pcgsepy.lsystem.actions import AtomAction, Rotations\n",
    "from pcgsepy.lsystem.parser import HLParser, LLParser\n",
    "from pcgsepy.lsystem.solver import LSolver\n",
    "from pcgsepy.lsystem.constraints import ConstraintHandler, ConstraintLevel, ConstraintTime\n",
    "from pcgsepy.lsystem.constraints_funcs import components_constraint, intersection_constraint, symmetry_constraint, wheels_plane_constraint\n",
    "from pcgsepy.lsystem.lsystem import LSystem\n",
    "from pcgsepy.structure import block_definitions, place_blocks, Structure"
   ]
  },
  {
   "cell_type": "markdown",
   "metadata": {
    "tags": []
   },
   "source": [
    "## Parsing rules\n",
    "\n",
    "Rules are written in the text files (defined in the configuration file) and are then read and validated by the `RuleMaker`. A rule set is then created as a `StochasticRules` object.\n",
    "\n",
    "The `LParser` expands a given axiom using its rule set.\n",
    "\n",
    "**NOTE**: Rules can have multiple characters in the *RHS*, which allows for more complex axioms. Rules are stochastic (i.e.: $LHS \\rightarrow p(RHS | LHS)$); to make a rule deterministic simply use a single $LHS \\rightarrow RHS$ with $p=1.$."
   ]
  },
  {
   "cell_type": "markdown",
   "metadata": {
    "tags": []
   },
   "source": [
    "## Alphabets\n",
    "\n",
    "We define the alphabets used in the L-System.\n",
    "\n",
    "Strings used as high-level structure:\n",
    "- `cockpit`\n",
    "- `engine`\n",
    "- `corridor`\n",
    "- `thruster`\n",
    "- etc...\n",
    "\n",
    "Strings used to define blocks:\n",
    "- *See `block_definitions.json` for a full list*.\n",
    "\n",
    "Strings used to define rotation commands:\n",
    "- `rotXcwY`: Clockwise rotation from X to Y\n",
    "- `rotXcwZ`: Clockwise rotation from X to Z\n",
    "- `rotYcwX`: Clockwise rotation from Y to X \n",
    "- `rotYcwZ`: Clockwise rotation from Y to Z \n",
    "- `rotZcwX`: Clockwise rotation from Z to X \n",
    "- `rotZcwY`: Clockwise rotation from Z to Y \n",
    "- `rotXccwY`: Counter-clockwise rotation from X to Y \n",
    "- `rotXccwZ`: Counter-clockwise rotation from X to Z  \n",
    "- `rotYccwX`: Counter-clockwise rotation from Y to X  \n",
    "- `rotYccwZ`: Counter-clockwise rotation from Y to Z  \n",
    "- `rotZccwX`: Counter-clockwise rotation from Z to X  \n",
    "- `rotZccwY`: Counter-clockwise rotation from Z to Y   \n",
    "\n",
    "Characters used as actions:\n",
    "- `[` and `]`]: Push and pop current coordinate\n",
    "- `+`: Move forward along `x`\n",
    "- `-`: Move backward along `x`\n",
    "- `!`: Move forward along `y`\n",
    "- `?`: Move backward along `y`\n",
    "- `>`: Move forward along `z`\n",
    "- `<`: Move backward along `z`\n",
    "\n",
    "We first have the alphabet comprised of common atoms."
   ]
  },
  {
   "cell_type": "code",
   "execution_count": 3,
   "metadata": {
    "tags": []
   },
   "outputs": [],
   "source": [
    "with open(COMMON_ATOMS, \"r\") as f:\n",
    "    common_alphabet = json.load(f)\n",
    "\n",
    "for k in common_alphabet:\n",
    "    action, args = common_alphabet[k][\"action\"], common_alphabet[k][\"args\"]\n",
    "    action = AtomAction(action)\n",
    "    if action == AtomAction.MOVE:\n",
    "        args = orientation_from_str[args]\n",
    "    elif action == AtomAction.ROTATE:\n",
    "        args = Rotations(args)\n",
    "    common_alphabet[k] = {\"action\": action, \"args\": args}"
   ]
  },
  {
   "cell_type": "markdown",
   "metadata": {},
   "source": [
    "Then the alphabet with high-level atoms is loaded, providing also the dimension of each atom in a high-level structure.\n",
    "\n",
    "We also define the offset of each atom. This is used when realigning the high-level structure for a rotation with the previous high-level structure."
   ]
  },
  {
   "cell_type": "code",
   "execution_count": 4,
   "metadata": {},
   "outputs": [],
   "source": [
    "with open(HL_ATOMS, \"r\") as f:\n",
    "    hl_atoms = json.load(f)\n",
    "\n",
    "tiles_dimensions = {}\n",
    "tiles_block_offset = {}\n",
    "for tile in hl_atoms.keys():\n",
    "    dx, dy, dz = hl_atoms[tile][\"dimensions\"]\n",
    "    tiles_dimensions[tile] = Vec.v3i(dx, dy, dz)\n",
    "    tiles_block_offset[tile] = hl_atoms[tile][\"offset\"]\n",
    "\n",
    "hl_alphabet = {}\n",
    "for k in common_alphabet.keys():\n",
    "    hl_alphabet[k] = common_alphabet[k]\n",
    "\n",
    "for hk in hl_atoms.keys():\n",
    "    hl_alphabet[hk] = {\"action\": AtomAction.PLACE, \"args\": []}"
   ]
  },
  {
   "cell_type": "markdown",
   "metadata": {},
   "source": [
    "And then the alphabet of low-level atoms is loaded."
   ]
  },
  {
   "cell_type": "code",
   "execution_count": 5,
   "metadata": {},
   "outputs": [],
   "source": [
    "ll_alphabet = {}\n",
    "\n",
    "for k in common_alphabet.keys():\n",
    "    ll_alphabet[k] = common_alphabet[k]\n",
    "\n",
    "for k in block_definitions.keys():\n",
    "    if k != \"\":  # TODO: This is a probable bug, reported to the SE API devs\n",
    "        ll_alphabet[k] = {\"action\": AtomAction.PLACE, \"args\": [k]}"
   ]
  },
  {
   "cell_type": "markdown",
   "metadata": {
    "tags": []
   },
   "source": [
    "## Solver class\n",
    "\n",
    "The `Solver` can both solve for a given axiom and fill a `Structure` with an axiom."
   ]
  },
  {
   "cell_type": "code",
   "execution_count": 6,
   "metadata": {},
   "outputs": [],
   "source": [
    "hl_rules = RuleMaker(ruleset='hlrules').get_rules()\n",
    "ll_rules = RuleMaker(ruleset='llrules').get_rules()\n",
    "\n",
    "hl_parser = HLParser(rules=hl_rules)\n",
    "ll_parser = LLParser(rules=ll_rules)\n",
    "\n",
    "hl_solver = LSolver(parser=hl_parser,\n",
    "                    atoms_alphabet=hl_alphabet,\n",
    "                    extra_args={\n",
    "                        'tiles_dimensions': tiles_dimensions,\n",
    "                        'tiles_block_offset': tiles_block_offset,\n",
    "                        'll_rules': ll_rules\n",
    "                    })\n",
    "ll_solver = LSolver(parser=ll_parser,\n",
    "                    atoms_alphabet=dict(hl_alphabet, **ll_alphabet),\n",
    "                    extra_args={})"
   ]
  },
  {
   "cell_type": "markdown",
   "metadata": {},
   "source": [
    "## Constraints\n",
    "\n",
    "Constraints are `ConstraintHandler` objects with a constraint function defined in the `pcgsepy.lsystem.constraints_funcs` module. Each of these constraints must always return a `bool` (`True` if the constraint is satisfied, `False` otherwise).\n",
    "\n",
    "Additional parameters for the constraints can be defined by adding the parameter to the `extra_args` dictionary of the `ConstraintHandler` object after initialization."
   ]
  },
  {
   "cell_type": "code",
   "execution_count": 7,
   "metadata": {},
   "outputs": [],
   "source": [
    "rcc = ConstraintHandler(\n",
    "    name=\"required_components\",\n",
    "    level=ConstraintLevel.HARD_CONSTRAINT,\n",
    "    when=ConstraintTime.END,\n",
    "    f=components_constraint,\n",
    "    extra_args={\n",
    "        'alphabet': hl_alphabet\n",
    "    }\n",
    ")\n",
    "rcc.extra_args[\"req_tiles\"] = REQ_TILES\n",
    "\n",
    "nic = ConstraintHandler(\n",
    "    name=\"no_intersections\",\n",
    "    level=ConstraintLevel.HARD_CONSTRAINT,\n",
    "    when=ConstraintTime.DURING,\n",
    "    f=intersection_constraint,\n",
    "    extra_args={\n",
    "        'alphabet': dict(hl_alphabet, **ll_alphabet)\n",
    "    },\n",
    "    needs_ll=True\n",
    ")\n",
    "nic.extra_args[\"tiles_dimensions\"] = tiles_dimensions\n",
    "\n",
    "sc = ConstraintHandler(\n",
    "    name=\"symmetry\",\n",
    "    level=ConstraintLevel.SOFT_CONSTRAINT,\n",
    "    when=ConstraintTime.END,\n",
    "    f=symmetry_constraint,\n",
    "    extra_args={\n",
    "        'alphabet': dict(hl_alphabet, **ll_alphabet)\n",
    "    }\n",
    ")\n",
    "\n",
    "wopc = ConstraintHandler(\n",
    "    name=\"wheels_on_plane\",\n",
    "    level=ConstraintLevel.SOFT_CONSTRAINT,\n",
    "    when=ConstraintTime.END,\n",
    "    f=wheels_plane_constraint,\n",
    "    extra_args={\n",
    "        'alphabet': dict(hl_alphabet, **ll_alphabet)\n",
    "    }\n",
    ")"
   ]
  },
  {
   "cell_type": "markdown",
   "metadata": {
    "tags": []
   },
   "source": [
    "## L-System\n",
    "\n",
    "The `LSystem` populates different structures with L-system solutions at different iterations."
   ]
  },
  {
   "cell_type": "code",
   "execution_count": 8,
   "metadata": {
    "tags": []
   },
   "outputs": [],
   "source": [
    "lsystem = LSystem(\n",
    "    hl_solver=hl_solver, ll_solver=ll_solver\n",
    ")"
   ]
  },
  {
   "cell_type": "markdown",
   "metadata": {},
   "source": [
    "We add the constraints to the `LSystem` at the correct abstraction level.lsystem.add_hl_constraint(c=rcc)\n",
    "lsystem.add_hl_constraint(c=nic)\n",
    "lsystem.add_ll_constraint(c=sc)\n",
    "lsystem.add_ll_constraint(c=wopc)"
   ]
  },
  {
   "cell_type": "code",
   "execution_count": 9,
   "metadata": {},
   "outputs": [],
   "source": [
    "lsystem.add_hl_constraint(c=rcc)\n",
    "lsystem.add_hl_constraint(c=nic)\n",
    "\n",
    "lsystem.add_ll_constraint(c=sc)\n",
    "lsystem.add_ll_constraint(c=wopc)"
   ]
  },
  {
   "cell_type": "markdown",
   "metadata": {},
   "source": [
    "We can run the L-System for a fixed number of iterations and obtain a candidate (high-level and low-level) axiom solution."
   ]
  },
  {
   "cell_type": "code",
   "execution_count": 10,
   "metadata": {},
   "outputs": [
    {
     "name": "stdout",
     "output_type": "stream",
     "text": [
      "### HL SOLVER ###\n",
      "Expansion n.1/4; current number of axioms: 1\n",
      "Expansion n.2/4; current number of axioms: 2\n",
      "--- EXPANDING AXIOM ---\n",
      "cockpitcorridor(3)corridor(3)\n",
      "--- EXPANSION CONSTRAINTS CHECK ---\n",
      "Constraint no_intersections (HARD_CONSTRAINT) at DURING:\tTrue\n",
      "--- EXPANDING AXIOM ---\n",
      "cockpitcorridor(6)[RotZccwYcorridor(6)]\n",
      "--- EXPANSION CONSTRAINTS CHECK ---\n",
      "Constraint no_intersections (HARD_CONSTRAINT) at DURING:\tTrue\n",
      "--- EXPANDING AXIOM ---\n",
      "cockpitcorridor(9)[RotZccwXcorridor(1)]\n",
      "--- EXPANSION CONSTRAINTS CHECK ---\n",
      "Constraint no_intersections (HARD_CONSTRAINT) at DURING:\tTrue\n",
      "--- EXPANDING AXIOM ---\n",
      "cockpitcorridor(9)[RotZccwXcorridor(4)]\n",
      "--- EXPANSION CONSTRAINTS CHECK ---\n",
      "Constraint no_intersections (HARD_CONSTRAINT) at DURING:\tTrue\n",
      "Expansion n.3/4; current number of axioms: 4\n",
      "--- EXPANDING AXIOM ---\n",
      "cockpitcorridor(9)[RotZccwXcorridor(2)][RotZccwXcorridor(4)thruster]\n",
      "--- EXPANSION CONSTRAINTS CHECK ---\n",
      "Constraint no_intersections (HARD_CONSTRAINT) at DURING:\tFalse\n",
      "--- EXPANDING AXIOM ---\n",
      "cockpitcorridor(9)[RotZccwXcorridor(9)][RotZccwXcorridor(4)wheels]\n",
      "--- EXPANSION CONSTRAINTS CHECK ---\n",
      "Constraint no_intersections (HARD_CONSTRAINT) at DURING:\tFalse\n",
      "--- EXPANDING AXIOM ---\n",
      "cockpitcorridor(9)[RotZccwYcorridor(6)][RotZccwXcorridor(1)thruster]\n",
      "--- EXPANSION CONSTRAINTS CHECK ---\n",
      "Constraint no_intersections (HARD_CONSTRAINT) at DURING:\tTrue\n",
      "--- EXPANDING AXIOM ---\n",
      "cockpitcorridor(9)[RotZccwYcorridor(8)][RotZccwXcorridor(1)thruster]\n",
      "--- EXPANSION CONSTRAINTS CHECK ---\n",
      "Constraint no_intersections (HARD_CONSTRAINT) at DURING:\tTrue\n",
      "--- EXPANDING AXIOM ---\n",
      "cockpitcorridor(8)corridor(8)[RotZccwYcorridor(6)thruster]\n",
      "--- EXPANSION CONSTRAINTS CHECK ---\n",
      "Constraint no_intersections (HARD_CONSTRAINT) at DURING:\tTrue\n",
      "--- EXPANDING AXIOM ---\n",
      "cockpitcorridor(6)[RotZccwYcorridor(8)][RotZccwYcorridor(6)thruster]\n",
      "--- EXPANSION CONSTRAINTS CHECK ---\n",
      "Constraint no_intersections (HARD_CONSTRAINT) at DURING:\tFalse\n",
      "--- EXPANDING AXIOM ---\n",
      "cockpitcorridor(3)[RotZccwXcorridor(4)]corridor(3)[RotZccwXcorridor(9)]\n",
      "--- EXPANSION CONSTRAINTS CHECK ---\n",
      "Constraint no_intersections (HARD_CONSTRAINT) at DURING:\tTrue\n",
      "--- EXPANDING AXIOM ---\n",
      "cockpitcorridor(3)[RotZccwYcorridor(5)]corridor(3)[RotZccwYcorridor(5)]\n",
      "--- EXPANSION CONSTRAINTS CHECK ---\n",
      "Constraint no_intersections (HARD_CONSTRAINT) at DURING:\tTrue\n",
      "Expansion n.4/4; current number of axioms: 5\n",
      "--- EXPANDING AXIOM ---\n",
      "cockpitcorridor(8)[RotZccwYcorridor(5)]corridor(8)[RotZccwYcorridor(4)][RotZccwYcorridor(6)[RotZccwXcorridor(4)]thruster]\n",
      "--- EXPANSION CONSTRAINTS CHECK ---\n",
      "Constraint no_intersections (HARD_CONSTRAINT) at DURING:\tFalse\n",
      "--- EXPANDING AXIOM ---\n",
      "cockpitcorridor(8)[RotZccwXcorridor(1)]corridor(8)[RotZccwXcorridor(6)][RotZccwYcorridor(6)[RotZccwYcorridor(9)]thruster]\n",
      "--- EXPANSION CONSTRAINTS CHECK ---\n",
      "Constraint no_intersections (HARD_CONSTRAINT) at DURING:\tTrue\n",
      "--- EXPANDING AXIOM ---\n",
      "cockpitcorridor(9)[RotZccwYcorridor(2)][RotZccwYcorridor(6)wheels][RotZccwXcorridor(1)[RotZccwXcorridor(7)]thruster]\n",
      "--- EXPANSION CONSTRAINTS CHECK ---\n",
      "Constraint no_intersections (HARD_CONSTRAINT) at DURING:\tFalse\n",
      "--- EXPANDING AXIOM ---\n",
      "cockpitcorridor(9)[RotZccwYcorridor(9)][RotZccwYcorridor(6)wheels][RotZccwXcorridor(9)corridor(9)thruster]\n",
      "--- EXPANSION CONSTRAINTS CHECK ---\n",
      "Constraint no_intersections (HARD_CONSTRAINT) at DURING:\tFalse\n",
      "--- EXPANDING AXIOM ---\n",
      "cockpitcorridor(3)[RotZccwXcorridor(2)][RotZccwXcorridor(4)wheels]corridor(3)[RotZccwXcorridor(5)][RotZccwXcorridor(9)wheels]\n",
      "--- EXPANSION CONSTRAINTS CHECK ---\n",
      "Constraint no_intersections (HARD_CONSTRAINT) at DURING:\tFalse\n",
      "--- EXPANDING AXIOM ---\n",
      "cockpitcorridor(3)[RotZccwXcorridor(9)][RotZccwXcorridor(4)thruster]corridor(5)corridor(5)[RotZccwXcorridor(9)thruster]\n",
      "--- EXPANSION CONSTRAINTS CHECK ---\n",
      "Constraint no_intersections (HARD_CONSTRAINT) at DURING:\tFalse\n",
      "--- EXPANDING AXIOM ---\n",
      "cockpitcorridor(3)[RotZccwYcorridor(2)][RotZccwYcorridor(5)wheels]corridor(3)[RotZccwYcorridor(8)][RotZccwYcorridor(5)wheels]\n",
      "--- EXPANSION CONSTRAINTS CHECK ---\n",
      "Constraint no_intersections (HARD_CONSTRAINT) at DURING:\tFalse\n",
      "--- EXPANDING AXIOM ---\n",
      "cockpitcorridor(3)[RotZccwXcorridor(2)][RotZccwYcorridor(5)wheels]corridor(3)[RotZccwYcorridor(7)][RotZccwYcorridor(5)thruster]\n",
      "--- EXPANSION CONSTRAINTS CHECK ---\n",
      "Constraint no_intersections (HARD_CONSTRAINT) at DURING:\tFalse\n",
      "--- EXPANDING AXIOM ---\n",
      "cockpitcorridor(8)corridor(8)[RotZccwYcorridor(8)thruster][RotZccwXcorridor(4)corridor(4)thruster]\n",
      "--- EXPANSION CONSTRAINTS CHECK ---\n",
      "Constraint no_intersections (HARD_CONSTRAINT) at DURING:\tTrue\n",
      "--- EXPANDING AXIOM ---\n",
      "cockpitcorridor(9)[RotZccwYcorridor(7)][RotZccwYcorridor(8)thruster][RotZccwXcorridor(1)[RotZccwYcorridor(5)]thruster]\n",
      "--- EXPANSION CONSTRAINTS CHECK ---\n",
      "Constraint no_intersections (HARD_CONSTRAINT) at DURING:\tFalse\n",
      "--- AXIOM ---\n",
      "cockpitcorridor(8)[RotZccwXcorridor(1)]corridor(8)[RotZccwXcorridor(6)][RotZccwYcorridor(6)[RotZccwYcorridor(9)]thruster]\n",
      "--- FINAL CONSTRAINTS CHECK---\n",
      "Constraint required_components (HARD_CONSTRAINT) at END:\tTrue\n",
      "--- AXIOM ---\n",
      "cockpitcorridor(8)corridor(8)[RotZccwYcorridor(8)thruster][RotZccwXcorridor(4)corridor(4)thruster]\n",
      "--- FINAL CONSTRAINTS CHECK---\n",
      "Constraint required_components (HARD_CONSTRAINT) at END:\tTrue\n",
      "\n",
      "-- FINAL AXIOM TRANSLATION --\n",
      "cockpitcorridor(8)[RotZccwXcorridor(1)]corridor(8)[RotZccwXcorridor(6)][RotZccwYcorridor(6)[RotZccwYcorridor(9)]thruster] -> cockpit>(5)corridor>(5)corridor>(5)corridor>(5)corridor>(5)corridor>(5)corridor>(5)corridor>(5)corridor>(5)[+(15)>(10)RotZccwXcorridor>(5)]corridor>(5)corridor>(5)corridor>(5)corridor>(5)corridor>(5)corridor>(5)corridor>(5)corridor>(5)[+(15)>(10)RotZccwXcorridor>(5)corridor>(5)corridor>(5)corridor>(5)corridor>(5)corridor>(5)][!(15)>(10)RotZccwYcorridor>(5)corridor>(5)corridor>(5)corridor>(5)corridor>(5)corridor>(5)[!(15)>(10)RotZccwYcorridor>(5)corridor>(5)corridor>(5)corridor>(5)corridor>(5)corridor>(5)corridor>(5)corridor>(5)corridor>(5)]thruster>(5)]\n",
      "\n",
      "### LL SOLVER ###\n",
      "Expansion n.1/1; current number of axioms: 1\n",
      "--- AXIOM ---\n",
      "LargeBlockArmorSlope(U,L)+(5)LargeBlockArmorBlock(F,U)!(5)LargeBlockCockpit(F,U)?(5)+(5)LargeBlockArmorSlope(U,R)!(5)LargeBlockArmorBlock(F,U)!(5)LargeBlockArmorSlope(D,R)-(5)LargeBlockArmorBlock(F,U)-(5)LargeBlockArmorSlope(D,L)?(5)LargeBlockArmorBlock(F,U)?(5)>(5)LargeBlockArmorBlock(F,U)+(5)LargeBlockArmorBlock(F,U)+(5)LargeBlockArmorBlock(F,U)!(5)LargeBlockArmorBlock(F,U)!(5)LargeBlockArmorBlock(F,U)-(5)LargeBlockArmorBlock(F,U)-(5)LargeBlockArmorBlock(F,U)?(5)LargeBlockArmorBlock(F,U)?(5)>(5)LargeBlockArmorSlope(U,L)+(5)LargeBlockArmorBlock(F,U)+(5)LargeBlockArmorSlope(U,R)!(5)LargeBlockArmorBlock(F,U)!(5)LargeBlockArmorSlope(D,R)-(5)LargeBlockArmorBlock(F,U)-(5)LargeBlockArmorSlope(D,L)?(5)LargeBlockArmorBlock(F,U)?(5)>(5)LargeBlockArmorBlock(F,U)+(5)LargeBlockArmorBlock(F,U)+(5)LargeBlockArmorBlock(F,U)!(5)LargeBlockArmorBlock(F,U)!(5)LargeBlockArmorBlock(F,U)-(5)LargeBlockArmorBlock(F,U)-(5)LargeBlockArmorBlock(F,U)?(5)LargeBlockArmorBlock(F,U)?(5)>(5)LargeBlockArmorSlope(U,L)+(5)LargeBlockArmorBlock(F,U)+(5)LargeBlockArmorSlope(U,R)!(5)LargeBlockArmorBlock(F,U)!(5)LargeBlockArmorSlope(D,R)-(5)LargeBlockArmorBlock(F,U)-(5)LargeBlockArmorSlope(D,L)?(5)LargeBlockArmorBlock(F,U)?(5)>(5)LargeBlockArmorBlock(F,U)+(5)LargeBlockArmorBlock(F,U)+(5)LargeBlockArmorBlock(F,U)!(5)LargeBlockArmorBlock(F,U)!(5)LargeBlockArmorBlock(F,U)-(5)LargeBlockArmorBlock(F,U)-(5)LargeBlockArmorBlock(F,U)?(5)LargeBlockArmorBlock(F,U)?(5)>(5)LargeBlockArmorBlock(F,U)+(5)LargeBlockArmorBlock(F,U)+(5)LargeBlockArmorBlock(F,U)!(5)LargeBlockArmorBlock(F,U)!(5)LargeBlockArmorBlock(F,U)-(5)LargeBlockArmorBlock(F,U)-(5)LargeBlockArmorBlock(F,U)?(5)LargeBlockArmorBlock(F,U)?(5)>(5)LargeBlockArmorBlock(F,U)+(5)LargeBlockArmorBlock(F,U)+(5)LargeBlockArmorBlock(F,U)!(5)LargeBlockArmorBlock(F,U)!(5)LargeBlockArmorBlock(F,U)-(5)LargeBlockArmorBlock(F,U)-(5)LargeBlockArmorBlock(F,U)?(5)LargeBlockArmorBlock(F,U)?(5)>(5)LargeBlockArmorBlock(F,U)+(5)LargeBlockArmorBlock(F,U)+(5)LargeBlockArmorBlock(F,U)!(5)LargeBlockArmorBlock(F,U)!(5)LargeBlockArmorBlock(F,U)-(5)LargeBlockArmorBlock(F,U)-(5)LargeBlockArmorBlock(F,U)?(5)LargeBlockArmorBlock(F,U)?(5)>(5)[+(15)>(10)RotZccwXLargeBlockArmorBlock(F,U)+(5)LargeBlockArmorBlock(F,U)+(5)LargeBlockArmorBlock(F,U)!(5)LargeBlockArmorBlock(F,U)!(5)LargeBlockArmorBlock(F,U)-(5)LargeBlockArmorBlock(F,U)-(5)LargeBlockArmorBlock(F,U)?(5)LargeBlockArmorBlock(F,U)?(5)>(5)]LargeBlockArmorSlope(U,L)+(5)LargeBlockArmorBlock(F,U)+(5)LargeBlockArmorSlope(U,R)!(5)LargeBlockArmorBlock(F,U)!(5)LargeBlockArmorSlope(D,R)-(5)LargeBlockArmorBlock(F,U)-(5)LargeBlockArmorSlope(D,L)?(5)LargeBlockArmorBlock(F,U)?(5)>(5)LargeBlockArmorSlope(U,L)+(5)LargeBlockArmorBlock(F,U)+(5)LargeBlockArmorSlope(U,R)!(5)LargeBlockArmorBlock(F,U)!(5)LargeBlockArmorSlope(D,R)-(5)LargeBlockArmorBlock(F,U)-(5)LargeBlockArmorSlope(D,L)?(5)LargeBlockArmorBlock(F,U)?(5)>(5)LargeBlockArmorSlope(U,L)+(5)LargeBlockArmorBlock(F,U)+(5)LargeBlockArmorSlope(U,R)!(5)LargeBlockArmorBlock(F,U)!(5)LargeBlockArmorSlope(D,R)-(5)LargeBlockArmorBlock(F,U)-(5)LargeBlockArmorSlope(D,L)?(5)LargeBlockArmorBlock(F,U)?(5)>(5)LargeBlockArmorSlope(U,L)+(5)LargeBlockArmorBlock(F,U)+(5)LargeBlockArmorSlope(U,R)!(5)LargeBlockArmorBlock(F,U)!(5)LargeBlockArmorSlope(D,R)-(5)LargeBlockArmorBlock(F,U)-(5)LargeBlockArmorSlope(D,L)?(5)LargeBlockArmorBlock(F,U)?(5)>(5)LargeBlockArmorSlope(U,L)+(5)LargeBlockArmorBlock(F,U)+(5)LargeBlockArmorSlope(U,R)!(5)LargeBlockArmorBlock(F,U)!(5)LargeBlockArmorSlope(D,R)-(5)LargeBlockArmorBlock(F,U)-(5)LargeBlockArmorSlope(D,L)?(5)LargeBlockArmorBlock(F,U)?(5)>(5)LargeBlockArmorBlock(F,U)+(5)LargeBlockArmorBlock(F,U)+(5)LargeBlockArmorBlock(F,U)!(5)LargeBlockArmorBlock(F,U)!(5)LargeBlockArmorBlock(F,U)-(5)LargeBlockArmorBlock(F,U)-(5)LargeBlockArmorBlock(F,U)?(5)LargeBlockArmorBlock(F,U)?(5)>(5)LargeBlockArmorBlock(F,U)+(5)LargeBlockArmorBlock(F,U)+(5)LargeBlockArmorBlock(F,U)!(5)LargeBlockArmorBlock(F,U)!(5)LargeBlockArmorBlock(F,U)-(5)LargeBlockArmorBlock(F,U)-(5)LargeBlockArmorBlock(F,U)?(5)LargeBlockArmorBlock(F,U)?(5)>(5)LargeBlockArmorBlock(F,U)+(5)LargeBlockArmorBlock(F,U)+(5)LargeBlockArmorBlock(F,U)!(5)LargeBlockArmorBlock(F,U)!(5)LargeBlockArmorBlock(F,U)-(5)LargeBlockArmorBlock(F,U)-(5)LargeBlockArmorBlock(F,U)?(5)LargeBlockArmorBlock(F,U)?(5)>(5)[+(15)>(10)RotZccwXLargeBlockArmorBlock(F,U)+(5)LargeBlockArmorBlock(F,U)+(5)LargeBlockArmorBlock(F,U)!(5)LargeBlockArmorBlock(F,U)!(5)LargeBlockArmorBlock(F,U)-(5)LargeBlockArmorBlock(F,U)-(5)LargeBlockArmorBlock(F,U)?(5)LargeBlockArmorBlock(F,U)?(5)>(5)LargeBlockArmorSlope(U,L)+(5)LargeBlockArmorBlock(F,U)+(5)LargeBlockArmorSlope(U,R)!(5)LargeBlockArmorBlock(F,U)!(5)LargeBlockArmorSlope(D,R)-(5)LargeBlockArmorBlock(F,U)-(5)LargeBlockArmorSlope(D,L)?(5)LargeBlockArmorBlock(F,U)?(5)>(5)LargeBlockArmorSlope(U,L)+(5)LargeBlockArmorBlock(F,U)+(5)LargeBlockArmorSlope(U,R)!(5)LargeBlockArmorBlock(F,U)!(5)LargeBlockArmorSlope(D,R)-(5)LargeBlockArmorBlock(F,U)-(5)LargeBlockArmorSlope(D,L)?(5)LargeBlockArmorBlock(F,U)?(5)>(5)LargeBlockArmorBlock(F,U)+(5)LargeBlockArmorBlock(F,U)+(5)LargeBlockArmorBlock(F,U)!(5)LargeBlockArmorBlock(F,U)!(5)LargeBlockArmorBlock(F,U)-(5)LargeBlockArmorBlock(F,U)-(5)LargeBlockArmorBlock(F,U)?(5)LargeBlockArmorBlock(F,U)?(5)>(5)LargeBlockArmorBlock(F,U)+(5)LargeBlockArmorBlock(F,U)+(5)LargeBlockArmorBlock(F,U)!(5)LargeBlockArmorBlock(F,U)!(5)LargeBlockArmorBlock(F,U)-(5)LargeBlockArmorBlock(F,U)-(5)LargeBlockArmorBlock(F,U)?(5)LargeBlockArmorBlock(F,U)?(5)>(5)LargeBlockArmorBlock(F,U)+(5)LargeBlockArmorBlock(F,U)+(5)LargeBlockArmorBlock(F,U)!(5)LargeBlockArmorBlock(F,U)!(5)LargeBlockArmorBlock(F,U)-(5)LargeBlockArmorBlock(F,U)-(5)LargeBlockArmorBlock(F,U)?(5)LargeBlockArmorBlock(F,U)?(5)>(5)][!(15)>(10)RotZccwYLargeBlockArmorSlope(U,L)+(5)LargeBlockArmorBlock(F,U)+(5)LargeBlockArmorSlope(U,R)!(5)LargeBlockArmorBlock(F,U)!(5)LargeBlockArmorSlope(D,R)-(5)LargeBlockArmorBlock(F,U)-(5)LargeBlockArmorSlope(D,L)?(5)LargeBlockArmorBlock(F,U)?(5)>(5)LargeBlockArmorBlock(F,U)+(5)LargeBlockArmorBlock(F,U)+(5)LargeBlockArmorBlock(F,U)!(5)LargeBlockArmorBlock(F,U)!(5)LargeBlockArmorBlock(F,U)-(5)LargeBlockArmorBlock(F,U)-(5)LargeBlockArmorBlock(F,U)?(5)LargeBlockArmorBlock(F,U)?(5)>(5)LargeBlockArmorSlope(U,L)+(5)LargeBlockArmorBlock(F,U)+(5)LargeBlockArmorSlope(U,R)!(5)LargeBlockArmorBlock(F,U)!(5)LargeBlockArmorSlope(D,R)-(5)LargeBlockArmorBlock(F,U)-(5)LargeBlockArmorSlope(D,L)?(5)LargeBlockArmorBlock(F,U)?(5)>(5)LargeBlockArmorBlock(F,U)+(5)LargeBlockArmorBlock(F,U)+(5)LargeBlockArmorBlock(F,U)!(5)LargeBlockArmorBlock(F,U)!(5)LargeBlockArmorBlock(F,U)-(5)LargeBlockArmorBlock(F,U)-(5)LargeBlockArmorBlock(F,U)?(5)LargeBlockArmorBlock(F,U)?(5)>(5)LargeBlockArmorSlope(U,L)+(5)LargeBlockArmorBlock(F,U)+(5)LargeBlockArmorSlope(U,R)!(5)LargeBlockArmorBlock(F,U)!(5)LargeBlockArmorSlope(D,R)-(5)LargeBlockArmorBlock(F,U)-(5)LargeBlockArmorSlope(D,L)?(5)LargeBlockArmorBlock(F,U)?(5)>(5)LargeBlockArmorBlock(F,U)+(5)LargeBlockArmorBlock(F,U)+(5)LargeBlockArmorBlock(F,U)!(5)LargeBlockArmorBlock(F,U)!(5)LargeBlockArmorBlock(F,U)-(5)LargeBlockArmorBlock(F,U)-(5)LargeBlockArmorBlock(F,U)?(5)LargeBlockArmorBlock(F,U)?(5)>(5)[!(15)>(10)RotZccwYLargeBlockArmorBlock(F,U)+(5)LargeBlockArmorBlock(F,U)+(5)LargeBlockArmorBlock(F,U)!(5)LargeBlockArmorBlock(F,U)!(5)LargeBlockArmorBlock(F,U)-(5)LargeBlockArmorBlock(F,U)-(5)LargeBlockArmorBlock(F,U)?(5)LargeBlockArmorBlock(F,U)?(5)>(5)LargeBlockArmorBlock(F,U)+(5)LargeBlockArmorBlock(F,U)+(5)LargeBlockArmorBlock(F,U)!(5)LargeBlockArmorBlock(F,U)!(5)LargeBlockArmorBlock(F,U)-(5)LargeBlockArmorBlock(F,U)-(5)LargeBlockArmorBlock(F,U)?(5)LargeBlockArmorBlock(F,U)?(5)>(5)LargeBlockArmorSlope(U,L)+(5)LargeBlockArmorBlock(F,U)+(5)LargeBlockArmorSlope(U,R)!(5)LargeBlockArmorBlock(F,U)!(5)LargeBlockArmorSlope(D,R)-(5)LargeBlockArmorBlock(F,U)-(5)LargeBlockArmorSlope(D,L)?(5)LargeBlockArmorBlock(F,U)?(5)>(5)LargeBlockArmorSlope(U,L)+(5)LargeBlockArmorBlock(F,U)+(5)LargeBlockArmorSlope(U,R)!(5)LargeBlockArmorBlock(F,U)!(5)LargeBlockArmorSlope(D,R)-(5)LargeBlockArmorBlock(F,U)-(5)LargeBlockArmorSlope(D,L)?(5)LargeBlockArmorBlock(F,U)?(5)>(5)LargeBlockArmorSlope(U,L)+(5)LargeBlockArmorBlock(F,U)+(5)LargeBlockArmorSlope(U,R)!(5)LargeBlockArmorBlock(F,U)!(5)LargeBlockArmorSlope(D,R)-(5)LargeBlockArmorBlock(F,U)-(5)LargeBlockArmorSlope(D,L)?(5)LargeBlockArmorBlock(F,U)?(5)>(5)LargeBlockArmorSlope(U,L)+(5)LargeBlockArmorBlock(F,U)+(5)LargeBlockArmorSlope(U,R)!(5)LargeBlockArmorBlock(F,U)!(5)LargeBlockArmorSlope(D,R)-(5)LargeBlockArmorBlock(F,U)-(5)LargeBlockArmorSlope(D,L)?(5)LargeBlockArmorBlock(F,U)?(5)>(5)LargeBlockArmorSlope(U,L)+(5)LargeBlockArmorBlock(F,U)+(5)LargeBlockArmorSlope(U,R)!(5)LargeBlockArmorBlock(F,U)!(5)LargeBlockArmorSlope(D,R)-(5)LargeBlockArmorBlock(F,U)-(5)LargeBlockArmorSlope(D,L)?(5)LargeBlockArmorBlock(F,U)?(5)>(5)LargeBlockArmorSlope(U,L)+(5)LargeBlockArmorBlock(F,U)+(5)LargeBlockArmorSlope(U,R)!(5)LargeBlockArmorBlock(F,U)!(5)LargeBlockArmorSlope(D,R)-(5)LargeBlockArmorBlock(F,U)-(5)LargeBlockArmorSlope(D,L)?(5)LargeBlockArmorBlock(F,U)?(5)>(5)LargeBlockArmorSlope(U,L)+(5)LargeBlockArmorBlock(F,U)+(5)LargeBlockArmorSlope(U,R)!(5)LargeBlockArmorBlock(F,U)!(5)LargeBlockArmorSlope(D,R)-(5)LargeBlockArmorBlock(F,U)-(5)LargeBlockArmorSlope(D,L)?(5)LargeBlockArmorBlock(F,U)?(5)>(5)]LargeBlockSmallHydrogenThrust(B,U)+(10)LargeBlockSmallHydrogenThrust(B,U)!(10)LargeBlockSmallHydrogenThrust(B,U)-(10)LargeBlockSmallHydrogenThrust(B,U)?(10)>(5)]\n",
      "--- FINAL CONSTRAINTS CHECK---\n",
      "Constraint symmetry (SOFT_CONSTRAINT) at END:\tFalse\n",
      "Constraint wheels_on_plane (SOFT_CONSTRAINT) at END:\tFalse\n"
     ]
    },
    {
     "data": {
      "image/png": "[encoded data removed]",
      "text/plain": [
       "<Figure size 432x288 with 1 Axes>"
      ]
     },
     "metadata": {
      "needs_background": "light"
     },
     "output_type": "display_data"
    },
    {
     "name": "stdout",
     "output_type": "stream",
     "text": [
      "High Level Axiom:\n",
      "\tcockpitcorridor(8)[RotZccwXcorridor(1)]corridor(8)[RotZccwXcorridor(6)][RotZccwYcorridor(6)[RotZccwYcorridor(9)]thruster]\n",
      "Low Level Axiom:\n",
      "\tLargeBlockArmorSlope(U,L)+(5)LargeBlockArmorBlock(F,U)!(5)LargeBlockCockpit(F,U)?(5)+(5)LargeBlockArmorSlope(U,R)!(5)LargeBlockArmorBlock(F,U)!(5)LargeBlockArmorSlope(D,R)-(5)LargeBlockArmorBlock(F,U)-(5)LargeBlockArmorSlope(D,L)?(5)LargeBlockArmorBlock(F,U)?(5)>(5)LargeBlockArmorBlock(F,U)+(5)LargeBlockArmorBlock(F,U)+(5)LargeBlockArmorBlock(F,U)!(5)LargeBlockArmorBlock(F,U)!(5)LargeBlockArmorBlock(F,U)-(5)LargeBlockArmorBlock(F,U)-(5)LargeBlockArmorBlock(F,U)?(5)LargeBlockArmorBlock(F,U)?(5)>(5)LargeBlockArmorSlope(U,L)+(5)LargeBlockArmorBlock(F,U)+(5)LargeBlockArmorSlope(U,R)!(5)LargeBlockArmorBlock(F,U)!(5)LargeBlockArmorSlope(D,R)-(5)LargeBlockArmorBlock(F,U)-(5)LargeBlockArmorSlope(D,L)?(5)LargeBlockArmorBlock(F,U)?(5)>(5)LargeBlockArmorBlock(F,U)+(5)LargeBlockArmorBlock(F,U)+(5)LargeBlockArmorBlock(F,U)!(5)LargeBlockArmorBlock(F,U)!(5)LargeBlockArmorBlock(F,U)-(5)LargeBlockArmorBlock(F,U)-(5)LargeBlockArmorBlock(F,U)?(5)LargeBlockArmorBlock(F,U)?(5)>(5)LargeBlockArmorSlope(U,L)+(5)LargeBlockArmorBlock(F,U)+(5)LargeBlockArmorSlope(U,R)!(5)LargeBlockArmorBlock(F,U)!(5)LargeBlockArmorSlope(D,R)-(5)LargeBlockArmorBlock(F,U)-(5)LargeBlockArmorSlope(D,L)?(5)LargeBlockArmorBlock(F,U)?(5)>(5)LargeBlockArmorBlock(F,U)+(5)LargeBlockArmorBlock(F,U)+(5)LargeBlockArmorBlock(F,U)!(5)LargeBlockArmorBlock(F,U)!(5)LargeBlockArmorBlock(F,U)-(5)LargeBlockArmorBlock(F,U)-(5)LargeBlockArmorBlock(F,U)?(5)LargeBlockArmorBlock(F,U)?(5)>(5)LargeBlockArmorBlock(F,U)+(5)LargeBlockArmorBlock(F,U)+(5)LargeBlockArmorBlock(F,U)!(5)LargeBlockArmorBlock(F,U)!(5)LargeBlockArmorBlock(F,U)-(5)LargeBlockArmorBlock(F,U)-(5)LargeBlockArmorBlock(F,U)?(5)LargeBlockArmorBlock(F,U)?(5)>(5)LargeBlockArmorBlock(F,U)+(5)LargeBlockArmorBlock(F,U)+(5)LargeBlockArmorBlock(F,U)!(5)LargeBlockArmorBlock(F,U)!(5)LargeBlockArmorBlock(F,U)-(5)LargeBlockArmorBlock(F,U)-(5)LargeBlockArmorBlock(F,U)?(5)LargeBlockArmorBlock(F,U)?(5)>(5)LargeBlockArmorBlock(F,U)+(5)LargeBlockArmorBlock(F,U)+(5)LargeBlockArmorBlock(F,U)!(5)LargeBlockArmorBlock(F,U)!(5)LargeBlockArmorBlock(F,U)-(5)LargeBlockArmorBlock(F,U)-(5)LargeBlockArmorBlock(F,U)?(5)LargeBlockArmorBlock(F,U)?(5)>(5)[+(15)>(10)RotZccwXLargeBlockArmorBlock(F,U)+(5)LargeBlockArmorBlock(F,U)+(5)LargeBlockArmorBlock(F,U)!(5)LargeBlockArmorBlock(F,U)!(5)LargeBlockArmorBlock(F,U)-(5)LargeBlockArmorBlock(F,U)-(5)LargeBlockArmorBlock(F,U)?(5)LargeBlockArmorBlock(F,U)?(5)>(5)]LargeBlockArmorSlope(U,L)+(5)LargeBlockArmorBlock(F,U)+(5)LargeBlockArmorSlope(U,R)!(5)LargeBlockArmorBlock(F,U)!(5)LargeBlockArmorSlope(D,R)-(5)LargeBlockArmorBlock(F,U)-(5)LargeBlockArmorSlope(D,L)?(5)LargeBlockArmorBlock(F,U)?(5)>(5)LargeBlockArmorSlope(U,L)+(5)LargeBlockArmorBlock(F,U)+(5)LargeBlockArmorSlope(U,R)!(5)LargeBlockArmorBlock(F,U)!(5)LargeBlockArmorSlope(D,R)-(5)LargeBlockArmorBlock(F,U)-(5)LargeBlockArmorSlope(D,L)?(5)LargeBlockArmorBlock(F,U)?(5)>(5)LargeBlockArmorSlope(U,L)+(5)LargeBlockArmorBlock(F,U)+(5)LargeBlockArmorSlope(U,R)!(5)LargeBlockArmorBlock(F,U)!(5)LargeBlockArmorSlope(D,R)-(5)LargeBlockArmorBlock(F,U)-(5)LargeBlockArmorSlope(D,L)?(5)LargeBlockArmorBlock(F,U)?(5)>(5)LargeBlockArmorSlope(U,L)+(5)LargeBlockArmorBlock(F,U)+(5)LargeBlockArmorSlope(U,R)!(5)LargeBlockArmorBlock(F,U)!(5)LargeBlockArmorSlope(D,R)-(5)LargeBlockArmorBlock(F,U)-(5)LargeBlockArmorSlope(D,L)?(5)LargeBlockArmorBlock(F,U)?(5)>(5)LargeBlockArmorSlope(U,L)+(5)LargeBlockArmorBlock(F,U)+(5)LargeBlockArmorSlope(U,R)!(5)LargeBlockArmorBlock(F,U)!(5)LargeBlockArmorSlope(D,R)-(5)LargeBlockArmorBlock(F,U)-(5)LargeBlockArmorSlope(D,L)?(5)LargeBlockArmorBlock(F,U)?(5)>(5)LargeBlockArmorBlock(F,U)+(5)LargeBlockArmorBlock(F,U)+(5)LargeBlockArmorBlock(F,U)!(5)LargeBlockArmorBlock(F,U)!(5)LargeBlockArmorBlock(F,U)-(5)LargeBlockArmorBlock(F,U)-(5)LargeBlockArmorBlock(F,U)?(5)LargeBlockArmorBlock(F,U)?(5)>(5)LargeBlockArmorBlock(F,U)+(5)LargeBlockArmorBlock(F,U)+(5)LargeBlockArmorBlock(F,U)!(5)LargeBlockArmorBlock(F,U)!(5)LargeBlockArmorBlock(F,U)-(5)LargeBlockArmorBlock(F,U)-(5)LargeBlockArmorBlock(F,U)?(5)LargeBlockArmorBlock(F,U)?(5)>(5)LargeBlockArmorBlock(F,U)+(5)LargeBlockArmorBlock(F,U)+(5)LargeBlockArmorBlock(F,U)!(5)LargeBlockArmorBlock(F,U)!(5)LargeBlockArmorBlock(F,U)-(5)LargeBlockArmorBlock(F,U)-(5)LargeBlockArmorBlock(F,U)?(5)LargeBlockArmorBlock(F,U)?(5)>(5)[+(15)>(10)RotZccwXLargeBlockArmorBlock(F,U)+(5)LargeBlockArmorBlock(F,U)+(5)LargeBlockArmorBlock(F,U)!(5)LargeBlockArmorBlock(F,U)!(5)LargeBlockArmorBlock(F,U)-(5)LargeBlockArmorBlock(F,U)-(5)LargeBlockArmorBlock(F,U)?(5)LargeBlockArmorBlock(F,U)?(5)>(5)LargeBlockArmorSlope(U,L)+(5)LargeBlockArmorBlock(F,U)+(5)LargeBlockArmorSlope(U,R)!(5)LargeBlockArmorBlock(F,U)!(5)LargeBlockArmorSlope(D,R)-(5)LargeBlockArmorBlock(F,U)-(5)LargeBlockArmorSlope(D,L)?(5)LargeBlockArmorBlock(F,U)?(5)>(5)LargeBlockArmorSlope(U,L)+(5)LargeBlockArmorBlock(F,U)+(5)LargeBlockArmorSlope(U,R)!(5)LargeBlockArmorBlock(F,U)!(5)LargeBlockArmorSlope(D,R)-(5)LargeBlockArmorBlock(F,U)-(5)LargeBlockArmorSlope(D,L)?(5)LargeBlockArmorBlock(F,U)?(5)>(5)LargeBlockArmorBlock(F,U)+(5)LargeBlockArmorBlock(F,U)+(5)LargeBlockArmorBlock(F,U)!(5)LargeBlockArmorBlock(F,U)!(5)LargeBlockArmorBlock(F,U)-(5)LargeBlockArmorBlock(F,U)-(5)LargeBlockArmorBlock(F,U)?(5)LargeBlockArmorBlock(F,U)?(5)>(5)LargeBlockArmorBlock(F,U)+(5)LargeBlockArmorBlock(F,U)+(5)LargeBlockArmorBlock(F,U)!(5)LargeBlockArmorBlock(F,U)!(5)LargeBlockArmorBlock(F,U)-(5)LargeBlockArmorBlock(F,U)-(5)LargeBlockArmorBlock(F,U)?(5)LargeBlockArmorBlock(F,U)?(5)>(5)LargeBlockArmorBlock(F,U)+(5)LargeBlockArmorBlock(F,U)+(5)LargeBlockArmorBlock(F,U)!(5)LargeBlockArmorBlock(F,U)!(5)LargeBlockArmorBlock(F,U)-(5)LargeBlockArmorBlock(F,U)-(5)LargeBlockArmorBlock(F,U)?(5)LargeBlockArmorBlock(F,U)?(5)>(5)][!(15)>(10)RotZccwYLargeBlockArmorSlope(U,L)+(5)LargeBlockArmorBlock(F,U)+(5)LargeBlockArmorSlope(U,R)!(5)LargeBlockArmorBlock(F,U)!(5)LargeBlockArmorSlope(D,R)-(5)LargeBlockArmorBlock(F,U)-(5)LargeBlockArmorSlope(D,L)?(5)LargeBlockArmorBlock(F,U)?(5)>(5)LargeBlockArmorBlock(F,U)+(5)LargeBlockArmorBlock(F,U)+(5)LargeBlockArmorBlock(F,U)!(5)LargeBlockArmorBlock(F,U)!(5)LargeBlockArmorBlock(F,U)-(5)LargeBlockArmorBlock(F,U)-(5)LargeBlockArmorBlock(F,U)?(5)LargeBlockArmorBlock(F,U)?(5)>(5)LargeBlockArmorSlope(U,L)+(5)LargeBlockArmorBlock(F,U)+(5)LargeBlockArmorSlope(U,R)!(5)LargeBlockArmorBlock(F,U)!(5)LargeBlockArmorSlope(D,R)-(5)LargeBlockArmorBlock(F,U)-(5)LargeBlockArmorSlope(D,L)?(5)LargeBlockArmorBlock(F,U)?(5)>(5)LargeBlockArmorBlock(F,U)+(5)LargeBlockArmorBlock(F,U)+(5)LargeBlockArmorBlock(F,U)!(5)LargeBlockArmorBlock(F,U)!(5)LargeBlockArmorBlock(F,U)-(5)LargeBlockArmorBlock(F,U)-(5)LargeBlockArmorBlock(F,U)?(5)LargeBlockArmorBlock(F,U)?(5)>(5)LargeBlockArmorSlope(U,L)+(5)LargeBlockArmorBlock(F,U)+(5)LargeBlockArmorSlope(U,R)!(5)LargeBlockArmorBlock(F,U)!(5)LargeBlockArmorSlope(D,R)-(5)LargeBlockArmorBlock(F,U)-(5)LargeBlockArmorSlope(D,L)?(5)LargeBlockArmorBlock(F,U)?(5)>(5)LargeBlockArmorBlock(F,U)+(5)LargeBlockArmorBlock(F,U)+(5)LargeBlockArmorBlock(F,U)!(5)LargeBlockArmorBlock(F,U)!(5)LargeBlockArmorBlock(F,U)-(5)LargeBlockArmorBlock(F,U)-(5)LargeBlockArmorBlock(F,U)?(5)LargeBlockArmorBlock(F,U)?(5)>(5)[!(15)>(10)RotZccwYLargeBlockArmorBlock(F,U)+(5)LargeBlockArmorBlock(F,U)+(5)LargeBlockArmorBlock(F,U)!(5)LargeBlockArmorBlock(F,U)!(5)LargeBlockArmorBlock(F,U)-(5)LargeBlockArmorBlock(F,U)-(5)LargeBlockArmorBlock(F,U)?(5)LargeBlockArmorBlock(F,U)?(5)>(5)LargeBlockArmorBlock(F,U)+(5)LargeBlockArmorBlock(F,U)+(5)LargeBlockArmorBlock(F,U)!(5)LargeBlockArmorBlock(F,U)!(5)LargeBlockArmorBlock(F,U)-(5)LargeBlockArmorBlock(F,U)-(5)LargeBlockArmorBlock(F,U)?(5)LargeBlockArmorBlock(F,U)?(5)>(5)LargeBlockArmorSlope(U,L)+(5)LargeBlockArmorBlock(F,U)+(5)LargeBlockArmorSlope(U,R)!(5)LargeBlockArmorBlock(F,U)!(5)LargeBlockArmorSlope(D,R)-(5)LargeBlockArmorBlock(F,U)-(5)LargeBlockArmorSlope(D,L)?(5)LargeBlockArmorBlock(F,U)?(5)>(5)LargeBlockArmorSlope(U,L)+(5)LargeBlockArmorBlock(F,U)+(5)LargeBlockArmorSlope(U,R)!(5)LargeBlockArmorBlock(F,U)!(5)LargeBlockArmorSlope(D,R)-(5)LargeBlockArmorBlock(F,U)-(5)LargeBlockArmorSlope(D,L)?(5)LargeBlockArmorBlock(F,U)?(5)>(5)LargeBlockArmorSlope(U,L)+(5)LargeBlockArmorBlock(F,U)+(5)LargeBlockArmorSlope(U,R)!(5)LargeBlockArmorBlock(F,U)!(5)LargeBlockArmorSlope(D,R)-(5)LargeBlockArmorBlock(F,U)-(5)LargeBlockArmorSlope(D,L)?(5)LargeBlockArmorBlock(F,U)?(5)>(5)LargeBlockArmorSlope(U,L)+(5)LargeBlockArmorBlock(F,U)+(5)LargeBlockArmorSlope(U,R)!(5)LargeBlockArmorBlock(F,U)!(5)LargeBlockArmorSlope(D,R)-(5)LargeBlockArmorBlock(F,U)-(5)LargeBlockArmorSlope(D,L)?(5)LargeBlockArmorBlock(F,U)?(5)>(5)LargeBlockArmorSlope(U,L)+(5)LargeBlockArmorBlock(F,U)+(5)LargeBlockArmorSlope(U,R)!(5)LargeBlockArmorBlock(F,U)!(5)LargeBlockArmorSlope(D,R)-(5)LargeBlockArmorBlock(F,U)-(5)LargeBlockArmorSlope(D,L)?(5)LargeBlockArmorBlock(F,U)?(5)>(5)LargeBlockArmorSlope(U,L)+(5)LargeBlockArmorBlock(F,U)+(5)LargeBlockArmorSlope(U,R)!(5)LargeBlockArmorBlock(F,U)!(5)LargeBlockArmorSlope(D,R)-(5)LargeBlockArmorBlock(F,U)-(5)LargeBlockArmorSlope(D,L)?(5)LargeBlockArmorBlock(F,U)?(5)>(5)LargeBlockArmorSlope(U,L)+(5)LargeBlockArmorBlock(F,U)+(5)LargeBlockArmorSlope(U,R)!(5)LargeBlockArmorBlock(F,U)!(5)LargeBlockArmorSlope(D,R)-(5)LargeBlockArmorBlock(F,U)-(5)LargeBlockArmorSlope(D,L)?(5)LargeBlockArmorBlock(F,U)?(5)>(5)]LargeBlockSmallHydrogenThrust(B,U)+(10)LargeBlockSmallHydrogenThrust(B,U)!(10)LargeBlockSmallHydrogenThrust(B,U)-(10)LargeBlockSmallHydrogenThrust(B,U)?(10)>(5)]\n"
     ]
    }
   ],
   "source": [
    "structure, hl_axiom, ll_axiom = lsystem.apply_rules(\n",
    "    starting_axiom=\"begin\",\n",
    "    iterations=N_ITERATIONS,\n",
    "    make_graph=True,\n",
    ")\n",
    "\n",
    "print(f\"High Level Axiom:\\n\\t{hl_axiom}\\nLow Level Axiom:\\n\\t{ll_axiom}\")"
   ]
  },
  {
   "cell_type": "markdown",
   "metadata": {
    "tags": []
   },
   "source": [
    "# Game interaction\n",
    "\n",
    "Place structure in-game by updating its position and rotation according to the player."
   ]
  },
  {
   "cell_type": "code",
   "execution_count": 11,
   "metadata": {},
   "outputs": [],
   "source": [
    "do_place_blocks = False"
   ]
  },
  {
   "cell_type": "code",
   "execution_count": 12,
   "metadata": {},
   "outputs": [],
   "source": [
    "if do_place_blocks:\n",
    "    base_position, orientation_forward, orientation_up = get_base_values()\n",
    "    structure.update(\n",
    "        origin=base_position,\n",
    "        orientation_forward=orientation_forward,\n",
    "        orientation_up=orientation_up,\n",
    "    )\n",
    "    toggle_gamemode(GameMode.PLACING)\n",
    "    place_blocks(structure.get_all_blocks(), False)\n",
    "    toggle_gamemode(GameMode.EVALUATING)"
   ]
  }
 ],
 "metadata": {
  "interpreter": {
   "hash": "20bab91c9f6d820bcc9168592ada9e5eef44cb7ec9e6ded26baf766bc800a1f4"
  },
  "kernelspec": {
   "display_name": "Python 3 (ipykernel)",
   "language": "python",
   "name": "python3"
  },
  "language_info": {
   "codemirror_mode": {
    "name": "ipython",
    "version": 3
   },
   "file_extension": ".py",
   "mimetype": "text/x-python",
   "name": "python",
   "nbconvert_exporter": "python",
   "pygments_lexer": "ipython3",
   "version": "3.8.12"
  },
  "toc-autonumbering": true,
  "toc-showcode": false,
  "toc-showmarkdowntxt": false,
  "toc-showtags": false
 },
 "nbformat": 4,
 "nbformat_minor": 4
}
