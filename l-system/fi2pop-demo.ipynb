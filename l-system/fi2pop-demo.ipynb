{
 "cells": [
  {
   "cell_type": "markdown",
   "id": "e35c7368-cd53-434e-b9c4-90efc778fb4e",
   "metadata": {},
   "source": [
    "# FI-2Pop demo\n",
    "\n",
    "Demo notebook on the integration of FI-2Pop with the L-System."
   ]
  },
  {
   "cell_type": "markdown",
   "id": "94c19e54-68bc-404f-8962-87fb70f7185d",
   "metadata": {
    "jp-MarkdownHeadingCollapsed": true,
    "tags": []
   },
   "source": [
    "## Imports"
   ]
  },
  {
   "cell_type": "code",
   "execution_count": 1,
   "id": "f171c65a-e171-41df-936e-c808dd4f8154",
   "metadata": {
    "execution": {
     "iopub.execute_input": "2022-01-21T10:48:53.544972Z",
     "iopub.status.busy": "2022-01-21T10:48:53.544972Z",
     "iopub.status.idle": "2022-01-21T10:48:53.561636Z",
     "shell.execute_reply": "2022-01-21T10:48:53.561636Z",
     "shell.execute_reply.started": "2022-01-21T10:48:53.544972Z"
    }
   },
   "outputs": [],
   "source": [
    "import json"
   ]
  },
  {
   "cell_type": "markdown",
   "id": "eae4a95b-47cc-4381-985a-647ba65ecf17",
   "metadata": {},
   "source": [
    "GECCO-compatible `matplotlib` options:"
   ]
  },
  {
   "cell_type": "code",
   "execution_count": 2,
   "id": "2b88d1b9-2c34-4dde-9db9-5cd7509b1f1a",
   "metadata": {
    "execution": {
     "iopub.execute_input": "2022-01-21T10:48:53.561636Z",
     "iopub.status.busy": "2022-01-21T10:48:53.561636Z",
     "iopub.status.idle": "2022-01-21T10:48:53.842276Z",
     "shell.execute_reply": "2022-01-21T10:48:53.842276Z",
     "shell.execute_reply.started": "2022-01-21T10:48:53.561636Z"
    }
   },
   "outputs": [],
   "source": [
    "import matplotlib\n",
    "\n",
    "matplotlib.rcParams['pdf.fonttype'] = 42\n",
    "matplotlib.rcParams['ps.fonttype'] = 42"
   ]
  },
  {
   "cell_type": "markdown",
   "id": "fe17bf5f-7d6d-4a26-92e3-abae13291ccf",
   "metadata": {},
   "source": [
    "Import `PCGSEPy` modules:"
   ]
  },
  {
   "cell_type": "code",
   "execution_count": 3,
   "id": "ea32675b-d3b7-43cb-a84c-8f79ec5950b8",
   "metadata": {
    "execution": {
     "iopub.execute_input": "2022-01-21T10:48:53.842276Z",
     "iopub.status.busy": "2022-01-21T10:48:53.842276Z",
     "iopub.status.idle": "2022-01-21T10:48:54.396874Z",
     "shell.execute_reply": "2022-01-21T10:48:54.396874Z",
     "shell.execute_reply.started": "2022-01-21T10:48:53.842276Z"
    }
   },
   "outputs": [],
   "source": [
    "from pcgsepy.common.vecs import orientation_from_str, Vec \n",
    "from pcgsepy.config import COMMON_ATOMS, HL_ATOMS, N_ITERATIONS, REQ_TILES \n",
    "from pcgsepy.lsystem.rules import RuleMaker\n",
    "from pcgsepy.lsystem.actions import AtomAction, Rotations\n",
    "from pcgsepy.lsystem.parser import HLParser, LLParser\n",
    "from pcgsepy.lsystem.solver import LSolver\n",
    "from pcgsepy.lsystem.constraints import ConstraintHandler, ConstraintLevel, ConstraintTime\n",
    "from pcgsepy.lsystem.constraints_funcs import components_constraint, intersection_constraint, symmetry_constraint, axis_constraint\n",
    "from pcgsepy.lsystem.lsystem import LSystem\n",
    "from pcgsepy.structure import block_definitions"
   ]
  },
  {
   "cell_type": "markdown",
   "id": "03c439a3-1460-4055-9786-be86ef7ea8e1",
   "metadata": {
    "jp-MarkdownHeadingCollapsed": true,
    "tags": []
   },
   "source": [
    "## Setup"
   ]
  },
  {
   "cell_type": "code",
   "execution_count": 4,
   "id": "6fc0f771-61b0-46a1-97e8-d930b2a6d24c",
   "metadata": {
    "execution": {
     "iopub.execute_input": "2022-01-21T10:48:54.396874Z",
     "iopub.status.busy": "2022-01-21T10:48:54.396874Z",
     "iopub.status.idle": "2022-01-21T10:48:54.421839Z",
     "shell.execute_reply": "2022-01-21T10:48:54.421839Z",
     "shell.execute_reply.started": "2022-01-21T10:48:54.396874Z"
    }
   },
   "outputs": [],
   "source": [
    "# import logging\n",
    "\n",
    "# logging.basicConfig()\n",
    "# logger = logging.getLogger('base-logger')\n",
    "# logger.setLevel(logging.WARNING)"
   ]
  },
  {
   "cell_type": "code",
   "execution_count": 5,
   "id": "2afef3e3-b111-47d2-abca-efbdde6fe7f3",
   "metadata": {
    "execution": {
     "iopub.execute_input": "2022-01-21T10:48:54.421839Z",
     "iopub.status.busy": "2022-01-21T10:48:54.421839Z",
     "iopub.status.idle": "2022-01-21T10:48:54.438772Z",
     "shell.execute_reply": "2022-01-21T10:48:54.437501Z",
     "shell.execute_reply.started": "2022-01-21T10:48:54.421839Z"
    },
    "tags": []
   },
   "outputs": [],
   "source": [
    "with open(COMMON_ATOMS, \"r\") as f:\n",
    "    common_alphabet = json.load(f)\n",
    "\n",
    "for k in common_alphabet:\n",
    "    action, args = common_alphabet[k][\"action\"], common_alphabet[k][\"args\"]\n",
    "    action = AtomAction(action)\n",
    "    if action == AtomAction.MOVE:\n",
    "        args = orientation_from_str[args]\n",
    "    elif action == AtomAction.ROTATE:\n",
    "        args = Rotations(args)\n",
    "    common_alphabet[k] = {\"action\": action, \"args\": args}"
   ]
  },
  {
   "cell_type": "code",
   "execution_count": 6,
   "id": "a6484d3a-0ed3-4269-8ea9-29e30856d586",
   "metadata": {
    "execution": {
     "iopub.execute_input": "2022-01-21T10:48:54.439753Z",
     "iopub.status.busy": "2022-01-21T10:48:54.439753Z",
     "iopub.status.idle": "2022-01-21T10:48:54.461860Z",
     "shell.execute_reply": "2022-01-21T10:48:54.460546Z",
     "shell.execute_reply.started": "2022-01-21T10:48:54.439753Z"
    }
   },
   "outputs": [],
   "source": [
    "with open(HL_ATOMS, \"r\") as f:\n",
    "    hl_atoms = json.load(f)\n",
    "\n",
    "tiles_dimensions = {}\n",
    "tiles_block_offset = {}\n",
    "for tile in hl_atoms.keys():\n",
    "    dx, dy, dz = hl_atoms[tile][\"dimensions\"]\n",
    "    tiles_dimensions[tile] = Vec.v3i(dx, dy, dz)\n",
    "    tiles_block_offset[tile] = hl_atoms[tile][\"offset\"]\n",
    "\n",
    "hl_alphabet = {}\n",
    "for k in common_alphabet.keys():\n",
    "    hl_alphabet[k] = common_alphabet[k]\n",
    "\n",
    "for hk in hl_atoms.keys():\n",
    "    hl_alphabet[hk] = {\"action\": AtomAction.PLACE, \"args\": []}"
   ]
  },
  {
   "cell_type": "code",
   "execution_count": 7,
   "id": "b2e83754-e8ae-4c88-9b44-557271386ec3",
   "metadata": {
    "execution": {
     "iopub.execute_input": "2022-01-21T10:48:54.462856Z",
     "iopub.status.busy": "2022-01-21T10:48:54.462856Z",
     "iopub.status.idle": "2022-01-21T10:48:54.484873Z",
     "shell.execute_reply": "2022-01-21T10:48:54.483688Z",
     "shell.execute_reply.started": "2022-01-21T10:48:54.462856Z"
    }
   },
   "outputs": [],
   "source": [
    "ll_alphabet = {}\n",
    "\n",
    "for k in common_alphabet.keys():\n",
    "    ll_alphabet[k] = common_alphabet[k]\n",
    "\n",
    "# for k in block_definitions.keys():\n",
    "#     if k != \"\":  # TODO: This is a probable bug, reported to the SE API devs\n",
    "#         ll_alphabet[k] = {\"action\": AtomAction.PLACE, \"args\": [k]}"
   ]
  },
  {
   "cell_type": "code",
   "execution_count": 8,
   "id": "138e6f22-3a8e-4229-8c20-1b0ea116ec58",
   "metadata": {
    "execution": {
     "iopub.execute_input": "2022-01-21T10:48:54.484873Z",
     "iopub.status.busy": "2022-01-21T10:48:54.484873Z",
     "iopub.status.idle": "2022-01-21T10:48:54.508857Z",
     "shell.execute_reply": "2022-01-21T10:48:54.507696Z",
     "shell.execute_reply.started": "2022-01-21T10:48:54.484873Z"
    }
   },
   "outputs": [],
   "source": [
    "used_ll_blocks = [\n",
    "    'MyObjectBuilder_CubeBlock_LargeBlockArmorCorner',\n",
    "    'MyObjectBuilder_CubeBlock_LargeBlockArmorSlope',\n",
    "    'MyObjectBuilder_CubeBlock_LargeBlockArmorCornerInv',\n",
    "    'MyObjectBuilder_CubeBlock_LargeBlockArmorBlock',\n",
    "    'MyObjectBuilder_Gyro_LargeBlockGyro',\n",
    "    'MyObjectBuilder_Reactor_LargeBlockSmallGenerator',\n",
    "    'MyObjectBuilder_CargoContainer_LargeBlockSmallContainer',\n",
    "    'MyObjectBuilder_Cockpit_OpenCockpitLarge',\n",
    "    'MyObjectBuilder_Thrust_LargeBlockSmallThrust',\n",
    "    'MyObjectBuilder_InteriorLight_SmallLight',\n",
    "    'MyObjectBuilder_CubeBlock_Window1x1Slope',\n",
    "    'MyObjectBuilder_CubeBlock_Window1x1Flat',\n",
    "    'MyObjectBuilder_InteriorLight_LargeBlockLight_1corner'\n",
    "]\n",
    "\n",
    "for k in used_ll_blocks:\n",
    "    ll_alphabet[k] = {\"action\": AtomAction.PLACE, \"args\": [k]}"
   ]
  },
  {
   "cell_type": "markdown",
   "id": "8bde02d5-0efe-4eba-97ea-5dbeb21ff246",
   "metadata": {
    "tags": []
   },
   "source": [
    "## L-System components"
   ]
  },
  {
   "cell_type": "code",
   "execution_count": 9,
   "id": "65def23a-5419-4765-971b-7e0334b309ae",
   "metadata": {
    "execution": {
     "iopub.execute_input": "2022-01-21T10:48:54.508857Z",
     "iopub.status.busy": "2022-01-21T10:48:54.508857Z",
     "iopub.status.idle": "2022-01-21T10:48:54.532831Z",
     "shell.execute_reply": "2022-01-21T10:48:54.531670Z",
     "shell.execute_reply.started": "2022-01-21T10:48:54.508857Z"
    }
   },
   "outputs": [],
   "source": [
    "hl_rules = RuleMaker(ruleset='hlrules').get_rules()\n",
    "ll_rules = RuleMaker(ruleset='llrules').get_rules()\n",
    "\n",
    "hl_parser = HLParser(rules=hl_rules)\n",
    "ll_parser = LLParser(rules=ll_rules)\n",
    "\n",
    "hl_solver = LSolver(parser=hl_parser,\n",
    "                    atoms_alphabet=hl_alphabet,\n",
    "                    extra_args={\n",
    "                        'tiles_dimensions': tiles_dimensions,\n",
    "                        'tiles_block_offset': tiles_block_offset,\n",
    "                        'll_rules': ll_rules\n",
    "                    })\n",
    "ll_solver = LSolver(parser=ll_parser,\n",
    "                    atoms_alphabet=dict(hl_alphabet, **ll_alphabet),\n",
    "                    extra_args={})"
   ]
  },
  {
   "cell_type": "code",
   "execution_count": 10,
   "id": "7b84c390-6759-4288-acf3-f6ac68ab572c",
   "metadata": {
    "execution": {
     "iopub.execute_input": "2022-01-21T10:48:54.534825Z",
     "iopub.status.busy": "2022-01-21T10:48:54.533828Z",
     "iopub.status.idle": "2022-01-21T10:48:54.555852Z",
     "shell.execute_reply": "2022-01-21T10:48:54.554661Z",
     "shell.execute_reply.started": "2022-01-21T10:48:54.533828Z"
    }
   },
   "outputs": [],
   "source": [
    "rcc1 = ConstraintHandler(\n",
    "    name=\"required_components\",\n",
    "    level=ConstraintLevel.HARD_CONSTRAINT,\n",
    "    when=ConstraintTime.END,\n",
    "    f=components_constraint,\n",
    "    extra_args={\n",
    "        'alphabet': hl_alphabet\n",
    "    }\n",
    ")\n",
    "rcc1.extra_args[\"req_tiles\"] = ['cockpit']\n",
    "\n",
    "rcc2 = ConstraintHandler(\n",
    "    name=\"required_components\",\n",
    "    level=ConstraintLevel.HARD_CONSTRAINT,\n",
    "    when=ConstraintTime.END,\n",
    "    f=components_constraint,\n",
    "    extra_args={\n",
    "        'alphabet': hl_alphabet\n",
    "    }\n",
    ")\n",
    "rcc2.extra_args[\"req_tiles\"] = ['corridorcargo', 'corridorgyros', 'corridorreactors']\n",
    "\n",
    "rcc3 = ConstraintHandler(\n",
    "    name=\"required_components\",\n",
    "    level=ConstraintLevel.HARD_CONSTRAINT,\n",
    "    when=ConstraintTime.END,\n",
    "    f=components_constraint,\n",
    "    extra_args={\n",
    "        'alphabet': hl_alphabet\n",
    "    }\n",
    ")\n",
    "rcc3.extra_args[\"req_tiles\"] = ['thrusters']\n",
    "\n",
    "nic = ConstraintHandler(\n",
    "    name=\"no_intersections\",\n",
    "    level=ConstraintLevel.HARD_CONSTRAINT,\n",
    "    when=ConstraintTime.DURING,\n",
    "    f=intersection_constraint,\n",
    "    extra_args={\n",
    "        'alphabet': dict(hl_alphabet, **ll_alphabet)\n",
    "    },\n",
    "    needs_ll=True\n",
    ")\n",
    "nic.extra_args[\"tiles_dimensions\"] = tiles_dimensions\n",
    "\n",
    "sc = ConstraintHandler(\n",
    "    name=\"symmetry\",\n",
    "    level=ConstraintLevel.SOFT_CONSTRAINT,\n",
    "    when=ConstraintTime.END,\n",
    "    f=symmetry_constraint,\n",
    "    extra_args={\n",
    "        'alphabet': dict(hl_alphabet, **ll_alphabet)\n",
    "    }\n",
    ")\n",
    "\n",
    "# ax = ConstraintHandler(\n",
    "#     name=\"axis1\",\n",
    "#     level=ConstraintLevel.SOFT_CONSTRAINT,\n",
    "#     when=ConstraintTime.END,\n",
    "#     f=axis_constraint,\n",
    "#     extra_args={\n",
    "#         'alphabet': dict(hl_alphabet, **ll_alphabet)\n",
    "#     },\n",
    "#     needs_ll=True\n",
    "# )"
   ]
  },
  {
   "cell_type": "code",
   "execution_count": 11,
   "id": "427e0cf0-3dc6-4285-8963-eb171cb870de",
   "metadata": {
    "execution": {
     "iopub.execute_input": "2022-01-21T10:48:54.556849Z",
     "iopub.status.busy": "2022-01-21T10:48:54.556849Z",
     "iopub.status.idle": "2022-01-21T10:48:54.577862Z",
     "shell.execute_reply": "2022-01-21T10:48:54.577641Z",
     "shell.execute_reply.started": "2022-01-21T10:48:54.556849Z"
    },
    "tags": []
   },
   "outputs": [],
   "source": [
    "lsystem = LSystem(\n",
    "    hl_solver=hl_solver, ll_solver=ll_solver, names=['HeadModule', 'BodyModule', 'TailModule']\n",
    ")"
   ]
  },
  {
   "cell_type": "code",
   "execution_count": 12,
   "id": "d9ef6f61-369e-427a-a865-80452e125693",
   "metadata": {
    "execution": {
     "iopub.execute_input": "2022-01-21T10:48:54.581851Z",
     "iopub.status.busy": "2022-01-21T10:48:54.580852Z",
     "iopub.status.idle": "2022-01-21T10:48:54.601866Z",
     "shell.execute_reply": "2022-01-21T10:48:54.601680Z",
     "shell.execute_reply.started": "2022-01-21T10:48:54.581851Z"
    }
   },
   "outputs": [],
   "source": [
    "lsystem.add_hl_constraints(cs=[\n",
    "    [nic, rcc1],\n",
    "    [nic, rcc2],\n",
    "    [nic, rcc3]\n",
    "])\n",
    "\n",
    "lsystem.add_ll_constraints(cs=[\n",
    "    [sc],\n",
    "    [sc],\n",
    "    [sc]\n",
    "])"
   ]
  },
  {
   "cell_type": "code",
   "execution_count": 13,
   "id": "0286d232-3b08-4a43-ba5a-f5dc9c84bdb5",
   "metadata": {
    "execution": {
     "iopub.execute_input": "2022-01-21T10:48:54.602864Z",
     "iopub.status.busy": "2022-01-21T10:48:54.602864Z",
     "iopub.status.idle": "2022-01-21T10:48:54.625593Z",
     "shell.execute_reply": "2022-01-21T10:48:54.624690Z",
     "shell.execute_reply.started": "2022-01-21T10:48:54.602864Z"
    }
   },
   "outputs": [],
   "source": [
    "from pcgsepy.evo.genops import expander\n",
    "\n",
    "expander.initialize(rules=lsystem.hl_solver.parser.rules)"
   ]
  },
  {
   "cell_type": "markdown",
   "id": "69857611-d4c0-4d51-96c9-b57a40a9378a",
   "metadata": {},
   "source": [
    "## FI-2Pop"
   ]
  },
  {
   "cell_type": "code",
   "execution_count": 14,
   "id": "d0671cd1-17ca-4a0c-aed4-7fa8bd3431f8",
   "metadata": {
    "execution": {
     "iopub.execute_input": "2022-01-21T10:48:54.626590Z",
     "iopub.status.busy": "2022-01-21T10:48:54.626590Z",
     "iopub.status.idle": "2022-01-21T10:56:52.009027Z",
     "shell.execute_reply": "2022-01-21T10:56:52.009027Z",
     "shell.execute_reply.started": "2022-01-21T10:48:54.626590Z"
    },
    "tags": []
   },
   "outputs": [
    {
     "data": {
      "application/vnd.jupyter.widget-view+json": {
       "model_id": "a79d97b0374f4bdd909d48e360dea941",
       "version_major": 2,
       "version_minor": 0
      },
      "text/plain": [
       "Initialization :   0%|          | 0/100 [00:00<?, ?it/s]"
      ]
     },
     "metadata": {},
     "output_type": "display_data"
    },
    {
     "name": "stdout",
     "output_type": "stream",
     "text": [
      "Created Feasible population of size 20: t:[3.84356698];m:[3.08656815]\n",
      "Created Infeasible population of size 20: t:1;m:1.25\n"
     ]
    },
    {
     "data": {
      "application/vnd.jupyter.widget-view+json": {
       "model_id": "94db7cd461094e1eb4b77aab33c2d8e4",
       "version_major": 2,
       "version_minor": 0
      },
      "text/plain": [
       "Generation :   0%|          | 0/50 [00:00<?, ?it/s]"
      ]
     },
     "metadata": {},
     "output_type": "display_data"
    },
    {
     "data": {
      "image/png": "[encoded data removed]",
      "text/plain": [
       "<Figure size 432x288 with 1 Axes>"
      ]
     },
     "metadata": {
      "needs_background": "light"
     },
     "output_type": "display_data"
    },
    {
     "data": {
      "image/png": "[encoded data removed]",
      "text/plain": [
       "<Figure size 432x288 with 1 Axes>"
      ]
     },
     "metadata": {
      "needs_background": "light"
     },
     "output_type": "display_data"
    }
   ],
   "source": [
    "from pcgsepy.evo.fitness import box_filling_fitness, bounding_box_fitness, func_blocks_fitness, axis_fitness\n",
    "from pcgsepy.fi2pop.fi2pop import FI2PopSolver\n",
    "from pcgsepy.config import N_GENS\n",
    "\n",
    "fitnesses = [bounding_box_fitness,\n",
    "             box_filling_fitness,\n",
    "             func_blocks_fitness,\n",
    "             axis_fitness]\n",
    "\n",
    "solver = FI2PopSolver(feasible_fitnesses=fitnesses,\n",
    "                      lsystem=lsystem)\n",
    "\n",
    "f_pop, i_pop, f_fitnesses, i_fitnesses = solver.initialize()\n",
    "\n",
    "f_pop, i_pop, f_fitnesses, i_fitnesses = solver.fi2pop(f_pop=f_pop,\n",
    "                                                       i_pop=i_pop,\n",
    "                                                       f_fitnesses=f_fitnesses,\n",
    "                                                       i_fitnesses=i_fitnesses,\n",
    "                                                       n_iter=N_GENS)\n",
    "\n",
    "solver.plot_trackings(title='Test fitnesses')"
   ]
  },
  {
   "cell_type": "code",
   "execution_count": 15,
   "id": "717ca2c5-b0a5-4874-ad95-118603194fc9",
   "metadata": {
    "execution": {
     "iopub.execute_input": "2022-01-21T10:56:52.009027Z",
     "iopub.status.busy": "2022-01-21T10:56:52.009027Z",
     "iopub.status.idle": "2022-01-21T10:56:56.441919Z",
     "shell.execute_reply": "2022-01-21T10:56:56.441919Z",
     "shell.execute_reply.started": "2022-01-21T10:56:52.009027Z"
    },
    "tags": []
   },
   "outputs": [
    {
     "data": {
      "image/png": "[encoded data removed]",
      "text/plain": [
       "<Figure size 432x288 with 1 Axes>"
      ]
     },
     "metadata": {
      "needs_background": "light"
     },
     "output_type": "display_data"
    }
   ],
   "source": [
    "from pcgsepy.lsystem.structure_maker import LLStructureMaker\n",
    "from pcgsepy.common.vecs import Orientation\n",
    "from pcgsepy.structure import Structure\n",
    "\n",
    "hl_axiom = f_pop[f_fitnesses.index(max(f_fitnesses))]\n",
    "ml_axiom = lsystem.hl_solver.translator.transform(axiom=hl_axiom)\n",
    "ll_axiom = lsystem.ll_solver.solve(axiom=ml_axiom,\n",
    "                                   iterations=1,\n",
    "                                   axioms_per_iteration=1,\n",
    "                                   check_sat=False)[0]\n",
    "\n",
    "base_position, orientation_forward, orientation_up = Vec.v3i(\n",
    "            0, 0, 0), Orientation.FORWARD.value, Orientation.UP.value\n",
    "structure = Structure(origin=base_position,\n",
    "                      orientation_forward=orientation_forward,\n",
    "                      orientation_up=orientation_up)\n",
    "structure = LLStructureMaker(\n",
    "    atoms_alphabet=lsystem.ll_solver.atoms_alphabet,\n",
    "    position=base_position).fill_structure(structure=structure,\n",
    "                                           axiom=ll_axiom)\n",
    "structure.sanify()\n",
    "structure.show(title=' + '.join([f.__name__ for f in fitnesses]))"
   ]
  },
  {
   "cell_type": "code",
   "execution_count": 16,
   "id": "4fcfb3e0-7659-4990-8894-9a77c0a9ae7a",
   "metadata": {
    "execution": {
     "iopub.execute_input": "2022-01-21T10:56:56.443933Z",
     "iopub.status.busy": "2022-01-21T10:56:56.442925Z",
     "iopub.status.idle": "2022-01-21T10:56:56.470794Z",
     "shell.execute_reply": "2022-01-21T10:56:56.470794Z",
     "shell.execute_reply.started": "2022-01-21T10:56:56.443933Z"
    },
    "tags": []
   },
   "outputs": [
    {
     "name": "stdout",
     "output_type": "stream",
     "text": [
      "HL AXIOM:\n",
      "\tcockpitcorridorsimple(1)[RotYccwXcorridorsimple(1)][RotYccwZcorridorsimple(1)[RotYccwXcorridorsimple(1)]thrusters(1)]corridorgyros(1)[RotYccwZcorridorsimple(1)[RotYccwXcorridorsimple(1)thrusters(1)]corridorsimple(1)[RotYccwZcorridorsimple(1)[RotYccwZcorridorsimple(1)[RotYccwXcorridorsimple(2)]thrusters(1)]thrusters(1)][RotYcwZcorridorsimple(1)corridorsimple(2)thrusters(1)][RotYccwXcorridorsimple(1)[RotYccwZcorridorsimple(2)]thrusters(1)]thrusters(1)]corridorcargo(1)corridorreactors(1)thrusters\n",
      "Length ll: 153750\n"
     ]
    }
   ],
   "source": [
    "print(f'HL AXIOM:\\n\\t{hl_axiom}')\n",
    "# print(f'---\\nML AXIOM:\\n\\t{ml_axiom}')\n",
    "# print(f'---\\nLL AXIOM:\\n\\t{ll_axiom}')\n",
    "print(f'Length ll: {len(ll_axiom)}')"
   ]
  },
  {
   "cell_type": "code",
   "execution_count": 17,
   "id": "56ea02c1-fa19-4e24-b2c2-63bd2a91f501",
   "metadata": {
    "execution": {
     "iopub.execute_input": "2022-01-21T10:56:56.470794Z",
     "iopub.status.busy": "2022-01-21T10:56:56.470794Z",
     "iopub.status.idle": "2022-01-21T10:56:56.534466Z",
     "shell.execute_reply": "2022-01-21T10:56:56.533179Z",
     "shell.execute_reply.started": "2022-01-21T10:56:56.470794Z"
    },
    "tags": []
   },
   "outputs": [],
   "source": [
    "functional_blocks_volume, filled_volume = 0., 0.\n",
    "for b in structure.get_all_blocks():\n",
    "    if not b.block_type.startswith('MyObjectBuilder_CubeBlock_'):\n",
    "        functional_blocks_volume += b.volume\n",
    "    filled_volume += b.volume\n",
    "\n",
    "total_volume = structure.as_array().shape\n",
    "total_volume = total_volume[0] * total_volume[1] * total_volume[2]\n",
    "\n",
    "futo = functional_blocks_volume / (functional_blocks_volume + filled_volume)\n",
    "tovo = (functional_blocks_volume + filled_volume) / total_volume\n",
    "volume = functional_blocks_volume + filled_volume\n",
    "\n",
    "total_volume = structure.as_array().shape\n",
    "largest_axis, medium_axis, smallest_axis = reversed(sorted(list(total_volume)))\n",
    "mame = largest_axis / medium_axis\n",
    "mami = largest_axis / smallest_axis"
   ]
  },
  {
   "cell_type": "code",
   "execution_count": 18,
   "id": "2e442d06-5f57-4709-9249-189a145ec620",
   "metadata": {
    "execution": {
     "iopub.execute_input": "2022-01-21T10:56:56.536458Z",
     "iopub.status.busy": "2022-01-21T10:56:56.536458Z",
     "iopub.status.idle": "2022-01-21T10:56:56.555058Z",
     "shell.execute_reply": "2022-01-21T10:56:56.555058Z",
     "shell.execute_reply.started": "2022-01-21T10:56:56.536458Z"
    },
    "tags": []
   },
   "outputs": [
    {
     "name": "stdout",
     "output_type": "stream",
     "text": [
      "Volume: 367250.0\n",
      "Functional blocks / total blocks = 0.07 ([0.13])\n",
      "Filled volume / total volume = 0.16 ([2.31])\n",
      "Largest axis / Medium axis = 1.3 ([0.76])\n",
      "Largest axis / Medium axis = 2.44 ([0.34])\n"
     ]
    }
   ],
   "source": [
    "import numpy as np\n",
    "from pcgsepy.evo.fitness import futo_es, tovo_es, mame_es, mami_es\n",
    "\n",
    "print(f'Volume: {volume}')\n",
    "print(f'Functional blocks / total blocks = {np.round(futo, 2)} ({np.round(futo_es.evaluate(futo), 2)})')\n",
    "print(f'Filled volume / total volume = {np.round(tovo, 2)} ({np.round(tovo_es.evaluate(tovo), 2)})')\n",
    "print(f'Largest axis / Medium axis = {np.round(mame, 2)} ({np.round(mame_es.evaluate(mame), 2)})')\n",
    "print(f'Largest axis / Medium axis = {np.round(mami, 2)} ({np.round(mami_es.evaluate(mami), 2)})')"
   ]
  },
  {
   "cell_type": "code",
   "execution_count": 21,
   "id": "764ed7f6-2ace-432d-860f-b90d4f5c156e",
   "metadata": {
    "execution": {
     "iopub.execute_input": "2022-01-21T11:07:31.572057Z",
     "iopub.status.busy": "2022-01-21T11:07:31.572057Z",
     "iopub.status.idle": "2022-01-21T11:07:31.580036Z",
     "shell.execute_reply": "2022-01-21T11:07:31.579039Z",
     "shell.execute_reply.started": "2022-01-21T11:07:31.572057Z"
    },
    "tags": []
   },
   "outputs": [],
   "source": [
    "do_place_blocks = True"
   ]
  },
  {
   "cell_type": "code",
   "execution_count": 22,
   "id": "210f25c1-274b-4be5-961a-2f2649193c9c",
   "metadata": {
    "execution": {
     "iopub.execute_input": "2022-01-21T11:07:31.825225Z",
     "iopub.status.busy": "2022-01-21T11:07:31.825225Z",
     "iopub.status.idle": "2022-01-21T11:07:43.670411Z",
     "shell.execute_reply": "2022-01-21T11:07:43.668782Z",
     "shell.execute_reply.started": "2022-01-21T11:07:31.825225Z"
    },
    "tags": []
   },
   "outputs": [],
   "source": [
    "if do_place_blocks:\n",
    "    from pcgsepy.common.api_call import GameMode, get_base_values, toggle_gamemode\n",
    "    from pcgsepy.structure import place_blocks\n",
    "    \n",
    "    base_position, orientation_forward, orientation_up = get_base_values()\n",
    "    structure.update(\n",
    "        origin=base_position,\n",
    "        orientation_forward=orientation_forward,\n",
    "        orientation_up=orientation_up,\n",
    "    )\n",
    "    toggle_gamemode(GameMode.PLACING)\n",
    "    place_blocks(structure.get_all_blocks(), False)\n",
    "    toggle_gamemode(GameMode.EVALUATING)"
   ]
  },
  {
   "cell_type": "code",
   "execution_count": null,
   "id": "8f58eef5-a5bc-4247-9c45-5672c6f0d276",
   "metadata": {},
   "outputs": [],
   "source": []
  }
 ],
 "metadata": {
  "kernelspec": {
   "display_name": "Python 3 (ipykernel)",
   "language": "python",
   "name": "python3"
  },
  "language_info": {
   "codemirror_mode": {
    "name": "ipython",
    "version": 3
   },
   "file_extension": ".py",
   "mimetype": "text/x-python",
   "name": "python",
   "nbconvert_exporter": "python",
   "pygments_lexer": "ipython3",
   "version": "3.8.12"
  }
 },
 "nbformat": 4,
 "nbformat_minor": 5
}
