{
 "cells": [
  {
   "cell_type": "markdown",
   "id": "e35c7368-cd53-434e-b9c4-90efc778fb4e",
   "metadata": {},
   "source": [
    "# FI-2Pop demo\n",
    "\n",
    "Demo notebook on the integration of FI-2Pop with the L-System."
   ]
  },
  {
   "cell_type": "markdown",
   "id": "94c19e54-68bc-404f-8962-87fb70f7185d",
   "metadata": {
    "jp-MarkdownHeadingCollapsed": true,
    "tags": []
   },
   "source": [
    "## Imports"
   ]
  },
  {
   "cell_type": "code",
   "execution_count": 1,
   "id": "f171c65a-e171-41df-936e-c808dd4f8154",
   "metadata": {
    "execution": {
     "iopub.execute_input": "2022-01-27T15:46:30.445583Z",
     "iopub.status.busy": "2022-01-27T15:46:30.445583Z",
     "iopub.status.idle": "2022-01-27T15:46:30.465948Z",
     "shell.execute_reply": "2022-01-27T15:46:30.464951Z",
     "shell.execute_reply.started": "2022-01-27T15:46:30.445583Z"
    }
   },
   "outputs": [],
   "source": [
    "import json"
   ]
  },
  {
   "cell_type": "markdown",
   "id": "eae4a95b-47cc-4381-985a-647ba65ecf17",
   "metadata": {},
   "source": [
    "GECCO-compatible `matplotlib` options:"
   ]
  },
  {
   "cell_type": "code",
   "execution_count": 2,
   "id": "2b88d1b9-2c34-4dde-9db9-5cd7509b1f1a",
   "metadata": {
    "execution": {
     "iopub.execute_input": "2022-01-27T15:46:30.466945Z",
     "iopub.status.busy": "2022-01-27T15:46:30.466945Z",
     "iopub.status.idle": "2022-01-27T15:46:31.057145Z",
     "shell.execute_reply": "2022-01-27T15:46:31.055150Z",
     "shell.execute_reply.started": "2022-01-27T15:46:30.466945Z"
    }
   },
   "outputs": [],
   "source": [
    "import matplotlib\n",
    "\n",
    "matplotlib.rcParams['pdf.fonttype'] = 42\n",
    "matplotlib.rcParams['ps.fonttype'] = 42"
   ]
  },
  {
   "cell_type": "markdown",
   "id": "fe17bf5f-7d6d-4a26-92e3-abae13291ccf",
   "metadata": {},
   "source": [
    "Import `PCGSEPy` modules:"
   ]
  },
  {
   "cell_type": "code",
   "execution_count": 3,
   "id": "ea32675b-d3b7-43cb-a84c-8f79ec5950b8",
   "metadata": {
    "execution": {
     "iopub.execute_input": "2022-01-27T15:46:31.060443Z",
     "iopub.status.busy": "2022-01-27T15:46:31.060443Z",
     "iopub.status.idle": "2022-01-27T15:46:32.053911Z",
     "shell.execute_reply": "2022-01-27T15:46:32.052819Z",
     "shell.execute_reply.started": "2022-01-27T15:46:31.060443Z"
    }
   },
   "outputs": [],
   "source": [
    "from pcgsepy.common.vecs import orientation_from_str, Vec \n",
    "from pcgsepy.config import COMMON_ATOMS, HL_ATOMS, N_ITERATIONS, REQ_TILES \n",
    "from pcgsepy.lsystem.rules import RuleMaker\n",
    "from pcgsepy.lsystem.actions import AtomAction, Rotations\n",
    "from pcgsepy.lsystem.parser import HLParser, LLParser\n",
    "from pcgsepy.lsystem.solver import LSolver\n",
    "from pcgsepy.lsystem.constraints import ConstraintHandler, ConstraintLevel, ConstraintTime\n",
    "from pcgsepy.lsystem.constraints_funcs import components_constraint, intersection_constraint, symmetry_constraint, axis_constraint\n",
    "from pcgsepy.lsystem.lsystem import LSystem\n",
    "from pcgsepy.structure import block_definitions"
   ]
  },
  {
   "cell_type": "markdown",
   "id": "03c439a3-1460-4055-9786-be86ef7ea8e1",
   "metadata": {
    "jp-MarkdownHeadingCollapsed": true,
    "tags": []
   },
   "source": [
    "## Setup"
   ]
  },
  {
   "cell_type": "code",
   "execution_count": 4,
   "id": "6fc0f771-61b0-46a1-97e8-d930b2a6d24c",
   "metadata": {
    "execution": {
     "iopub.execute_input": "2022-01-27T15:46:32.056960Z",
     "iopub.status.busy": "2022-01-27T15:46:32.056374Z",
     "iopub.status.idle": "2022-01-27T15:46:32.067109Z",
     "shell.execute_reply": "2022-01-27T15:46:32.066213Z",
     "shell.execute_reply.started": "2022-01-27T15:46:32.056374Z"
    }
   },
   "outputs": [],
   "source": [
    "# import logging\n",
    "\n",
    "# logging.basicConfig()\n",
    "# logger = logging.getLogger('base-logger')\n",
    "# logger.setLevel(logging.WARNING)"
   ]
  },
  {
   "cell_type": "code",
   "execution_count": 5,
   "id": "2afef3e3-b111-47d2-abca-efbdde6fe7f3",
   "metadata": {
    "execution": {
     "iopub.execute_input": "2022-01-27T15:46:32.070158Z",
     "iopub.status.busy": "2022-01-27T15:46:32.069421Z",
     "iopub.status.idle": "2022-01-27T15:46:32.089197Z",
     "shell.execute_reply": "2022-01-27T15:46:32.088160Z",
     "shell.execute_reply.started": "2022-01-27T15:46:32.070158Z"
    },
    "tags": []
   },
   "outputs": [],
   "source": [
    "with open(COMMON_ATOMS, \"r\") as f:\n",
    "    common_alphabet = json.load(f)\n",
    "\n",
    "for k in common_alphabet:\n",
    "    action, args = common_alphabet[k][\"action\"], common_alphabet[k][\"args\"]\n",
    "    action = AtomAction(action)\n",
    "    if action == AtomAction.MOVE:\n",
    "        args = orientation_from_str[args]\n",
    "    elif action == AtomAction.ROTATE:\n",
    "        args = Rotations(args)\n",
    "    common_alphabet[k] = {\"action\": action, \"args\": args}"
   ]
  },
  {
   "cell_type": "code",
   "execution_count": 6,
   "id": "a6484d3a-0ed3-4269-8ea9-29e30856d586",
   "metadata": {
    "execution": {
     "iopub.execute_input": "2022-01-27T15:46:32.092357Z",
     "iopub.status.busy": "2022-01-27T15:46:32.091193Z",
     "iopub.status.idle": "2022-01-27T15:46:32.114489Z",
     "shell.execute_reply": "2022-01-27T15:46:32.113365Z",
     "shell.execute_reply.started": "2022-01-27T15:46:32.092357Z"
    }
   },
   "outputs": [],
   "source": [
    "with open(HL_ATOMS, \"r\") as f:\n",
    "    hl_atoms = json.load(f)\n",
    "\n",
    "tiles_dimensions = {}\n",
    "tiles_block_offset = {}\n",
    "for tile in hl_atoms.keys():\n",
    "    dx, dy, dz = hl_atoms[tile][\"dimensions\"]\n",
    "    tiles_dimensions[tile] = Vec.v3i(dx, dy, dz)\n",
    "    tiles_block_offset[tile] = hl_atoms[tile][\"offset\"]\n",
    "\n",
    "hl_alphabet = {}\n",
    "for k in common_alphabet.keys():\n",
    "    hl_alphabet[k] = common_alphabet[k]\n",
    "\n",
    "for hk in hl_atoms.keys():\n",
    "    hl_alphabet[hk] = {\"action\": AtomAction.PLACE, \"args\": []}"
   ]
  },
  {
   "cell_type": "code",
   "execution_count": 7,
   "id": "b2e83754-e8ae-4c88-9b44-557271386ec3",
   "metadata": {
    "execution": {
     "iopub.execute_input": "2022-01-27T15:46:32.117367Z",
     "iopub.status.busy": "2022-01-27T15:46:32.116656Z",
     "iopub.status.idle": "2022-01-27T15:46:32.127730Z",
     "shell.execute_reply": "2022-01-27T15:46:32.125999Z",
     "shell.execute_reply.started": "2022-01-27T15:46:32.117367Z"
    }
   },
   "outputs": [],
   "source": [
    "ll_alphabet = {}\n",
    "\n",
    "for k in common_alphabet.keys():\n",
    "    ll_alphabet[k] = common_alphabet[k]\n",
    "\n",
    "# for k in block_definitions.keys():\n",
    "#     if k != \"\":  # TODO: This is a probable bug, reported to the SE API devs\n",
    "#         ll_alphabet[k] = {\"action\": AtomAction.PLACE, \"args\": [k]}"
   ]
  },
  {
   "cell_type": "code",
   "execution_count": 8,
   "id": "138e6f22-3a8e-4229-8c20-1b0ea116ec58",
   "metadata": {
    "execution": {
     "iopub.execute_input": "2022-01-27T15:46:32.130043Z",
     "iopub.status.busy": "2022-01-27T15:46:32.129725Z",
     "iopub.status.idle": "2022-01-27T15:46:32.142321Z",
     "shell.execute_reply": "2022-01-27T15:46:32.141289Z",
     "shell.execute_reply.started": "2022-01-27T15:46:32.130043Z"
    }
   },
   "outputs": [],
   "source": [
    "used_ll_blocks = [\n",
    "    'MyObjectBuilder_CubeBlock_LargeBlockArmorCorner',\n",
    "    'MyObjectBuilder_CubeBlock_LargeBlockArmorSlope',\n",
    "    'MyObjectBuilder_CubeBlock_LargeBlockArmorCornerInv',\n",
    "    'MyObjectBuilder_CubeBlock_LargeBlockArmorBlock',\n",
    "    'MyObjectBuilder_Gyro_LargeBlockGyro',\n",
    "    'MyObjectBuilder_Reactor_LargeBlockSmallGenerator',\n",
    "    'MyObjectBuilder_CargoContainer_LargeBlockSmallContainer',\n",
    "    'MyObjectBuilder_Cockpit_OpenCockpitLarge',\n",
    "    'MyObjectBuilder_Thrust_LargeBlockSmallThrust',\n",
    "    'MyObjectBuilder_InteriorLight_SmallLight',\n",
    "    'MyObjectBuilder_CubeBlock_Window1x1Slope',\n",
    "    'MyObjectBuilder_CubeBlock_Window1x1Flat',\n",
    "    'MyObjectBuilder_InteriorLight_LargeBlockLight_1corner'\n",
    "]\n",
    "\n",
    "for k in used_ll_blocks:\n",
    "    ll_alphabet[k] = {\"action\": AtomAction.PLACE, \"args\": [k]}"
   ]
  },
  {
   "cell_type": "markdown",
   "id": "8bde02d5-0efe-4eba-97ea-5dbeb21ff246",
   "metadata": {
    "jp-MarkdownHeadingCollapsed": true,
    "tags": []
   },
   "source": [
    "## L-System components"
   ]
  },
  {
   "cell_type": "code",
   "execution_count": 9,
   "id": "65def23a-5419-4765-971b-7e0334b309ae",
   "metadata": {
    "execution": {
     "iopub.execute_input": "2022-01-27T15:46:32.145203Z",
     "iopub.status.busy": "2022-01-27T15:46:32.144315Z",
     "iopub.status.idle": "2022-01-27T15:46:32.171443Z",
     "shell.execute_reply": "2022-01-27T15:46:32.170447Z",
     "shell.execute_reply.started": "2022-01-27T15:46:32.145203Z"
    }
   },
   "outputs": [],
   "source": [
    "hl_rules = RuleMaker(ruleset='hlrules').get_rules()\n",
    "ll_rules = RuleMaker(ruleset='llrules').get_rules()\n",
    "\n",
    "hl_parser = HLParser(rules=hl_rules)\n",
    "ll_parser = LLParser(rules=ll_rules)\n",
    "\n",
    "hl_solver = LSolver(parser=hl_parser,\n",
    "                    atoms_alphabet=hl_alphabet,\n",
    "                    extra_args={\n",
    "                        'tiles_dimensions': tiles_dimensions,\n",
    "                        'tiles_block_offset': tiles_block_offset,\n",
    "                        'll_rules': ll_rules\n",
    "                    })\n",
    "ll_solver = LSolver(parser=ll_parser,\n",
    "                    atoms_alphabet=dict(hl_alphabet, **ll_alphabet),\n",
    "                    extra_args={})"
   ]
  },
  {
   "cell_type": "code",
   "execution_count": 10,
   "id": "7b84c390-6759-4288-acf3-f6ac68ab572c",
   "metadata": {
    "execution": {
     "iopub.execute_input": "2022-01-27T15:46:32.173666Z",
     "iopub.status.busy": "2022-01-27T15:46:32.173666Z",
     "iopub.status.idle": "2022-01-27T15:46:32.195727Z",
     "shell.execute_reply": "2022-01-27T15:46:32.194590Z",
     "shell.execute_reply.started": "2022-01-27T15:46:32.173666Z"
    }
   },
   "outputs": [],
   "source": [
    "rcc1 = ConstraintHandler(\n",
    "    name=\"required_components\",\n",
    "    level=ConstraintLevel.HARD_CONSTRAINT,\n",
    "    when=ConstraintTime.END,\n",
    "    f=components_constraint,\n",
    "    extra_args={\n",
    "        'alphabet': hl_alphabet\n",
    "    }\n",
    ")\n",
    "rcc1.extra_args[\"req_tiles\"] = ['cockpit']\n",
    "\n",
    "rcc2 = ConstraintHandler(\n",
    "    name=\"required_components\",\n",
    "    level=ConstraintLevel.HARD_CONSTRAINT,\n",
    "    when=ConstraintTime.END,\n",
    "    f=components_constraint,\n",
    "    extra_args={\n",
    "        'alphabet': hl_alphabet\n",
    "    }\n",
    ")\n",
    "rcc2.extra_args[\"req_tiles\"] = ['corridorcargo', 'corridorgyros', 'corridorreactors']\n",
    "\n",
    "rcc3 = ConstraintHandler(\n",
    "    name=\"required_components\",\n",
    "    level=ConstraintLevel.HARD_CONSTRAINT,\n",
    "    when=ConstraintTime.END,\n",
    "    f=components_constraint,\n",
    "    extra_args={\n",
    "        'alphabet': hl_alphabet\n",
    "    }\n",
    ")\n",
    "rcc3.extra_args[\"req_tiles\"] = ['thrusters']\n",
    "\n",
    "nic = ConstraintHandler(\n",
    "    name=\"no_intersections\",\n",
    "    level=ConstraintLevel.HARD_CONSTRAINT,\n",
    "    when=ConstraintTime.DURING,\n",
    "    f=intersection_constraint,\n",
    "    extra_args={\n",
    "        'alphabet': dict(hl_alphabet, **ll_alphabet)\n",
    "    },\n",
    "    needs_ll=True\n",
    ")\n",
    "nic.extra_args[\"tiles_dimensions\"] = tiles_dimensions\n",
    "\n",
    "sc = ConstraintHandler(\n",
    "    name=\"symmetry\",\n",
    "    level=ConstraintLevel.SOFT_CONSTRAINT,\n",
    "    when=ConstraintTime.END,\n",
    "    f=symmetry_constraint,\n",
    "    extra_args={\n",
    "        'alphabet': dict(hl_alphabet, **ll_alphabet)\n",
    "    }\n",
    ")\n",
    "\n",
    "# ax = ConstraintHandler(\n",
    "#     name=\"axis1\",\n",
    "#     level=ConstraintLevel.SOFT_CONSTRAINT,\n",
    "#     when=ConstraintTime.END,\n",
    "#     f=axis_constraint,\n",
    "#     extra_args={\n",
    "#         'alphabet': dict(hl_alphabet, **ll_alphabet)\n",
    "#     },\n",
    "#     needs_ll=True\n",
    "# )"
   ]
  },
  {
   "cell_type": "code",
   "execution_count": 11,
   "id": "427e0cf0-3dc6-4285-8963-eb171cb870de",
   "metadata": {
    "execution": {
     "iopub.execute_input": "2022-01-27T15:46:32.198105Z",
     "iopub.status.busy": "2022-01-27T15:46:32.198105Z",
     "iopub.status.idle": "2022-01-27T15:46:32.210748Z",
     "shell.execute_reply": "2022-01-27T15:46:32.209749Z",
     "shell.execute_reply.started": "2022-01-27T15:46:32.198105Z"
    },
    "tags": []
   },
   "outputs": [],
   "source": [
    "lsystem = LSystem(\n",
    "    hl_solver=hl_solver, ll_solver=ll_solver, names=['HeadModule', 'BodyModule', 'TailModule']\n",
    ")"
   ]
  },
  {
   "cell_type": "code",
   "execution_count": 12,
   "id": "d9ef6f61-369e-427a-a865-80452e125693",
   "metadata": {
    "execution": {
     "iopub.execute_input": "2022-01-27T15:46:32.214857Z",
     "iopub.status.busy": "2022-01-27T15:46:32.214857Z",
     "iopub.status.idle": "2022-01-27T15:46:32.226455Z",
     "shell.execute_reply": "2022-01-27T15:46:32.225200Z",
     "shell.execute_reply.started": "2022-01-27T15:46:32.214857Z"
    }
   },
   "outputs": [],
   "source": [
    "lsystem.add_hl_constraints(cs=[\n",
    "    [nic, rcc1],\n",
    "    [nic, rcc2],\n",
    "    [nic, rcc3]\n",
    "])\n",
    "\n",
    "lsystem.add_ll_constraints(cs=[\n",
    "    [sc],\n",
    "    [sc],\n",
    "    [sc]\n",
    "])"
   ]
  },
  {
   "cell_type": "code",
   "execution_count": 13,
   "id": "0286d232-3b08-4a43-ba5a-f5dc9c84bdb5",
   "metadata": {
    "execution": {
     "iopub.execute_input": "2022-01-27T15:46:32.228483Z",
     "iopub.status.busy": "2022-01-27T15:46:32.227458Z",
     "iopub.status.idle": "2022-01-27T15:46:32.247562Z",
     "shell.execute_reply": "2022-01-27T15:46:32.245877Z",
     "shell.execute_reply.started": "2022-01-27T15:46:32.228483Z"
    }
   },
   "outputs": [],
   "source": [
    "from pcgsepy.evo.genops import expander\n",
    "\n",
    "expander.initialize(rules=lsystem.hl_solver.parser.rules)"
   ]
  },
  {
   "cell_type": "markdown",
   "id": "69857611-d4c0-4d51-96c9-b57a40a9378a",
   "metadata": {},
   "source": [
    "## FI-2Pop"
   ]
  },
  {
   "cell_type": "code",
   "execution_count": 14,
   "id": "4a8cc10a-0828-4173-a31b-197227af0090",
   "metadata": {
    "execution": {
     "iopub.execute_input": "2022-01-27T15:46:32.249796Z",
     "iopub.status.busy": "2022-01-27T15:46:32.249796Z",
     "iopub.status.idle": "2022-01-27T15:46:32.258188Z",
     "shell.execute_reply": "2022-01-27T15:46:32.257192Z",
     "shell.execute_reply.started": "2022-01-27T15:46:32.249796Z"
    }
   },
   "outputs": [],
   "source": [
    "from pcgsepy.config import N_RUNS, EXP_NAME\n",
    "\n",
    "f_fitnesses_hist = []\n",
    "i_fitnesses_hist = []\n",
    "\n",
    "run_experiment = False"
   ]
  },
  {
   "cell_type": "code",
   "execution_count": 15,
   "id": "d0671cd1-17ca-4a0c-aed4-7fa8bd3431f8",
   "metadata": {
    "execution": {
     "iopub.execute_input": "2022-01-27T15:46:32.260624Z",
     "iopub.status.busy": "2022-01-27T15:46:32.260624Z",
     "iopub.status.idle": "2022-01-27T15:46:33.654766Z",
     "shell.execute_reply": "2022-01-27T15:46:33.653800Z",
     "shell.execute_reply.started": "2022-01-27T15:46:32.260624Z"
    },
    "tags": []
   },
   "outputs": [],
   "source": [
    "from pcgsepy.evo.fitness import box_filling_fitness, bounding_box_fitness, func_blocks_fitness, axis_fitness\n",
    "from pcgsepy.fi2pop.fi2pop import FI2PopSolver\n",
    "from pcgsepy.config import N_GENS\n",
    "\n",
    "fitnesses = [bounding_box_fitness,\n",
    "             box_filling_fitness,\n",
    "             func_blocks_fitness,\n",
    "             axis_fitness]"
   ]
  },
  {
   "cell_type": "code",
   "execution_count": 16,
   "id": "acd2578d-ac1a-4587-b976-5f7626b01bd7",
   "metadata": {
    "execution": {
     "iopub.execute_input": "2022-01-27T15:46:33.655763Z",
     "iopub.status.busy": "2022-01-27T15:46:33.655763Z",
     "iopub.status.idle": "2022-01-27T15:46:33.681491Z",
     "shell.execute_reply": "2022-01-27T15:46:33.680373Z",
     "shell.execute_reply.started": "2022-01-27T15:46:33.655763Z"
    }
   },
   "outputs": [],
   "source": [
    "from pcgsepy.lsystem.structure_maker import LLStructureMaker\n",
    "from pcgsepy.common.vecs import Orientation\n",
    "from pcgsepy.structure import Structure\n",
    "import numpy as np\n",
    "from pcgsepy.evo.fitness import futo_es, tovo_es, mame_es, mami_es, futo_max, tovo_max, mame_max, mami_max\n",
    "from pcgsepy.config import USE_BBOX, BBOX_X, BBOX_Y, BBOX_Z\n",
    "\n",
    "\n",
    "def save_stats(hl_axiom: str) -> None:\n",
    "    ml_axiom = lsystem.hl_solver.translator.transform(axiom=hl_axiom)\n",
    "    ll_axiom = lsystem.ll_solver.solve(axiom=ml_axiom,\n",
    "                                       iterations=1,\n",
    "                                       axioms_per_iteration=1,\n",
    "                                       check_sat=False)[0]\n",
    "\n",
    "    base_position, orientation_forward, orientation_up = Vec.v3i(\n",
    "                0, 0, 0), Orientation.FORWARD.value, Orientation.UP.value\n",
    "    structure = Structure(origin=base_position,\n",
    "                          orientation_forward=orientation_forward,\n",
    "                          orientation_up=orientation_up)\n",
    "    structure = LLStructureMaker(\n",
    "        atoms_alphabet=lsystem.ll_solver.atoms_alphabet,\n",
    "        position=base_position).fill_structure(structure=structure,\n",
    "                                               axiom=ll_axiom)\n",
    "    structure.sanify()\n",
    "\n",
    "    x, y, z = structure.as_array().shape\n",
    "    bbox = np.clip((BBOX_X - abs(BBOX_X - x)) / BBOX_X, 0, 1)\n",
    "    bbox += np.clip((BBOX_Y - abs(BBOX_Y - y)) / BBOX_Y, 0, 1)\n",
    "    bbox += np.clip((BBOX_Z - abs(BBOX_Z - z)) / BBOX_Z, 0, 1)\n",
    "    bbox /= 3\n",
    "\n",
    "    functional_blocks_volume, filled_volume = 0., 0.\n",
    "    for b in structure.get_all_blocks():\n",
    "        if not b.block_type.startswith('MyObjectBuilder_CubeBlock_'):\n",
    "            functional_blocks_volume += b.volume\n",
    "        filled_volume += b.volume\n",
    "\n",
    "    total_volume = structure.as_array().shape\n",
    "    total_volume = total_volume[0] * total_volume[1] * total_volume[2]\n",
    "\n",
    "    futo = functional_blocks_volume / (functional_blocks_volume + filled_volume)\n",
    "    tovo = (functional_blocks_volume + filled_volume) / total_volume\n",
    "    volume = functional_blocks_volume + filled_volume\n",
    "\n",
    "    total_volume = structure.as_array().shape\n",
    "    largest_axis, medium_axis, smallest_axis = reversed(sorted(list(total_volume)))\n",
    "    mame = largest_axis / medium_axis\n",
    "    mami = largest_axis / smallest_axis\n",
    "\n",
    "    with open(f'{EXP_NAME}_atoms.log', 'a') as f:\n",
    "        f.write(f'\\n\\n{hl_axiom}')\n",
    "        f.write(f'\\nVolume: {volume}')\n",
    "        f.write(f'\\nBBox: {(x, y, z)} ({bbox})')\n",
    "        f.write(f'\\nFunctional blocks / total blocks = {futo} ({futo_es.evaluate(futo) / futo_max})')\n",
    "        f.write(f'\\nFilled volume / total volume = {tovo} ({tovo_es.evaluate(tovo) / tovo_max})')\n",
    "        f.write(f'\\nLargest axis / Medium axis = {mame} ({mame_es.evaluate(mame) / mame_max})')\n",
    "        f.write(f'\\nLargest axis / Medium axis = {mami} ({mami_es.evaluate(mami)/ mami_max})')"
   ]
  },
  {
   "cell_type": "code",
   "execution_count": 17,
   "id": "296e9026-f62f-4d60-b6b3-5c6a8de5e444",
   "metadata": {
    "execution": {
     "iopub.execute_input": "2022-01-27T15:46:33.682490Z",
     "iopub.status.busy": "2022-01-27T15:46:33.682490Z",
     "iopub.status.idle": "2022-01-27T15:46:33.694650Z",
     "shell.execute_reply": "2022-01-27T15:46:33.693387Z",
     "shell.execute_reply.started": "2022-01-27T15:46:33.682490Z"
    },
    "tags": []
   },
   "outputs": [],
   "source": [
    "from tqdm.notebook import trange\n",
    "import numpy as np\n",
    "\n",
    "if run_experiment:\n",
    "    with trange(N_RUNS, desc='Running experiments') as iterations:\n",
    "        for n in iterations:\n",
    "            solver = FI2PopSolver(feasible_fitnesses=fitnesses,\n",
    "                                  lsystem=lsystem)\n",
    "\n",
    "            f_pop, i_pop, f_fitnesses, i_fitnesses = solver.initialize()\n",
    "\n",
    "            f_pop, i_pop, f_fitnesses, i_fitnesses = solver.fi2pop(f_pop=f_pop,\n",
    "                                                                   i_pop=i_pop,\n",
    "                                                                   f_fitnesses=f_fitnesses,\n",
    "                                                                   i_fitnesses=i_fitnesses,\n",
    "                                                                   n_iter=N_GENS)\n",
    "\n",
    "            f_fitnesses_hist.append(solver.ffs)\n",
    "            i_fitnesses_hist.append(solver.ifs)\n",
    "\n",
    "            save_stats(hl_axiom=f_pop[f_fitnesses.index(max(f_fitnesses))])\n",
    "\n",
    "            iterations.set_postfix(ordered_dict={'f_fit': np.max(f_fitnesses),\n",
    "                                                 'i_fit': np.min(i_fitnesses)},\n",
    "                                   refresh=True)"
   ]
  },
  {
   "cell_type": "code",
   "execution_count": 18,
   "id": "ffc1cd44-6226-400e-9cd4-415ab8f2ae4e",
   "metadata": {
    "execution": {
     "iopub.execute_input": "2022-01-27T15:46:33.695650Z",
     "iopub.status.busy": "2022-01-27T15:46:33.695650Z",
     "iopub.status.idle": "2022-01-27T15:46:33.718110Z",
     "shell.execute_reply": "2022-01-27T15:46:33.717110Z",
     "shell.execute_reply.started": "2022-01-27T15:46:33.695650Z"
    },
    "tags": []
   },
   "outputs": [],
   "source": [
    "if run_experiment:\n",
    "    from pcgsepy.config import POP_SIZE\n",
    "\n",
    "    ffs = np.empty(shape=(N_RUNS, 1 + N_GENS, 2))\n",
    "    for r, rv in enumerate(f_fitnesses_hist):\n",
    "        for g, gv in enumerate(rv):\n",
    "            ffs[r, g, :] = f_fitnesses_hist[r][g][:]\n",
    "    ifs = np.empty(shape=(N_RUNS, 1 + N_GENS, 2))\n",
    "    for r, rv in enumerate(i_fitnesses_hist):\n",
    "        for g, gv in enumerate(rv):\n",
    "            ifs[r, g, :] = i_fitnesses_hist[r][g][:]\n",
    "\n",
    "    with open(f'results/big-run/{EXP_NAME}_metrics.npz', 'wb') as f:\n",
    "        np.savez(f, ffs, ifs)\n",
    "else:\n",
    "    with open(f'results/big-run/{EXP_NAME}_metrics.npz', 'rb') as f:\n",
    "        npzfile = np.load(f)\n",
    "        ffs = npzfile['arr_0']\n",
    "        ifs = npzfile['arr_1']"
   ]
  },
  {
   "cell_type": "code",
   "execution_count": 19,
   "id": "50ce7a9a-82b1-4422-bad3-dbddf5113c5b",
   "metadata": {
    "execution": {
     "iopub.execute_input": "2022-01-27T15:46:33.720105Z",
     "iopub.status.busy": "2022-01-27T15:46:33.719106Z",
     "iopub.status.idle": "2022-01-27T15:46:33.738707Z",
     "shell.execute_reply": "2022-01-27T15:46:33.738707Z",
     "shell.execute_reply.started": "2022-01-27T15:46:33.720105Z"
    },
    "tags": []
   },
   "outputs": [],
   "source": [
    "import matplotlib.pyplot as plt\n",
    "\n",
    "SMALL_SIZE = 20\n",
    "MEDIUM_SIZE = 22\n",
    "BIGGER_SIZE = 26\n",
    "\n",
    "PAD_TITLE_SIZE = 20\n",
    "PAD_LABEL_SIZE = 10\n",
    "\n",
    "plt.rc('font', size=SMALL_SIZE)          # controls default text sizes\n",
    "plt.rc('axes', titlesize=BIGGER_SIZE)     # fontsize of the axes title\n",
    "plt.rc('axes', labelsize=MEDIUM_SIZE)    # fontsize of the x and y labels\n",
    "plt.rc('xtick', labelsize=SMALL_SIZE)    # fontsize of the tick labels\n",
    "plt.rc('ytick', labelsize=SMALL_SIZE)    # fontsize of the tick labels\n",
    "plt.rc('legend', fontsize=MEDIUM_SIZE)    # legend fontsize\n",
    "plt.rc('figure', titlesize=BIGGER_SIZE)  # fontsize of the figure title"
   ]
  },
  {
   "cell_type": "code",
   "execution_count": 20,
   "id": "27273b24-6226-40fc-becc-6d080b3f096c",
   "metadata": {
    "execution": {
     "iopub.execute_input": "2022-01-27T15:46:33.740702Z",
     "iopub.status.busy": "2022-01-27T15:46:33.740702Z",
     "iopub.status.idle": "2022-01-27T15:46:34.139686Z",
     "shell.execute_reply": "2022-01-27T15:46:34.138517Z",
     "shell.execute_reply.started": "2022-01-27T15:46:33.740702Z"
    },
    "tags": []
   },
   "outputs": [
    {
     "data": {
      "image/png": "[encoded data removed]",
      "text/plain": [
       "<Figure size 432x288 with 1 Axes>"
      ]
     },
     "metadata": {
      "needs_background": "light"
     },
     "output_type": "display_data"
    }
   ],
   "source": [
    "import matplotlib.pyplot as plt\n",
    "\n",
    "ftfs = np.max(ffs, axis=2)\n",
    "fmfs = np.mean(ffs, axis=2)\n",
    "\n",
    "ftm = np.mean(ftfs, axis=0)\n",
    "fts = np.std(ftfs, axis=0)\n",
    "\n",
    "fmm = np.mean(fmfs, axis=0)\n",
    "fms = np.std(fmfs, axis=0)\n",
    "\n",
    "plt.grid()\n",
    "plt.plot(range(len(ftm)), ftm, label=f'Top fitness', c='blue', lw=2)\n",
    "plt.fill_between(range(len(fts)), (ftm - (.5 * fts)), (ftm + (.5 * fts)), color='blue', alpha=0.2)\n",
    "plt.fill_between(range(len(fts)), (ftm - fts), (ftm + fts), color='blue', alpha=0.1)\n",
    "plt.plot(range(len(fmm)), fmm, label=f'Mean fitness', c='darkgreen', lw=2)\n",
    "plt.fill_between(range(len(fms)), (fmm - (.5 * fms)), (fmm + (.5 * fms)), color='darkgreen', alpha=0.2)\n",
    "plt.fill_between(range(len(fms)), (fmm - fms), (fmm + fms), color='darkgreen', alpha=0.1)\n",
    "# plt.ylim(0, 5.5)\n",
    "# plt.xlim(N_GENS+1)\n",
    "plt.legend(loc='lower right')\n",
    "plt.title(f'Avg. FPop fitness ({N_RUNS} runs)', pad=PAD_TITLE_SIZE)\n",
    "plt.ylabel('Fitness', labelpad=PAD_LABEL_SIZE)\n",
    "plt.xlabel('Generations', labelpad=PAD_LABEL_SIZE)\n",
    "plt.autoscale(enable=True, axis='x', tight=True)\n",
    "plt.savefig(f'results/big-run/lsystem-fi2pop-fpop-avgf.png', transparent=True, bbox_inches='tight')\n",
    "plt.show()"
   ]
  },
  {
   "cell_type": "code",
   "execution_count": 21,
   "id": "85c9de13-9261-4987-86e9-5fc1b04d78cd",
   "metadata": {
    "execution": {
     "iopub.execute_input": "2022-01-27T15:46:34.141728Z",
     "iopub.status.busy": "2022-01-27T15:46:34.140703Z",
     "iopub.status.idle": "2022-01-27T15:46:34.540178Z",
     "shell.execute_reply": "2022-01-27T15:46:34.539179Z",
     "shell.execute_reply.started": "2022-01-27T15:46:34.141728Z"
    },
    "tags": []
   },
   "outputs": [
    {
     "data": {
      "image/png": "[encoded data removed]",
      "text/plain": [
       "<Figure size 432x288 with 1 Axes>"
      ]
     },
     "metadata": {
      "needs_background": "light"
     },
     "output_type": "display_data"
    }
   ],
   "source": [
    "import matplotlib.pyplot as plt\n",
    "\n",
    "itfs = np.max(ifs, axis=2)\n",
    "imfs = np.mean(ifs, axis=2)\n",
    "\n",
    "itm = np.mean(itfs, axis=0)\n",
    "its = np.std(itfs, axis=0)\n",
    "\n",
    "imm = np.mean(imfs, axis=0)\n",
    "ims = np.std(imfs, axis=0)\n",
    "\n",
    "plt.grid()\n",
    "plt.plot(range(len(itm)), itm, label=f'Top fitness', c='blue', lw=2)\n",
    "plt.fill_between(range(len(its)), (itm - (.5 * its)), (itm + (.5 * its)), color='blue', alpha=0.2)\n",
    "plt.fill_between(range(len(its)), (itm - its), (itm + its), color='blue', alpha=0.1)\n",
    "plt.plot(range(len(imm)), imm, label=f'Mean fitness', c='darkgreen', lw=2)\n",
    "plt.fill_between(range(len(ims)), (imm - (.5 * ims)), (imm + (.5 * ims)), color='darkgreen', alpha=0.2)\n",
    "plt.fill_between(range(len(ims)), (imm - ims), (imm + ims), color='darkgreen', alpha=0.1)\n",
    "# plt.ylim(len(fitnesses))\n",
    "# plt.xlim(N_GENS+1)\n",
    "plt.legend(loc='upper right')\n",
    "plt.title(f'Avg. IPop fitness ({N_RUNS} runs)', pad=PAD_TITLE_SIZE)\n",
    "plt.ylabel('Fitness', labelpad=PAD_LABEL_SIZE)\n",
    "plt.xlabel('Generations', labelpad=PAD_LABEL_SIZE)\n",
    "plt.autoscale(enable=True, axis='x', tight=True)\n",
    "plt.savefig(f'results/big-run/lsystem-fi2pop-ipop-avgf.png', transparent=True, bbox_inches='tight')\n",
    "plt.show()"
   ]
  },
  {
   "cell_type": "code",
   "execution_count": 26,
   "id": "764ed7f6-2ace-432d-860f-b90d4f5c156e",
   "metadata": {
    "execution": {
     "iopub.execute_input": "2022-01-27T15:46:34.592302Z",
     "iopub.status.busy": "2022-01-27T15:46:34.591557Z",
     "iopub.status.idle": "2022-01-27T15:46:34.599250Z",
     "shell.execute_reply": "2022-01-27T15:46:34.598255Z",
     "shell.execute_reply.started": "2022-01-27T15:46:34.592302Z"
    },
    "tags": []
   },
   "outputs": [],
   "source": [
    "# do_place_blocks = False"
   ]
  },
  {
   "cell_type": "code",
   "execution_count": 27,
   "id": "210f25c1-274b-4be5-961a-2f2649193c9c",
   "metadata": {
    "execution": {
     "iopub.execute_input": "2022-01-27T15:46:34.602274Z",
     "iopub.status.busy": "2022-01-27T15:46:34.601275Z",
     "iopub.status.idle": "2022-01-27T15:46:34.609680Z",
     "shell.execute_reply": "2022-01-27T15:46:34.608502Z",
     "shell.execute_reply.started": "2022-01-27T15:46:34.602274Z"
    },
    "tags": []
   },
   "outputs": [],
   "source": [
    "# if do_place_blocks:\n",
    "#     from pcgsepy.common.api_call import GameMode, get_base_values, toggle_gamemode\n",
    "#     from pcgsepy.structure import place_blocks\n",
    "    \n",
    "#     base_position, orientation_forward, orientation_up = get_base_values()\n",
    "#     structure.update(\n",
    "#         origin=base_position,\n",
    "#         orientation_forward=orientation_forward,\n",
    "#         orientation_up=orientation_up,\n",
    "#     )\n",
    "#     toggle_gamemode(GameMode.PLACING)\n",
    "#     place_blocks(structure.get_all_blocks(), False)\n",
    "#     toggle_gamemode(GameMode.EVALUATING)"
   ]
  }
 ],
 "metadata": {
  "kernelspec": {
   "display_name": "Python 3 (ipykernel)",
   "language": "python",
   "name": "python3"
  },
  "language_info": {
   "codemirror_mode": {
    "name": "ipython",
    "version": 3
   },
   "file_extension": ".py",
   "mimetype": "text/x-python",
   "name": "python",
   "nbconvert_exporter": "python",
   "pygments_lexer": "ipython3",
   "version": "3.8.12"
  }
 },
 "nbformat": 4,
 "nbformat_minor": 5
}
