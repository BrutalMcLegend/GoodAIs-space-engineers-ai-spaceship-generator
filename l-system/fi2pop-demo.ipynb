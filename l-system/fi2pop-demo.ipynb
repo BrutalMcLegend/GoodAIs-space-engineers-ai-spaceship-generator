{
 "cells": [
  {
   "cell_type": "markdown",
   "id": "e35c7368-cd53-434e-b9c4-90efc778fb4e",
   "metadata": {},
   "source": [
    "# FI-2Pop demo\n",
    "\n",
    "Demo notebook on the integration of FI-2Pop with the L-System."
   ]
  },
  {
   "cell_type": "markdown",
   "id": "94c19e54-68bc-404f-8962-87fb70f7185d",
   "metadata": {
    "tags": []
   },
   "source": [
    "## Imports"
   ]
  },
  {
   "cell_type": "code",
   "execution_count": 1,
   "id": "f171c65a-e171-41df-936e-c808dd4f8154",
   "metadata": {
    "execution": {
     "iopub.execute_input": "2022-01-31T15:15:29.781211Z",
     "iopub.status.busy": "2022-01-31T15:15:29.781211Z",
     "iopub.status.idle": "2022-01-31T15:15:29.797376Z",
     "shell.execute_reply": "2022-01-31T15:15:29.796381Z",
     "shell.execute_reply.started": "2022-01-31T15:15:29.781211Z"
    }
   },
   "outputs": [],
   "source": [
    "import json"
   ]
  },
  {
   "cell_type": "markdown",
   "id": "eae4a95b-47cc-4381-985a-647ba65ecf17",
   "metadata": {},
   "source": [
    "GECCO-compatible `matplotlib` options:"
   ]
  },
  {
   "cell_type": "code",
   "execution_count": 2,
   "id": "2b88d1b9-2c34-4dde-9db9-5cd7509b1f1a",
   "metadata": {
    "execution": {
     "iopub.execute_input": "2022-01-31T15:15:29.799365Z",
     "iopub.status.busy": "2022-01-31T15:15:29.798367Z",
     "iopub.status.idle": "2022-01-31T15:15:30.075220Z",
     "shell.execute_reply": "2022-01-31T15:15:30.075220Z",
     "shell.execute_reply.started": "2022-01-31T15:15:29.799365Z"
    }
   },
   "outputs": [],
   "source": [
    "import matplotlib\n",
    "\n",
    "matplotlib.rcParams['pdf.fonttype'] = 42\n",
    "matplotlib.rcParams['ps.fonttype'] = 42"
   ]
  },
  {
   "cell_type": "markdown",
   "id": "fe17bf5f-7d6d-4a26-92e3-abae13291ccf",
   "metadata": {},
   "source": [
    "Import `PCGSEPy` modules:"
   ]
  },
  {
   "cell_type": "code",
   "execution_count": 3,
   "id": "ea32675b-d3b7-43cb-a84c-8f79ec5950b8",
   "metadata": {
    "execution": {
     "iopub.execute_input": "2022-01-31T15:15:30.075220Z",
     "iopub.status.busy": "2022-01-31T15:15:30.075220Z",
     "iopub.status.idle": "2022-01-31T15:15:30.614959Z",
     "shell.execute_reply": "2022-01-31T15:15:30.614959Z",
     "shell.execute_reply.started": "2022-01-31T15:15:30.075220Z"
    }
   },
   "outputs": [],
   "source": [
    "from pcgsepy.common.vecs import orientation_from_str, Vec \n",
    "from pcgsepy.config import COMMON_ATOMS, HL_ATOMS, N_ITERATIONS, REQ_TILES \n",
    "from pcgsepy.lsystem.rules import RuleMaker\n",
    "from pcgsepy.lsystem.actions import AtomAction, Rotations\n",
    "from pcgsepy.lsystem.parser import HLParser, LLParser\n",
    "from pcgsepy.lsystem.solver import LSolver\n",
    "from pcgsepy.lsystem.constraints import ConstraintHandler, ConstraintLevel, ConstraintTime\n",
    "from pcgsepy.lsystem.constraints_funcs import components_constraint, intersection_constraint, symmetry_constraint, axis_constraint\n",
    "from pcgsepy.lsystem.lsystem import LSystem\n",
    "from pcgsepy.structure import block_definitions"
   ]
  },
  {
   "cell_type": "markdown",
   "id": "03c439a3-1460-4055-9786-be86ef7ea8e1",
   "metadata": {
    "jp-MarkdownHeadingCollapsed": true,
    "tags": []
   },
   "source": [
    "## Setup"
   ]
  },
  {
   "cell_type": "code",
   "execution_count": 4,
   "id": "6fc0f771-61b0-46a1-97e8-d930b2a6d24c",
   "metadata": {
    "execution": {
     "iopub.execute_input": "2022-01-31T15:15:30.614959Z",
     "iopub.status.busy": "2022-01-31T15:15:30.614959Z",
     "iopub.status.idle": "2022-01-31T15:15:30.639901Z",
     "shell.execute_reply": "2022-01-31T15:15:30.639901Z",
     "shell.execute_reply.started": "2022-01-31T15:15:30.614959Z"
    }
   },
   "outputs": [],
   "source": [
    "# import logging\n",
    "\n",
    "# logging.basicConfig()\n",
    "# logger = logging.getLogger('base-logger')\n",
    "# logger.setLevel(logging.WARNING)"
   ]
  },
  {
   "cell_type": "code",
   "execution_count": 5,
   "id": "2afef3e3-b111-47d2-abca-efbdde6fe7f3",
   "metadata": {
    "execution": {
     "iopub.execute_input": "2022-01-31T15:15:30.645248Z",
     "iopub.status.busy": "2022-01-31T15:15:30.645248Z",
     "iopub.status.idle": "2022-01-31T15:15:30.655217Z",
     "shell.execute_reply": "2022-01-31T15:15:30.655217Z",
     "shell.execute_reply.started": "2022-01-31T15:15:30.645248Z"
    },
    "tags": []
   },
   "outputs": [],
   "source": [
    "with open(COMMON_ATOMS, \"r\") as f:\n",
    "    common_alphabet = json.load(f)\n",
    "\n",
    "for k in common_alphabet:\n",
    "    action, args = common_alphabet[k][\"action\"], common_alphabet[k][\"args\"]\n",
    "    action = AtomAction(action)\n",
    "    if action == AtomAction.MOVE:\n",
    "        args = orientation_from_str[args]\n",
    "    elif action == AtomAction.ROTATE:\n",
    "        args = Rotations(args)\n",
    "    common_alphabet[k] = {\"action\": action, \"args\": args}"
   ]
  },
  {
   "cell_type": "code",
   "execution_count": 6,
   "id": "a6484d3a-0ed3-4269-8ea9-29e30856d586",
   "metadata": {
    "execution": {
     "iopub.execute_input": "2022-01-31T15:15:30.656244Z",
     "iopub.status.busy": "2022-01-31T15:15:30.656244Z",
     "iopub.status.idle": "2022-01-31T15:15:30.670641Z",
     "shell.execute_reply": "2022-01-31T15:15:30.670641Z",
     "shell.execute_reply.started": "2022-01-31T15:15:30.656244Z"
    }
   },
   "outputs": [],
   "source": [
    "with open(HL_ATOMS, \"r\") as f:\n",
    "    hl_atoms = json.load(f)\n",
    "\n",
    "tiles_dimensions = {}\n",
    "tiles_block_offset = {}\n",
    "for tile in hl_atoms.keys():\n",
    "    dx, dy, dz = hl_atoms[tile][\"dimensions\"]\n",
    "    tiles_dimensions[tile] = Vec.v3i(dx, dy, dz)\n",
    "    tiles_block_offset[tile] = hl_atoms[tile][\"offset\"]\n",
    "\n",
    "hl_alphabet = {}\n",
    "for k in common_alphabet.keys():\n",
    "    hl_alphabet[k] = common_alphabet[k]\n",
    "\n",
    "for hk in hl_atoms.keys():\n",
    "    hl_alphabet[hk] = {\"action\": AtomAction.PLACE, \"args\": []}"
   ]
  },
  {
   "cell_type": "code",
   "execution_count": 7,
   "id": "b2e83754-e8ae-4c88-9b44-557271386ec3",
   "metadata": {
    "execution": {
     "iopub.execute_input": "2022-01-31T15:15:30.672635Z",
     "iopub.status.busy": "2022-01-31T15:15:30.671638Z",
     "iopub.status.idle": "2022-01-31T15:15:30.686599Z",
     "shell.execute_reply": "2022-01-31T15:15:30.686599Z",
     "shell.execute_reply.started": "2022-01-31T15:15:30.672635Z"
    }
   },
   "outputs": [],
   "source": [
    "ll_alphabet = {}\n",
    "\n",
    "for k in common_alphabet.keys():\n",
    "    ll_alphabet[k] = common_alphabet[k]\n",
    "\n",
    "# for k in block_definitions.keys():\n",
    "#     if k != \"\":  # TODO: This is a probable bug, reported to the SE API devs\n",
    "#         ll_alphabet[k] = {\"action\": AtomAction.PLACE, \"args\": [k]}"
   ]
  },
  {
   "cell_type": "code",
   "execution_count": 8,
   "id": "138e6f22-3a8e-4229-8c20-1b0ea116ec58",
   "metadata": {
    "execution": {
     "iopub.execute_input": "2022-01-31T15:15:30.687595Z",
     "iopub.status.busy": "2022-01-31T15:15:30.687595Z",
     "iopub.status.idle": "2022-01-31T15:15:30.702555Z",
     "shell.execute_reply": "2022-01-31T15:15:30.702555Z",
     "shell.execute_reply.started": "2022-01-31T15:15:30.687595Z"
    }
   },
   "outputs": [],
   "source": [
    "used_ll_blocks = [\n",
    "    'MyObjectBuilder_CubeBlock_LargeBlockArmorCornerInv',\n",
    "    'MyObjectBuilder_CubeBlock_LargeBlockArmorCorner',\n",
    "    'MyObjectBuilder_CubeBlock_LargeBlockArmorSlope',\n",
    "    'MyObjectBuilder_CubeBlock_LargeBlockArmorBlock',\n",
    "    'MyObjectBuilder_Gyro_LargeBlockGyro',\n",
    "    'MyObjectBuilder_Reactor_LargeBlockSmallGenerator',\n",
    "    'MyObjectBuilder_CargoContainer_LargeBlockSmallContainer',\n",
    "    'MyObjectBuilder_Cockpit_OpenCockpitLarge',\n",
    "    'MyObjectBuilder_Thrust_LargeBlockSmallThrust',\n",
    "    'MyObjectBuilder_InteriorLight_SmallLight',\n",
    "    'MyObjectBuilder_CubeBlock_Window1x1Slope',\n",
    "    'MyObjectBuilder_CubeBlock_Window1x1Flat',\n",
    "    'MyObjectBuilder_InteriorLight_LargeBlockLight_1corner'\n",
    "]\n",
    "\n",
    "for k in used_ll_blocks:\n",
    "    ll_alphabet[k] = {\"action\": AtomAction.PLACE, \"args\": [k]}"
   ]
  },
  {
   "cell_type": "markdown",
   "id": "8bde02d5-0efe-4eba-97ea-5dbeb21ff246",
   "metadata": {
    "tags": []
   },
   "source": [
    "## L-System components"
   ]
  },
  {
   "cell_type": "code",
   "execution_count": 9,
   "id": "65def23a-5419-4765-971b-7e0334b309ae",
   "metadata": {
    "execution": {
     "iopub.execute_input": "2022-01-31T15:15:30.703553Z",
     "iopub.status.busy": "2022-01-31T15:15:30.703553Z",
     "iopub.status.idle": "2022-01-31T15:15:30.718548Z",
     "shell.execute_reply": "2022-01-31T15:15:30.718548Z",
     "shell.execute_reply.started": "2022-01-31T15:15:30.703553Z"
    }
   },
   "outputs": [],
   "source": [
    "hl_rules = RuleMaker(ruleset='hlrules').get_rules()\n",
    "ll_rules = RuleMaker(ruleset='llrules').get_rules()\n",
    "\n",
    "hl_parser = HLParser(rules=hl_rules)\n",
    "ll_parser = LLParser(rules=ll_rules)\n",
    "\n",
    "hl_solver = LSolver(parser=hl_parser,\n",
    "                    atoms_alphabet=hl_alphabet,\n",
    "                    extra_args={\n",
    "                        'tiles_dimensions': tiles_dimensions,\n",
    "                        'tiles_block_offset': tiles_block_offset,\n",
    "                        'll_rules': ll_rules\n",
    "                    })\n",
    "ll_solver = LSolver(parser=ll_parser,\n",
    "                    atoms_alphabet=dict(hl_alphabet, **ll_alphabet),\n",
    "                    extra_args={})"
   ]
  },
  {
   "cell_type": "code",
   "execution_count": 10,
   "id": "7b84c390-6759-4288-acf3-f6ac68ab572c",
   "metadata": {
    "execution": {
     "iopub.execute_input": "2022-01-31T15:15:30.719510Z",
     "iopub.status.busy": "2022-01-31T15:15:30.719510Z",
     "iopub.status.idle": "2022-01-31T15:15:30.734470Z",
     "shell.execute_reply": "2022-01-31T15:15:30.734470Z",
     "shell.execute_reply.started": "2022-01-31T15:15:30.719510Z"
    }
   },
   "outputs": [],
   "source": [
    "rcc1 = ConstraintHandler(\n",
    "    name=\"required_components\",\n",
    "    level=ConstraintLevel.HARD_CONSTRAINT,\n",
    "    when=ConstraintTime.END,\n",
    "    f=components_constraint,\n",
    "    extra_args={\n",
    "        'alphabet': hl_alphabet\n",
    "    }\n",
    ")\n",
    "rcc1.extra_args[\"req_tiles\"] = ['cockpit']\n",
    "\n",
    "rcc2 = ConstraintHandler(\n",
    "    name=\"required_components\",\n",
    "    level=ConstraintLevel.HARD_CONSTRAINT,\n",
    "    when=ConstraintTime.END,\n",
    "    f=components_constraint,\n",
    "    extra_args={\n",
    "        'alphabet': hl_alphabet\n",
    "    }\n",
    ")\n",
    "rcc2.extra_args[\"req_tiles\"] = ['corridorcargo', 'corridorgyros', 'corridorreactors']\n",
    "\n",
    "rcc3 = ConstraintHandler(\n",
    "    name=\"required_components\",\n",
    "    level=ConstraintLevel.HARD_CONSTRAINT,\n",
    "    when=ConstraintTime.END,\n",
    "    f=components_constraint,\n",
    "    extra_args={\n",
    "        'alphabet': hl_alphabet\n",
    "    }\n",
    ")\n",
    "rcc3.extra_args[\"req_tiles\"] = ['thrusters']\n",
    "\n",
    "nic = ConstraintHandler(\n",
    "    name=\"no_intersections\",\n",
    "    level=ConstraintLevel.HARD_CONSTRAINT,\n",
    "    when=ConstraintTime.DURING,\n",
    "    f=intersection_constraint,\n",
    "    extra_args={\n",
    "        'alphabet': dict(hl_alphabet, **ll_alphabet)\n",
    "    },\n",
    "    needs_ll=True\n",
    ")\n",
    "nic.extra_args[\"tiles_dimensions\"] = tiles_dimensions\n",
    "\n",
    "sc = ConstraintHandler(\n",
    "    name=\"symmetry\",\n",
    "    level=ConstraintLevel.SOFT_CONSTRAINT,\n",
    "    when=ConstraintTime.END,\n",
    "    f=symmetry_constraint,\n",
    "    extra_args={\n",
    "        'alphabet': dict(hl_alphabet, **ll_alphabet)\n",
    "    }\n",
    ")\n",
    "\n",
    "# ax = ConstraintHandler(\n",
    "#     name=\"axis1\",\n",
    "#     level=ConstraintLevel.SOFT_CONSTRAINT,\n",
    "#     when=ConstraintTime.END,\n",
    "#     f=axis_constraint,\n",
    "#     extra_args={\n",
    "#         'alphabet': dict(hl_alphabet, **ll_alphabet)\n",
    "#     },\n",
    "#     needs_ll=True\n",
    "# )"
   ]
  },
  {
   "cell_type": "code",
   "execution_count": 11,
   "id": "427e0cf0-3dc6-4285-8963-eb171cb870de",
   "metadata": {
    "execution": {
     "iopub.execute_input": "2022-01-31T15:15:30.735493Z",
     "iopub.status.busy": "2022-01-31T15:15:30.735493Z",
     "iopub.status.idle": "2022-01-31T15:15:30.750465Z",
     "shell.execute_reply": "2022-01-31T15:15:30.750465Z",
     "shell.execute_reply.started": "2022-01-31T15:15:30.735493Z"
    },
    "tags": []
   },
   "outputs": [],
   "source": [
    "lsystem = LSystem(\n",
    "    hl_solver=hl_solver, ll_solver=ll_solver, names=['HeadModule', 'BodyModule', 'TailModule']\n",
    ")"
   ]
  },
  {
   "cell_type": "code",
   "execution_count": 12,
   "id": "d9ef6f61-369e-427a-a865-80452e125693",
   "metadata": {
    "execution": {
     "iopub.execute_input": "2022-01-31T15:15:30.752423Z",
     "iopub.status.busy": "2022-01-31T15:15:30.752423Z",
     "iopub.status.idle": "2022-01-31T15:15:30.767297Z",
     "shell.execute_reply": "2022-01-31T15:15:30.766421Z",
     "shell.execute_reply.started": "2022-01-31T15:15:30.752423Z"
    }
   },
   "outputs": [],
   "source": [
    "lsystem.add_hl_constraints(cs=[\n",
    "    [nic, rcc1],\n",
    "    [nic, rcc2],\n",
    "    [nic, rcc3]\n",
    "])\n",
    "\n",
    "lsystem.add_ll_constraints(cs=[\n",
    "    [sc],\n",
    "    [sc],\n",
    "    [sc]\n",
    "])"
   ]
  },
  {
   "cell_type": "code",
   "execution_count": 13,
   "id": "0286d232-3b08-4a43-ba5a-f5dc9c84bdb5",
   "metadata": {
    "execution": {
     "iopub.execute_input": "2022-01-31T15:15:30.768331Z",
     "iopub.status.busy": "2022-01-31T15:15:30.767297Z",
     "iopub.status.idle": "2022-01-31T15:15:30.782260Z",
     "shell.execute_reply": "2022-01-31T15:15:30.782260Z",
     "shell.execute_reply.started": "2022-01-31T15:15:30.768331Z"
    }
   },
   "outputs": [],
   "source": [
    "from pcgsepy.evo.genops import expander\n",
    "\n",
    "expander.initialize(rules=lsystem.hl_solver.parser.rules)"
   ]
  },
  {
   "cell_type": "markdown",
   "id": "264d57a6",
   "metadata": {},
   "source": [
    "## Experiments"
   ]
  },
  {
   "cell_type": "code",
   "execution_count": 14,
   "id": "4a8cc10a-0828-4173-a31b-197227af0090",
   "metadata": {
    "execution": {
     "iopub.execute_input": "2022-01-31T15:15:30.783257Z",
     "iopub.status.busy": "2022-01-31T15:15:30.783257Z",
     "iopub.status.idle": "2022-01-31T15:15:30.799215Z",
     "shell.execute_reply": "2022-01-31T15:15:30.798253Z",
     "shell.execute_reply.started": "2022-01-31T15:15:30.783257Z"
    },
    "tags": []
   },
   "outputs": [],
   "source": [
    "from pcgsepy.config import N_RUNS, EXP_NAME\n",
    "\n",
    "run_experiment = True"
   ]
  },
  {
   "cell_type": "code",
   "execution_count": 15,
   "id": "d0671cd1-17ca-4a0c-aed4-7fa8bd3431f8",
   "metadata": {
    "execution": {
     "iopub.execute_input": "2022-01-31T15:15:30.799215Z",
     "iopub.status.busy": "2022-01-31T15:15:30.799215Z",
     "iopub.status.idle": "2022-01-31T15:15:31.305569Z",
     "shell.execute_reply": "2022-01-31T15:15:31.305569Z",
     "shell.execute_reply.started": "2022-01-31T15:15:30.799215Z"
    },
    "tags": []
   },
   "outputs": [],
   "source": [
    "from pcgsepy.evo.fitness import box_filling_fitness, func_blocks_fitness, mame_fitness, mami_fitness\n",
    "\n",
    "fitnesses = [box_filling_fitness,\n",
    "             func_blocks_fitness,\n",
    "             mame_fitness,\n",
    "             mami_fitness]"
   ]
  },
  {
   "cell_type": "code",
   "execution_count": 16,
   "id": "acd2578d-ac1a-4587-b976-5f7626b01bd7",
   "metadata": {
    "execution": {
     "iopub.execute_input": "2022-01-31T15:15:31.305569Z",
     "iopub.status.busy": "2022-01-31T15:15:31.305569Z",
     "iopub.status.idle": "2022-01-31T15:15:31.336783Z",
     "shell.execute_reply": "2022-01-31T15:15:31.336783Z",
     "shell.execute_reply.started": "2022-01-31T15:15:31.305569Z"
    }
   },
   "outputs": [],
   "source": [
    "import numpy as np\n",
    "from pcgsepy.lsystem.solution import CandidateSolution\n",
    "from pcgsepy.config import BBOX_X, BBOX_Y, BBOX_Z, POP_SIZE\n",
    "from pcgsepy.evo.fitness import futo_es, futo_max, tovo_es, tovo_max, mame_es, mame_max, mami_es, mami_max\n",
    "\n",
    "def save_stats(cs: CandidateSolution,\n",
    "               exp_name: str = EXP_NAME) -> None:\n",
    "    # structure = cs.content\n",
    "    \n",
    "    # x, y, z = structure.as_array().shape\n",
    "    # bbox = np.clip((BBOX_X - abs(BBOX_X - x)) / BBOX_X, 0, 1)\n",
    "    # bbox += np.clip((BBOX_Y - abs(BBOX_Y - y)) / BBOX_Y, 0, 1)\n",
    "    # bbox += np.clip((BBOX_Z - abs(BBOX_Z - z)) / BBOX_Z, 0, 1)\n",
    "    # bbox /= 3\n",
    "    \n",
    "    # functional_blocks_volume, filled_volume = 0., 0.\n",
    "    # for b in structure._blocks.values():\n",
    "    #     if not b.block_type.startswith('MyObjectBuilder_CubeBlock_'):\n",
    "    #         functional_blocks_volume += b.volume\n",
    "    #     filled_volume += b.volume\n",
    "\n",
    "    # total_volume = structure.as_array().shape\n",
    "    # total_volume = total_volume[0] * total_volume[1] * total_volume[2]\n",
    "\n",
    "    # futo = functional_blocks_volume / (functional_blocks_volume + filled_volume)\n",
    "    # tovo = (functional_blocks_volume + filled_volume) / total_volume\n",
    "    # volume = functional_blocks_volume + filled_volume\n",
    "\n",
    "    # total_volume = structure.as_array().shape\n",
    "    # largest_axis, medium_axis, smallest_axis = reversed(sorted(list(total_volume)))\n",
    "    # mame = largest_axis / medium_axis\n",
    "    # mami = largest_axis / smallest_axis\n",
    "\n",
    "    # futo_f = futo_es.evaluate(futo) / futo_max\n",
    "    # tovo_f = tovo_es.evaluate(tovo) / tovo_max\n",
    "    # mame_f = mame_es.evaluate(mame) / mame_max\n",
    "    # mami_f = mami_es.evaluate(mami)/ mami_max\n",
    "    \n",
    "    with open(f'{exp_name}_atoms.log', 'a') as f:\n",
    "        f.write(f'\\n\\n{cs.string}')\n",
    "        for fitness, v in zip(fitnesses, cs.fitness):\n",
    "            f.write(f'\\n{fitness.__name__}: {v}')\n",
    "        # f.write(f'\\nVolume: {volume}')\n",
    "        # f.write(f'\\nBBox: {(x, y, z)} ({bbox})')\n",
    "        # f.write(f'\\nFunctional blocks / total blocks = {futo} ({futo_f})')\n",
    "        # f.write(f'\\nFilled volume / total volume = {tovo} ({tovo_f})')\n",
    "        # f.write(f'\\nLargest axis / Medium axis = {mame} ({mame_f})')\n",
    "        # f.write(f'\\nLargest axis / Medium axis = {mami} ({mami_f})')"
   ]
  },
  {
   "cell_type": "code",
   "execution_count": 17,
   "id": "296e9026-f62f-4d60-b6b3-5c6a8de5e444",
   "metadata": {
    "execution": {
     "iopub.execute_input": "2022-01-31T15:15:31.336783Z",
     "iopub.status.busy": "2022-01-31T15:15:31.336783Z"
    },
    "tags": []
   },
   "outputs": [
    {
     "name": "stdout",
     "output_type": "stream",
     "text": [
      "Running 5 experiments with LGP...\n"
     ]
    },
    {
     "data": {
      "application/vnd.jupyter.widget-view+json": {
       "model_id": "12a9b93bff334e8cb843a08e9266c30d",
       "version_major": 2,
       "version_minor": 0
      },
      "text/plain": [
       "Running experiments:   0%|          | 0/5 [00:00<?, ?it/s]"
      ]
     },
     "metadata": {},
     "output_type": "display_data"
    },
    {
     "data": {
      "application/vnd.jupyter.widget-view+json": {
       "model_id": "c5cffc9982ce4ffba7c095fb47b36256",
       "version_major": 2,
       "version_minor": 0
      },
      "text/plain": [
       "Initialization :   0%|          | 0/500 [00:00<?, ?it/s]"
      ]
     },
     "metadata": {},
     "output_type": "display_data"
    },
    {
     "name": "stdout",
     "output_type": "stream",
     "text": [
      "Created Feasible population of size 17: t:2.974743745085483;m:1.4079310504756812\n",
      "Created Infeasible population of size 20: t:1;m:1.75\n"
     ]
    },
    {
     "data": {
      "application/vnd.jupyter.widget-view+json": {
       "model_id": "3d7a32429798493296a8da5d1f13b08d",
       "version_major": 2,
       "version_minor": 0
      },
      "text/plain": [
       "Generation :   0%|          | 0/75 [00:00<?, ?it/s]"
      ]
     },
     "metadata": {},
     "output_type": "display_data"
    },
    {
     "data": {
      "application/vnd.jupyter.widget-view+json": {
       "model_id": "3ccf5f8a614b49ecb8392e4b3759645f",
       "version_major": 2,
       "version_minor": 0
      },
      "text/plain": [
       "Initialization :   0%|          | 0/500 [00:00<?, ?it/s]"
      ]
     },
     "metadata": {},
     "output_type": "display_data"
    },
    {
     "name": "stdout",
     "output_type": "stream",
     "text": [
      "Created Feasible population of size 18: t:2.3898155382566904;m:1.3780460623676805\n",
      "Created Infeasible population of size 20: t:1;m:1.7\n"
     ]
    },
    {
     "data": {
      "application/vnd.jupyter.widget-view+json": {
       "model_id": "52c392f531ac49e595a861b49d3eecae",
       "version_major": 2,
       "version_minor": 0
      },
      "text/plain": [
       "Generation :   0%|          | 0/75 [00:00<?, ?it/s]"
      ]
     },
     "metadata": {},
     "output_type": "display_data"
    },
    {
     "data": {
      "application/vnd.jupyter.widget-view+json": {
       "model_id": "28e6760b8b7a4b8b955b8dbc600cd367",
       "version_major": 2,
       "version_minor": 0
      },
      "text/plain": [
       "Initialization :   0%|          | 0/500 [00:00<?, ?it/s]"
      ]
     },
     "metadata": {},
     "output_type": "display_data"
    },
    {
     "name": "stdout",
     "output_type": "stream",
     "text": [
      "Created Feasible population of size 6: t:1.8261203684449003;m:1.279510003700766\n",
      "Created Infeasible population of size 20: t:1;m:1.75\n"
     ]
    },
    {
     "data": {
      "application/vnd.jupyter.widget-view+json": {
       "model_id": "76aef103cc764d8597126a1c6483ba10",
       "version_major": 2,
       "version_minor": 0
      },
      "text/plain": [
       "Generation :   0%|          | 0/75 [00:00<?, ?it/s]"
      ]
     },
     "metadata": {},
     "output_type": "display_data"
    },
    {
     "data": {
      "application/vnd.jupyter.widget-view+json": {
       "model_id": "b27cd2279411487ca532e92ba3c4a68c",
       "version_major": 2,
       "version_minor": 0
      },
      "text/plain": [
       "Initialization :   0%|          | 0/500 [00:00<?, ?it/s]"
      ]
     },
     "metadata": {},
     "output_type": "display_data"
    },
    {
     "name": "stdout",
     "output_type": "stream",
     "text": [
      "Created Feasible population of size 17: t:1.9774951487470769;m:1.3069276462351187\n",
      "Created Infeasible population of size 20: t:1;m:1.4\n"
     ]
    },
    {
     "data": {
      "application/vnd.jupyter.widget-view+json": {
       "model_id": "6193f2fbf0cd452e8f7702d72e84ab9c",
       "version_major": 2,
       "version_minor": 0
      },
      "text/plain": [
       "Generation :   0%|          | 0/75 [00:00<?, ?it/s]"
      ]
     },
     "metadata": {},
     "output_type": "display_data"
    },
    {
     "data": {
      "application/vnd.jupyter.widget-view+json": {
       "model_id": "bf11a93ea02746bb9cd8bee1ffc03373",
       "version_major": 2,
       "version_minor": 0
      },
      "text/plain": [
       "Initialization :   0%|          | 0/500 [00:00<?, ?it/s]"
      ]
     },
     "metadata": {},
     "output_type": "display_data"
    },
    {
     "name": "stdout",
     "output_type": "stream",
     "text": [
      "Created Feasible population of size 15: t:2.8936064002043524;m:1.6059858681014434\n",
      "Created Infeasible population of size 20: t:1;m:1.55\n"
     ]
    },
    {
     "data": {
      "application/vnd.jupyter.widget-view+json": {
       "model_id": "e50501566ec64e5e85679ea6d24a3d18",
       "version_major": 2,
       "version_minor": 0
      },
      "text/plain": [
       "Generation :   0%|          | 0/75 [00:00<?, ?it/s]"
      ]
     },
     "metadata": {},
     "output_type": "display_data"
    },
    {
     "name": "stdout",
     "output_type": "stream",
     "text": [
      "Running 5 experiments with HybridEA...\n"
     ]
    },
    {
     "data": {
      "application/vnd.jupyter.widget-view+json": {
       "model_id": "37ff696f93ed4596aa01ad563b94bc2c",
       "version_major": 2,
       "version_minor": 0
      },
      "text/plain": [
       "Running experiments:   0%|          | 0/5 [00:00<?, ?it/s]"
      ]
     },
     "metadata": {},
     "output_type": "display_data"
    },
    {
     "data": {
      "application/vnd.jupyter.widget-view+json": {
       "model_id": "669baa195563420d8259386b169e56a3",
       "version_major": 2,
       "version_minor": 0
      },
      "text/plain": [
       "Initialization :   0%|          | 0/100 [00:00<?, ?it/s]"
      ]
     },
     "metadata": {},
     "output_type": "display_data"
    },
    {
     "name": "stdout",
     "output_type": "stream",
     "text": [
      "Created Feasible population of size 20: t:2.3714259218746223;m:1.1886229451561467\n",
      "Created Infeasible population of size 20: t:1;m:1.5\n"
     ]
    },
    {
     "data": {
      "application/vnd.jupyter.widget-view+json": {
       "model_id": "c63863e3fb1c4f90b0c90918db3f08e5",
       "version_major": 2,
       "version_minor": 0
      },
      "text/plain": [
       "Generation :   0%|          | 0/75 [00:00<?, ?it/s]"
      ]
     },
     "metadata": {},
     "output_type": "display_data"
    },
    {
     "data": {
      "application/vnd.jupyter.widget-view+json": {
       "model_id": "410a3d0199bf4e2d8d4cd2c377df195e",
       "version_major": 2,
       "version_minor": 0
      },
      "text/plain": [
       "Initialization :   0%|          | 0/100 [00:00<?, ?it/s]"
      ]
     },
     "metadata": {},
     "output_type": "display_data"
    },
    {
     "name": "stdout",
     "output_type": "stream",
     "text": [
      "Created Feasible population of size 20: t:2.3696788760350604;m:1.271444872617204\n",
      "Created Infeasible population of size 20: t:1;m:1.3\n"
     ]
    },
    {
     "data": {
      "application/vnd.jupyter.widget-view+json": {
       "model_id": "afac55b18aff4de3a4eafd9c4f597341",
       "version_major": 2,
       "version_minor": 0
      },
      "text/plain": [
       "Generation :   0%|          | 0/75 [00:00<?, ?it/s]"
      ]
     },
     "metadata": {},
     "output_type": "display_data"
    },
    {
     "data": {
      "application/vnd.jupyter.widget-view+json": {
       "model_id": "eac98c8f99dc420b81156417b5a2cce7",
       "version_major": 2,
       "version_minor": 0
      },
      "text/plain": [
       "Initialization :   0%|          | 0/100 [00:00<?, ?it/s]"
      ]
     },
     "metadata": {},
     "output_type": "display_data"
    },
    {
     "name": "stdout",
     "output_type": "stream",
     "text": [
      "Created Feasible population of size 20: t:2.5369644152796242;m:1.4208079391037454\n",
      "Created Infeasible population of size 20: t:1;m:1.25\n"
     ]
    },
    {
     "data": {
      "application/vnd.jupyter.widget-view+json": {
       "model_id": "e476af1e6ad04f6986668fe11d5e5feb",
       "version_major": 2,
       "version_minor": 0
      },
      "text/plain": [
       "Generation :   0%|          | 0/75 [00:00<?, ?it/s]"
      ]
     },
     "metadata": {},
     "output_type": "display_data"
    },
    {
     "data": {
      "application/vnd.jupyter.widget-view+json": {
       "model_id": "3d818efff59e466985a51fb40eb2d95f",
       "version_major": 2,
       "version_minor": 0
      },
      "text/plain": [
       "Initialization :   0%|          | 0/100 [00:00<?, ?it/s]"
      ]
     },
     "metadata": {},
     "output_type": "display_data"
    },
    {
     "name": "stdout",
     "output_type": "stream",
     "text": [
      "Created Feasible population of size 20: t:2.661986276999543;m:1.2139509716032737\n",
      "Created Infeasible population of size 20: t:1;m:1.15\n"
     ]
    },
    {
     "data": {
      "application/vnd.jupyter.widget-view+json": {
       "model_id": "8da6ec6e8b6f4abca94417e9fda96bff",
       "version_major": 2,
       "version_minor": 0
      },
      "text/plain": [
       "Generation :   0%|          | 0/75 [00:00<?, ?it/s]"
      ]
     },
     "metadata": {},
     "output_type": "display_data"
    },
    {
     "data": {
      "application/vnd.jupyter.widget-view+json": {
       "model_id": "7f59b2ac13eb48e6b7ca92b8427fbe82",
       "version_major": 2,
       "version_minor": 0
      },
      "text/plain": [
       "Initialization :   0%|          | 0/100 [00:00<?, ?it/s]"
      ]
     },
     "metadata": {},
     "output_type": "display_data"
    },
    {
     "name": "stdout",
     "output_type": "stream",
     "text": [
      "Created Feasible population of size 20: t:1.734965348530733;m:1.1300323725514756\n",
      "Created Infeasible population of size 20: t:1;m:1.4\n"
     ]
    },
    {
     "data": {
      "application/vnd.jupyter.widget-view+json": {
       "model_id": "8b2f1e44d3b64b94b53c33e66e77bcc5",
       "version_major": 2,
       "version_minor": 0
      },
      "text/plain": [
       "Generation :   0%|          | 0/75 [00:00<?, ?it/s]"
      ]
     },
     "metadata": {},
     "output_type": "display_data"
    }
   ],
   "source": [
    "from tqdm.notebook import trange\n",
    "import numpy as np\n",
    "import random\n",
    "from pcgsepy.fi2pop.lgp import LGPSolver\n",
    "from pcgsepy.fi2pop.fi2pop import FI2PopSolver\n",
    "from pcgsepy.config import N_RETRIES, N_GENS\n",
    "\n",
    "def run_experiment(solver,\n",
    "                   exp_name,\n",
    "                   seeds,\n",
    "                   pops_size: int = POP_SIZE,\n",
    "                   n_retries: int = N_RETRIES):\n",
    "    f_fitnesses_hist = []\n",
    "    i_fitnesses_hist = []\n",
    "    elite_f_fitnesses = []\n",
    "    with trange(N_RUNS, desc='Running experiments') as iterations:\n",
    "        for n in iterations:\n",
    "            np.random.seed(seeds[n])\n",
    "            random.seed(seeds[n])\n",
    "            solver.reset()         \n",
    "            f_pop, i_pop = solver.initialize(pops_size=pops_size,\n",
    "                                             n_retries=n_retries)\n",
    "            f_pop, i_pop = solver.fi2pop(f_pop=f_pop,\n",
    "                                         i_pop=i_pop,\n",
    "                                         n_iter=N_GENS)\n",
    "            f_fitnesses_hist.append(solver.ffs)\n",
    "            i_fitnesses_hist.append(solver.ifs)\n",
    "            f_fitnesses = [cs.c_fitness for cs in f_pop]\n",
    "            i_fitnesses = [cs.ncv for cs in f_pop]\n",
    "            elite = f_pop[f_fitnesses.index(max(f_fitnesses))]\n",
    "            save_stats(cs=elite,\n",
    "                       exp_name=exp_name)\n",
    "            elite_f_fitnesses.append(elite.fitness)\n",
    "            iterations.set_postfix(ordered_dict={'f_fit': np.max(f_fitnesses),\n",
    "                                                 'i_fit': np.min(i_fitnesses)},\n",
    "                                   refresh=True)\n",
    "    return f_fitnesses_hist, i_fitnesses_hist, elite_f_fitnesses\n",
    "\n",
    "def save_metrics(f_fitnesses_hist,\n",
    "                 i_fitnesses_hist,\n",
    "                 exp_name):\n",
    "    ffs = np.empty(shape=(N_RUNS, 1 + N_GENS, 2))\n",
    "    for r, rv in enumerate(f_fitnesses_hist):\n",
    "        for g, gv in enumerate(rv):\n",
    "            ffs[r, g, :] = gv\n",
    "    ifs = np.empty(shape=(N_RUNS, 1 + N_GENS, 2))\n",
    "    for r, rv in enumerate(i_fitnesses_hist):\n",
    "        for g, gv in enumerate(rv):\n",
    "            ifs[r, g, :] = gv\n",
    "    with open(f'results/{exp_name}_metrics.npz', 'wb') as f:\n",
    "        np.savez(f, ffs, ifs)\n",
    "\n",
    "def save_elite_metrics(elite_f_fitnesses,\n",
    "                       exp_name):\n",
    "    efs = np.empty(shape=(N_RUNS, 4))\n",
    "    for r, v in enumerate(elite_f_fitnesses):\n",
    "        efs[r, :] = v\n",
    "    with open(f'results/{exp_name}_elites.npz', 'wb') as f:\n",
    "        np.savez(f, efs)\n",
    "    \n",
    "\n",
    "if run_experiment:\n",
    "    seeds = [42, 3312022, 12345, 98765, 0]\n",
    "    \n",
    "    print(f'Running {N_RUNS} experiments with LGP...')\n",
    "    solver = LGPSolver(alphabet=hl_alphabet,\n",
    "                       feasible_fitnesses=fitnesses,\n",
    "                       lsystem=lsystem)\n",
    "    solver.inner_lgp_iterations = 5\n",
    "    f_fitnesses_hist, i_fitnesses_hist, elite_f_fitnesses = run_experiment(solver=solver,\n",
    "                                                                           exp_name='lgp_baseline',\n",
    "                                                                           seeds=seeds,\n",
    "                                                                           n_retries=500)\n",
    "    save_metrics(f_fitnesses_hist=f_fitnesses_hist,\n",
    "                 i_fitnesses_hist=i_fitnesses_hist,\n",
    "                 exp_name='lgp_baseline')\n",
    "    save_elite_metrics(elite_f_fitnesses=elite_f_fitnesses,\n",
    "                       exp_name='lgp_baseline')\n",
    "    \n",
    "    print(f'Running {N_RUNS} experiments with HybridEA...')\n",
    "    solver = FI2PopSolver(feasible_fitnesses=fitnesses,\n",
    "                          lsystem=lsystem)\n",
    "    f_fitnesses_hist, i_fitnesses_hist, elite_f_fitnesses = run_experiment(solver=solver,\n",
    "                                                                           exp_name='hybrid_ea',\n",
    "                                                                           seeds=seeds)\n",
    "    save_metrics(f_fitnesses_hist=f_fitnesses_hist,\n",
    "                 i_fitnesses_hist=i_fitnesses_hist,\n",
    "                 exp_name='hybrid_ea')\n",
    "    save_elite_metrics(elite_f_fitnesses=elite_f_fitnesses,\n",
    "                       exp_name='hybrid_ea')"
   ]
  },
  {
   "cell_type": "markdown",
   "id": "d65490a9",
   "metadata": {},
   "source": [
    "Plotting"
   ]
  },
  {
   "cell_type": "code",
   "execution_count": 18,
   "id": "50ce7a9a-82b1-4422-bad3-dbddf5113c5b",
   "metadata": {
    "tags": []
   },
   "outputs": [],
   "source": [
    "import matplotlib.pyplot as plt\n",
    "\n",
    "SMALL_SIZE = 20\n",
    "MEDIUM_SIZE = 22\n",
    "BIGGER_SIZE = 26\n",
    "\n",
    "PAD_TITLE_SIZE = 20\n",
    "PAD_LABEL_SIZE = 10\n",
    "\n",
    "plt.rc('font', size=SMALL_SIZE)          # controls default text sizes\n",
    "plt.rc('axes', titlesize=BIGGER_SIZE)     # fontsize of the axes title\n",
    "plt.rc('axes', labelsize=MEDIUM_SIZE)    # fontsize of the x and y labels\n",
    "plt.rc('xtick', labelsize=SMALL_SIZE)    # fontsize of the tick labels\n",
    "plt.rc('ytick', labelsize=SMALL_SIZE)    # fontsize of the tick labels\n",
    "plt.rc('legend', fontsize=MEDIUM_SIZE)    # legend fontsize\n",
    "plt.rc('figure', titlesize=BIGGER_SIZE)  # fontsize of the figure title"
   ]
  },
  {
   "cell_type": "code",
   "execution_count": 19,
   "id": "27273b24-6226-40fc-becc-6d080b3f096c",
   "metadata": {
    "tags": []
   },
   "outputs": [],
   "source": [
    "def plot_mean_and_top_feasible(ffs,\n",
    "                               exp_name):\n",
    "    ftfs = np.max(ffs, axis=2)\n",
    "    fmfs = np.mean(ffs, axis=2)\n",
    "\n",
    "    ftm = np.mean(ftfs, axis=0)\n",
    "    fts = np.std(ftfs, axis=0)\n",
    "\n",
    "    fmm = np.mean(fmfs, axis=0)\n",
    "    fms = np.std(fmfs, axis=0)\n",
    "\n",
    "    plt.grid()\n",
    "    plt.plot(range(len(ftm)), ftm, label=f'Top fitness', c='blue', lw=2)\n",
    "    plt.fill_between(range(len(fts)), (ftm - (.5 * fts)), (ftm + (.5 * fts)), color='blue', alpha=0.2)\n",
    "    plt.fill_between(range(len(fts)), (ftm - fts), (ftm + fts), color='blue', alpha=0.1)\n",
    "    plt.plot(range(len(fmm)), fmm, label=f'Mean fitness', c='darkgreen', lw=2)\n",
    "    plt.fill_between(range(len(fms)), (fmm - (.5 * fms)), (fmm + (.5 * fms)), color='darkgreen', alpha=0.2)\n",
    "    plt.fill_between(range(len(fms)), (fmm - fms), (fmm + fms), color='darkgreen', alpha=0.1)\n",
    "    # plt.ylim(len(fitnesses) + 0.5)\n",
    "    # plt.xlim(N_GENS+1)\n",
    "    plt.legend(loc='lower right')\n",
    "    plt.title(f'Avg. FPop fitness ({N_RUNS} runs)', pad=PAD_TITLE_SIZE)\n",
    "    plt.ylabel('Fitness', labelpad=PAD_LABEL_SIZE)\n",
    "    plt.xlabel('Generations', labelpad=PAD_LABEL_SIZE)\n",
    "    plt.autoscale(enable=True, axis='x', tight=True)\n",
    "    plt.savefig(f'results/{exp_name}-fpop-avgf.png', transparent=True, bbox_inches='tight')\n",
    "    plt.show()"
   ]
  },
  {
   "cell_type": "code",
   "execution_count": 20,
   "id": "85c9de13-9261-4987-86e9-5fc1b04d78cd",
   "metadata": {
    "tags": []
   },
   "outputs": [],
   "source": [
    "def plot_mean_and_top_infeasible(ifs,\n",
    "                                 exp_name):\n",
    "    itfs = np.max(ifs, axis=2)\n",
    "    imfs = np.mean(ifs, axis=2)\n",
    "\n",
    "    itm = np.mean(itfs, axis=0)\n",
    "    its = np.std(itfs, axis=0)\n",
    "\n",
    "    imm = np.mean(imfs, axis=0)\n",
    "    ims = np.std(imfs, axis=0)\n",
    "\n",
    "    plt.grid()\n",
    "    plt.plot(range(len(itm)), itm, label=f'Top fitness', c='blue', lw=2)\n",
    "    plt.fill_between(range(len(its)), (itm - (.5 * its)), (itm + (.5 * its)), color='blue', alpha=0.2)\n",
    "    plt.fill_between(range(len(its)), (itm - its), (itm + its), color='blue', alpha=0.1)\n",
    "    plt.plot(range(len(imm)), imm, label=f'Mean fitness', c='darkgreen', lw=2)\n",
    "    plt.fill_between(range(len(ims)), (imm - (.5 * ims)), (imm + (.5 * ims)), color='darkgreen', alpha=0.2)\n",
    "    plt.fill_between(range(len(ims)), (imm - ims), (imm + ims), color='darkgreen', alpha=0.1)\n",
    "    # plt.ylim(len(fitnesses) + 0.5)\n",
    "    # plt.xlim(N_GENS+1)\n",
    "    plt.legend(loc='upper right')\n",
    "    plt.title(f'Avg. IPop fitness ({N_RUNS} runs)', pad=PAD_TITLE_SIZE)\n",
    "    plt.ylabel('Fitness', labelpad=PAD_LABEL_SIZE)\n",
    "    plt.xlabel('Generations', labelpad=PAD_LABEL_SIZE)\n",
    "    plt.autoscale(enable=True, axis='x', tight=True)\n",
    "    plt.savefig(f'results/{exp_name}-ipop-avgf.png', transparent=True, bbox_inches='tight')\n",
    "    plt.show()"
   ]
  },
  {
   "cell_type": "code",
   "execution_count": 21,
   "id": "841836e7",
   "metadata": {},
   "outputs": [],
   "source": [
    "def plot_mean_comparison(baseline,\n",
    "                         hybridea,\n",
    "                         type_f: str):\n",
    "    baseline_means = np.mean(baseline, axis=2)\n",
    "    baseline_means_mean = np.mean(baseline_means, axis=0)\n",
    "    baseline_means_std = np.std(baseline_means, axis=0)\n",
    "    \n",
    "    hybridea_means = np.mean(hybridea, axis=2)\n",
    "    hybridea_means_mean = np.mean(hybridea_means, axis=0)\n",
    "    hybridea_means_std = np.std(hybridea_means, axis=0)  \n",
    "    \n",
    "    plt.grid()\n",
    "    plt.plot(range(len(baseline_means_mean)), baseline_means_mean, label=f'Baseline', c='darkgreen', lw=2)\n",
    "    plt.fill_between(range(len(baseline_means_std)), (baseline_means_mean - (.5 * baseline_means_std)), (baseline_means_mean + (.5 * baseline_means_std)), color='darkgreen', alpha=0.2)\n",
    "    plt.fill_between(range(len(baseline_means_std)), (baseline_means_mean - baseline_means_std), (baseline_means_mean + baseline_means_std), color='darkgreen', alpha=0.1)\n",
    "    plt.plot(range(len(hybridea_means_mean)), hybridea_means_mean, label=f'HybridEA', c='blue', lw=2)\n",
    "    plt.fill_between(range(len(hybridea_means_std)), (hybridea_means_mean - (.5 * hybridea_means_std)), (hybridea_means_mean + (.5 * hybridea_means_std)), color='blue', alpha=0.2)\n",
    "    plt.fill_between(range(len(hybridea_means_std)), (hybridea_means_mean - hybridea_means_std), (hybridea_means_mean + hybridea_means_std), color='blue', alpha=0.1)\n",
    "    # plt.ylim(len(fitnesses) + 0.5)\n",
    "    # plt.xlim(N_GENS+1)\n",
    "    plt.legend(loc='lower right' if type_f == 'FPop' else 'upper right')\n",
    "    plt.title(f'Comparing Avg. {type_f} fitness ({N_RUNS} runs)', pad=PAD_TITLE_SIZE)\n",
    "    plt.ylabel('Fitness', labelpad=PAD_LABEL_SIZE)\n",
    "    plt.xlabel('Generations', labelpad=PAD_LABEL_SIZE)\n",
    "    plt.autoscale(enable=True, axis='x', tight=True)\n",
    "    plt.savefig(f'results/comparison-{type_f.lower()}-avgf.png', transparent=True, bbox_inches='tight')\n",
    "    plt.show()"
   ]
  },
  {
   "cell_type": "code",
   "execution_count": 22,
   "id": "ffc1cd44-6226-400e-9cd4-415ab8f2ae4e",
   "metadata": {
    "tags": []
   },
   "outputs": [
    {
     "name": "stdout",
     "output_type": "stream",
     "text": [
      "box_filling_fitness: 0.9739752256086248 +- 0.009725633680187572\n",
      "func_blocks_fitness: 0.10389926883369253 +- 0.02861778859019403\n",
      "mame_fitness: 0.9808503830604094 +- 0.00849618913250237\n",
      "mami_fitness: 0.8553013488770447 +- 0.03606294212491889\n"
     ]
    },
    {
     "data": {
      "image/png": "[encoded data removed]",
      "text/plain": [
       "<Figure size 432x288 with 1 Axes>"
      ]
     },
     "metadata": {
      "needs_background": "light"
     },
     "output_type": "display_data"
    },
    {
     "data": {
      "image/png": "[encoded data removed]",
      "text/plain": [
       "<Figure size 432x288 with 1 Axes>"
      ]
     },
     "metadata": {
      "needs_background": "light"
     },
     "output_type": "display_data"
    }
   ],
   "source": [
    "with open(f'results/lgp_baseline_elites.npz', 'rb') as f:\n",
    "    npzfile = np.load(f)\n",
    "    efs = npzfile['arr_0']\n",
    "    \n",
    "    for i, f in enumerate(fitnesses):\n",
    "        ef_mean = np.mean(efs[:, i])\n",
    "        ef_std = np.std(efs[:, i])\n",
    "        print(f'{f.__name__}: {ef_mean} +- {ef_std}')\n",
    "\n",
    "with open(f'results/lgp_baseline_metrics.npz', 'rb') as f:\n",
    "    npzfile = np.load(f)\n",
    "    ffs = npzfile['arr_0']\n",
    "    ifs = npzfile['arr_1']\n",
    " \n",
    "    plot_mean_and_top_feasible(ffs=ffs, exp_name='lgp_baseline')\n",
    "    plot_mean_and_top_infeasible(ifs=ifs, exp_name='lgp_baseline')"
   ]
  },
  {
   "cell_type": "code",
   "execution_count": 23,
   "id": "897da31e",
   "metadata": {},
   "outputs": [
    {
     "name": "stdout",
     "output_type": "stream",
     "text": [
      "box_filling_fitness: 0.8619653233058934 +- 0.06037192850714957\n",
      "func_blocks_fitness: 0.05289330376442049 +- 0.020080919457201522\n",
      "mame_fitness: 0.9694490867740718 +- 0.038099202776558726\n",
      "mami_fitness: 0.9365943621571533 +- 0.09049796769247408\n"
     ]
    },
    {
     "data": {
      "image/png": "[encoded data removed]",
      "text/plain": [
       "<Figure size 432x288 with 1 Axes>"
      ]
     },
     "metadata": {
      "needs_background": "light"
     },
     "output_type": "display_data"
    },
    {
     "data": {
      "image/png": "[encoded data removed]",
      "text/plain": [
       "<Figure size 432x288 with 1 Axes>"
      ]
     },
     "metadata": {
      "needs_background": "light"
     },
     "output_type": "display_data"
    }
   ],
   "source": [
    "with open(f'results/hybrid_ea_elites.npz', 'rb') as f:\n",
    "    npzfile = np.load(f)\n",
    "    efs = npzfile['arr_0']\n",
    "    \n",
    "    for i, f in enumerate(fitnesses):\n",
    "        ef_mean = np.mean(efs[:, i])\n",
    "        ef_std = np.std(efs[:, i])\n",
    "        print(f'{f.__name__}: {ef_mean} +- {ef_std}')\n",
    "\n",
    "with open(f'results/hybrid_ea_metrics.npz', 'rb') as f:\n",
    "    npzfile = np.load(f)\n",
    "    ffs = npzfile['arr_0']\n",
    "    ifs = npzfile['arr_1']\n",
    "    \n",
    "    plot_mean_and_top_feasible(ffs=ffs, exp_name='hybrid_ea')\n",
    "    plot_mean_and_top_infeasible(ifs=ifs, exp_name='hybrid_ea')"
   ]
  },
  {
   "cell_type": "code",
   "execution_count": 24,
   "id": "b1c6df9b",
   "metadata": {},
   "outputs": [
    {
     "data": {
      "image/png": "[encoded data removed]",
      "text/plain": [
       "<Figure size 432x288 with 1 Axes>"
      ]
     },
     "metadata": {
      "needs_background": "light"
     },
     "output_type": "display_data"
    },
    {
     "data": {
      "image/png": "[encoded data removed]",
      "text/plain": [
       "<Figure size 432x288 with 1 Axes>"
      ]
     },
     "metadata": {
      "needs_background": "light"
     },
     "output_type": "display_data"
    }
   ],
   "source": [
    "baseline_f = None\n",
    "baseline_i = None\n",
    "hybridea_f = None\n",
    "hybridea_i = None\n",
    "\n",
    "with open(f'results/lgp_baseline_metrics.npz', 'rb') as f:\n",
    "    npzfile = np.load(f)\n",
    "    baseline_f = npzfile['arr_0']\n",
    "    baseline_i = npzfile['arr_1']\n",
    "\n",
    "with open(f'results/hybrid_ea_metrics.npz', 'rb') as f:\n",
    "    npzfile = np.load(f)\n",
    "    hybridea_f = npzfile['arr_0']\n",
    "    hybridea_i = npzfile['arr_1']\n",
    "\n",
    "plot_mean_comparison(baseline=baseline_f,\n",
    "                     hybridea=hybridea_f,\n",
    "                     type_f='FPop')\n",
    "\n",
    "plot_mean_comparison(baseline=baseline_i,\n",
    "                     hybridea=hybridea_i,\n",
    "                     type_f='IPop')"
   ]
  },
  {
   "cell_type": "code",
   "execution_count": null,
   "id": "00af4e04",
   "metadata": {},
   "outputs": [],
   "source": []
  }
 ],
 "metadata": {
  "kernelspec": {
   "display_name": "Python 3 (ipykernel)",
   "language": "python",
   "name": "python3"
  },
  "language_info": {
   "codemirror_mode": {
    "name": "ipython",
    "version": 3
   },
   "file_extension": ".py",
   "mimetype": "text/x-python",
   "name": "python",
   "nbconvert_exporter": "python",
   "pygments_lexer": "ipython3",
   "version": "3.8.12"
  }
 },
 "nbformat": 4,
 "nbformat_minor": 5
}
