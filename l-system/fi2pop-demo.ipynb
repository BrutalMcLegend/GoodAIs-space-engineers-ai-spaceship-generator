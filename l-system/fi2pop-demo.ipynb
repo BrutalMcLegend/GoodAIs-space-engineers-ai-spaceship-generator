{
 "cells": [
  {
   "cell_type": "markdown",
   "id": "e35c7368-cd53-434e-b9c4-90efc778fb4e",
   "metadata": {},
   "source": [
    "# FI-2Pop demo\n",
    "\n",
    "Demo notebook on the integration of FI-2Pop with the L-System."
   ]
  },
  {
   "cell_type": "markdown",
   "id": "94c19e54-68bc-404f-8962-87fb70f7185d",
   "metadata": {
    "jp-MarkdownHeadingCollapsed": true,
    "tags": []
   },
   "source": [
    "## Imports"
   ]
  },
  {
   "cell_type": "code",
   "execution_count": 1,
   "id": "f171c65a-e171-41df-936e-c808dd4f8154",
   "metadata": {
    "execution": {
     "iopub.execute_input": "2021-12-17T09:48:08.156579Z",
     "iopub.status.busy": "2021-12-17T09:48:08.156579Z",
     "iopub.status.idle": "2021-12-17T09:48:08.185465Z",
     "shell.execute_reply": "2021-12-17T09:48:08.184468Z",
     "shell.execute_reply.started": "2021-12-17T09:48:08.156579Z"
    }
   },
   "outputs": [],
   "source": [
    "import json"
   ]
  },
  {
   "cell_type": "markdown",
   "id": "eae4a95b-47cc-4381-985a-647ba65ecf17",
   "metadata": {},
   "source": [
    "GECCO-compatible `matplotlib` options:"
   ]
  },
  {
   "cell_type": "code",
   "execution_count": 2,
   "id": "2b88d1b9-2c34-4dde-9db9-5cd7509b1f1a",
   "metadata": {
    "execution": {
     "iopub.execute_input": "2021-12-17T09:48:08.186520Z",
     "iopub.status.busy": "2021-12-17T09:48:08.186520Z",
     "iopub.status.idle": "2021-12-17T09:48:08.790001Z",
     "shell.execute_reply": "2021-12-17T09:48:08.788785Z",
     "shell.execute_reply.started": "2021-12-17T09:48:08.186520Z"
    }
   },
   "outputs": [],
   "source": [
    "import matplotlib\n",
    "\n",
    "matplotlib.rcParams['pdf.fonttype'] = 42\n",
    "matplotlib.rcParams['ps.fonttype'] = 42"
   ]
  },
  {
   "cell_type": "markdown",
   "id": "fe17bf5f-7d6d-4a26-92e3-abae13291ccf",
   "metadata": {},
   "source": [
    "Import `PCGSEPy` modules:"
   ]
  },
  {
   "cell_type": "code",
   "execution_count": 3,
   "id": "ea32675b-d3b7-43cb-a84c-8f79ec5950b8",
   "metadata": {
    "execution": {
     "iopub.execute_input": "2021-12-17T09:48:08.792776Z",
     "iopub.status.busy": "2021-12-17T09:48:08.792776Z",
     "iopub.status.idle": "2021-12-17T09:48:17.944119Z",
     "shell.execute_reply": "2021-12-17T09:48:17.943122Z",
     "shell.execute_reply.started": "2021-12-17T09:48:08.792776Z"
    }
   },
   "outputs": [],
   "source": [
    "from pcgsepy.common.vecs import orientation_from_str, Vec \n",
    "from pcgsepy.config import COMMON_ATOMS, HL_ATOMS, N_ITERATIONS, REQ_TILES \n",
    "from pcgsepy.lsystem.rules import RuleMaker\n",
    "from pcgsepy.lsystem.actions import AtomAction, Rotations\n",
    "from pcgsepy.lsystem.parser import HLParser, LLParser\n",
    "from pcgsepy.lsystem.solver import LSolver\n",
    "from pcgsepy.lsystem.constraints import ConstraintHandler, ConstraintLevel, ConstraintTime\n",
    "from pcgsepy.lsystem.constraints_funcs import components_constraint, intersection_constraint, symmetry_constraint, wheels_plane_constraint\n",
    "from pcgsepy.lsystem.lsystem import LSystem\n",
    "from pcgsepy.structure import block_definitions"
   ]
  },
  {
   "cell_type": "markdown",
   "id": "03c439a3-1460-4055-9786-be86ef7ea8e1",
   "metadata": {
    "jp-MarkdownHeadingCollapsed": true,
    "tags": []
   },
   "source": [
    "## Setup"
   ]
  },
  {
   "cell_type": "code",
   "execution_count": 4,
   "id": "6fc0f771-61b0-46a1-97e8-d930b2a6d24c",
   "metadata": {
    "execution": {
     "iopub.execute_input": "2021-12-17T09:48:17.948105Z",
     "iopub.status.busy": "2021-12-17T09:48:17.947108Z",
     "iopub.status.idle": "2021-12-17T09:48:17.961069Z",
     "shell.execute_reply": "2021-12-17T09:48:17.959077Z",
     "shell.execute_reply.started": "2021-12-17T09:48:17.948105Z"
    }
   },
   "outputs": [],
   "source": [
    "import logging\n",
    "\n",
    "logging.basicConfig()\n",
    "logger = logging.getLogger('base-logger')\n",
    "logger.setLevel(logging.WARNING)"
   ]
  },
  {
   "cell_type": "code",
   "execution_count": 5,
   "id": "2afef3e3-b111-47d2-abca-efbdde6fe7f3",
   "metadata": {
    "execution": {
     "iopub.execute_input": "2021-12-17T09:48:17.965058Z",
     "iopub.status.busy": "2021-12-17T09:48:17.964061Z",
     "iopub.status.idle": "2021-12-17T09:48:17.992983Z",
     "shell.execute_reply": "2021-12-17T09:48:17.991008Z",
     "shell.execute_reply.started": "2021-12-17T09:48:17.964061Z"
    },
    "tags": []
   },
   "outputs": [],
   "source": [
    "with open(COMMON_ATOMS, \"r\") as f:\n",
    "    common_alphabet = json.load(f)\n",
    "\n",
    "for k in common_alphabet:\n",
    "    action, args = common_alphabet[k][\"action\"], common_alphabet[k][\"args\"]\n",
    "    action = AtomAction(action)\n",
    "    if action == AtomAction.MOVE:\n",
    "        args = orientation_from_str[args]\n",
    "    elif action == AtomAction.ROTATE:\n",
    "        args = Rotations(args)\n",
    "    common_alphabet[k] = {\"action\": action, \"args\": args}"
   ]
  },
  {
   "cell_type": "code",
   "execution_count": 6,
   "id": "a6484d3a-0ed3-4269-8ea9-29e30856d586",
   "metadata": {
    "execution": {
     "iopub.execute_input": "2021-12-17T09:48:17.996460Z",
     "iopub.status.busy": "2021-12-17T09:48:17.994975Z",
     "iopub.status.idle": "2021-12-17T09:48:18.021983Z",
     "shell.execute_reply": "2021-12-17T09:48:18.020933Z",
     "shell.execute_reply.started": "2021-12-17T09:48:17.996460Z"
    }
   },
   "outputs": [],
   "source": [
    "with open(HL_ATOMS, \"r\") as f:\n",
    "    hl_atoms = json.load(f)\n",
    "\n",
    "tiles_dimensions = {}\n",
    "tiles_block_offset = {}\n",
    "for tile in hl_atoms.keys():\n",
    "    dx, dy, dz = hl_atoms[tile][\"dimensions\"]\n",
    "    tiles_dimensions[tile] = Vec.v3i(dx, dy, dz)\n",
    "    tiles_block_offset[tile] = hl_atoms[tile][\"offset\"]\n",
    "\n",
    "hl_alphabet = {}\n",
    "for k in common_alphabet.keys():\n",
    "    hl_alphabet[k] = common_alphabet[k]\n",
    "\n",
    "for hk in hl_atoms.keys():\n",
    "    hl_alphabet[hk] = {\"action\": AtomAction.PLACE, \"args\": []}"
   ]
  },
  {
   "cell_type": "code",
   "execution_count": 7,
   "id": "b2e83754-e8ae-4c88-9b44-557271386ec3",
   "metadata": {
    "execution": {
     "iopub.execute_input": "2021-12-17T09:48:18.024892Z",
     "iopub.status.busy": "2021-12-17T09:48:18.023896Z",
     "iopub.status.idle": "2021-12-17T09:48:18.058010Z",
     "shell.execute_reply": "2021-12-17T09:48:18.056007Z",
     "shell.execute_reply.started": "2021-12-17T09:48:18.024892Z"
    }
   },
   "outputs": [],
   "source": [
    "ll_alphabet = {}\n",
    "\n",
    "for k in common_alphabet.keys():\n",
    "    ll_alphabet[k] = common_alphabet[k]\n",
    "\n",
    "for k in block_definitions.keys():\n",
    "    if k != \"\":  # TODO: This is a probable bug, reported to the SE API devs\n",
    "        ll_alphabet[k] = {\"action\": AtomAction.PLACE, \"args\": [k]}"
   ]
  },
  {
   "cell_type": "markdown",
   "id": "8bde02d5-0efe-4eba-97ea-5dbeb21ff246",
   "metadata": {
    "jp-MarkdownHeadingCollapsed": true,
    "tags": []
   },
   "source": [
    "## L-System components"
   ]
  },
  {
   "cell_type": "code",
   "execution_count": 8,
   "id": "65def23a-5419-4765-971b-7e0334b309ae",
   "metadata": {
    "execution": {
     "iopub.execute_input": "2021-12-17T09:48:18.061789Z",
     "iopub.status.busy": "2021-12-17T09:48:18.060792Z",
     "iopub.status.idle": "2021-12-17T09:48:18.099686Z",
     "shell.execute_reply": "2021-12-17T09:48:18.097573Z",
     "shell.execute_reply.started": "2021-12-17T09:48:18.061789Z"
    }
   },
   "outputs": [],
   "source": [
    "hl_rules = RuleMaker(ruleset='hlrules').get_rules()\n",
    "ll_rules = RuleMaker(ruleset='llrules').get_rules()\n",
    "\n",
    "hl_parser = HLParser(rules=hl_rules)\n",
    "ll_parser = LLParser(rules=ll_rules)\n",
    "\n",
    "hl_solver = LSolver(parser=hl_parser,\n",
    "                    atoms_alphabet=hl_alphabet,\n",
    "                    extra_args={\n",
    "                        'tiles_dimensions': tiles_dimensions,\n",
    "                        'tiles_block_offset': tiles_block_offset,\n",
    "                        'll_rules': ll_rules\n",
    "                    })\n",
    "ll_solver = LSolver(parser=ll_parser,\n",
    "                    atoms_alphabet=dict(hl_alphabet, **ll_alphabet),\n",
    "                    extra_args={})"
   ]
  },
  {
   "cell_type": "code",
   "execution_count": 9,
   "id": "7b84c390-6759-4288-acf3-f6ac68ab572c",
   "metadata": {
    "execution": {
     "iopub.execute_input": "2021-12-17T09:48:18.101702Z",
     "iopub.status.busy": "2021-12-17T09:48:18.100731Z",
     "iopub.status.idle": "2021-12-17T09:48:18.129598Z",
     "shell.execute_reply": "2021-12-17T09:48:18.128675Z",
     "shell.execute_reply.started": "2021-12-17T09:48:18.101702Z"
    }
   },
   "outputs": [],
   "source": [
    "rcc = ConstraintHandler(\n",
    "    name=\"required_components\",\n",
    "    level=ConstraintLevel.HARD_CONSTRAINT,\n",
    "    when=ConstraintTime.END,\n",
    "    f=components_constraint,\n",
    "    extra_args={\n",
    "        'alphabet': hl_alphabet\n",
    "    }\n",
    ")\n",
    "rcc.extra_args[\"req_tiles\"] = REQ_TILES\n",
    "\n",
    "nic = ConstraintHandler(\n",
    "    name=\"no_intersections\",\n",
    "    level=ConstraintLevel.HARD_CONSTRAINT,\n",
    "    when=ConstraintTime.DURING,\n",
    "    f=intersection_constraint,\n",
    "    extra_args={\n",
    "        'alphabet': dict(hl_alphabet, **ll_alphabet)\n",
    "    },\n",
    "    needs_ll=True\n",
    ")\n",
    "nic.extra_args[\"tiles_dimensions\"] = tiles_dimensions\n",
    "\n",
    "sc = ConstraintHandler(\n",
    "    name=\"symmetry\",\n",
    "    level=ConstraintLevel.SOFT_CONSTRAINT,\n",
    "    when=ConstraintTime.END,\n",
    "    f=symmetry_constraint,\n",
    "    extra_args={\n",
    "        'alphabet': dict(hl_alphabet, **ll_alphabet)\n",
    "    }\n",
    ")\n",
    "\n",
    "wopc = ConstraintHandler(\n",
    "    name=\"wheels_on_plane\",\n",
    "    level=ConstraintLevel.SOFT_CONSTRAINT,\n",
    "    when=ConstraintTime.END,\n",
    "    f=wheels_plane_constraint,\n",
    "    extra_args={\n",
    "        'alphabet': dict(hl_alphabet, **ll_alphabet)\n",
    "    }\n",
    ")"
   ]
  },
  {
   "cell_type": "code",
   "execution_count": 10,
   "id": "427e0cf0-3dc6-4285-8963-eb171cb870de",
   "metadata": {
    "execution": {
     "iopub.execute_input": "2021-12-17T09:48:18.132591Z",
     "iopub.status.busy": "2021-12-17T09:48:18.131592Z",
     "iopub.status.idle": "2021-12-17T09:48:18.145585Z",
     "shell.execute_reply": "2021-12-17T09:48:18.144573Z",
     "shell.execute_reply.started": "2021-12-17T09:48:18.132591Z"
    },
    "tags": []
   },
   "outputs": [],
   "source": [
    "lsystem = LSystem(\n",
    "    hl_solver=hl_solver, ll_solver=ll_solver\n",
    ")"
   ]
  },
  {
   "cell_type": "code",
   "execution_count": 11,
   "id": "d9ef6f61-369e-427a-a865-80452e125693",
   "metadata": {
    "execution": {
     "iopub.execute_input": "2021-12-17T09:48:18.147548Z",
     "iopub.status.busy": "2021-12-17T09:48:18.147250Z",
     "iopub.status.idle": "2021-12-17T09:48:18.161512Z",
     "shell.execute_reply": "2021-12-17T09:48:18.160514Z",
     "shell.execute_reply.started": "2021-12-17T09:48:18.147548Z"
    }
   },
   "outputs": [],
   "source": [
    "lsystem.add_hl_constraint(c=rcc)\n",
    "lsystem.add_hl_constraint(c=nic)\n",
    "\n",
    "lsystem.add_ll_constraint(c=sc)\n",
    "lsystem.add_ll_constraint(c=wopc)"
   ]
  },
  {
   "cell_type": "markdown",
   "id": "69857611-d4c0-4d51-96c9-b57a40a9378a",
   "metadata": {},
   "source": [
    "## FI-2Pop"
   ]
  },
  {
   "cell_type": "code",
   "execution_count": 12,
   "id": "ed87c69e-d89f-402a-ae29-e8ecc2e71417",
   "metadata": {
    "execution": {
     "iopub.execute_input": "2021-12-17T09:48:18.166628Z",
     "iopub.status.busy": "2021-12-17T09:48:18.166496Z",
     "iopub.status.idle": "2021-12-17T09:48:18.192425Z",
     "shell.execute_reply": "2021-12-17T09:48:18.192182Z",
     "shell.execute_reply.started": "2021-12-17T09:48:18.166628Z"
    },
    "tags": []
   },
   "outputs": [],
   "source": [
    "from typing import Any, Dict, List, Tuple\n",
    "from pcgsepy.lsystem.lsystem import LSystem\n",
    "\n",
    "pops_size = 50\n",
    "n_retries = 100\n",
    "\n",
    "\n",
    "def subdivide_axioms(hl_axioms: List[str],\n",
    "                     lsystem: LSystem) -> Dict[str, Any]:\n",
    "    axioms_sats = {}\n",
    "    for hl_axiom in hl_axioms:\n",
    "        axioms_sats[hl_axiom] = {\n",
    "            'feasible': True,\n",
    "            'n_constraints_v': 0\n",
    "        }\n",
    "        for t in [ConstraintTime.DURING, ConstraintTime.END]:\n",
    "            sat = lsystem.hlsolver._check_constraints(axiom=hl_axiom,\n",
    "                                                      when=t,\n",
    "                                                      keep_track=True)\n",
    "            axioms_sats[hl_axiom]['feasible'] &= sat[ConstraintLevel.HARD_CONSTRAINT][0]\n",
    "            axioms_sats[hl_axiom]['n_constraints_v'] += sat[ConstraintLevel.HARD_CONSTRAINT][1]\n",
    "            axioms_sats[hl_axiom]['n_constraints_v'] += sat[ConstraintLevel.SOFT_CONSTRAINT][1]\n",
    "\n",
    "    to_expand_further = []\n",
    "    for hl_axiom in axioms_sats.keys():\n",
    "        if axioms_sats[hl_axiom]['feasible']:\n",
    "            to_expand_further.append(hl_axiom)\n",
    "\n",
    "    ml_axioms = lsystem.get_ml_axioms(hl_axioms=to_expand_further)\n",
    "    for i, ml_axiom in enumerate(ml_axioms):\n",
    "        for t in [ConstraintTime.DURING, ConstraintTime.END]:\n",
    "            ll_axiom = LLParser(rules=lsystem.hlsolver.ll_rules).expand(axiom=ml_axiom)\n",
    "            sat = lsystem.llsolver._check_constraints(axiom=ll_axiom,\n",
    "                                                      when=t,\n",
    "                                                      keep_track=True)\n",
    "            axioms_sats[to_expand_further[i]]['feasible'] &= sat[ConstraintLevel.HARD_CONSTRAINT][0]\n",
    "            axioms_sats[to_expand_further[i]]['n_constraints_v'] += sat[ConstraintLevel.HARD_CONSTRAINT][1]\n",
    "            axioms_sats[to_expand_further[i]]['n_constraints_v'] += sat[ConstraintLevel.SOFT_CONSTRAINT][1]\n",
    "\n",
    "    return axioms_sats\n",
    "\n",
    "\n",
    "def generate_initial_populations(lsystem: LSystem,\n",
    "                                 pops_size: int = 50,\n",
    "                                 n_retries: int = 100) -> Tuple[List[str], List[str], List[float]]:\n",
    "    feasible_pop, infeasible_pop = [], []\n",
    "    inf_fitnesses = []\n",
    "    i = 0\n",
    "    lsystem.check_sat = False\n",
    "    while len(feasible_pop) < pops_size or len(infeasible_pop) < pops_size:\n",
    "        hl_axioms = lsystem.get_hl_axioms(starting_axiom=\"begin\",\n",
    "                                          iterations=N_ITERATIONS)\n",
    "        axioms_sats = subdivide_axioms(hl_axioms=hl_axioms,\n",
    "                                       lsystem=lsystem)\n",
    "        for axiom in axioms_sats.keys():\n",
    "            if axioms_sats[axiom]['feasible'] and len(feasible_pop) < pops_size and axiom not in feasible_pop:\n",
    "                feasible_pop.append(axiom)\n",
    "            elif not axioms_sats[axiom]['feasible'] and len(infeasible_pop) < pops_size and axiom not in feasible_pop:\n",
    "                infeasible_pop.append(axiom)\n",
    "                inf_fitnesses.append(axioms_sats[axiom]['n_constraints_v'])\n",
    "        i += 1\n",
    "        if i == n_retries:\n",
    "            break\n",
    "    return feasible_pop, infeasible_pop, inf_fitnesses"
   ]
  },
  {
   "cell_type": "code",
   "execution_count": 13,
   "id": "105dee70-fda0-4364-8411-34d417270d48",
   "metadata": {
    "execution": {
     "iopub.execute_input": "2021-12-17T09:48:18.194419Z",
     "iopub.status.busy": "2021-12-17T09:48:18.194419Z",
     "iopub.status.idle": "2021-12-17T09:48:18.208381Z",
     "shell.execute_reply": "2021-12-17T09:48:18.207510Z",
     "shell.execute_reply.started": "2021-12-17T09:48:18.194419Z"
    },
    "tags": []
   },
   "outputs": [],
   "source": [
    "def compute_fitness(axiom: str) -> float:\n",
    "    return float(len(axiom))"
   ]
  },
  {
   "cell_type": "code",
   "execution_count": 14,
   "id": "56810492-002e-4122-9f69-f1c04bc59271",
   "metadata": {
    "execution": {
     "iopub.execute_input": "2021-12-17T09:48:18.210374Z",
     "iopub.status.busy": "2021-12-17T09:48:18.209729Z",
     "iopub.status.idle": "2021-12-17T09:48:18.222371Z",
     "shell.execute_reply": "2021-12-17T09:48:18.222371Z",
     "shell.execute_reply.started": "2021-12-17T09:48:18.210374Z"
    },
    "tags": []
   },
   "outputs": [],
   "source": [
    "from random import random\n",
    "from typing import List\n",
    "\n",
    "\n",
    "def roulette_wheel_selection(axioms: List[str],\n",
    "                             fitnesses: List[float]) -> str:\n",
    "    s = sum(fitnesses)\n",
    "    r = s * random()\n",
    "    p = 0.\n",
    "    for i, f in enumerate(fitnesses):\n",
    "        p += f\n",
    "        if p >= r:\n",
    "            return axioms[i]\n",
    "    raise Exception('Unable to find axiom')"
   ]
  },
  {
   "cell_type": "code",
   "execution_count": 15,
   "id": "ebeb5d02-2550-4316-a262-e7310208291f",
   "metadata": {
    "execution": {
     "iopub.execute_input": "2021-12-17T09:48:18.225332Z",
     "iopub.status.busy": "2021-12-17T09:48:18.224335Z",
     "iopub.status.idle": "2021-12-17T09:48:18.239293Z",
     "shell.execute_reply": "2021-12-17T09:48:18.238327Z",
     "shell.execute_reply.started": "2021-12-17T09:48:18.225332Z"
    },
    "tags": []
   },
   "outputs": [],
   "source": [
    "from pcgsepy.lsystem.parser import HLtoMLTranslator\n",
    "\n",
    "translator = HLtoMLTranslator(alphabet=hl_alphabet,\n",
    "                              tiles_dims=tiles_dimensions,\n",
    "                              tiles_block_offset={})"
   ]
  },
  {
   "cell_type": "code",
   "execution_count": 16,
   "id": "10bd62ca-824a-4cf9-a20a-2215c173d640",
   "metadata": {
    "execution": {
     "iopub.execute_input": "2021-12-17T09:48:18.241287Z",
     "iopub.status.busy": "2021-12-17T09:48:18.240290Z",
     "iopub.status.idle": "2021-12-17T09:48:18.271387Z",
     "shell.execute_reply": "2021-12-17T09:48:18.270207Z",
     "shell.execute_reply.started": "2021-12-17T09:48:18.241287Z"
    },
    "tags": []
   },
   "outputs": [],
   "source": [
    "from pcgsepy.evo.genops import crossover, mutate\n",
    "\n",
    "\n",
    "def create_new_pool(population: List[str],\n",
    "                    fitnesses: List[float],\n",
    "                    generation: int,\n",
    "                    n_individuals: int = 50) -> List[str]:\n",
    "    pool = []\n",
    "\n",
    "    while len(pool) < n_individuals:\n",
    "        # fitness-proportionate selection\n",
    "        p1 = roulette_wheel_selection(axioms=population,\n",
    "                                      fitnesses=fitnesses)\n",
    "        p2 = roulette_wheel_selection(axioms=population,\n",
    "                                      fitnesses=fitnesses)\n",
    "        # crossover\n",
    "        o1, o2 = crossover(a1=p1,\n",
    "                           a2=p2,\n",
    "                           n_childs=2,\n",
    "                           translator=translator)\n",
    "        # mutation\n",
    "        o1 = mutate(axiom=o1,\n",
    "                    translator=translator,\n",
    "                    n_iteration=generation)\n",
    "        o2 = mutate(axiom=o2,\n",
    "                    translator=translator,\n",
    "                    n_iteration=generation)\n",
    "\n",
    "        for o in [o1, o2]:\n",
    "            if o not in pool:\n",
    "                pool.append(o)\n",
    "\n",
    "    return pool"
   ]
  },
  {
   "cell_type": "code",
   "execution_count": 17,
   "id": "de3e3436-819a-4e19-a6ef-5a6a57828115",
   "metadata": {
    "execution": {
     "iopub.execute_input": "2021-12-17T09:48:18.274196Z",
     "iopub.status.busy": "2021-12-17T09:48:18.273199Z",
     "iopub.status.idle": "2021-12-17T09:48:18.287160Z",
     "shell.execute_reply": "2021-12-17T09:48:18.285771Z",
     "shell.execute_reply.started": "2021-12-17T09:48:18.274196Z"
    },
    "tags": []
   },
   "outputs": [],
   "source": [
    "def reduce_population(population: List[str],\n",
    "                      fitnesses: List[str],\n",
    "                      to: int) -> Tuple[List[str], List[str]]:\n",
    "    f_ordered_idxs = [i for _, i in sorted(zip(fitnesses, range(len(fitnesses))))][-to:]\n",
    "    red_pop, red_f = [], []\n",
    "    for i in f_ordered_idxs:\n",
    "        red_pop.append(population[i])\n",
    "        red_f.append(fitnesses[i])\n",
    "    return red_pop, red_f"
   ]
  },
  {
   "cell_type": "code",
   "execution_count": 18,
   "id": "47bb0890-550e-4552-8af2-30de2e1e116b",
   "metadata": {
    "execution": {
     "iopub.execute_input": "2021-12-17T09:48:18.289154Z",
     "iopub.status.busy": "2021-12-17T09:48:18.289154Z",
     "iopub.status.idle": "2021-12-17T09:48:18.318287Z",
     "shell.execute_reply": "2021-12-17T09:48:18.317108Z",
     "shell.execute_reply.started": "2021-12-17T09:48:18.289154Z"
    },
    "tags": []
   },
   "outputs": [],
   "source": [
    "def if2pop(f_pop: List[str],\n",
    "           i_pop: List[str],\n",
    "           f_fitnesses: List[float],\n",
    "           i_fitnesses: List[float],\n",
    "           n_iter: int) -> Tuple[List[str], List[str]]:    \n",
    "    f_pool = []\n",
    "    i_pool = []\n",
    "\n",
    "    f_pool_fitnesses = []\n",
    "    i_pool_fitnesses = []\n",
    "    for gen in range(n_iter):\n",
    "        # create offsprings from feasible population\n",
    "        new_pool = create_new_pool(population=f_pop,\n",
    "                                   fitnesses=f_fitnesses,\n",
    "                                   generation=gen)\n",
    "        # if feasible, add to feasible pool\n",
    "        # if infeasible, add to infeasible pool\n",
    "        axioms_sats = subdivide_axioms(hl_axioms=new_pool,\n",
    "                                       lsystem=lsystem)\n",
    "        for axiom in axioms_sats.keys():\n",
    "            if axioms_sats[axiom]['feasible']:\n",
    "                f_pool.append(axiom)\n",
    "                f_pool_fitnesses.append(compute_fitness(axiom=axiom))\n",
    "            else:\n",
    "                i_pool.append(axiom)\n",
    "                i_pool_fitnesses.append(axioms_sats[axiom]['n_constraints_v'])\n",
    "        # place the infeasible population in the infeasible pool\n",
    "        i_pool.extend(i_pop)\n",
    "        i_pool_fitnesses.extend(i_fitnesses)\n",
    "        # reduce the infeasible pool if > pops_size\n",
    "        if len(i_pool) > pops_size:\n",
    "            i_pool, i_pool_fitnesses = reduce_population(population=i_pool,\n",
    "                                                         fitnesses=i_pool_fitnesses,\n",
    "                                                         to=pops_size)\n",
    "        # set the infeasible pool as the infeasible population\n",
    "        i_pop[:] = i_pool[:]\n",
    "        i_fitnesses[:] = i_pool_fitnesses[:]\n",
    "        # create offsprings from infeasible population\n",
    "        new_pool = create_new_pool(population=i_pop,\n",
    "                                   fitnesses=i_fitnesses,\n",
    "                                   generation=gen)\n",
    "        # if feasible, add to feasible pool\n",
    "        # if infeasible, add to infeasible pool\n",
    "        axioms_sats = subdivide_axioms(hl_axioms=new_pool,\n",
    "                                       lsystem=lsystem)\n",
    "        for axiom in axioms_sats.keys():\n",
    "            if axioms_sats[axiom]['feasible']:\n",
    "                f_pool.append(axiom)\n",
    "                f_pool_fitnesses.append(compute_fitness(axiom=axiom))\n",
    "            else:\n",
    "                i_pool.append(axiom)\n",
    "                i_pool_fitnesses.append(axioms_sats[axiom]['n_constraints_v'])\n",
    "        # reduce the feasible pool if > pops_size\n",
    "        if len(f_pool) > pops_size:\n",
    "            f_pool, f_pool_fitnesses = reduce_population(population=f_pool,\n",
    "                                                         fitnesses=f_pool_fitnesses,\n",
    "                                                         to=pops_size)\n",
    "        # set the feasible pool as the feasible population\n",
    "        f_pop[:] = f_pool[:]\n",
    "        f_fitnesses[:] = f_pool_fitnesses[:]\n",
    "\n",
    "    return f_pop, i_pop"
   ]
  },
  {
   "cell_type": "code",
   "execution_count": 19,
   "id": "b5dd0839-9baf-4c2d-908a-609df1b41986",
   "metadata": {
    "execution": {
     "iopub.execute_input": "2021-12-17T09:48:18.321065Z",
     "iopub.status.busy": "2021-12-17T09:48:18.320070Z",
     "iopub.status.idle": "2021-12-17T09:48:30.790354Z",
     "shell.execute_reply": "2021-12-17T09:48:30.790354Z",
     "shell.execute_reply.started": "2021-12-17T09:48:18.321065Z"
    },
    "tags": []
   },
   "outputs": [
    {
     "name": "stdout",
     "output_type": "stream",
     "text": [
      "50 50\n",
      "132.0 1\n"
     ]
    }
   ],
   "source": [
    "f_pop, i_pop, i_fitnesses = generate_initial_populations(lsystem=lsystem)\n",
    "f_fitnesses = [compute_fitness(a) for a in f_pop]\n",
    "\n",
    "print(len(f_pop), len(i_pop))\n",
    "print(max(f_fitnesses), min(i_fitnesses))"
   ]
  },
  {
   "cell_type": "code",
   "execution_count": 20,
   "id": "1aca7282-b7ea-4b01-a4e7-eeb96c90400c",
   "metadata": {
    "execution": {
     "iopub.execute_input": "2021-12-17T09:48:30.792312Z",
     "iopub.status.busy": "2021-12-17T09:48:30.792312Z",
     "iopub.status.idle": "2021-12-17T09:48:44.062333Z",
     "shell.execute_reply": "2021-12-17T09:48:44.062042Z",
     "shell.execute_reply.started": "2021-12-17T09:48:30.792312Z"
    },
    "tags": []
   },
   "outputs": [
    {
     "name": "stdout",
     "output_type": "stream",
     "text": [
      "50 50\n",
      "181.0 2\n"
     ]
    }
   ],
   "source": [
    "if2pop(f_pop=f_pop,\n",
    "       i_pop=i_pop,\n",
    "       f_fitnesses=f_fitnesses,\n",
    "       i_fitnesses=i_fitnesses,\n",
    "       n_iter=2)\n",
    "\n",
    "print(len(f_pop), len(i_pop))\n",
    "print(max(f_fitnesses), min(i_fitnesses))"
   ]
  },
  {
   "cell_type": "code",
   "execution_count": 21,
   "id": "717ca2c5-b0a5-4874-ad95-118603194fc9",
   "metadata": {
    "execution": {
     "iopub.execute_input": "2021-12-17T09:48:44.065413Z",
     "iopub.status.busy": "2021-12-17T09:48:44.065413Z",
     "iopub.status.idle": "2021-12-17T09:48:47.103867Z",
     "shell.execute_reply": "2021-12-17T09:48:47.102903Z",
     "shell.execute_reply.started": "2021-12-17T09:48:44.065413Z"
    },
    "tags": []
   },
   "outputs": [
    {
     "data": {
      "image/png": "[encoded data removed]",
      "text/plain": [
       "<Figure size 432x288 with 1 Axes>"
      ]
     },
     "metadata": {
      "needs_background": "light"
     },
     "output_type": "display_data"
    }
   ],
   "source": [
    "from pcgsepy.lsystem.structure_maker import LLStructureMaker\n",
    "from pcgsepy.common.vecs import Orientation\n",
    "from pcgsepy.structure import Structure\n",
    "\n",
    "hl_axiom = f_pop[f_fitnesses.index(max(f_fitnesses))]\n",
    "ml_axiom = lsystem.hlsolver.translator.transform(axiom=hl_axiom)\n",
    "ll_axiom = lsystem.llsolver.solve(axiom=ml_axiom,\n",
    "                                  iterations=1,\n",
    "                                  axioms_per_iteration=1,\n",
    "                                  check_sat=False)[0]\n",
    "\n",
    "base_position, orientation_forward, orientation_up = Vec.v3i(\n",
    "            0, 0, 0), Orientation.FORWARD.value, Orientation.UP.value\n",
    "structure = Structure(origin=base_position,\n",
    "                      orientation_forward=orientation_forward,\n",
    "                      orientation_up=orientation_up)\n",
    "structure = LLStructureMaker(\n",
    "    atoms_alphabet=lsystem.llsolver.atoms_alphabet,\n",
    "    position=base_position).fill_structure(structure=structure,\n",
    "                                           axiom=ll_axiom)\n",
    "structure.sanify()\n",
    "structure.show(title=hl_axiom)"
   ]
  }
 ],
 "metadata": {
  "kernelspec": {
   "display_name": "Python 3 (ipykernel)",
   "language": "python",
   "name": "python3"
  },
  "language_info": {
   "codemirror_mode": {
    "name": "ipython",
    "version": 3
   },
   "file_extension": ".py",
   "mimetype": "text/x-python",
   "name": "python",
   "nbconvert_exporter": "python",
   "pygments_lexer": "ipython3",
   "version": "3.8.12"
  }
 },
 "nbformat": 4,
 "nbformat_minor": 5
}
