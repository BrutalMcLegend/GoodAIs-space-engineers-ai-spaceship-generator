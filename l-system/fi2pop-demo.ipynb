{
 "cells": [
  {
   "cell_type": "markdown",
   "id": "e35c7368-cd53-434e-b9c4-90efc778fb4e",
   "metadata": {},
   "source": [
    "# FI-2Pop demo\n",
    "\n",
    "Demo notebook on the integration of FI-2Pop with the L-System."
   ]
  },
  {
   "cell_type": "markdown",
   "id": "94c19e54-68bc-404f-8962-87fb70f7185d",
   "metadata": {
    "jp-MarkdownHeadingCollapsed": true,
    "tags": []
   },
   "source": [
    "## Imports"
   ]
  },
  {
   "cell_type": "code",
   "execution_count": 1,
   "id": "f171c65a-e171-41df-936e-c808dd4f8154",
   "metadata": {},
   "outputs": [],
   "source": [
    "import json"
   ]
  },
  {
   "cell_type": "markdown",
   "id": "eae4a95b-47cc-4381-985a-647ba65ecf17",
   "metadata": {},
   "source": [
    "GECCO-compatible `matplotlib` options:"
   ]
  },
  {
   "cell_type": "code",
   "execution_count": 2,
   "id": "2b88d1b9-2c34-4dde-9db9-5cd7509b1f1a",
   "metadata": {},
   "outputs": [],
   "source": [
    "import matplotlib\n",
    "\n",
    "matplotlib.rcParams['pdf.fonttype'] = 42\n",
    "matplotlib.rcParams['ps.fonttype'] = 42"
   ]
  },
  {
   "cell_type": "markdown",
   "id": "fe17bf5f-7d6d-4a26-92e3-abae13291ccf",
   "metadata": {},
   "source": [
    "Import `PCGSEPy` modules:"
   ]
  },
  {
   "cell_type": "code",
   "execution_count": 3,
   "id": "ea32675b-d3b7-43cb-a84c-8f79ec5950b8",
   "metadata": {},
   "outputs": [],
   "source": [
    "from pcgsepy.common.vecs import orientation_from_str, Vec \n",
    "from pcgsepy.config import COMMON_ATOMS, HL_ATOMS, N_ITERATIONS, REQ_TILES \n",
    "from pcgsepy.lsystem.rules import RuleMaker\n",
    "from pcgsepy.lsystem.actions import AtomAction, Rotations\n",
    "from pcgsepy.lsystem.parser import HLParser, LLParser\n",
    "from pcgsepy.lsystem.solver import LSolver\n",
    "from pcgsepy.lsystem.constraints import ConstraintHandler, ConstraintLevel, ConstraintTime\n",
    "from pcgsepy.lsystem.constraints_funcs import components_constraint, intersection_constraint, symmetry_constraint, wheels_plane_constraint\n",
    "from pcgsepy.lsystem.lsystem import LSystem\n",
    "from pcgsepy.structure import block_definitions"
   ]
  },
  {
   "cell_type": "markdown",
   "id": "03c439a3-1460-4055-9786-be86ef7ea8e1",
   "metadata": {
    "jp-MarkdownHeadingCollapsed": true,
    "tags": []
   },
   "source": [
    "## Setup"
   ]
  },
  {
   "cell_type": "code",
   "execution_count": 4,
   "id": "6fc0f771-61b0-46a1-97e8-d930b2a6d24c",
   "metadata": {},
   "outputs": [],
   "source": [
    "import logging\n",
    "\n",
    "logging.basicConfig()\n",
    "logger = logging.getLogger('base-logger')\n",
    "logger.setLevel(logging.WARNING)"
   ]
  },
  {
   "cell_type": "code",
   "execution_count": 5,
   "id": "2afef3e3-b111-47d2-abca-efbdde6fe7f3",
   "metadata": {
    "tags": []
   },
   "outputs": [],
   "source": [
    "with open(COMMON_ATOMS, \"r\") as f:\n",
    "    common_alphabet = json.load(f)\n",
    "\n",
    "for k in common_alphabet:\n",
    "    action, args = common_alphabet[k][\"action\"], common_alphabet[k][\"args\"]\n",
    "    action = AtomAction(action)\n",
    "    if action == AtomAction.MOVE:\n",
    "        args = orientation_from_str[args]\n",
    "    elif action == AtomAction.ROTATE:\n",
    "        args = Rotations(args)\n",
    "    common_alphabet[k] = {\"action\": action, \"args\": args}"
   ]
  },
  {
   "cell_type": "code",
   "execution_count": 6,
   "id": "a6484d3a-0ed3-4269-8ea9-29e30856d586",
   "metadata": {},
   "outputs": [],
   "source": [
    "with open(HL_ATOMS, \"r\") as f:\n",
    "    hl_atoms = json.load(f)\n",
    "\n",
    "tiles_dimensions = {}\n",
    "tiles_block_offset = {}\n",
    "for tile in hl_atoms.keys():\n",
    "    dx, dy, dz = hl_atoms[tile][\"dimensions\"]\n",
    "    tiles_dimensions[tile] = Vec.v3i(dx, dy, dz)\n",
    "    tiles_block_offset[tile] = hl_atoms[tile][\"offset\"]\n",
    "\n",
    "hl_alphabet = {}\n",
    "for k in common_alphabet.keys():\n",
    "    hl_alphabet[k] = common_alphabet[k]\n",
    "\n",
    "for hk in hl_atoms.keys():\n",
    "    hl_alphabet[hk] = {\"action\": AtomAction.PLACE, \"args\": []}"
   ]
  },
  {
   "cell_type": "code",
   "execution_count": 7,
   "id": "b2e83754-e8ae-4c88-9b44-557271386ec3",
   "metadata": {},
   "outputs": [],
   "source": [
    "ll_alphabet = {}\n",
    "\n",
    "for k in common_alphabet.keys():\n",
    "    ll_alphabet[k] = common_alphabet[k]\n",
    "\n",
    "for k in block_definitions.keys():\n",
    "    if k != \"\":  # TODO: This is a probable bug, reported to the SE API devs\n",
    "        ll_alphabet[k] = {\"action\": AtomAction.PLACE, \"args\": [k]}"
   ]
  },
  {
   "cell_type": "markdown",
   "id": "8bde02d5-0efe-4eba-97ea-5dbeb21ff246",
   "metadata": {
    "jp-MarkdownHeadingCollapsed": true,
    "tags": []
   },
   "source": [
    "## L-System components"
   ]
  },
  {
   "cell_type": "code",
   "execution_count": 8,
   "id": "65def23a-5419-4765-971b-7e0334b309ae",
   "metadata": {},
   "outputs": [],
   "source": [
    "hl_rules = RuleMaker(ruleset='hlrules').get_rules()\n",
    "ll_rules = RuleMaker(ruleset='llrules').get_rules()\n",
    "\n",
    "hl_parser = HLParser(rules=hl_rules)\n",
    "ll_parser = LLParser(rules=ll_rules)\n",
    "\n",
    "hl_solver = LSolver(parser=hl_parser,\n",
    "                    atoms_alphabet=hl_alphabet,\n",
    "                    extra_args={\n",
    "                        'tiles_dimensions': tiles_dimensions,\n",
    "                        'tiles_block_offset': tiles_block_offset,\n",
    "                        'll_rules': ll_rules\n",
    "                    })\n",
    "ll_solver = LSolver(parser=ll_parser,\n",
    "                    atoms_alphabet=dict(hl_alphabet, **ll_alphabet),\n",
    "                    extra_args={})"
   ]
  },
  {
   "cell_type": "code",
   "execution_count": 9,
   "id": "7b84c390-6759-4288-acf3-f6ac68ab572c",
   "metadata": {},
   "outputs": [],
   "source": [
    "rcc = ConstraintHandler(\n",
    "    name=\"required_components\",\n",
    "    level=ConstraintLevel.HARD_CONSTRAINT,\n",
    "    when=ConstraintTime.END,\n",
    "    f=components_constraint,\n",
    "    extra_args={\n",
    "        'alphabet': hl_alphabet\n",
    "    }\n",
    ")\n",
    "rcc.extra_args[\"req_tiles\"] = REQ_TILES\n",
    "\n",
    "nic = ConstraintHandler(\n",
    "    name=\"no_intersections\",\n",
    "    level=ConstraintLevel.HARD_CONSTRAINT,\n",
    "    when=ConstraintTime.DURING,\n",
    "    f=intersection_constraint,\n",
    "    extra_args={\n",
    "        'alphabet': dict(hl_alphabet, **ll_alphabet)\n",
    "    },\n",
    "    needs_ll=True\n",
    ")\n",
    "nic.extra_args[\"tiles_dimensions\"] = tiles_dimensions\n",
    "\n",
    "sc = ConstraintHandler(\n",
    "    name=\"symmetry\",\n",
    "    level=ConstraintLevel.SOFT_CONSTRAINT,\n",
    "    when=ConstraintTime.END,\n",
    "    f=symmetry_constraint,\n",
    "    extra_args={\n",
    "        'alphabet': dict(hl_alphabet, **ll_alphabet)\n",
    "    }\n",
    ")\n",
    "\n",
    "wopc = ConstraintHandler(\n",
    "    name=\"wheels_on_plane\",\n",
    "    level=ConstraintLevel.SOFT_CONSTRAINT,\n",
    "    when=ConstraintTime.END,\n",
    "    f=wheels_plane_constraint,\n",
    "    extra_args={\n",
    "        'alphabet': dict(hl_alphabet, **ll_alphabet)\n",
    "    }\n",
    ")"
   ]
  },
  {
   "cell_type": "code",
   "execution_count": 10,
   "id": "427e0cf0-3dc6-4285-8963-eb171cb870de",
   "metadata": {
    "tags": []
   },
   "outputs": [],
   "source": [
    "lsystem = LSystem(\n",
    "    hl_solver=hl_solver, ll_solver=ll_solver\n",
    ")"
   ]
  },
  {
   "cell_type": "code",
   "execution_count": 11,
   "id": "d9ef6f61-369e-427a-a865-80452e125693",
   "metadata": {},
   "outputs": [],
   "source": [
    "lsystem.add_hl_constraint(c=rcc)\n",
    "lsystem.add_hl_constraint(c=nic)\n",
    "\n",
    "lsystem.add_ll_constraint(c=sc)\n",
    "lsystem.add_ll_constraint(c=wopc)"
   ]
  },
  {
   "cell_type": "markdown",
   "id": "69857611-d4c0-4d51-96c9-b57a40a9378a",
   "metadata": {},
   "source": [
    "## FI-2Pop"
   ]
  },
  {
   "cell_type": "code",
   "execution_count": 37,
   "id": "16ac8de8-192d-4f58-ba8a-a8537bf70ddb",
   "metadata": {},
   "outputs": [],
   "source": [
    "feasible_pop = []\n",
    "infeasible_pop = []\n",
    "\n",
    "feasible_pool = []\n",
    "infeasible_pool = []"
   ]
  },
  {
   "cell_type": "code",
   "execution_count": 38,
   "id": "ed87c69e-d89f-402a-ae29-e8ecc2e71417",
   "metadata": {},
   "outputs": [],
   "source": [
    "pops_size = 50\n",
    "n_retries = 100\n",
    "\n",
    "\n",
    "i = 0\n",
    "while len(feasible_pop) < pops_size or len(infeasible_pop) < pops_size:\n",
    "    lsystem.check_sat = False\n",
    "    hl_axioms = lsystem.get_hl_axioms(starting_axiom=\"begin\",\n",
    "                                      iterations=N_ITERATIONS)\n",
    "\n",
    "    axioms_sats = {}\n",
    "    for hl_axiom in hl_axioms:\n",
    "        axioms_sats[hl_axiom] = {}\n",
    "        for t in [ConstraintTime.DURING, ConstraintTime.END]:\n",
    "            sat = lsystem.hlsolver._check_constraints(axiom=hl_axiom,\n",
    "                                                      when=t)\n",
    "            axioms_sats[hl_axiom][t] = sat\n",
    "\n",
    "    to_expand_further = []\n",
    "    for hl_axiom in axioms_sats.keys():\n",
    "        if axioms_sats[hl_axiom][ConstraintTime.DURING][ConstraintLevel.HARD_CONSTRAINT] and axioms_sats[hl_axiom][ConstraintTime.END][ConstraintLevel.HARD_CONSTRAINT]:\n",
    "            to_expand_further.append(hl_axiom)\n",
    "        else:\n",
    "            if hl_axiom not in infeasible_pop and len(infeasible_pop) < pops_size:\n",
    "                infeasible_pop.append(hl_axiom)\n",
    "    ml_axioms = lsystem.get_ml_axioms(hl_axioms=to_expand_further)\n",
    "    lsystem.check_sat = True\n",
    "    ll_axioms, to_rem = lsystem.get_ll_axioms(ml_axioms)\n",
    "\n",
    "    for r in to_rem:\n",
    "        infeasible_pop.append(to_expand_further[r])\n",
    "    for n, hl_axiom in enumerate(to_expand_further):\n",
    "        if n not in to_rem and len(feasible_pop) < pops_size:\n",
    "            feasible_pop.append(hl_axiom)\n",
    "\n",
    "    i += 1\n",
    "    if i == n_retries:\n",
    "        break"
   ]
  },
  {
   "cell_type": "code",
   "execution_count": 39,
   "id": "c6df8746-07e5-45cb-a6c0-2cac529c4323",
   "metadata": {},
   "outputs": [
    {
     "data": {
      "text/plain": [
       "['cockpitcorridor(9)corridor(9)[RotZccwXcorridor(6)wheels][RotZccwYcorridor(5)corridor(5)thruster]',\n",
       " 'cockpitcorridor(2)[RotZccwXcorridor(5)][RotZccwYcorridor(6)thruster]corridor(7)corridor(7)[RotZccwYcorridor(3)thruster]',\n",
       " 'cockpitcorridor(2)[RotZccwXcorridor(5)][RotZccwYcorridor(6)wheels]corridor(3)corridor(3)[RotZccwYcorridor(3)thruster]',\n",
       " 'cockpitcorridor(5)[RotZccwXcorridor(9)]corridor(5)[RotZccwXcorridor(5)][RotZccwYcorridor(6)[RotZccwYcorridor(5)]thruster]',\n",
       " 'cockpitcorridor(4)[RotZccwXcorridor(5)]corridor(4)[RotZccwXcorridor(4)][RotZccwYcorridor(2)[RotZccwXcorridor(4)]thruster]',\n",
       " 'cockpitcorridor(3)corridor(3)[RotZccwXcorridor(2)thruster][RotZccwYcorridor(8)[RotZccwXcorridor(2)]wheels]',\n",
       " 'cockpitcorridor(4)corridor(4)[RotZccwXcorridor(2)thruster][RotZccwYcorridor(5)[RotZccwXcorridor(6)]thruster]',\n",
       " 'cockpitcorridor(7)[RotZccwYcorridor(4)]corridor(4)corridor(4)[RotZccwYcorridor(6)[RotZccwXcorridor(7)]thruster]',\n",
       " 'cockpitcorridor(3)corridor(3)[RotZccwXcorridor(6)thruster]corridor(2)corridor(2)[RotZccwXcorridor(8)wheels]',\n",
       " 'cockpitcorridor(7)[RotZccwYcorridor(9)]corridor(6)corridor(6)[RotZccwYcorridor(6)[RotZccwYcorridor(9)]thruster]',\n",
       " 'cockpitcorridor(5)corridor(5)[RotZccwXcorridor(6)wheels][RotZccwYcorridor(9)[RotZccwXcorridor(3)]thruster]',\n",
       " 'cockpitcorridor(8)corridor(8)[RotZccwXcorridor(1)thruster][RotZccwYcorridor(8)corridor(8)thruster]',\n",
       " 'cockpitcorridor(9)corridor(9)corridor(7)[RotZccwYcorridor(9)][RotZccwXcorridor(4)[RotZccwYcorridor(8)]thruster]',\n",
       " 'cockpitcorridor(7)[RotZccwXcorridor(9)]corridor(7)[RotZccwXcorridor(8)][RotZccwYcorridor(9)corridor(9)thruster]',\n",
       " 'cockpitcorridor(2)corridor(2)corridor(7)[RotZccwXcorridor(1)][RotZccwYcorridor(8)[RotZccwYcorridor(7)]thruster]',\n",
       " 'cockpitcorridor(7)[RotZccwYcorridor(1)]corridor(3)corridor(3)[RotZccwXcorridor(4)[RotZccwYcorridor(4)]thruster]',\n",
       " 'cockpitcorridor(2)[RotZccwXcorridor(4)][RotZccwYcorridor(7)thruster]corridor(3)corridor(3)[RotZccwXcorridor(8)thruster]',\n",
       " 'cockpitcorridor(9)[RotZccwXcorridor(5)]corridor(9)[RotZccwYcorridor(2)][RotZccwXcorridor(7)[RotZccwYcorridor(9)]thruster]',\n",
       " 'cockpitcorridor(9)[RotZccwXcorridor(9)]corridor(9)[RotZccwYcorridor(2)][RotZccwXcorridor(7)[RotZccwYcorridor(6)]thruster]',\n",
       " 'cockpitcorridor(1)corridor(1)[RotZccwYcorridor(8)wheels]corridor(3)corridor(3)[RotZccwXcorridor(4)thruster]',\n",
       " 'cockpitcorridor(6)[RotZccwXcorridor(8)][RotZccwYcorridor(5)thruster]corridor(6)[RotZccwYcorridor(8)][RotZccwXcorridor(7)wheels]',\n",
       " 'cockpitcorridor(4)[RotZccwYcorridor(8)]corridor(5)corridor(5)[RotZccwYcorridor(1)[RotZccwYcorridor(6)]thruster]',\n",
       " 'cockpitcorridor(5)corridor(5)corridor(8)[RotZccwXcorridor(7)][RotZccwYcorridor(7)[RotZccwYcorridor(2)]thruster]',\n",
       " 'cockpitcorridor(6)corridor(6)[RotZccwXcorridor(5)thruster][RotZccwYcorridor(1)[RotZccwYcorridor(5)]wheels]',\n",
       " 'cockpitcorridor(4)corridor(4)corridor(6)[RotZccwXcorridor(4)][RotZccwYcorridor(9)corridor(9)thruster]',\n",
       " 'cockpitcorridor(3)corridor(3)[RotZccwXcorridor(6)thruster][RotZccwYcorridor(1)[RotZccwYcorridor(1)]wheels]',\n",
       " 'cockpitcorridor(9)corridor(9)[RotZccwXcorridor(7)wheels][RotZccwYcorridor(7)[RotZccwYcorridor(1)]thruster]',\n",
       " 'cockpitcorridor(4)corridor(4)[RotZccwXcorridor(1)wheels][RotZccwYcorridor(7)[RotZccwXcorridor(3)]thruster]',\n",
       " 'cockpitcorridor(8)corridor(8)[RotZccwXcorridor(4)thruster]corridor(9)[RotZccwYcorridor(6)][RotZccwXcorridor(6)thruster]',\n",
       " 'cockpitcorridor(5)corridor(5)[RotZccwYcorridor(9)wheels]corridor(6)[RotZccwXcorridor(9)][RotZccwYcorridor(9)thruster]',\n",
       " 'cockpitcorridor(9)[RotZccwXcorridor(9)][RotZccwYcorridor(4)thruster]corridor(9)[RotZccwYcorridor(3)][RotZccwXcorridor(1)wheels]',\n",
       " 'cockpitcorridor(9)[RotZccwYcorridor(9)][RotZccwXcorridor(4)thruster]corridor(9)[RotZccwYcorridor(4)][RotZccwXcorridor(6)thruster]',\n",
       " 'cockpitcorridor(5)corridor(5)[RotZccwXcorridor(7)thruster][RotZccwYcorridor(1)[RotZccwYcorridor(1)]thruster]',\n",
       " 'cockpitcorridor(5)[RotZccwYcorridor(5)][RotZccwXcorridor(2)thruster]corridor(5)[RotZccwXcorridor(7)][RotZccwYcorridor(2)wheels]',\n",
       " 'cockpitcorridor(1)corridor(1)corridor(3)corridor(3)[RotZccwYcorridor(8)corridor(8)thruster]',\n",
       " 'cockpitcorridor(9)[RotZccwYcorridor(2)]corridor(9)[RotZccwXcorridor(9)][RotZccwYcorridor(3)corridor(3)thruster]',\n",
       " 'cockpitcorridor(5)[RotZccwXcorridor(8)]corridor(6)corridor(6)[RotZccwYcorridor(5)[RotZccwXcorridor(2)]thruster]',\n",
       " 'cockpitcorridor(2)corridor(2)[RotZccwXcorridor(2)thruster][RotZccwYcorridor(5)[RotZccwXcorridor(6)]wheels]',\n",
       " 'cockpitcorridor(5)[RotZccwXcorridor(3)]corridor(2)corridor(2)[RotZccwYcorridor(7)[RotZccwYcorridor(1)]thruster]',\n",
       " 'cockpitcorridor(7)[RotZccwXcorridor(8)]corridor(7)[RotZccwYcorridor(9)][RotZccwXcorridor(9)[RotZccwYcorridor(3)]thruster]',\n",
       " 'cockpitcorridor(4)[RotZccwXcorridor(9)]corridor(4)[RotZccwYcorridor(7)]corridor(8)corridor(8)[RotZccwYcorridor(2)thruster]',\n",
       " 'cockpitcorridor(5)[RotZccwXcorridor(9)]corridor(1)corridor(1)[RotZccwYcorridor(7)[RotZccwXcorridor(6)]thruster]',\n",
       " 'cockpitcorridor(3)corridor(3)[RotZccwYcorridor(7)thruster][RotZccwXcorridor(3)corridor(3)wheels]',\n",
       " 'cockpitcorridor(8)[RotZccwXcorridor(8)]corridor(8)[RotZccwXcorridor(2)][RotZccwYcorridor(1)[RotZccwXcorridor(7)]thruster]',\n",
       " 'cockpitcorridor(8)[RotZccwXcorridor(5)]corridor(5)corridor(5)[RotZccwYcorridor(1)[RotZccwXcorridor(8)]thruster]',\n",
       " 'cockpitcorridor(4)corridor(4)[RotZccwXcorridor(8)wheels][RotZccwYcorridor(4)[RotZccwYcorridor(4)]thruster]',\n",
       " 'cockpitcorridor(7)[RotZccwXcorridor(3)][RotZccwYcorridor(9)wheels]corridor(7)[RotZccwXcorridor(4)][RotZccwYcorridor(2)thruster]',\n",
       " 'cockpitcorridor(3)corridor(3)[RotZccwYcorridor(1)wheels]corridor(4)corridor(4)[RotZccwXcorridor(1)thruster]',\n",
       " 'cockpitcorridor(5)corridor(5)[RotZccwYcorridor(2)thruster][RotZccwXcorridor(1)[RotZccwYcorridor(6)]thruster]',\n",
       " 'cockpitcorridor(7)[RotZccwXcorridor(6)][RotZccwYcorridor(1)thruster]corridor(7)[RotZccwYcorridor(7)][RotZccwXcorridor(1)wheels]']"
      ]
     },
     "execution_count": 39,
     "metadata": {},
     "output_type": "execute_result"
    }
   ],
   "source": [
    "feasible_pop"
   ]
  },
  {
   "cell_type": "code",
   "execution_count": 40,
   "id": "8a263f2d-b6bb-42a0-84cb-68429af7b140",
   "metadata": {},
   "outputs": [
    {
     "data": {
      "text/plain": [
       "['cockpitcorridor(9)corridor(9)[RotZccwYcorridor(1)thruster][RotZccwYcorridor(3)[RotZccwXcorridor(6)]wheels]',\n",
       " 'cockpitcorridor(7)[RotZccwYcorridor(2)][RotZccwYcorridor(7)wheels][RotZccwXcorridor(1)[RotZccwYcorridor(6)]thruster]',\n",
       " 'cockpitcorridor(7)[RotZccwYcorridor(6)][RotZccwXcorridor(3)wheels][RotZccwXcorridor(1)[RotZccwXcorridor(1)]thruster]',\n",
       " 'cockpitcorridor(8)corridor(8)[RotZccwYcorridor(1)thruster][RotZccwYcorridor(3)[RotZccwXcorridor(8)]wheels]',\n",
       " 'cockpitcorridor(9)[RotZccwYcorridor(6)][RotZccwXcorridor(4)thruster][RotZccwYcorridor(6)[RotZccwXcorridor(3)]wheels]',\n",
       " 'cockpitcorridor(5)[RotZccwXcorridor(4)]corridor(5)[RotZccwYcorridor(4)][RotZccwYcorridor(2)corridor(2)thruster]',\n",
       " 'cockpitcorridor(2)[RotZccwXcorridor(6)][RotZccwXcorridor(3)thruster]corridor(2)[RotZccwYcorridor(9)][RotZccwXcorridor(4)wheels]',\n",
       " 'cockpitcorridor(7)corridor(7)[RotZccwXcorridor(4)wheels][RotZccwYcorridor(6)[RotZccwXcorridor(1)]wheels]',\n",
       " 'cockpitcorridor(7)[RotZccwYcorridor(6)][RotZccwXcorridor(3)wheels][RotZccwXcorridor(1)[RotZccwXcorridor(8)]thruster]',\n",
       " 'cockpitcorridor(2)[RotZccwXcorridor(5)][RotZccwXcorridor(3)wheels]corridor(2)[RotZccwYcorridor(6)][RotZccwXcorridor(4)wheels]',\n",
       " 'cockpitcorridor(7)[RotZccwXcorridor(9)][RotZccwXcorridor(6)thruster][RotZccwYcorridor(3)corridor(3)thruster]',\n",
       " 'cockpitcorridor(7)[RotZccwXcorridor(6)][RotZccwYcorridor(7)wheels][RotZccwXcorridor(1)[RotZccwXcorridor(7)]thruster]',\n",
       " 'cockpitcorridor(7)[RotZccwYcorridor(5)][RotZccwXcorridor(8)thruster][RotZccwYcorridor(4)[RotZccwXcorridor(2)]thruster]',\n",
       " 'cockpitcorridor(2)[RotZccwYcorridor(7)][RotZccwXcorridor(9)thruster]corridor(2)[RotZccwYcorridor(8)][RotZccwXcorridor(3)thruster]',\n",
       " 'cockpitcorridor(4)[RotZccwYcorridor(9)]corridor(4)[RotZccwXcorridor(4)][RotZccwYcorridor(2)[RotZccwYcorridor(5)]thruster]',\n",
       " 'cockpitcorridor(7)[RotZccwYcorridor(1)][RotZccwYcorridor(3)wheels][RotZccwYcorridor(8)[RotZccwYcorridor(2)]wheels]',\n",
       " 'cockpitcorridor(9)corridor(9)[RotZccwXcorridor(3)wheels]corridor(2)[RotZccwXcorridor(2)][RotZccwXcorridor(3)thruster]',\n",
       " 'cockpitcorridor(7)[RotZccwYcorridor(2)][RotZccwYcorridor(9)thruster][RotZccwYcorridor(4)[RotZccwYcorridor(1)]thruster]',\n",
       " 'cockpitcorridor(2)[RotZccwXcorridor(1)][RotZccwXcorridor(9)thruster]corridor(2)corridor(2)[RotZccwXcorridor(3)thruster]',\n",
       " 'cockpitcorridor(7)[RotZccwYcorridor(6)][RotZccwYcorridor(7)thruster][RotZccwYcorridor(8)[RotZccwXcorridor(8)]wheels]',\n",
       " 'cockpitcorridor(7)[RotZccwXcorridor(9)][RotZccwYcorridor(9)wheels][RotZccwYcorridor(9)corridor(9)thruster]',\n",
       " 'cockpitcorridor(9)corridor(9)[RotZccwYcorridor(3)wheels][RotZccwYcorridor(8)[RotZccwYcorridor(2)]wheels]',\n",
       " 'cockpitcorridor(2)[RotZccwYcorridor(1)][RotZccwXcorridor(3)thruster]corridor(2)[RotZccwYcorridor(2)][RotZccwXcorridor(3)wheels]',\n",
       " 'cockpitcorridor(2)[RotZccwYcorridor(5)][RotZccwYcorridor(3)wheels][RotZccwYcorridor(2)[RotZccwXcorridor(1)]wheels]',\n",
       " 'cockpitcorridor(7)[RotZccwYcorridor(5)][RotZccwYcorridor(7)thruster][RotZccwYcorridor(8)[RotZccwYcorridor(6)]wheels]',\n",
       " 'cockpitcorridor(7)[RotZccwYcorridor(3)][RotZccwXcorridor(8)thruster][RotZccwYcorridor(4)[RotZccwXcorridor(2)]thruster]',\n",
       " 'cockpitcorridor(2)[RotZccwYcorridor(2)][RotZccwYcorridor(3)wheels][RotZccwYcorridor(2)[RotZccwXcorridor(1)]wheels]',\n",
       " 'cockpitcorridor(2)[RotZccwXcorridor(5)][RotZccwYcorridor(6)thruster][RotZccwYcorridor(3)[RotZccwYcorridor(3)]wheels]',\n",
       " 'cockpitcorridor(2)[RotZccwXcorridor(8)][RotZccwYcorridor(8)wheels][RotZccwYcorridor(8)[RotZccwYcorridor(7)]wheels]',\n",
       " 'cockpitcorridor(5)corridor(5)corridor(6)[RotZccwXcorridor(6)][RotZccwXcorridor(9)[RotZccwXcorridor(4)]wheels]',\n",
       " 'cockpitcorridor(3)[RotZccwXcorridor(7)]corridor(3)[RotZccwYcorridor(5)][RotZccwXcorridor(1)[RotZccwXcorridor(1)]wheels]',\n",
       " 'cockpitcorridor(3)[RotZccwYcorridor(2)][RotZccwYcorridor(1)thruster][RotZccwXcorridor(9)[RotZccwXcorridor(4)]wheels]',\n",
       " 'cockpitcorridor(2)[RotZccwXcorridor(5)][RotZccwXcorridor(2)wheels][RotZccwYcorridor(3)corridor(3)wheels]',\n",
       " 'cockpitcorridor(8)corridor(8)corridor(8)corridor(8)[RotZccwXcorridor(1)[RotZccwYcorridor(4)]wheels]',\n",
       " 'cockpitcorridor(2)[RotZccwXcorridor(6)][RotZccwXcorridor(9)thruster][RotZccwYcorridor(3)[RotZccwYcorridor(4)]thruster]',\n",
       " 'cockpitcorridor(4)corridor(4)[RotZccwYcorridor(1)wheels][RotZccwXcorridor(9)[RotZccwYcorridor(1)]wheels]',\n",
       " 'cockpitcorridor(2)[RotZccwYcorridor(5)][RotZccwYcorridor(8)wheels][RotZccwYcorridor(5)corridor(5)wheels]',\n",
       " 'cockpitcorridor(6)[RotZccwYcorridor(7)]corridor(6)[RotZccwXcorridor(6)][RotZccwXcorridor(9)[RotZccwXcorridor(4)]wheels]',\n",
       " 'cockpitcorridor(2)[RotZccwXcorridor(6)][RotZccwYcorridor(6)wheels][RotZccwYcorridor(3)[RotZccwXcorridor(4)]wheels]',\n",
       " 'cockpitcorridor(2)[RotZccwYcorridor(5)][RotZccwXcorridor(9)wheels][RotZccwYcorridor(3)[RotZccwYcorridor(5)]thruster]',\n",
       " 'cockpitcorridor(2)[RotZccwXcorridor(5)][RotZccwYcorridor(5)wheels]corridor(2)[RotZccwXcorridor(7)][RotZccwXcorridor(3)wheels]',\n",
       " 'cockpitcorridor(2)[RotZccwXcorridor(1)][RotZccwYcorridor(5)wheels][RotZccwXcorridor(6)[RotZccwYcorridor(5)]wheels]',\n",
       " 'cockpitcorridor(4)[RotZccwYcorridor(9)][RotZccwXcorridor(9)wheels][RotZccwYcorridor(4)corridor(4)thruster]',\n",
       " 'cockpitcorridor(2)[RotZccwXcorridor(4)][RotZccwYcorridor(5)wheels]corridor(2)[RotZccwYcorridor(7)][RotZccwXcorridor(3)thruster]',\n",
       " 'cockpitcorridor(2)[RotZccwXcorridor(2)][RotZccwYcorridor(5)wheels][RotZccwYcorridor(5)[RotZccwXcorridor(6)]thruster]',\n",
       " 'cockpitcorridor(2)[RotZccwXcorridor(9)][RotZccwXcorridor(2)thruster][RotZccwYcorridor(3)corridor(3)thruster]',\n",
       " 'cockpitcorridor(2)[RotZccwXcorridor(8)][RotZccwYcorridor(5)wheels][RotZccwXcorridor(9)corridor(9)wheels]',\n",
       " 'cockpitcorridor(5)[RotZccwXcorridor(1)]corridor(5)[RotZccwXcorridor(9)][RotZccwYcorridor(2)[RotZccwXcorridor(4)]wheels]',\n",
       " 'cockpitcorridor(2)[RotZccwYcorridor(2)][RotZccwYcorridor(2)wheels]corridor(2)[RotZccwXcorridor(1)][RotZccwYcorridor(7)wheels]',\n",
       " 'cockpitcorridor(4)[RotZccwXcorridor(1)][RotZccwXcorridor(9)wheels][RotZccwYcorridor(2)[RotZccwYcorridor(3)]thruster]']"
      ]
     },
     "execution_count": 40,
     "metadata": {},
     "output_type": "execute_result"
    }
   ],
   "source": [
    "infeasible_pop"
   ]
  },
  {
   "cell_type": "code",
   "execution_count": 41,
   "id": "39c3635f-bc89-4a7f-b470-b1cdd8b513a7",
   "metadata": {},
   "outputs": [
    {
     "data": {
      "text/plain": [
       "50"
      ]
     },
     "execution_count": 41,
     "metadata": {},
     "output_type": "execute_result"
    }
   ],
   "source": [
    "len(feasible_pop)"
   ]
  },
  {
   "cell_type": "code",
   "execution_count": 42,
   "id": "b671deb3-02aa-4a4e-914f-6d64d644275f",
   "metadata": {},
   "outputs": [
    {
     "data": {
      "text/plain": [
       "50"
      ]
     },
     "execution_count": 42,
     "metadata": {},
     "output_type": "execute_result"
    }
   ],
   "source": [
    "len(infeasible_pop)"
   ]
  },
  {
   "cell_type": "code",
   "execution_count": null,
   "id": "105dee70-fda0-4364-8411-34d417270d48",
   "metadata": {},
   "outputs": [],
   "source": []
  }
 ],
 "metadata": {
  "kernelspec": {
   "display_name": "Python 3 (ipykernel)",
   "language": "python",
   "name": "python3"
  },
  "language_info": {
   "codemirror_mode": {
    "name": "ipython",
    "version": 3
   },
   "file_extension": ".py",
   "mimetype": "text/x-python",
   "name": "python",
   "nbconvert_exporter": "python",
   "pygments_lexer": "ipython3",
   "version": "3.8.12"
  }
 },
 "nbformat": 4,
 "nbformat_minor": 5
}
