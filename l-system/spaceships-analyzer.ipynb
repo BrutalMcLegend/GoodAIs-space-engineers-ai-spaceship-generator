{
 "cells": [
  {
   "cell_type": "code",
   "execution_count": null,
   "id": "a41a1fa4-6c15-4539-8538-b71c3052fcd8",
   "metadata": {
    "tags": []
   },
   "outputs": [],
   "source": [
    "import numpy as np\n",
    "import os\n",
    "import xml.etree.ElementTree as ET\n",
    "import matplotlib.pyplot as plt\n",
    "import scipy.stats as stats\n",
    "import json\n",
    "import pickle\n",
    "from tqdm.notebook import tqdm\n",
    "\n",
    "from pcgsepy.xml_conversion import convert_xml_to_structure"
   ]
  },
  {
   "cell_type": "code",
   "execution_count": null,
   "id": "d3d04170-af17-474a-b767-5aece4952640",
   "metadata": {
    "tags": []
   },
   "outputs": [],
   "source": [
    "RUN_ANALYSIS = False"
   ]
  },
  {
   "cell_type": "code",
   "execution_count": null,
   "id": "5255a6ef-1db4-4267-bdd3-8cad23d0112e",
   "metadata": {
    "tags": []
   },
   "outputs": [],
   "source": [
    "fuots = []\n",
    "fiots = []\n",
    "volumes = []\n",
    "lom = []\n",
    "los = []"
   ]
  },
  {
   "cell_type": "code",
   "execution_count": null,
   "id": "1b9b67e8-452d-4b6b-afa2-1d1851b59a23",
   "metadata": {
    "tags": []
   },
   "outputs": [],
   "source": [
    "SPACESHIPS_DIR = '../steam-workshop-downloader/content'\n",
    "\n",
    "available_spaceships = os.listdir(SPACESHIPS_DIR)[1:]\n",
    "\n",
    "\n",
    "def parse_stats():\n",
    "    for s in tqdm(available_spaceships, desc='Analyzing spaceships...'):\n",
    "        bp = os.path.join(SPACESHIPS_DIR, s)\n",
    "        try:\n",
    "            root = ET.parse(bp).getroot()\n",
    "            structure = convert_xml_to_structure(root_node=root)\n",
    "            structure.sanify()\n",
    "\n",
    "            functional_blocks_volume, filled_volume = 0., 0.\n",
    "            for b in structure.get_all_blocks():\n",
    "                if not b.block_type.startswith('MyObjectBuilder_CubeBlock_'):\n",
    "                    functional_blocks_volume += b.volume\n",
    "                filled_volume += b.volume\n",
    "\n",
    "            total_volume = structure.as_array().shape\n",
    "            total_volume = total_volume[0] * total_volume[1] * total_volume[2]\n",
    "\n",
    "            fuots.append(functional_blocks_volume / (functional_blocks_volume + filled_volume))\n",
    "            fiots.append((functional_blocks_volume + filled_volume) / total_volume)\n",
    "            volumes.append(functional_blocks_volume + filled_volume)\n",
    "\n",
    "            total_volume = structure.as_array().shape\n",
    "            largest_axis, medium_axis, smallest_axis = reversed(sorted(list(total_volume)))\n",
    "            lom.append(largest_axis / medium_axis)\n",
    "            los.append(largest_axis / smallest_axis)\n",
    "        except Exception:\n",
    "            pass"
   ]
  },
  {
   "cell_type": "code",
   "execution_count": null,
   "id": "6f6411ba-7782-4167-b3a3-6d3fc21fed46",
   "metadata": {
    "tags": []
   },
   "outputs": [],
   "source": [
    "if not os.path.exists('spaceships_stats.json') or RUN_ANALYSIS:\n",
    "    parse_stats()\n",
    "    with open('spaceships_stats.json', 'w') as f:\n",
    "        json.dump({\n",
    "            'volumes': volumes,\n",
    "            'fuots': fuots,\n",
    "            'fiots': fiots,\n",
    "            'lom': lom,\n",
    "            'los': los\n",
    "        }, f)\n",
    "else:\n",
    "    with open('spaceships_stats.json', 'r') as f:\n",
    "        spaceships_stats = json.load(f)\n",
    "        fuots = spaceships_stats['fuots']\n",
    "        fiots = spaceships_stats['fiots']\n",
    "        volumes = spaceships_stats['volumes']\n",
    "        lom = spaceships_stats['lom']\n",
    "        los = spaceships_stats['los']"
   ]
  },
  {
   "cell_type": "code",
   "execution_count": null,
   "id": "5c7d4bae-1eb2-481a-8a7c-dda26a77e360",
   "metadata": {
    "tags": []
   },
   "outputs": [],
   "source": [
    "N_BINS = int(np.ceil(len(volumes) / 3))\n",
    "VOLUME_CUTOFF = 1e6\n",
    "COLOR_BINS = '#4CD7D0'\n",
    "COLOR_LINE = '#2D807B'"
   ]
  },
  {
   "cell_type": "code",
   "execution_count": null,
   "id": "4ff15e61-194f-40b8-b26f-c79d8fc46721",
   "metadata": {
    "tags": []
   },
   "outputs": [],
   "source": [
    "import matplotlib.pyplot as plt\n",
    "\n",
    "SMALL_SIZE = 8\n",
    "MEDIUM_SIZE = 12\n",
    "BIGGER_SIZE = 20\n",
    "\n",
    "plt.rc('font', size=SMALL_SIZE)          # controls default text sizes\n",
    "plt.rc('axes', titlesize=BIGGER_SIZE)     # fontsize of the axes title\n",
    "plt.rc('axes', labelsize=MEDIUM_SIZE)    # fontsize of the x and y labels\n",
    "plt.rc('xtick', labelsize=SMALL_SIZE)    # fontsize of the tick labels\n",
    "plt.rc('ytick', labelsize=SMALL_SIZE)    # fontsize of the tick labels\n",
    "plt.rc('legend', fontsize=SMALL_SIZE)    # legend fontsize\n",
    "plt.rc('figure', titlesize=BIGGER_SIZE)  # fontsize of the figure title"
   ]
  },
  {
   "cell_type": "code",
   "execution_count": null,
   "id": "6d9a6921-46d6-4a9c-a89e-78e0af6fff27",
   "metadata": {
    "tags": []
   },
   "outputs": [],
   "source": [
    "to_plot = [v for v in volumes if v <= VOLUME_CUTOFF]\n",
    "diff = 100 * len(to_plot) / len(volumes)\n",
    "plt.hist(to_plot, bins=N_BINS, fc=COLOR_BINS)\n",
    "# plt.title(f'Total volume $\\\\leq${VOLUME_CUTOFF:.2e} ({len(to_plot)} points, {np.round(diff, 2)}% of dataset)')\n",
    "plt.title('Volume distribution')\n",
    "plt.ylabel('# occurrences')\n",
    "plt.xlabel('Volume')\n",
    "plt.autoscale(enable=True, axis='x', tight=True)\n",
    "plt.savefig('results/stats/stats-volume.png', transparent=True)\n",
    "plt.show()"
   ]
  },
  {
   "cell_type": "code",
   "execution_count": null,
   "id": "c9af5ea0-2027-4322-8f46-6585701314e7",
   "metadata": {
    "tags": []
   },
   "outputs": [],
   "source": [
    "from sklearn.neighbors import KernelDensity\n",
    "\n",
    "to_analyze = [f for f, v in zip(fuots, volumes) if v <= VOLUME_CUTOFF]\n",
    "mean, std = np.mean(to_analyze), np.std(to_analyze)\n",
    "x = np.linspace(min(to_analyze), max(to_analyze), N_BINS)\n",
    "gkde = stats.gaussian_kde(to_analyze)\n",
    "estimated = gkde.evaluate(x)\n",
    "\n",
    "with open('estimators/futo.pkl', 'wb') as f:\n",
    "    pickle.dump(gkde, f)\n",
    "\n",
    "plt.hist(to_analyze, bins=N_BINS, fc=COLOR_BINS, density=True)\n",
    "plt.plot(x, estimated, c=COLOR_LINE, lw=2)\n",
    "plt.fill_between(x, 0, estimated, color=COLOR_LINE, alpha=0.8)\n",
    "# plt.title(f'Functional blocks / total blocks ($\\\\mu=${np.round(mean, 2)}, $\\\\sigma=${np.round(std, 2)})')\n",
    "plt.title('Functional blocks / total blocks')\n",
    "plt.ylabel('Density')\n",
    "plt.xlabel('Proportion')\n",
    "plt.autoscale(enable=True, axis='x', tight=True)\n",
    "plt.tight_layout()\n",
    "plt.savefig('results/stats/stats-futo.png', transparent=True, bbox_inches='tight')\n",
    "plt.show()"
   ]
  },
  {
   "cell_type": "code",
   "execution_count": null,
   "id": "b232389a-630f-4c79-ad03-d3ac211074a4",
   "metadata": {
    "tags": []
   },
   "outputs": [],
   "source": [
    "to_analyze = [f for f, v in zip(fiots, volumes) if v <= VOLUME_CUTOFF]\n",
    "mean, std = np.mean(to_analyze), np.std(to_analyze)\n",
    "x = np.linspace(min(to_analyze), max(to_analyze), N_BINS)\n",
    "gkde = stats.gaussian_kde(to_analyze)\n",
    "estimated = gkde.evaluate(x)\n",
    "\n",
    "with open('estimators/tovo.pkl', 'wb') as f:\n",
    "    pickle.dump(gkde, f)\n",
    "\n",
    "plt.hist(to_analyze, bins=N_BINS, fc=COLOR_BINS, density=True)\n",
    "plt.plot(x, estimated, c=COLOR_LINE, lw=2)\n",
    "plt.fill_between(x, 0, estimated, color=COLOR_LINE, alpha=0.8)\n",
    "# plt.title(f'Filled volume / total volume ($\\\\mu=${np.round(mean, 2)}, $\\\\sigma=${np.round(std, 2)})')\n",
    "plt.title('Filled volume / total volume')\n",
    "plt.ylabel('Density')\n",
    "plt.xlabel('Proportion')\n",
    "plt.autoscale(enable=True, axis='x', tight=True)\n",
    "plt.tight_layout()\n",
    "plt.savefig('results/stats/stats-tovo.png', transparent=True, bbox_inches='tight')\n",
    "plt.show()"
   ]
  },
  {
   "cell_type": "code",
   "execution_count": null,
   "id": "9748aee6-1a80-427c-bd7b-da88f8bb035c",
   "metadata": {
    "tags": []
   },
   "outputs": [],
   "source": [
    "to_analyze = [f for f, v in zip(lom, volumes) if v <= VOLUME_CUTOFF]\n",
    "mean, std = np.mean(to_analyze), np.std(to_analyze)\n",
    "x = np.linspace(min(to_analyze), max(to_analyze), N_BINS)\n",
    "gkde = stats.gaussian_kde(to_analyze)\n",
    "estimated = gkde.evaluate(x)\n",
    "\n",
    "with open('estimators/mame.pkl', 'wb') as f:\n",
    "    pickle.dump(gkde, f)\n",
    "\n",
    "plt.hist(to_analyze, bins=N_BINS, fc=COLOR_BINS, density=True)\n",
    "plt.plot(x, estimated, c=COLOR_LINE, lw=2)\n",
    "plt.fill_between(x, 0, estimated, color=COLOR_LINE, alpha=0.8)\n",
    "# plt.title(f'Largest axis / Medium axis ($\\\\mu=${np.round(mean, 2)}, $\\\\sigma=${np.round(std, 2)})')\n",
    "plt.title('Largest axis / Medium axis')\n",
    "plt.ylabel('Density')\n",
    "plt.xlabel('Proportion')\n",
    "plt.autoscale(enable=True, axis='x', tight=True)\n",
    "plt.tight_layout()\n",
    "plt.savefig('results/stats/stats-mame.png', transparent=True, bbox_inches='tight')\n",
    "plt.show()"
   ]
  },
  {
   "cell_type": "code",
   "execution_count": null,
   "id": "f96146cd-42a8-4c75-ba60-9d737171f9ac",
   "metadata": {
    "tags": []
   },
   "outputs": [],
   "source": [
    "to_analyze = [f for f, v in zip(los, volumes) if v <= VOLUME_CUTOFF]\n",
    "mean, std = np.mean(to_analyze), np.std(to_analyze)\n",
    "x = np.linspace(min(to_analyze), max(to_analyze), N_BINS)\n",
    "gkde = stats.gaussian_kde(to_analyze)\n",
    "estimated = gkde.evaluate(x)\n",
    "\n",
    "with open('estimators/mami.pkl', 'wb') as f:\n",
    "    pickle.dump(gkde, f)\n",
    "\n",
    "plt.hist(to_analyze, bins=N_BINS, fc=COLOR_BINS, density=True)\n",
    "plt.plot(x, estimated, c=COLOR_LINE, lw=2)\n",
    "plt.fill_between(x, 0, estimated, color=COLOR_LINE, alpha=0.8)\n",
    "# plt.title(f'Largest axis / Smallest axis ($\\\\mu=${np.round(mean, 2)}, $\\\\sigma=${np.round(std, 2)})')\n",
    "plt.title('Largest axis / Smallest axis')\n",
    "plt.ylabel('Density')\n",
    "plt.xlabel('Proportion')\n",
    "plt.autoscale(enable=True, axis='x', tight=True)\n",
    "plt.tight_layout()\n",
    "plt.savefig('results/stats/stats-mami.png', transparent=True, bbox_inches='tight')\n",
    "plt.show()"
   ]
  },
  {
   "cell_type": "code",
   "execution_count": null,
   "id": "d35ef187-08ea-4252-9d1f-c0a969b95dd1",
   "metadata": {},
   "outputs": [],
   "source": []
  }
 ],
 "metadata": {
  "kernelspec": {
   "display_name": "Python 3 (ipykernel)",
   "language": "python",
   "name": "python3"
  },
  "language_info": {
   "codemirror_mode": {
    "name": "ipython",
    "version": 3
   },
   "file_extension": ".py",
   "mimetype": "text/x-python",
   "name": "python",
   "nbconvert_exporter": "python",
   "pygments_lexer": "ipython3",
   "version": "3.8.12"
  }
 },
 "nbformat": 4,
 "nbformat_minor": 5
}
