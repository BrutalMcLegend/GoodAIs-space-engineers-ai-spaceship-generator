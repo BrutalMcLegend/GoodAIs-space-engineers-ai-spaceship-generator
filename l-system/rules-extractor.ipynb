{
 "cells": [
  {
   "cell_type": "markdown",
   "id": "78ff2dd3-6a8a-4472-8007-cc9b95bf1351",
   "metadata": {},
   "source": [
    "# Rules extractor\n",
    "\n",
    "Use this notebook to extract low-level rules from the game (ie: create low level tiles)."
   ]
  },
  {
   "cell_type": "code",
   "execution_count": null,
   "id": "eed5969b-1667-4b96-b397-493617928546",
   "metadata": {
    "tags": []
   },
   "outputs": [],
   "source": [
    "import numpy as np\n",
    "import os\n",
    "import xml.etree.ElementTree as ET\n",
    "\n",
    "from pcgsepy.common.vecs import Orientation, orientation_from_vec, Vec\n",
    "from pcgsepy.xml_conversion import convert_xml_to_structure"
   ]
  },
  {
   "cell_type": "code",
   "execution_count": null,
   "id": "404419b4-821e-4306-a3ac-43fbd0fafc43",
   "metadata": {
    "tags": []
   },
   "outputs": [],
   "source": [
    "BLUEPRINTS_DIR = 'tileset'"
   ]
  },
  {
   "cell_type": "code",
   "execution_count": null,
   "id": "5d78f751-c1a9-4a2f-9682-595433d5d17e",
   "metadata": {
    "tags": []
   },
   "outputs": [],
   "source": [
    "# quick way to load all available rules\n",
    "if False:\n",
    "    from pcgsepy.xml_conversion import extract_rule\n",
    "    available_tiles = os.listdir(BLUEPRINTS_DIR)[11:]\n",
    "    for tile in available_tiles:\n",
    "        rule, dims = extract_rule(bp_dir=os.path.join(BLUEPRINTS_DIR, tile))\n",
    "        print(f'----\\n{tile} 1 {rule}')\n",
    "        print({\n",
    "            tile: {\n",
    "                'dimensions': [dims[0], dims[1], dims[2]],\n",
    "                'offset': 5\n",
    "            }\n",
    "        })"
   ]
  },
  {
   "cell_type": "code",
   "execution_count": null,
   "id": "2a28b63c-7854-4047-b00d-2939c5859e2f",
   "metadata": {
    "tags": []
   },
   "outputs": [],
   "source": [
    "available_tiles = os.listdir(BLUEPRINTS_DIR)\n",
    "\n",
    "print('Available tiles:')\n",
    "for i, tile in enumerate(available_tiles):\n",
    "    print(f\"  {i+1}. {tile}\")\n",
    "t = int(input('Choose which tile to process (number): ')) - 1\n",
    "assert t > -1 and t < len(available_tiles), f'Invalid tile index: {t}'\n",
    "rule_name = input(\"Enter name of tile (leave blank to use folder's): \")\n",
    "rule_name = rule_name if rule_name else available_tiles[t]"
   ]
  },
  {
   "cell_type": "code",
   "execution_count": null,
   "id": "c1d7f76f-9c47-486e-b698-525b3c6fc97d",
   "metadata": {
    "tags": []
   },
   "outputs": [],
   "source": [
    "blueprint_directory = os.path.join(BLUEPRINTS_DIR, available_tiles[t])\n",
    "bp = os.path.join(blueprint_directory, 'bp.sbc')\n",
    "\n",
    "root = ET.parse(bp).getroot()\n",
    "structure = convert_xml_to_structure(root_node=root)\n",
    "structure.sanify()\n",
    "\n",
    "structure.show(available_tiles[t])\n",
    "\n",
    "blocks = structure.get_all_blocks()"
   ]
  },
  {
   "cell_type": "code",
   "execution_count": null,
   "id": "490790d6-d19f-484e-b18a-bea2ad15cf22",
   "metadata": {
    "tags": []
   },
   "outputs": [],
   "source": [
    "import matplotlib.pyplot as plt\n",
    "\n",
    "plottable = structure.as_array()\n",
    "arr = np.nonzero(plottable)\n",
    "x, y, z = arr\n",
    "cs = [plottable[i, j, k] for i, j, k in zip(x, y, z)]\n",
    "\n",
    "for vs, ls in zip([(x, y), (x, z), (y, z)],\n",
    "                  [(\"$\\\\vec{x}$\", \"$\\\\vec{y}$\"),\n",
    "                   (\"$\\\\vec{x}$\", \"$\\\\vec{z}$\"),\n",
    "                   (\"$\\\\vec{y}$\", \"$\\\\vec{z}$\")]):\n",
    "    ax = plt.axes()\n",
    "    scatter = ax.scatter(vs[0], vs[1], c=cs, cmap='jet', linewidth=0.1)\n",
    "    legend = scatter.legend_elements()\n",
    "    for i, v in zip(range(len(legend[1])),\n",
    "                    np.unique(plottable[arr])):\n",
    "        legend[1][i] = structure.ks[v - 1]\n",
    "    ax.legend(*legend,\n",
    "              bbox_to_anchor=(1.2, 1),\n",
    "              loc=\"upper left\",\n",
    "              title=\"Block types\")\n",
    "    axis_limit = max(plottable.shape)\n",
    "    ax.set_xlim(-1, axis_limit)\n",
    "    ax.set_ylim(-1, axis_limit)\n",
    "    ax.set_xlabel(ls[0])\n",
    "    ax.set_ylabel(ls[1])\n",
    "    plt.title(available_tiles[t])\n",
    "    plt.show()"
   ]
  },
  {
   "cell_type": "code",
   "execution_count": null,
   "id": "e140b07d-0632-4235-9152-08b87d960503",
   "metadata": {
    "tags": []
   },
   "outputs": [],
   "source": [
    "offset_x = int(input('Enter offset along X: '))\n",
    "assert offset_x > -1, f'Invalid offset: {offset_x}'\n",
    "offset_y = int(input('Enter offset along Y: '))\n",
    "assert offset_y > -1, f'Invalid offset: {offset_y}'\n",
    "offset_z = int(input('Enter offset along Z: '))\n",
    "assert offset_z > -1, f'Invalid offset: {offset_z}'"
   ]
  },
  {
   "cell_type": "code",
   "execution_count": null,
   "id": "05e64fcc-42f1-4925-934c-d0df71cd84a8",
   "metadata": {
    "tags": []
   },
   "outputs": [],
   "source": [
    "blocks"
   ]
  },
  {
   "cell_type": "code",
   "execution_count": null,
   "id": "c7721600-de1d-453f-9d59-23cd8a08640d",
   "metadata": {
    "tags": []
   },
   "outputs": [],
   "source": [
    "max_x, max_y, max_z = 0., 0., 0.\n",
    "\n",
    "for block in blocks:\n",
    "    x, y, z = block.position.as_tuple()\n",
    "    if x > max_x:\n",
    "        max_x = x\n",
    "    if y > max_y:\n",
    "        max_y = y\n",
    "    if z > max_z:\n",
    "        max_z = z"
   ]
  },
  {
   "cell_type": "code",
   "execution_count": null,
   "id": "ce4c1440-b382-4739-97b3-09e7a6610948",
   "metadata": {
    "tags": []
   },
   "outputs": [],
   "source": [
    "min_x, min_y, min_z = max_x, max_y, max_z\n",
    "\n",
    "for block in blocks:\n",
    "    x, y, z = block.position.as_tuple()\n",
    "    if x < min_x:\n",
    "        min_x = x\n",
    "    if y < min_y:\n",
    "        min_y = y\n",
    "    if z < min_z:\n",
    "        min_z = z"
   ]
  },
  {
   "cell_type": "code",
   "execution_count": null,
   "id": "f0747073-ade2-45d2-981d-eee59757e17c",
   "metadata": {
    "tags": []
   },
   "outputs": [],
   "source": [
    "for block in blocks:\n",
    "    new_p = block.position.sum(Vec.v3f(-min_x, -min_y, -min_z))\n",
    "    block.position = Vec.v3f(x=np.round(new_p.x, 1),\n",
    "                             y=np.round(new_p.y, 1),\n",
    "                             z=np.round(new_p.z, 1))"
   ]
  },
  {
   "cell_type": "code",
   "execution_count": null,
   "id": "4bed94c7-819d-43f6-bc4f-1e8247ee1132",
   "metadata": {
    "tags": []
   },
   "outputs": [],
   "source": [
    "max_x -= min_x\n",
    "max_y -= min_y\n",
    "max_z -= min_z"
   ]
  },
  {
   "cell_type": "code",
   "execution_count": null,
   "id": "bd169825-a886-47c4-a11d-87e241e4cb93",
   "metadata": {
    "tags": []
   },
   "outputs": [],
   "source": [
    "def at_same_x(x, blocks):\n",
    "    r = []\n",
    "    for b in blocks:\n",
    "        if b.position.x == x:\n",
    "            r.append(b)\n",
    "    return r\n",
    "\n",
    "\n",
    "def at_same_y(y, blocks):\n",
    "    r = []\n",
    "    for b in blocks:\n",
    "        if b.position.y == y:\n",
    "            r.append(b)\n",
    "    return r\n",
    "\n",
    "\n",
    "def at_same_z(z, blocks):\n",
    "    r = []\n",
    "    for b in blocks:\n",
    "        if b.position.z == z:\n",
    "            r.append(b)\n",
    "    return r"
   ]
  },
  {
   "cell_type": "code",
   "execution_count": null,
   "id": "132e89a2-74b9-4e55-adfa-6be9727b5592",
   "metadata": {
    "tags": []
   },
   "outputs": [],
   "source": [
    "ordered_blocks = []\n",
    "x, y, z = 0., 0., 0.\n",
    "while z <= max_z:\n",
    "    bs1 = at_same_z(z, blocks)\n",
    "    while y <= max_y:\n",
    "        bs2 = at_same_y(y, bs1)\n",
    "        while x <= max_x:\n",
    "            b = at_same_x(x, bs2)\n",
    "            if b:\n",
    "                ordered_blocks.append(b[0])\n",
    "            x += 0.5\n",
    "        x = 0.\n",
    "        y += 0.5\n",
    "    x = 0.\n",
    "    y = 0.\n",
    "    z += 0.5"
   ]
  },
  {
   "cell_type": "code",
   "execution_count": null,
   "id": "1853eca1-3978-4b49-886c-9039fe333654",
   "metadata": {
    "tags": []
   },
   "outputs": [],
   "source": [
    "orientations_str = {\n",
    "    Orientation.FORWARD: 'F',\n",
    "    Orientation.BACKWARD: 'B',\n",
    "    Orientation.RIGHT: 'R',\n",
    "    Orientation.LEFT: 'L',\n",
    "    Orientation.UP: 'U',\n",
    "    Orientation.DOWN: 'D',\n",
    "}"
   ]
  },
  {
   "cell_type": "code",
   "execution_count": null,
   "id": "b543a400-8b3e-4ed7-b0f7-86aebe70e9c1",
   "metadata": {
    "tags": []
   },
   "outputs": [],
   "source": [
    "rule = ''\n",
    "\n",
    "if offset_x != 0:\n",
    "    rule += f'{\"+\" if offset_x > 0 else \"-\"}({abs(offset_x)})'\n",
    "if offset_y != 0:\n",
    "    rule += f'{\"!\" if offset_x > 0 else \"?\"}({abs(offset_y)})'\n",
    "if offset_z > 0:\n",
    "    rule += f'{\"<\" if offset_x > 0 else \">\"}({abs(offset_z)})'\n",
    "\n",
    "x, y, z = 0., 0., 0.\n",
    "for block in ordered_blocks:\n",
    "    if block.position.z != z:\n",
    "        if block.position.z > z:\n",
    "            dz = block.position.z - z\n",
    "            rule += f'<({int(dz // 0.5)})'\n",
    "            z = block.position.z\n",
    "        else:\n",
    "            dz = z - block.position.z\n",
    "            rule += f'>({int(dz // 0.5)})'\n",
    "            z = block.position.z\n",
    "    if block.position.y != y:\n",
    "        if block.position.y > y:\n",
    "            dy = block.position.y - y\n",
    "            rule += f'!({int(dy // 0.5)})'\n",
    "            y = block.position.y\n",
    "        else:\n",
    "            dy = y - block.position.y\n",
    "            rule += f'?({int(dy // 0.5)})'\n",
    "            y = block.position.y\n",
    "    if block.position.x != x:\n",
    "        if block.position.x > x:\n",
    "            dx = block.position.x - x\n",
    "            rule += f'+({int(dx // 0.5)})'\n",
    "            x = block.position.x\n",
    "        else:\n",
    "            dx = x - block.position.x\n",
    "            rule += f'-({int(dx // 0.5)})'\n",
    "            x = block.position.x\n",
    "    of = orientations_str[orientation_from_vec(block.orientation_forward)]\n",
    "    ou = orientations_str[orientation_from_vec(block.orientation_up)]\n",
    "    rule += f'{block.block_type}({of},{ou})'\n",
    "\n",
    "if x != 0.:\n",
    "    if x > 0.:\n",
    "        rule += f'-({int(x // 0.5)})'\n",
    "    if x < 0.:\n",
    "        rule += f'+({int(-x // 0.5)})'\n",
    "if y != 0.:\n",
    "    if y > 0.:\n",
    "        rule += f'?({int(y // 0.5)})'\n",
    "    if y < 0.:\n",
    "        rule += f'!({int(-y // 0.5)})'\n",
    "if z != 0.:\n",
    "    if z > 0.:\n",
    "        rule += f'>({int(z // 0.5)})'\n",
    "    if z < 0.:\n",
    "        rule += f'<({int(-z // 0.5)})'\n",
    "\n",
    "if offset_x != 0:\n",
    "    rule += f'{\"-\" if offset_x > 0 else \"+\"}({abs(offset_x)})'\n",
    "if offset_y != 0:\n",
    "    rule += f'{\"?\" if offset_x > 0 else \"!\"}({abs(offset_y)})'\n",
    "if offset_z > 0:\n",
    "    rule += f'{\">\" if offset_x > 0 else \"<\"}({abs(offset_z)})'"
   ]
  },
  {
   "cell_type": "code",
   "execution_count": null,
   "id": "319bf675-494c-4131-81a6-d6411d3c60ba",
   "metadata": {
    "tags": []
   },
   "outputs": [],
   "source": [
    "print(f'RULE: {rule_name}')\n",
    "print(rule)\n",
    "x, y, z = structure._max_dims\n",
    "print(f'\\nTILE DIMENSIONS: {x+5, y+5, z+5}')"
   ]
  }
 ],
 "metadata": {
  "kernelspec": {
   "display_name": "Python 3 (ipykernel)",
   "language": "python",
   "name": "python3"
  },
  "language_info": {
   "codemirror_mode": {
    "name": "ipython",
    "version": 3
   },
   "file_extension": ".py",
   "mimetype": "text/x-python",
   "name": "python",
   "nbconvert_exporter": "python",
   "pygments_lexer": "ipython3",
   "version": "3.8.12"
  }
 },
 "nbformat": 4,
 "nbformat_minor": 5
}
