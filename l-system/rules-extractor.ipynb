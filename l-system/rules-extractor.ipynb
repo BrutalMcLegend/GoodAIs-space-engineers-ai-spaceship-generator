{
 "cells": [
  {
   "cell_type": "markdown",
   "id": "78ff2dd3-6a8a-4472-8007-cc9b95bf1351",
   "metadata": {},
   "source": [
    "# Rules extractor\n",
    "\n",
    "Use this notebook to extract low-level rules from the game (ie: create low level tiles)."
   ]
  },
  {
   "cell_type": "code",
   "execution_count": null,
   "id": "eed5969b-1667-4b96-b397-493617928546",
   "metadata": {
    "tags": []
   },
   "outputs": [],
   "source": [
    "import numpy as np\n",
    "import os\n",
    "import xml.etree.ElementTree as ET\n",
    "\n",
    "from pcgsepy.common.vecs import Orientation, orientation_from_vec, Vec\n",
    "from pcgsepy.xml_conversion import convert_xml_to_structure\n",
    "from pcgsepy.xml_conversion import extract_rule"
   ]
  },
  {
   "cell_type": "code",
   "execution_count": null,
   "id": "404419b4-821e-4306-a3ac-43fbd0fafc43",
   "metadata": {
    "tags": []
   },
   "outputs": [],
   "source": [
    "BLUEPRINTS_DIR = 'tileset'\n",
    "EXTRACT_ALL = False\n",
    "\n",
    "\n",
    "available_tiles = os.listdir(BLUEPRINTS_DIR)"
   ]
  },
  {
   "cell_type": "code",
   "execution_count": null,
   "id": "5d78f751-c1a9-4a2f-9682-595433d5d17e",
   "metadata": {
    "tags": []
   },
   "outputs": [],
   "source": [
    "if EXTRACT_ALL:\n",
    "    for tile in available_tiles:\n",
    "        rule, dims = extract_rule(bp_dir=os.path.join(BLUEPRINTS_DIR, tile))\n",
    "        print(f'----\\n{tile} 1 {rule}')\n",
    "        print({\n",
    "            tile: {\n",
    "                'dimensions': [dims[0], dims[1], dims[2]],\n",
    "                'offset': 5\n",
    "            }\n",
    "        })\n",
    "else:\n",
    "    print('Available tiles:')\n",
    "    for i, tile in enumerate(available_tiles):\n",
    "        print(f\"  {i+1}. {tile}\")\n",
    "    t = int(input('Choose which tile to process (number): ')) - 1\n",
    "    assert t > -1 and t < len(available_tiles), f'Invalid tile index: {t}'\n",
    "    rule_name = input(\"Enter name of tile (leave blank to use folder's): \")\n",
    "    rule_name = rule_name if rule_name else available_tiles[t]\n",
    "    blueprint_directory = os.path.join(BLUEPRINTS_DIR, available_tiles[t])\n",
    "    rule, dims = extract_rule(bp_dir=blueprint_directory, title=rule_name)\n",
    "    print(f'RULE: {rule_name}')\n",
    "    print(rule)\n",
    "    print(f'\\nTILE DIMENSIONS: {dims}')"
   ]
  }
 ],
 "metadata": {
  "kernelspec": {
   "display_name": "Python 3.8.13 ('pcg')",
   "language": "python",
   "name": "python3"
  },
  "language_info": {
   "codemirror_mode": {
    "name": "ipython",
    "version": 3
   },
   "file_extension": ".py",
   "mimetype": "text/x-python",
   "name": "python",
   "nbconvert_exporter": "python",
   "pygments_lexer": "ipython3",
   "version": "3.8.13"
  },
  "vscode": {
   "interpreter": {
    "hash": "baec60536c6749885c57d3beb549b4412d50c1c1ea218f0ac711a9872f2242c3"
   }
  }
 },
 "nbformat": 4,
 "nbformat_minor": 5
}
