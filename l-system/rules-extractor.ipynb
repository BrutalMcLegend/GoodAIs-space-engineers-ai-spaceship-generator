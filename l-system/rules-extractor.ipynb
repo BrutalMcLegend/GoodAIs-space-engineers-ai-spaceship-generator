{
 "cells": [
  {
   "cell_type": "markdown",
   "id": "78ff2dd3-6a8a-4472-8007-cc9b95bf1351",
   "metadata": {},
   "source": [
    "# Rules extractor\n",
    "\n",
    "Use this notebook to extract low-level rules from the game (ie: create low level tiles)."
   ]
  },
  {
   "cell_type": "code",
   "execution_count": null,
   "id": "eed5969b-1667-4b96-b397-493617928546",
   "metadata": {},
   "outputs": [],
   "source": [
    "from pcgsepy.common.api_call import call_api, generate_json\n",
    "from pcgsepy.common.vecs import Orientation, orientation_from_vec, Vec\n",
    "from pcgsepy.structure import Block"
   ]
  },
  {
   "cell_type": "code",
   "execution_count": null,
   "id": "ee819008-fcf1-4cf4-bca8-388f2988e9b0",
   "metadata": {},
   "outputs": [],
   "source": [
    "obs = call_api(jsons=[\n",
    "    generate_json(method=\"Observer.ObserveBlocks\")\n",
    "    ])[0]"
   ]
  },
  {
   "cell_type": "code",
   "execution_count": null,
   "id": "03f7c880-1a21-4d78-8fb3-d10bd3f76c1a",
   "metadata": {},
   "outputs": [],
   "source": [
    "grids = obs['result']['Grids']"
   ]
  },
  {
   "cell_type": "code",
   "execution_count": null,
   "id": "a054f0a6-cdd6-4aed-a012-5f0547698dcc",
   "metadata": {},
   "outputs": [],
   "source": [
    "print(f'Found {len(grids)} grids of blocks:')\n",
    "for i, grid in enumerate(grids):\n",
    "    print(f\"  {i+1}. Grid containing {len(grid['Blocks'])} blocks\")\n",
    "grid = int(input('Choose which grid to process (number): ')) - 1\n",
    "assert grid > -1 and grid < len(grids), f'Invalid grid index: {grid}'\n",
    "rule_name = input('Enter name of tile: ')"
   ]
  },
  {
   "cell_type": "code",
   "execution_count": null,
   "id": "2a843ffc-f022-46d6-8f1d-f5cb82b07911",
   "metadata": {
    "tags": []
   },
   "outputs": [],
   "source": [
    "grid = grids[grid]\n",
    "blocks = []\n",
    "for block in grid['Blocks']:\n",
    "    block_type = block['DefinitionId']['Type']\n",
    "    orientation_forward = orientation_from_vec(Vec.from_json(j=block['OrientationForward']))\n",
    "    orientation_up = orientation_from_vec(Vec.from_json(j=block['OrientationUp']))\n",
    "    position = block['Position']\n",
    "    ds_block = Block(block_type=block_type,\n",
    "                     orientation_forward=orientation_forward,\n",
    "                     orientation_up=orientation_up)\n",
    "    ds_block.position = Vec.from_json(j=position)\n",
    "    blocks.append(ds_block)"
   ]
  },
  {
   "cell_type": "code",
   "execution_count": null,
   "id": "c7721600-de1d-453f-9d59-23cd8a08640d",
   "metadata": {
    "tags": []
   },
   "outputs": [],
   "source": [
    "max_x, max_y, max_z = 0., 0., 0.\n",
    "\n",
    "for block in blocks:\n",
    "    x, y, z = block.position.as_tuple()\n",
    "    if x > max_x:\n",
    "        max_x = x\n",
    "    if y > max_y:\n",
    "        max_y = y\n",
    "    if z > max_z:\n",
    "        max_z = z"
   ]
  },
  {
   "cell_type": "code",
   "execution_count": null,
   "id": "ce4c1440-b382-4739-97b3-09e7a6610948",
   "metadata": {
    "tags": []
   },
   "outputs": [],
   "source": [
    "min_x, min_y, min_z = max_x, max_y, max_z\n",
    "\n",
    "for block in blocks:\n",
    "    x, y, z = block.position.as_tuple()\n",
    "    if x < min_x:\n",
    "        min_x = x\n",
    "    if y < min_y:\n",
    "        min_y = y\n",
    "    if z < min_z:\n",
    "        min_z = z"
   ]
  },
  {
   "cell_type": "code",
   "execution_count": null,
   "id": "f0747073-ade2-45d2-981d-eee59757e17c",
   "metadata": {
    "tags": []
   },
   "outputs": [],
   "source": [
    "for block in blocks:\n",
    "    block.position = block.position.sum(Vec.v3f(-min_x, -min_y, -min_z))"
   ]
  },
  {
   "cell_type": "code",
   "execution_count": null,
   "id": "4bed94c7-819d-43f6-bc4f-1e8247ee1132",
   "metadata": {},
   "outputs": [],
   "source": [
    "max_x -= min_x\n",
    "max_y -= min_y\n",
    "max_z -= min_z"
   ]
  },
  {
   "cell_type": "code",
   "execution_count": null,
   "id": "bd169825-a886-47c4-a11d-87e241e4cb93",
   "metadata": {
    "tags": []
   },
   "outputs": [],
   "source": [
    "def at_same_x(x, blocks):\n",
    "    r = []\n",
    "    for b in blocks:\n",
    "        if b.position.x == x:\n",
    "            r.append(b)\n",
    "    return r\n",
    "\n",
    "\n",
    "def at_same_y(y, blocks):\n",
    "    r = []\n",
    "    for b in blocks:\n",
    "        if b.position.y == y:\n",
    "            r.append(b)\n",
    "    return r\n",
    "\n",
    "\n",
    "def at_same_z(z, blocks):\n",
    "    r = []\n",
    "    for b in blocks:\n",
    "        if b.position.z == z:\n",
    "            r.append(b)\n",
    "    return r"
   ]
  },
  {
   "cell_type": "code",
   "execution_count": null,
   "id": "132e89a2-74b9-4e55-adfa-6be9727b5592",
   "metadata": {
    "tags": []
   },
   "outputs": [],
   "source": [
    "ordered_blocks = []\n",
    "x, y, z = 0., 0., 0.\n",
    "while z <= max_z:\n",
    "    bs1 = at_same_z(z, blocks)\n",
    "    while y <= max_y:\n",
    "        bs2 = at_same_y(y, bs1)\n",
    "        while x <= max_x:\n",
    "            b = at_same_x(x, bs2)\n",
    "            if b:\n",
    "                ordered_blocks.append(b[0])\n",
    "            x += 0.5\n",
    "        x = 0.\n",
    "        y += 0.5\n",
    "    x = 0.\n",
    "    y = 0.\n",
    "    z += 0.5"
   ]
  },
  {
   "cell_type": "code",
   "execution_count": null,
   "id": "1853eca1-3978-4b49-886c-9039fe333654",
   "metadata": {
    "tags": []
   },
   "outputs": [],
   "source": [
    "orientations_str = {\n",
    "    Orientation.FORWARD: 'F',\n",
    "    Orientation.BACKWARD: 'B',\n",
    "    Orientation.RIGHT: 'R',\n",
    "    Orientation.LEFT: 'L',\n",
    "    Orientation.UP: 'U',\n",
    "    Orientation.DOWN: 'D',\n",
    "}"
   ]
  },
  {
   "cell_type": "code",
   "execution_count": null,
   "id": "b543a400-8b3e-4ed7-b0f7-86aebe70e9c1",
   "metadata": {
    "tags": []
   },
   "outputs": [],
   "source": [
    "rule = ''\n",
    "\n",
    "x, y, z = 0., 0., 0.\n",
    "for block in ordered_blocks:\n",
    "    if block.position.z != z:\n",
    "        if block.position.z > z:\n",
    "            dz = block.position.z - z\n",
    "            rule += f'>({int(dz // 0.5)})'\n",
    "            z = block.position.z\n",
    "        else:\n",
    "            dz = z - block.position.z\n",
    "            rule += f'<({int(dz // 0.5)})'\n",
    "            z = block.position.z\n",
    "    if block.position.y != y:\n",
    "        if block.position.y > y:\n",
    "            dy = block.position.y - y\n",
    "            rule += f'!({int(dy // 0.5)})'\n",
    "            y = block.position.y\n",
    "        else:\n",
    "            dy = y - block.position.y\n",
    "            rule += f'?({int(dy // 0.5)})'\n",
    "            y = block.position.y\n",
    "    if block.position.x != x:\n",
    "        if block.position.x > x:\n",
    "            dx = block.position.x - x\n",
    "            rule += f'+({int(dx // 0.5)})'\n",
    "            x = block.position.x\n",
    "        else:\n",
    "            dx = x - block.position.x\n",
    "            rule += f'-({int(dx // 0.5)})'\n",
    "            x = block.position.x\n",
    "    of = orientations_str[orientation_from_vec(block.orientation_forward)]\n",
    "    ou = orientations_str[orientation_from_vec(block.orientation_up)]\n",
    "    rule += f'{block.block_type}({of},{ou})'\n",
    "\n",
    "if x != 0.:\n",
    "    if x > 0.:\n",
    "        rule += f'-({int(x // 0.5)})'\n",
    "    if x < 0.:\n",
    "        rule += f'+({int(-x // 0.5)})'\n",
    "if y != 0.:\n",
    "    if y > 0.:\n",
    "        rule += f'?({int(y // 0.5)})'\n",
    "    if y < 0.:\n",
    "        rule += f'!({int(-y // 0.5)})'\n",
    "if z != 0.:\n",
    "    if z > 0.:\n",
    "        rule += f'<({int(z // 0.5)})'\n",
    "    if z < 0.:\n",
    "        rule += f'>({int(-z // 0.5)})'"
   ]
  },
  {
   "cell_type": "code",
   "execution_count": null,
   "id": "319bf675-494c-4131-81a6-d6411d3c60ba",
   "metadata": {
    "tags": []
   },
   "outputs": [],
   "source": [
    "print(f'RULE: {rule_name}')\n",
    "print(rule)"
   ]
  }
 ],
 "metadata": {
  "kernelspec": {
   "display_name": "Python 3 (ipykernel)",
   "language": "python",
   "name": "python3"
  },
  "language_info": {
   "codemirror_mode": {
    "name": "ipython",
    "version": 3
   },
   "file_extension": ".py",
   "mimetype": "text/x-python",
   "name": "python",
   "nbconvert_exporter": "python",
   "pygments_lexer": "ipython3",
   "version": "3.8.12"
  }
 },
 "nbformat": 4,
 "nbformat_minor": 5
}
