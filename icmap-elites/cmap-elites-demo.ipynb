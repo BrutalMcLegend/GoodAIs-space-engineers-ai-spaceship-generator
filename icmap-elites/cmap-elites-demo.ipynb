{
 "cells": [
  {
   "cell_type": "markdown",
   "id": "649aa1d1-0648-4841-9ede-ab0bd518aeed",
   "metadata": {},
   "source": [
    "# ICMAP-Elites DEMO"
   ]
  },
  {
   "cell_type": "markdown",
   "id": "59780f73",
   "metadata": {},
   "source": [
    "## Imports"
   ]
  },
  {
   "cell_type": "code",
   "execution_count": null,
   "id": "1b9e5b29",
   "metadata": {},
   "outputs": [],
   "source": [
    "from pcgsepy.common.jsonifier import json_dumps, json_loads\n",
    "from pcgsepy.evo.fitness import (Fitness, bounding_box_fitness,\n",
    "                                 box_filling_fitness, func_blocks_fitness,\n",
    "                                 mame_fitness, mami_fitness)\n",
    "from pcgsepy.evo.genops import expander\n",
    "from pcgsepy.nn.estimators import MLPEstimator\n",
    "from pcgsepy.mapelites.behaviors import (BehaviorCharacterization, avg_ma,\n",
    "                                         mame, mami, symmetry)\n",
    "from pcgsepy.mapelites.buffer import Buffer, max_merge, mean_merge, min_merge\n",
    "from pcgsepy.mapelites.emitters import *\n",
    "from pcgsepy.mapelites.map import MAPElites\n",
    "from pcgsepy.guis.main_webapp.webapp import app, set_app_layout, set_callback_props\n",
    "from pcgsepy.setup_utils import get_default_lsystem, setup_matplotlib\n"
   ]
  },
  {
   "cell_type": "markdown",
   "id": "c875cd74",
   "metadata": {},
   "source": [
    "## Settings & L-system initialization"
   ]
  },
  {
   "cell_type": "code",
   "execution_count": null,
   "id": "dd8e126e",
   "metadata": {},
   "outputs": [],
   "source": [
    "load_existing_mapelites = False"
   ]
  },
  {
   "cell_type": "code",
   "execution_count": null,
   "id": "9cd548f4",
   "metadata": {},
   "outputs": [],
   "source": [
    "setup_matplotlib(larger_fonts=False)\n",
    "\n",
    "used_ll_blocks = [\n",
    "    'MyObjectBuilder_CubeBlock_LargeBlockArmorCornerInv',\n",
    "    'MyObjectBuilder_CubeBlock_LargeBlockArmorCorner',\n",
    "    'MyObjectBuilder_CubeBlock_LargeBlockArmorSlope',\n",
    "    'MyObjectBuilder_CubeBlock_LargeBlockArmorBlock',\n",
    "    'MyObjectBuilder_Gyro_LargeBlockGyro',\n",
    "    'MyObjectBuilder_Reactor_LargeBlockSmallGenerator',\n",
    "    'MyObjectBuilder_CargoContainer_LargeBlockSmallContainer',\n",
    "    'MyObjectBuilder_Cockpit_OpenCockpitLarge',\n",
    "    'MyObjectBuilder_Thrust_LargeBlockSmallThrust',\n",
    "    'MyObjectBuilder_InteriorLight_SmallLight',\n",
    "    'MyObjectBuilder_CubeBlock_Window1x1Slope',\n",
    "    'MyObjectBuilder_CubeBlock_Window1x1Flat',\n",
    "    'MyObjectBuilder_InteriorLight_LargeBlockLight_1corner'\n",
    "]\n",
    "\n",
    "lsystem = get_default_lsystem(used_ll_blocks=used_ll_blocks)"
   ]
  },
  {
   "cell_type": "code",
   "execution_count": null,
   "id": "8204871e",
   "metadata": {},
   "outputs": [],
   "source": [
    "expander.initialize(rules=lsystem.hl_solver.parser.rules)"
   ]
  },
  {
   "cell_type": "markdown",
   "id": "d023922f",
   "metadata": {},
   "source": [
    "## CMAP-Elites"
   ]
  },
  {
   "cell_type": "code",
   "execution_count": null,
   "id": "54ce358d-03bb-4ca8-9d88-a021165f8075",
   "metadata": {
    "execution": {
     "iopub.execute_input": "2022-02-22T09:54:44.780391Z",
     "iopub.status.busy": "2022-02-22T09:54:44.780391Z",
     "iopub.status.idle": "2022-02-22T09:54:44.796393Z",
     "shell.execute_reply": "2022-02-22T09:54:44.796393Z",
     "shell.execute_reply.started": "2022-02-22T09:54:44.780391Z"
    },
    "tags": []
   },
   "outputs": [],
   "source": [
    "feasible_fitnesses = [\n",
    "    Fitness(name='BoxFilling',\n",
    "            f=box_filling_fitness,\n",
    "            bounds=(0, 1)),\n",
    "    Fitness(name='FuncionalBlocks',\n",
    "            f=func_blocks_fitness,\n",
    "            bounds=(0, 1)),\n",
    "    Fitness(name='MajorMediumProportions',\n",
    "            f=mame_fitness,\n",
    "            bounds=(0, 1)),\n",
    "    Fitness(name='MajorMinimumProportions',\n",
    "            f=mami_fitness,\n",
    "            bounds=(0, 1))\n",
    "]\n",
    "\n",
    "behavior_descriptors = [\n",
    "    BehaviorCharacterization(name='Major axis / Medium axis',\n",
    "                             func=mame,\n",
    "                             bounds=(0, 10)),\n",
    "    BehaviorCharacterization(name='Major axis / Smallest axis',\n",
    "                             func=mami,\n",
    "                             bounds=(0, 20)),\n",
    "    BehaviorCharacterization(name='Average Proportions',\n",
    "                             func=avg_ma,\n",
    "                             bounds=(0, 20)),\n",
    "    BehaviorCharacterization(name='Symmetry',\n",
    "                             func=symmetry,\n",
    "                             bounds=(0, 1))\n",
    "]\n",
    "\n",
    "behavior_descriptors_names = [x.name for x in behavior_descriptors]"
   ]
  },
  {
   "cell_type": "code",
   "execution_count": null,
   "id": "758e5d2f-92f6-4183-941a-175ec41d23b7",
   "metadata": {
    "execution": {
     "iopub.execute_input": "2022-02-22T09:54:44.828419Z",
     "iopub.status.busy": "2022-02-22T09:54:44.828419Z",
     "iopub.status.idle": "2022-02-22T09:54:45.284522Z",
     "shell.execute_reply": "2022-02-22T09:54:45.284522Z",
     "shell.execute_reply.started": "2022-02-22T09:54:44.828419Z"
    },
    "tags": []
   },
   "outputs": [],
   "source": [
    "filename = 'mapelites_prefmatrix.json'\n",
    "\n",
    "if load_existing_mapelites:\n",
    "    with open(filename, 'r') as f:\n",
    "        mapelites = json_loads(f.read())\n",
    "else:\n",
    "    mapelites = MAPElites(lsystem=lsystem,\n",
    "                          feasible_fitnesses=feasible_fitnesses,\n",
    "                          behavior_descriptors=(behavior_descriptors[0], behavior_descriptors[1]),\n",
    "                          estimator=MLPEstimator(xshape=len(feasible_fitnesses),\n",
    "                                                 yshape=1),\n",
    "                          buffer = Buffer(merge_method=mean_merge),\n",
    "                          emitter=ContextualBanditEmitter(),\n",
    "                          n_bins=(8, 8))\n",
    "    mapelites.emitter.sampling_strategy = 'thompson'\n",
    "    # mapelites.generate_initial_populations()\n",
    "    # with open(filename, 'w') as f:\n",
    "    #     f.write(json_dumps(mapelites))\n"
   ]
  },
  {
   "cell_type": "markdown",
   "id": "98d24139-c933-4f31-9091-16611032a9e0",
   "metadata": {},
   "source": [
    "## Main Webapp"
   ]
  },
  {
   "cell_type": "code",
   "execution_count": null,
   "id": "c517fcbd",
   "metadata": {},
   "outputs": [],
   "source": [
    "set_callback_props(mapelites=mapelites)\n",
    "\n",
    "set_app_layout(behavior_descriptors_names=behavior_descriptors_names,\n",
    "               \n",
    "               mapelites=mapelites,\n",
    "               \n",
    "               dev_mode=True)\n",
    "app.run_server(debug=True, host='127.0.0.1', port = 8080, use_reloader=False)"
   ]
  },
  {
   "cell_type": "markdown",
   "id": "94157e57",
   "metadata": {},
   "source": [
    "# Spaceships comparator"
   ]
  },
  {
   "cell_type": "code",
   "execution_count": null,
   "id": "b7a5bfbc",
   "metadata": {},
   "outputs": [],
   "source": [
    "# from pcgsepy.guis.ships_comparator.webapp import app, set_app_layout\n",
    "\n",
    "# set_app_layout()\n",
    "# app.run_server(debug=False, host='127.0.0.1', port = 8080, use_reloader=False)"
   ]
  },
  {
   "cell_type": "code",
   "execution_count": null,
   "id": "dcdc7745",
   "metadata": {},
   "outputs": [],
   "source": [
    "# filename = '20220719120626_mapelites_human-preference-matrix-emitter_gen03.json'\n",
    "# with open(filename, 'r') as f:\n",
    "#     mapelites = json_loads(f.read())"
   ]
  },
  {
   "cell_type": "code",
   "execution_count": null,
   "id": "6f0e4ab1",
   "metadata": {},
   "outputs": [],
   "source": [
    "# import matplotlib.pyplot as plt\n",
    "\n",
    "# plt.imshow(mapelites.emitter._prefs, origin='lower', cmap='gray')\n",
    "# plt.show()"
   ]
  },
  {
   "cell_type": "code",
   "execution_count": null,
   "id": "3e433780",
   "metadata": {},
   "outputs": [],
   "source": [
    "from tqdm.notebook import trange\n",
    "\n",
    "mapelites = MAPElites(lsystem=lsystem,\n",
    "                    feasible_fitnesses=feasible_fitnesses,\n",
    "                    behavior_descriptors=(behavior_descriptors[0], behavior_descriptors[1]),\n",
    "                    estimator=MLPEstimator(xshape=len(feasible_fitnesses),\n",
    "                                            yshape=1),\n",
    "                    buffer = Buffer(merge_method=mean_merge),\n",
    "                    emitter=RandomEmitter(),\n",
    "                    n_bins=(16, 16))\n",
    "mapelites.allow_aging = False\n",
    "mapelites.allow_res_increase = False\n",
    "\n",
    "mapelites.generate_initial_populations(pops_size=40, n_retries=200)"
   ]
  },
  {
   "cell_type": "code",
   "execution_count": null,
   "id": "e75eee8f",
   "metadata": {},
   "outputs": [],
   "source": [
    "mapelites.show_metric('fitness', show_mean=False, population='feasible')"
   ]
  },
  {
   "cell_type": "code",
   "execution_count": null,
   "id": "f128379a",
   "metadata": {},
   "outputs": [],
   "source": [
    "for gen in trange(100):\n",
    "    mapelites.rand_step(gen)\n",
    "\n",
    "mapelites.show_metric('fitness', show_mean=False, population='feasible')"
   ]
  },
  {
   "cell_type": "code",
   "execution_count": null,
   "id": "bbd3bc69",
   "metadata": {},
   "outputs": [],
   "source": [
    "for gen in trange(100):\n",
    "    mapelites.rand_step(gen)\n",
    "\n",
    "mapelites.show_metric('fitness', show_mean=False, population='feasible')"
   ]
  }
 ],
 "metadata": {
  "interpreter": {
   "hash": "baec60536c6749885c57d3beb549b4412d50c1c1ea218f0ac711a9872f2242c3"
  },
  "kernelspec": {
   "display_name": "Python 3.8.13 ('pcg')",
   "language": "python",
   "name": "python3"
  },
  "language_info": {
   "codemirror_mode": {
    "name": "ipython",
    "version": 3
   },
   "file_extension": ".py",
   "mimetype": "text/x-python",
   "name": "python",
   "nbconvert_exporter": "python",
   "pygments_lexer": "ipython3",
   "version": "3.8.13"
  }
 },
 "nbformat": 4,
 "nbformat_minor": 5
}
