{
 "cells": [
  {
   "cell_type": "markdown",
   "id": "649aa1d1-0648-4841-9ede-ab0bd518aeed",
   "metadata": {},
   "source": [
    "# CMAP-Elites DEMO"
   ]
  },
  {
   "cell_type": "markdown",
   "id": "0d6fe01d-6f83-4027-9e95-b8edcf9e47f5",
   "metadata": {
    "jp-MarkdownHeadingCollapsed": true,
    "tags": []
   },
   "source": [
    "## Imports"
   ]
  },
  {
   "cell_type": "code",
   "execution_count": 1,
   "id": "6a63d0b6-94a2-4ed9-9c9a-8abd761692d7",
   "metadata": {
    "execution": {
     "iopub.execute_input": "2022-02-14T14:51:47.496151Z",
     "iopub.status.busy": "2022-02-14T14:51:47.496151Z",
     "iopub.status.idle": "2022-02-14T14:51:47.521513Z",
     "shell.execute_reply": "2022-02-14T14:51:47.521513Z",
     "shell.execute_reply.started": "2022-02-14T14:51:47.496151Z"
    },
    "tags": []
   },
   "outputs": [],
   "source": [
    "import json"
   ]
  },
  {
   "cell_type": "markdown",
   "id": "ff1aa8ff-4cc8-45a6-a3a4-464576d73737",
   "metadata": {},
   "source": [
    "GECCO-compatible `matplotlib` options:"
   ]
  },
  {
   "cell_type": "code",
   "execution_count": 2,
   "id": "4b7b9ee4-feb0-4d0d-a107-4cd99493b122",
   "metadata": {
    "execution": {
     "iopub.execute_input": "2022-02-14T14:51:47.521513Z",
     "iopub.status.busy": "2022-02-14T14:51:47.521513Z",
     "iopub.status.idle": "2022-02-14T14:51:47.892460Z",
     "shell.execute_reply": "2022-02-14T14:51:47.892460Z",
     "shell.execute_reply.started": "2022-02-14T14:51:47.521513Z"
    },
    "tags": []
   },
   "outputs": [],
   "source": [
    "import matplotlib\n",
    "\n",
    "matplotlib.rcParams['pdf.fonttype'] = 42\n",
    "matplotlib.rcParams['ps.fonttype'] = 42"
   ]
  },
  {
   "cell_type": "markdown",
   "id": "17fbaa1e-1def-4d50-b6c2-bfe368e22234",
   "metadata": {},
   "source": [
    "Import `PCGSEPy` modules:"
   ]
  },
  {
   "cell_type": "code",
   "execution_count": 3,
   "id": "74178d80-9093-4c59-85ce-3d6cdb2fbeb1",
   "metadata": {
    "execution": {
     "iopub.execute_input": "2022-02-14T14:51:47.892460Z",
     "iopub.status.busy": "2022-02-14T14:51:47.892460Z",
     "iopub.status.idle": "2022-02-14T14:51:48.755121Z",
     "shell.execute_reply": "2022-02-14T14:51:48.755121Z",
     "shell.execute_reply.started": "2022-02-14T14:51:47.892460Z"
    },
    "tags": []
   },
   "outputs": [],
   "source": [
    "from pcgsepy.common.vecs import orientation_from_str, Vec \n",
    "from pcgsepy.config import COMMON_ATOMS, HL_ATOMS, N_ITERATIONS, REQ_TILES \n",
    "from pcgsepy.lsystem.rules import RuleMaker\n",
    "from pcgsepy.lsystem.actions import AtomAction, Rotations\n",
    "from pcgsepy.lsystem.parser import HLParser, LLParser\n",
    "from pcgsepy.lsystem.solver import LSolver\n",
    "from pcgsepy.lsystem.constraints import ConstraintHandler, ConstraintLevel, ConstraintTime\n",
    "from pcgsepy.lsystem.constraints_funcs import components_constraint, intersection_constraint, symmetry_constraint, axis_constraint\n",
    "from pcgsepy.lsystem.lsystem import LSystem\n",
    "from pcgsepy.structure import block_definitions\n",
    "from pcgsepy.evo.genops import expander"
   ]
  },
  {
   "cell_type": "markdown",
   "id": "c74744d6-32ab-4d73-a873-968e4a7f58a5",
   "metadata": {
    "jp-MarkdownHeadingCollapsed": true,
    "tags": []
   },
   "source": [
    "## Setup"
   ]
  },
  {
   "cell_type": "code",
   "execution_count": 4,
   "id": "5471baba-1f3e-4796-97ea-5fb863e07999",
   "metadata": {
    "execution": {
     "iopub.execute_input": "2022-02-14T14:51:48.755121Z",
     "iopub.status.busy": "2022-02-14T14:51:48.755121Z",
     "iopub.status.idle": "2022-02-14T14:51:48.765358Z",
     "shell.execute_reply": "2022-02-14T14:51:48.765358Z",
     "shell.execute_reply.started": "2022-02-14T14:51:48.755121Z"
    },
    "tags": []
   },
   "outputs": [],
   "source": [
    "with open(COMMON_ATOMS, \"r\") as f:\n",
    "    common_alphabet = json.load(f)\n",
    "\n",
    "for k in common_alphabet:\n",
    "    action, args = common_alphabet[k][\"action\"], common_alphabet[k][\"args\"]\n",
    "    action = AtomAction(action)\n",
    "    if action == AtomAction.MOVE:\n",
    "        args = orientation_from_str[args]\n",
    "    elif action == AtomAction.ROTATE:\n",
    "        args = Rotations(args)\n",
    "    common_alphabet[k] = {\"action\": action, \"args\": args}"
   ]
  },
  {
   "cell_type": "code",
   "execution_count": 5,
   "id": "6cc5ef87-1d4f-4217-af11-02b400e461c1",
   "metadata": {
    "execution": {
     "iopub.execute_input": "2022-02-14T14:51:48.765358Z",
     "iopub.status.busy": "2022-02-14T14:51:48.765358Z",
     "iopub.status.idle": "2022-02-14T14:51:48.781361Z",
     "shell.execute_reply": "2022-02-14T14:51:48.781361Z",
     "shell.execute_reply.started": "2022-02-14T14:51:48.765358Z"
    },
    "tags": []
   },
   "outputs": [],
   "source": [
    "with open(HL_ATOMS, \"r\") as f:\n",
    "    hl_atoms = json.load(f)\n",
    "\n",
    "tiles_dimensions = {}\n",
    "tiles_block_offset = {}\n",
    "for tile in hl_atoms.keys():\n",
    "    dx, dy, dz = hl_atoms[tile][\"dimensions\"]\n",
    "    tiles_dimensions[tile] = Vec.v3i(dx, dy, dz)\n",
    "    tiles_block_offset[tile] = hl_atoms[tile][\"offset\"]\n",
    "\n",
    "hl_alphabet = {}\n",
    "for k in common_alphabet.keys():\n",
    "    hl_alphabet[k] = common_alphabet[k]\n",
    "\n",
    "for hk in hl_atoms.keys():\n",
    "    hl_alphabet[hk] = {\"action\": AtomAction.PLACE, \"args\": []}"
   ]
  },
  {
   "cell_type": "code",
   "execution_count": 6,
   "id": "25b2c7ae-ee02-4870-abed-dd2d648d160a",
   "metadata": {
    "execution": {
     "iopub.execute_input": "2022-02-14T14:51:48.781361Z",
     "iopub.status.busy": "2022-02-14T14:51:48.781361Z",
     "iopub.status.idle": "2022-02-14T14:51:48.797386Z",
     "shell.execute_reply": "2022-02-14T14:51:48.797386Z",
     "shell.execute_reply.started": "2022-02-14T14:51:48.781361Z"
    },
    "tags": []
   },
   "outputs": [],
   "source": [
    "ll_alphabet = {}\n",
    "\n",
    "for k in common_alphabet.keys():\n",
    "    ll_alphabet[k] = common_alphabet[k]\n",
    "\n",
    "# for k in block_definitions.keys():\n",
    "#     if k != \"\":  # TODO: This is a probable bug, reported to the SE API devs\n",
    "#         ll_alphabet[k] = {\"action\": AtomAction.PLACE, \"args\": [k]}"
   ]
  },
  {
   "cell_type": "code",
   "execution_count": 7,
   "id": "6606b3f8-d22f-497b-8ab7-80a4ce2cad2e",
   "metadata": {
    "execution": {
     "iopub.execute_input": "2022-02-14T14:51:48.797386Z",
     "iopub.status.busy": "2022-02-14T14:51:48.797386Z",
     "iopub.status.idle": "2022-02-14T14:51:48.813361Z",
     "shell.execute_reply": "2022-02-14T14:51:48.813361Z",
     "shell.execute_reply.started": "2022-02-14T14:51:48.797386Z"
    },
    "tags": []
   },
   "outputs": [],
   "source": [
    "used_ll_blocks = [\n",
    "    'MyObjectBuilder_CubeBlock_LargeBlockArmorCorner',\n",
    "    'MyObjectBuilder_CubeBlock_LargeBlockArmorSlope',\n",
    "    'MyObjectBuilder_CubeBlock_LargeBlockArmorCornerInv',\n",
    "    'MyObjectBuilder_CubeBlock_LargeBlockArmorBlock',\n",
    "    'MyObjectBuilder_Gyro_LargeBlockGyro',\n",
    "    'MyObjectBuilder_Reactor_LargeBlockSmallGenerator',\n",
    "    'MyObjectBuilder_CargoContainer_LargeBlockSmallContainer',\n",
    "    'MyObjectBuilder_Cockpit_OpenCockpitLarge',\n",
    "    'MyObjectBuilder_Thrust_LargeBlockSmallThrust',\n",
    "    'MyObjectBuilder_InteriorLight_SmallLight',\n",
    "    'MyObjectBuilder_CubeBlock_Window1x1Slope',\n",
    "    'MyObjectBuilder_CubeBlock_Window1x1Flat',\n",
    "    'MyObjectBuilder_InteriorLight_LargeBlockLight_1corner'\n",
    "]\n",
    "\n",
    "for k in used_ll_blocks:\n",
    "    ll_alphabet[k] = {\"action\": AtomAction.PLACE, \"args\": [k]}"
   ]
  },
  {
   "cell_type": "markdown",
   "id": "9275b560-454a-4cab-b574-c00730ebe81b",
   "metadata": {
    "tags": []
   },
   "source": [
    "## L-System components"
   ]
  },
  {
   "cell_type": "code",
   "execution_count": 8,
   "id": "65def23a-5419-4765-971b-7e0334b309ae",
   "metadata": {
    "execution": {
     "iopub.execute_input": "2022-02-14T14:51:48.813361Z",
     "iopub.status.busy": "2022-02-14T14:51:48.813361Z",
     "iopub.status.idle": "2022-02-14T14:51:48.829388Z",
     "shell.execute_reply": "2022-02-14T14:51:48.829388Z",
     "shell.execute_reply.started": "2022-02-14T14:51:48.813361Z"
    },
    "tags": []
   },
   "outputs": [],
   "source": [
    "hl_rules = RuleMaker(ruleset='hlrules').get_rules()\n",
    "ll_rules = RuleMaker(ruleset='llrules').get_rules()\n",
    "\n",
    "hl_parser = HLParser(rules=hl_rules)\n",
    "ll_parser = LLParser(rules=ll_rules)\n",
    "\n",
    "hl_solver = LSolver(parser=hl_parser,\n",
    "                    atoms_alphabet=hl_alphabet,\n",
    "                    extra_args={\n",
    "                        'tiles_dimensions': tiles_dimensions,\n",
    "                        'tiles_block_offset': tiles_block_offset,\n",
    "                        'll_rules': ll_rules\n",
    "                    })\n",
    "ll_solver = LSolver(parser=ll_parser,\n",
    "                    atoms_alphabet=dict(hl_alphabet, **ll_alphabet),\n",
    "                    extra_args={})"
   ]
  },
  {
   "cell_type": "code",
   "execution_count": 9,
   "id": "7b84c390-6759-4288-acf3-f6ac68ab572c",
   "metadata": {
    "execution": {
     "iopub.execute_input": "2022-02-14T14:51:48.829388Z",
     "iopub.status.busy": "2022-02-14T14:51:48.829388Z",
     "iopub.status.idle": "2022-02-14T14:51:48.845366Z",
     "shell.execute_reply": "2022-02-14T14:51:48.845366Z",
     "shell.execute_reply.started": "2022-02-14T14:51:48.829388Z"
    },
    "tags": []
   },
   "outputs": [],
   "source": [
    "rcc1 = ConstraintHandler(\n",
    "    name=\"required_components\",\n",
    "    level=ConstraintLevel.HARD_CONSTRAINT,\n",
    "    when=ConstraintTime.END,\n",
    "    f=components_constraint,\n",
    "    extra_args={\n",
    "        'alphabet': hl_alphabet\n",
    "    }\n",
    ")\n",
    "rcc1.extra_args[\"req_tiles\"] = ['cockpit']\n",
    "\n",
    "rcc2 = ConstraintHandler(\n",
    "    name=\"required_components\",\n",
    "    level=ConstraintLevel.HARD_CONSTRAINT,\n",
    "    when=ConstraintTime.END,\n",
    "    f=components_constraint,\n",
    "    extra_args={\n",
    "        'alphabet': hl_alphabet\n",
    "    }\n",
    ")\n",
    "rcc2.extra_args[\"req_tiles\"] = ['corridorcargo', 'corridorgyros', 'corridorreactors']\n",
    "\n",
    "rcc3 = ConstraintHandler(\n",
    "    name=\"required_components\",\n",
    "    level=ConstraintLevel.HARD_CONSTRAINT,\n",
    "    when=ConstraintTime.END,\n",
    "    f=components_constraint,\n",
    "    extra_args={\n",
    "        'alphabet': hl_alphabet\n",
    "    }\n",
    ")\n",
    "rcc3.extra_args[\"req_tiles\"] = ['thrusters']\n",
    "\n",
    "nic = ConstraintHandler(\n",
    "    name=\"no_intersections\",\n",
    "    level=ConstraintLevel.HARD_CONSTRAINT,\n",
    "    when=ConstraintTime.DURING,\n",
    "    f=intersection_constraint,\n",
    "    extra_args={\n",
    "        'alphabet': dict(hl_alphabet, **ll_alphabet)\n",
    "    },\n",
    "    needs_ll=True\n",
    ")\n",
    "nic.extra_args[\"tiles_dimensions\"] = tiles_dimensions\n",
    "\n",
    "sc = ConstraintHandler(\n",
    "    name=\"symmetry\",\n",
    "    level=ConstraintLevel.SOFT_CONSTRAINT,\n",
    "    when=ConstraintTime.END,\n",
    "    f=symmetry_constraint,\n",
    "    extra_args={\n",
    "        'alphabet': dict(hl_alphabet, **ll_alphabet)\n",
    "    }\n",
    ")"
   ]
  },
  {
   "cell_type": "code",
   "execution_count": 10,
   "id": "427e0cf0-3dc6-4285-8963-eb171cb870de",
   "metadata": {
    "execution": {
     "iopub.execute_input": "2022-02-14T14:51:48.845366Z",
     "iopub.status.busy": "2022-02-14T14:51:48.845366Z",
     "iopub.status.idle": "2022-02-14T14:51:48.861392Z",
     "shell.execute_reply": "2022-02-14T14:51:48.861392Z",
     "shell.execute_reply.started": "2022-02-14T14:51:48.845366Z"
    },
    "tags": []
   },
   "outputs": [],
   "source": [
    "lsystem = LSystem(\n",
    "    hl_solver=hl_solver, ll_solver=ll_solver, names=['HeadModule', 'BodyModule', 'TailModule']\n",
    ")"
   ]
  },
  {
   "cell_type": "code",
   "execution_count": 11,
   "id": "d9ef6f61-369e-427a-a865-80452e125693",
   "metadata": {
    "execution": {
     "iopub.execute_input": "2022-02-14T14:51:48.861392Z",
     "iopub.status.busy": "2022-02-14T14:51:48.861392Z",
     "iopub.status.idle": "2022-02-14T14:51:48.877367Z",
     "shell.execute_reply": "2022-02-14T14:51:48.877367Z",
     "shell.execute_reply.started": "2022-02-14T14:51:48.861392Z"
    },
    "tags": []
   },
   "outputs": [],
   "source": [
    "lsystem.add_hl_constraints(cs=[\n",
    "    [nic, rcc1],\n",
    "    [nic, rcc2],\n",
    "    [nic, rcc3]\n",
    "])\n",
    "\n",
    "lsystem.add_ll_constraints(cs=[\n",
    "    [sc],\n",
    "    [sc],\n",
    "    [sc]\n",
    "])"
   ]
  },
  {
   "cell_type": "code",
   "execution_count": 12,
   "id": "0286d232-3b08-4a43-ba5a-f5dc9c84bdb5",
   "metadata": {
    "execution": {
     "iopub.execute_input": "2022-02-14T14:51:48.877367Z",
     "iopub.status.busy": "2022-02-14T14:51:48.877367Z",
     "iopub.status.idle": "2022-02-14T14:51:48.893392Z",
     "shell.execute_reply": "2022-02-14T14:51:48.893392Z",
     "shell.execute_reply.started": "2022-02-14T14:51:48.877367Z"
    },
    "tags": []
   },
   "outputs": [],
   "source": [
    "expander.initialize(rules=lsystem.hl_solver.parser.rules)"
   ]
  },
  {
   "cell_type": "markdown",
   "id": "a6788134-93ff-451e-8352-85ff29af5d78",
   "metadata": {},
   "source": [
    "## MAP-Elites"
   ]
  },
  {
   "cell_type": "code",
   "execution_count": 13,
   "id": "54ce358d-03bb-4ca8-9d88-a021165f8075",
   "metadata": {
    "execution": {
     "iopub.execute_input": "2022-02-14T14:51:48.893392Z",
     "iopub.status.busy": "2022-02-14T14:51:48.893392Z",
     "iopub.status.idle": "2022-02-14T14:51:49.628841Z",
     "shell.execute_reply": "2022-02-14T14:51:49.628841Z",
     "shell.execute_reply.started": "2022-02-14T14:51:48.893392Z"
    },
    "tags": []
   },
   "outputs": [],
   "source": [
    "from pcgsepy.evo.fitness import box_filling_fitness, bounding_box_fitness, func_blocks_fitness, axis_fitness\n",
    "\n",
    "feasible_fitnesses = [bounding_box_fitness,\n",
    "                      box_filling_fitness,\n",
    "                      func_blocks_fitness,\n",
    "                      axis_fitness]"
   ]
  },
  {
   "cell_type": "code",
   "execution_count": 14,
   "id": "892b56c7-0650-41dd-b43f-df763dd2dfca",
   "metadata": {
    "execution": {
     "iopub.execute_input": "2022-02-14T14:51:49.628841Z",
     "iopub.status.busy": "2022-02-14T14:51:49.628841Z",
     "iopub.status.idle": "2022-02-14T14:51:49.644712Z",
     "shell.execute_reply": "2022-02-14T14:51:49.644712Z",
     "shell.execute_reply.started": "2022-02-14T14:51:49.628841Z"
    }
   },
   "outputs": [],
   "source": [
    "from pcgsepy.mapelites.behaviors import BehaviorCharacterization, mame, mami\n",
    "\n",
    "b0 = BehaviorCharacterization(name='Major axis / Medium axis',\n",
    "                              func=mame,\n",
    "                              bounds=(0, 20))\n",
    "b1 = BehaviorCharacterization(name='Major axis / Smallest axis',\n",
    "                              func=mami,\n",
    "                              bounds=(0, 20))"
   ]
  },
  {
   "cell_type": "code",
   "execution_count": 15,
   "id": "938b8b0e-cd33-4da5-82fe-acc67ca5128a",
   "metadata": {
    "execution": {
     "iopub.execute_input": "2022-02-14T14:51:49.644712Z",
     "iopub.status.busy": "2022-02-14T14:51:49.644712Z",
     "iopub.status.idle": "2022-02-14T14:51:49.740797Z",
     "shell.execute_reply": "2022-02-14T14:51:49.740797Z",
     "shell.execute_reply.started": "2022-02-14T14:51:49.644712Z"
    },
    "tags": []
   },
   "outputs": [],
   "source": [
    "from pcgsepy.mapelites.map import MAPElites"
   ]
  },
  {
   "cell_type": "code",
   "execution_count": 16,
   "id": "758e5d2f-92f6-4183-941a-175ec41d23b7",
   "metadata": {
    "execution": {
     "iopub.execute_input": "2022-02-14T14:51:49.740797Z",
     "iopub.status.busy": "2022-02-14T14:51:49.740797Z",
     "iopub.status.idle": "2022-02-14T14:51:49.756738Z",
     "shell.execute_reply": "2022-02-14T14:51:49.756738Z",
     "shell.execute_reply.started": "2022-02-14T14:51:49.740797Z"
    },
    "tags": []
   },
   "outputs": [],
   "source": [
    "mapelites = MAPElites(lsystem=lsystem,\n",
    "                      feasible_fitnesses=feasible_fitnesses,\n",
    "                      behavior_descriptors=(b0, b1),\n",
    "                      n_bins=(8, 8))"
   ]
  },
  {
   "cell_type": "code",
   "execution_count": 17,
   "id": "62d265a9-198a-4053-94aa-1afdd757b3fe",
   "metadata": {
    "execution": {
     "iopub.execute_input": "2022-02-14T14:51:49.756738Z",
     "iopub.status.busy": "2022-02-14T14:51:49.756738Z",
     "iopub.status.idle": "2022-02-14T14:51:49.772755Z",
     "shell.execute_reply": "2022-02-14T14:51:49.772755Z",
     "shell.execute_reply.started": "2022-02-14T14:51:49.756738Z"
    },
    "tags": []
   },
   "outputs": [],
   "source": [
    "# mapelites.generate_initial_populations(pops_size=20,\n",
    "#                                        n_retries=100)\n",
    "\n",
    "# mapelites.show_fitness(show_mean=True,\n",
    "#                        population='feasible')\n",
    "# mapelites.show_fitness(show_mean=False,\n",
    "#                        population='feasible')\n",
    "# mapelites.show_fitness(show_mean=True,\n",
    "#                        population='infeasible')\n",
    "# mapelites.show_fitness(show_mean=False,\n",
    "#                        population='infeasible')\n",
    "# mapelites.show_coverage(population='feasible')\n",
    "# mapelites.show_coverage(population='infeasible')\n",
    "# mapelites.show_age(show_mean=True,\n",
    "#                    population='feasible')\n",
    "# mapelites.show_age(show_mean=True,\n",
    "#                    population='infeasible')\n",
    "# mapelites.show_age(show_mean=False,\n",
    "#                    population='feasible')\n",
    "# mapelites.show_age(show_mean=False,\n",
    "#                    population='infeasible')"
   ]
  },
  {
   "cell_type": "code",
   "execution_count": 18,
   "id": "6315720e-96de-4863-9efd-7618364aca15",
   "metadata": {
    "execution": {
     "iopub.execute_input": "2022-02-14T14:51:49.772755Z",
     "iopub.status.busy": "2022-02-14T14:51:49.772755Z",
     "iopub.status.idle": "2022-02-14T14:51:49.788738Z",
     "shell.execute_reply": "2022-02-14T14:51:49.788738Z",
     "shell.execute_reply.started": "2022-02-14T14:51:49.772755Z"
    },
    "tags": []
   },
   "outputs": [],
   "source": [
    "# from tqdm.notebook import trange\n",
    "\n",
    "# for i in trange(2):\n",
    "#     mapelites.rand_step(gen=i)\n",
    "\n",
    "# # mapelites.interactive_mode(n_steps=5)\n",
    "\n",
    "# mapelites.show_fitness(show_mean=True,\n",
    "#                        population='feasible')\n",
    "# mapelites.show_fitness(show_mean=False,\n",
    "#                        population='feasible')\n",
    "# mapelites.show_fitness(show_mean=True,\n",
    "#                        population='infeasible')\n",
    "# mapelites.show_fitness(show_mean=False,\n",
    "#                        population='infeasible')\n",
    "# mapelites.show_coverage(population='feasible')\n",
    "# mapelites.show_coverage(population='infeasible')\n",
    "# mapelites.show_age(show_mean=True,\n",
    "#                    population='feasible')\n",
    "# mapelites.show_age(show_mean=True,\n",
    "#                    population='infeasible')\n",
    "# mapelites.show_age(show_mean=False,\n",
    "#                    population='feasible')\n",
    "# mapelites.show_age(show_mean=False,\n",
    "#                    population='infeasible')"
   ]
  },
  {
   "cell_type": "markdown",
   "id": "98d24139-c933-4f31-9091-16611032a9e0",
   "metadata": {},
   "source": [
    "## DASH"
   ]
  },
  {
   "cell_type": "code",
   "execution_count": 19,
   "id": "d5b0a602-edb5-4d59-ae27-ec18f01f5514",
   "metadata": {
    "execution": {
     "iopub.execute_input": "2022-02-14T14:51:49.788738Z",
     "iopub.status.busy": "2022-02-14T14:51:49.788738Z",
     "iopub.status.idle": "2022-02-14T14:51:50.797567Z",
     "shell.execute_reply": "2022-02-14T14:51:50.797567Z",
     "shell.execute_reply.started": "2022-02-14T14:51:49.788738Z"
    },
    "tags": []
   },
   "outputs": [],
   "source": [
    "import dash\n",
    "from dash import dcc\n",
    "from dash import html\n",
    "from dash.dependencies import Input, Output, State\n",
    "import plotly.graph_objects as go\n",
    "import numpy as np\n",
    "import plotly.express as px\n",
    "from dash.exceptions import PreventUpdate\n",
    "import logging\n",
    "from datetime import datetime\n",
    "\n",
    "import matplotlib.pyplot as plt\n",
    "\n",
    "from typing import Tuple"
   ]
  },
  {
   "cell_type": "code",
   "execution_count": 20,
   "id": "606f8f90-1e72-4bf3-874c-23ed3bc8dcb8",
   "metadata": {
    "execution": {
     "iopub.execute_input": "2022-02-14T14:51:50.797567Z",
     "iopub.status.busy": "2022-02-14T14:51:50.797567Z",
     "iopub.status.idle": "2022-02-14T14:51:50.813538Z",
     "shell.execute_reply": "2022-02-14T14:51:50.813538Z",
     "shell.execute_reply.started": "2022-02-14T14:51:50.797567Z"
    },
    "tags": []
   },
   "outputs": [],
   "source": [
    "class DashLoggerHandler(logging.StreamHandler):\n",
    "    def __init__(self):\n",
    "        logging.StreamHandler.__init__(self)\n",
    "        self.queue = []\n",
    "\n",
    "    def emit(self, record):\n",
    "        t = datetime.now().strftime(\"%Y-%m-%d %H:%M:%S\")\n",
    "        msg = self.format(record)\n",
    "        self.queue.append(f'[{t}]\\t{msg}')\n",
    "\n",
    "logger = logging.getLogger('dash-msgs')\n",
    "logger.setLevel(logging.DEBUG)\n",
    "dashLoggerHandler = DashLoggerHandler()\n",
    "logger.addHandler(dashLoggerHandler)"
   ]
  },
  {
   "cell_type": "code",
   "execution_count": 21,
   "id": "7d24ba5b-2732-4523-8556-91e52591c051",
   "metadata": {
    "execution": {
     "iopub.execute_input": "2022-02-14T14:51:50.813538Z",
     "iopub.status.busy": "2022-02-14T14:51:50.813538Z",
     "iopub.status.idle": "2022-02-14T14:51:50.829536Z",
     "shell.execute_reply": "2022-02-14T14:51:50.829536Z",
     "shell.execute_reply.started": "2022-02-14T14:51:50.813538Z"
    },
    "tags": []
   },
   "outputs": [],
   "source": [
    "from pcgsepy.config import BIN_POP_SIZE, CS_MAX_AGE\n",
    "\n",
    "hm_callback_props = {\n",
    "    'pop': {\n",
    "        'Feasible': 'feasible',\n",
    "        'Infeasible': 'infeasible'\n",
    "    },\n",
    "    'metric': {\n",
    "        'Fitness': {\n",
    "            'name': 'fitness',\n",
    "            'zmax': 4.5,  # TODO: get from mapelites\n",
    "            'colorscale': 'Inferno'\n",
    "        },\n",
    "        'Age':  {\n",
    "            'name': 'age',\n",
    "            'zmax': CS_MAX_AGE,\n",
    "            'colorscale': 'Greys'\n",
    "        },\n",
    "        'Coverage': {\n",
    "            'name': 'size',\n",
    "            'zmax': BIN_POP_SIZE,\n",
    "            'colorscale': 'Hot'\n",
    "        }\n",
    "    },\n",
    "    'method': {\n",
    "        'Population': True,\n",
    "        'Elitist': False\n",
    "    }\n",
    "}"
   ]
  },
  {
   "cell_type": "code",
   "execution_count": 22,
   "id": "48432708-5043-4e24-8791-243ab32d2735",
   "metadata": {
    "execution": {
     "iopub.execute_input": "2022-02-14T14:51:50.829536Z",
     "iopub.status.busy": "2022-02-14T14:51:50.829536Z",
     "iopub.status.idle": "2022-02-14T14:51:50.877577Z",
     "shell.execute_reply": "2022-02-14T14:51:50.877577Z",
     "shell.execute_reply.started": "2022-02-14T14:51:50.829536Z"
    },
    "tags": []
   },
   "outputs": [],
   "source": [
    "def from_bc_to_idx(bcs: Tuple[float, float], me: MAPElites) -> Tuple[int, int]:\n",
    "    b0, b1 = bcs\n",
    "    return (int(b0 // me.bin_sizes[0]), int(b1 // me.bin_sizes[1]))\n",
    "\n",
    "\n",
    "gen_counter = 0\n",
    "\n",
    "external_stylesheets = ['https://codepen.io/chriddyp/pen/bWLwgP.css']\n",
    "app = dash.Dash(__name__,\n",
    "                title='SE ICMAP-Elites',\n",
    "                external_stylesheets=external_stylesheets)\n",
    "\n",
    "app.layout = html.Div([\n",
    "    html.Div([\n",
    "        html.H1(children=\"Space Engineers ICMAP-Elites\", style={'textAlign': 'center'}),\n",
    "        html.Div([\n",
    "            html.H6('Plot settings', style={'textAlign': 'center'}),\n",
    "            html.P('Choose which population to display.'),\n",
    "            dcc.Dropdown(\n",
    "                ['Feasible', 'Infeasible'],\n",
    "                'Feasible',\n",
    "                id='population-dropdown',\n",
    "            ),\n",
    "            html.P('Choose which metric to plot.'),\n",
    "            dcc.Dropdown(\n",
    "                ['Fitness', 'Age', 'Coverage'],\n",
    "                'Fitness',\n",
    "                id='metric-dropdown',\n",
    "            ),\n",
    "            html.P('Choose whether to compute the metric for the entire bin population or just the elitist.'),\n",
    "            dcc.RadioItems(\n",
    "                ['Population', 'Elitist'],\n",
    "                'Population',\n",
    "                id='method-radio',\n",
    "                labelStyle={'display': 'inline-block', 'marginTop': '5px'}\n",
    "            )], style={'width': '15%', 'display': 'inline-block', 'verticalAlign': 'top'}),\n",
    "        html.Div([\n",
    "            dcc.Graph(id=\"heatmap-plot\", style={'width': '100%', 'height': '100%'})\n",
    "        ], style={'width': '40%', 'height': '100%', 'display': 'inline-block', 'verticalAlign': 'top'}),\n",
    "        html.Div([\n",
    "            dcc.Graph(id=\"content-plot\", style={'width': '100%', 'height': '100%'})\n",
    "        ], style={'width': '30%', 'height': '100%', 'display': 'inline-block', 'verticalAlign': 'top'}),\n",
    "        html.Div([\n",
    "            html.H6('Experiment settings', style={'textAlign': 'center'}),\n",
    "            html.P('Valid bins are: ', id='valid-bins'),\n",
    "            html.P(f'Current generation: {gen_counter}', id='gen-display'),\n",
    "            html.P('Selected bin(s): ', id='selected-bin'),\n",
    "            html.P('', id='hidden-p', style={'display': 'none'}),\n",
    "            html.H6('Experiment controls', style={'textAlign': 'center'}),\n",
    "            html.Button('Initialize/Reset', id='reset-btn', n_clicks=0, style={'horizontalAlign': 'center'}),\n",
    "            html.Br(),\n",
    "            html.Button('Apply step', id='step-btn', n_clicks=0, style={'horizontalAlign': 'center'}),\n",
    "        ], style={'width': '15%', 'display': 'inline-block', 'verticalAlign': 'top', 'horizontalAlign': 'right'})\n",
    "    ]),\n",
    "    html.Br(),\n",
    "    html.Div([\n",
    "        dcc.Interval(id='interval1', interval=1 * 1000, n_intervals=0),\n",
    "        html.P(id='div-out', children='Log', style={'textAlign': 'center'}),\n",
    "        html.Iframe(id='console-out', srcDoc='', style={'width': '100%'})\n",
    "    ], style={'width': '30%', 'height': 200})\n",
    "])"
   ]
  },
  {
   "cell_type": "code",
   "execution_count": 23,
   "id": "5b7fd7b3-bb46-466b-8590-06325321a7c7",
   "metadata": {
    "execution": {
     "iopub.execute_input": "2022-02-14T14:51:50.877577Z",
     "iopub.status.busy": "2022-02-14T14:51:50.877577Z",
     "iopub.status.idle": "2022-02-14T14:51:50.901564Z",
     "shell.execute_reply": "2022-02-14T14:51:50.901564Z",
     "shell.execute_reply.started": "2022-02-14T14:51:50.877577Z"
    },
    "tags": []
   },
   "outputs": [],
   "source": [
    "def get_valid_bins():\n",
    "    valid_bins = [x.bin_idx for x in mapelites._valid_bins()]\n",
    "    res = []\n",
    "    for i, j in valid_bins:\n",
    "        res.append((j, i))\n",
    "    return res\n",
    "\n",
    "\n",
    "def build_heatmap(pop_name,\n",
    "                  metric_name,\n",
    "                  method_name):\n",
    "    metric = hm_callback_props['metric'][metric_name]\n",
    "    use_mean = hm_callback_props['method'][method_name]\n",
    "    population = hm_callback_props['pop'][pop_name]\n",
    "    # build hotmap\n",
    "    disp_map = np.zeros(shape=mapelites.bins.shape)\n",
    "    for i in range(mapelites.bins.shape[0]):\n",
    "        for j in range(mapelites.bins.shape[1]):\n",
    "            disp_map[i, j] = mapelites.bins[i, j].get_metric(metric=metric['name'],\n",
    "                                                             use_mean=use_mean,\n",
    "                                                             population=population)\n",
    "    # plot\n",
    "    x_labels = np.arange(0, mapelites.limits[0], mapelites.bin_sizes[0])\n",
    "    y_labels = np.arange(0, mapelites.limits[1], mapelites.bin_sizes[1])\n",
    "    title = f'{pop_name} population {metric_name.lower()} ({\"Average\" if use_mean else \"Elitist\"})'\n",
    "    heatmap = px.imshow(disp_map,\n",
    "                        zmin=0,\n",
    "                        zmax=hm_callback_props['metric'][metric_name]['zmax'],\n",
    "                        origin='lower',\n",
    "                        labels=dict(x=mapelites.b_descs[0].name,\n",
    "                                    y=mapelites.b_descs[1].name,\n",
    "                                    color=metric_name),\n",
    "                        x=x_labels,\n",
    "                        y=y_labels,\n",
    "                        title=title,\n",
    "                        aspect='equal',\n",
    "                        color_continuous_scale=hm_callback_props['metric'][metric_name]['colorscale'])\n",
    "    heatmap.update_layout(clickmode='event+select')\n",
    "    heatmap.update_layout(\n",
    "        xaxis={\n",
    "            'tickmode': 'linear',\n",
    "            'tick0': 0,\n",
    "            'dtick': mapelites.bin_sizes[0]\n",
    "        },\n",
    "        yaxis={\n",
    "            'tickmode': 'linear',\n",
    "            'tick0': 0,\n",
    "            'dtick': mapelites.bin_sizes[1]\n",
    "        }\n",
    "    )\n",
    "    return heatmap\n",
    "\n",
    "\n",
    "def get_elite_content(me: MAPElites,\n",
    "                      bin_idx,\n",
    "                      pop):\n",
    "    # get elitist content\n",
    "    elite = me.get_elitist(bin_idx=bin_idx,\n",
    "                           pop=pop).content\n",
    "    structure = elite.as_array()\n",
    "    arr = np.nonzero(structure)\n",
    "    x, y, z = arr\n",
    "    cs = [structure[i, j, k] for i, j, k in zip(x, y, z)]\n",
    "    ss = [elite._clean_label(elite.ks[v]) for v in cs]\n",
    "    fig = px.scatter_3d(x=x,\n",
    "                        y=y,\n",
    "                        z=z,\n",
    "                        color=ss,\n",
    "                        symbol=['square' for _ in range(len(x))],\n",
    "                        labels={\n",
    "                            'x': 'x',\n",
    "                            'y': 'y',\n",
    "                            'z': 'z',\n",
    "                            'color': 'Block type'\n",
    "                        },\n",
    "                        title='Elite content')\n",
    "    fig.update_layout(scene=dict(aspectmode='data'))\n",
    "    return fig"
   ]
  },
  {
   "cell_type": "code",
   "execution_count": 24,
   "id": "fbdc12b9-a2a6-4cab-8819-023de2c049dd",
   "metadata": {
    "execution": {
     "iopub.execute_input": "2022-02-14T14:51:50.901564Z",
     "iopub.status.busy": "2022-02-14T14:51:50.901564Z",
     "iopub.status.idle": "2022-02-14T14:51:50.933573Z",
     "shell.execute_reply": "2022-02-14T14:51:50.933573Z",
     "shell.execute_reply.started": "2022-02-14T14:51:50.901564Z"
    },
    "tags": []
   },
   "outputs": [],
   "source": [
    "@app.callback(\n",
    "    Output('console-out', 'srcDoc'),\n",
    "    Input('interval1', 'n_intervals'))\n",
    "def update_output(n):\n",
    "    return ('\\n'.join(dashLoggerHandler.queue)).replace('\\n', '<BR>')\n",
    "\n",
    "\n",
    "@app.callback(Output('hidden-p', 'children'),\n",
    "              Output('selected-bin', 'children'),\n",
    "              Output('content-plot', 'figure'),\n",
    "              Input('heatmap-plot', 'clickData'),\n",
    "              Input('population-dropdown', 'value'),)\n",
    "def display_click_data(clickData,\n",
    "                       pop_name):\n",
    "    if clickData is not None:\n",
    "        i, j = from_bc_to_idx(bcs=(clickData['points'][0]['x'],\n",
    "                                   clickData['points'][0]['y']),\n",
    "                              me=mapelites)\n",
    "        if mapelites.non_empty(bin_idx=(j, i),\n",
    "                               pop='feasible' if pop_name == 'Feasible' else 'infeasible'):\n",
    "            fig = get_elite_content(me=mapelites,\n",
    "                                    bin_idx=(j, i),\n",
    "                                    pop='feasible' if pop_name == 'Feasible' else 'infeasible')\n",
    "            return f'{j},{i}', f'Selected bin is ({i}, {j})', fig\n",
    "        else:\n",
    "            logging.getLogger('dash-msgs').error(msg=f'Empty bin selected ({i}, {j}).')\n",
    "            raise PreventUpdate\n",
    "    else:\n",
    "        raise PreventUpdate\n",
    "\n",
    "\n",
    "@app.callback(Output('heatmap-plot', 'figure'),\n",
    "              Output('valid-bins', 'children'),\n",
    "              Output('gen-display', 'children'),\n",
    "              State('hidden-p', 'children'),\n",
    "              State('heatmap-plot', 'figure'),\n",
    "              Input('population-dropdown', 'value'),\n",
    "              Input('metric-dropdown', 'value'),\n",
    "              Input('method-radio', 'value'),\n",
    "              Input('step-btn', 'n_clicks'),\n",
    "              Input('reset-btn', 'n_clicks'),)\n",
    "def update_heatmap(bin_idx,\n",
    "                   curr_heatmap,\n",
    "                   pop_name,\n",
    "                   metric_name,\n",
    "                   method_name,\n",
    "                   n_clicks_step,\n",
    "                   n_clicks_reset):\n",
    "    global gen_counter\n",
    "\n",
    "    ctx = dash.callback_context\n",
    "\n",
    "    if not ctx.triggered:\n",
    "        event_trig = None\n",
    "    else:\n",
    "        event_trig = ctx.triggered[0]['prop_id'].split('.')[0]\n",
    "\n",
    "    if event_trig == 'step-btn':\n",
    "        if bin_idx is not None and bin_idx != '':\n",
    "            bin_x, bin_y = bin_idx.split(',')\n",
    "            bin_idx = (int(bin_x), int(bin_y))\n",
    "            if bin_idx in [x.bin_idx for x in mapelites._valid_bins()]:\n",
    "                logging.getLogger('dash-msgs').debug(msg=f'Started step {gen_counter}...')\n",
    "                mapelites._interactive_step(bin_idx=bin_idx,\n",
    "                                            n_gen=gen_counter)\n",
    "                gen_counter += 1\n",
    "                curr_heatmap = build_heatmap(pop_name=pop_name,\n",
    "                                             metric_name=metric_name,\n",
    "                                             method_name=method_name)\n",
    "                logging.getLogger('dash-msgs').debug(msg=f'Completed step {gen_counter}.')\n",
    "            else:\n",
    "                logging.getLogger('dash-msgs').error(msg=f'Bin at ({bin_x}, {bin_y}) is not valid')\n",
    "        return curr_heatmap, f'Valid bins are: {get_valid_bins()}', f'Current generation: {gen_counter}'\n",
    "    elif event_trig == 'reset-btn':\n",
    "        logging.getLogger('dash-msgs').debug(msg=f'Started resetting all bins...')\n",
    "        gen_counter = 0\n",
    "        mapelites.reset()\n",
    "        heatmap = build_heatmap(pop_name=pop_name,\n",
    "                                metric_name=metric_name,\n",
    "                                method_name=method_name)\n",
    "        logging.getLogger('dash-msgs').debug(msg=f'Reset completed.')\n",
    "        return heatmap, f'Valid bins are: {get_valid_bins()}', f'Current generation: {gen_counter}'\n",
    "    else:\n",
    "        heatmap = build_heatmap(pop_name=pop_name,\n",
    "                                metric_name=metric_name,\n",
    "                                method_name=method_name)\n",
    "        return heatmap, f'Valid bins are: {get_valid_bins()}', f'Current generation: {gen_counter}'"
   ]
  },
  {
   "cell_type": "code",
   "execution_count": null,
   "id": "46442edf-63d1-491f-900a-eaa9240f0a27",
   "metadata": {
    "execution": {
     "iopub.execute_input": "2022-02-14T14:51:50.933573Z",
     "iopub.status.busy": "2022-02-14T14:51:50.933573Z"
    },
    "tags": []
   },
   "outputs": [
    {
     "name": "stdout",
     "output_type": "stream",
     "text": [
      "Dash is running on http://127.0.0.1:8050/\n",
      "\n",
      " * Serving Flask app '__main__' (lazy loading)\n",
      " * Environment: production\n",
      "\u001b[31m   WARNING: This is a development server. Do not use it in a production deployment.\u001b[0m\n",
      "\u001b[2m   Use a production WSGI server instead.\u001b[0m\n",
      " * Debug mode: on\n"
     ]
    },
    {
     "data": {
      "application/vnd.jupyter.widget-view+json": {
       "model_id": "dbb75baceb7a400989f8985ac1520259",
       "version_major": 2,
       "version_minor": 0
      },
      "text/plain": [
       "Initialization :   0%|          | 0/100 [00:00<?, ?it/s]"
      ]
     },
     "metadata": {},
     "output_type": "display_data"
    }
   ],
   "source": [
    "app.run_server(debug=True, use_reloader=False)"
   ]
  },
  {
   "cell_type": "code",
   "execution_count": null,
   "id": "725c5af0-ae6c-445b-8e02-0e23bc7c1d83",
   "metadata": {},
   "outputs": [],
   "source": []
  }
 ],
 "metadata": {
  "kernelspec": {
   "display_name": "Python 3 (ipykernel)",
   "language": "python",
   "name": "python3"
  },
  "language_info": {
   "codemirror_mode": {
    "name": "ipython",
    "version": 3
   },
   "file_extension": ".py",
   "mimetype": "text/x-python",
   "name": "python",
   "nbconvert_exporter": "python",
   "pygments_lexer": "ipython3",
   "version": "3.8.12"
  }
 },
 "nbformat": 4,
 "nbformat_minor": 5
}
