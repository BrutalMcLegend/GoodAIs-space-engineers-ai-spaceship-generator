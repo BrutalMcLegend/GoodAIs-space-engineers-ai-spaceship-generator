{
 "cells": [
  {
   "cell_type": "markdown",
   "id": "649aa1d1-0648-4841-9ede-ab0bd518aeed",
   "metadata": {},
   "source": [
    "# CMAP-Elites DEMO"
   ]
  },
  {
   "cell_type": "markdown",
   "id": "0d6fe01d-6f83-4027-9e95-b8edcf9e47f5",
   "metadata": {
    "jp-MarkdownHeadingCollapsed": true,
    "tags": []
   },
   "source": [
    "## Imports"
   ]
  },
  {
   "cell_type": "code",
   "execution_count": 26,
   "id": "6a63d0b6-94a2-4ed9-9c9a-8abd761692d7",
   "metadata": {
    "execution": {
     "iopub.execute_input": "2022-02-21T11:49:33.069745Z",
     "iopub.status.busy": "2022-02-21T11:49:33.069745Z",
     "iopub.status.idle": "2022-02-21T11:49:33.090689Z",
     "shell.execute_reply": "2022-02-21T11:49:33.089691Z",
     "shell.execute_reply.started": "2022-02-21T11:49:33.069745Z"
    },
    "tags": []
   },
   "outputs": [],
   "source": [
    "import json"
   ]
  },
  {
   "cell_type": "markdown",
   "id": "ff1aa8ff-4cc8-45a6-a3a4-464576d73737",
   "metadata": {},
   "source": [
    "GECCO-compatible `matplotlib` options:"
   ]
  },
  {
   "cell_type": "code",
   "execution_count": 27,
   "id": "4b7b9ee4-feb0-4d0d-a107-4cd99493b122",
   "metadata": {
    "execution": {
     "iopub.execute_input": "2022-02-21T11:49:33.092683Z",
     "iopub.status.busy": "2022-02-21T11:49:33.091686Z",
     "iopub.status.idle": "2022-02-21T11:49:33.105649Z",
     "shell.execute_reply": "2022-02-21T11:49:33.105649Z",
     "shell.execute_reply.started": "2022-02-21T11:49:33.092683Z"
    },
    "tags": []
   },
   "outputs": [],
   "source": [
    "import matplotlib\n",
    "\n",
    "matplotlib.rcParams['pdf.fonttype'] = 42\n",
    "matplotlib.rcParams['ps.fonttype'] = 42"
   ]
  },
  {
   "cell_type": "markdown",
   "id": "17fbaa1e-1def-4d50-b6c2-bfe368e22234",
   "metadata": {},
   "source": [
    "Import `PCGSEPy` modules:"
   ]
  },
  {
   "cell_type": "code",
   "execution_count": 28,
   "id": "74178d80-9093-4c59-85ce-3d6cdb2fbeb1",
   "metadata": {
    "execution": {
     "iopub.execute_input": "2022-02-21T11:49:33.106646Z",
     "iopub.status.busy": "2022-02-21T11:49:33.106646Z",
     "iopub.status.idle": "2022-02-21T11:49:33.120609Z",
     "shell.execute_reply": "2022-02-21T11:49:33.120609Z",
     "shell.execute_reply.started": "2022-02-21T11:49:33.106646Z"
    },
    "tags": []
   },
   "outputs": [],
   "source": [
    "from pcgsepy.common.vecs import orientation_from_str, Vec \n",
    "from pcgsepy.config import COMMON_ATOMS, HL_ATOMS, N_ITERATIONS, REQ_TILES \n",
    "from pcgsepy.lsystem.rules import RuleMaker\n",
    "from pcgsepy.lsystem.actions import AtomAction, Rotations\n",
    "from pcgsepy.lsystem.parser import HLParser, LLParser\n",
    "from pcgsepy.lsystem.solver import LSolver\n",
    "from pcgsepy.lsystem.constraints import ConstraintHandler, ConstraintLevel, ConstraintTime\n",
    "from pcgsepy.lsystem.constraints_funcs import components_constraint, intersection_constraint, symmetry_constraint, axis_constraint\n",
    "from pcgsepy.lsystem.lsystem import LSystem\n",
    "from pcgsepy.structure import block_definitions\n",
    "from pcgsepy.evo.genops import expander"
   ]
  },
  {
   "cell_type": "markdown",
   "id": "c74744d6-32ab-4d73-a873-968e4a7f58a5",
   "metadata": {
    "jp-MarkdownHeadingCollapsed": true,
    "tags": []
   },
   "source": [
    "## Setup"
   ]
  },
  {
   "cell_type": "code",
   "execution_count": 29,
   "id": "5471baba-1f3e-4796-97ea-5fb863e07999",
   "metadata": {
    "execution": {
     "iopub.execute_input": "2022-02-21T11:49:33.121606Z",
     "iopub.status.busy": "2022-02-21T11:49:33.121606Z",
     "iopub.status.idle": "2022-02-21T11:49:33.136566Z",
     "shell.execute_reply": "2022-02-21T11:49:33.136566Z",
     "shell.execute_reply.started": "2022-02-21T11:49:33.121606Z"
    },
    "tags": []
   },
   "outputs": [],
   "source": [
    "with open(COMMON_ATOMS, \"r\") as f:\n",
    "    common_alphabet = json.load(f)\n",
    "\n",
    "for k in common_alphabet:\n",
    "    action, args = common_alphabet[k][\"action\"], common_alphabet[k][\"args\"]\n",
    "    action = AtomAction(action)\n",
    "    if action == AtomAction.MOVE:\n",
    "        args = orientation_from_str[args]\n",
    "    elif action == AtomAction.ROTATE:\n",
    "        args = Rotations(args)\n",
    "    common_alphabet[k] = {\"action\": action, \"args\": args}"
   ]
  },
  {
   "cell_type": "code",
   "execution_count": 30,
   "id": "6cc5ef87-1d4f-4217-af11-02b400e461c1",
   "metadata": {
    "execution": {
     "iopub.execute_input": "2022-02-21T11:49:33.139559Z",
     "iopub.status.busy": "2022-02-21T11:49:33.138561Z",
     "iopub.status.idle": "2022-02-21T11:49:33.152523Z",
     "shell.execute_reply": "2022-02-21T11:49:33.152523Z",
     "shell.execute_reply.started": "2022-02-21T11:49:33.139559Z"
    },
    "tags": []
   },
   "outputs": [],
   "source": [
    "with open(HL_ATOMS, \"r\") as f:\n",
    "    hl_atoms = json.load(f)\n",
    "\n",
    "tiles_dimensions = {}\n",
    "tiles_block_offset = {}\n",
    "for tile in hl_atoms.keys():\n",
    "    dx, dy, dz = hl_atoms[tile][\"dimensions\"]\n",
    "    tiles_dimensions[tile] = Vec.v3i(dx, dy, dz)\n",
    "    tiles_block_offset[tile] = hl_atoms[tile][\"offset\"]\n",
    "\n",
    "hl_alphabet = {}\n",
    "for k in common_alphabet.keys():\n",
    "    hl_alphabet[k] = common_alphabet[k]\n",
    "\n",
    "for hk in hl_atoms.keys():\n",
    "    hl_alphabet[hk] = {\"action\": AtomAction.PLACE, \"args\": []}"
   ]
  },
  {
   "cell_type": "code",
   "execution_count": 31,
   "id": "25b2c7ae-ee02-4870-abed-dd2d648d160a",
   "metadata": {
    "execution": {
     "iopub.execute_input": "2022-02-21T11:49:33.154518Z",
     "iopub.status.busy": "2022-02-21T11:49:33.153521Z",
     "iopub.status.idle": "2022-02-21T11:49:33.168481Z",
     "shell.execute_reply": "2022-02-21T11:49:33.168481Z",
     "shell.execute_reply.started": "2022-02-21T11:49:33.154518Z"
    },
    "tags": []
   },
   "outputs": [],
   "source": [
    "ll_alphabet = {}\n",
    "\n",
    "for k in common_alphabet.keys():\n",
    "    ll_alphabet[k] = common_alphabet[k]\n",
    "\n",
    "# for k in block_definitions.keys():\n",
    "#     if k != \"\":  # TODO: This is a probable bug, reported to the SE API devs\n",
    "#         ll_alphabet[k] = {\"action\": AtomAction.PLACE, \"args\": [k]}"
   ]
  },
  {
   "cell_type": "code",
   "execution_count": 32,
   "id": "6606b3f8-d22f-497b-8ab7-80a4ce2cad2e",
   "metadata": {
    "execution": {
     "iopub.execute_input": "2022-02-21T11:49:33.169478Z",
     "iopub.status.busy": "2022-02-21T11:49:33.169478Z",
     "iopub.status.idle": "2022-02-21T11:49:33.185436Z",
     "shell.execute_reply": "2022-02-21T11:49:33.184438Z",
     "shell.execute_reply.started": "2022-02-21T11:49:33.169478Z"
    },
    "tags": []
   },
   "outputs": [],
   "source": [
    "used_ll_blocks = [\n",
    "    'MyObjectBuilder_CubeBlock_LargeBlockArmorCorner',\n",
    "    'MyObjectBuilder_CubeBlock_LargeBlockArmorSlope',\n",
    "    'MyObjectBuilder_CubeBlock_LargeBlockArmorCornerInv',\n",
    "    'MyObjectBuilder_CubeBlock_LargeBlockArmorBlock',\n",
    "    'MyObjectBuilder_Gyro_LargeBlockGyro',\n",
    "    'MyObjectBuilder_Reactor_LargeBlockSmallGenerator',\n",
    "    'MyObjectBuilder_CargoContainer_LargeBlockSmallContainer',\n",
    "    'MyObjectBuilder_Cockpit_OpenCockpitLarge',\n",
    "    'MyObjectBuilder_Thrust_LargeBlockSmallThrust',\n",
    "    'MyObjectBuilder_InteriorLight_SmallLight',\n",
    "    'MyObjectBuilder_CubeBlock_Window1x1Slope',\n",
    "    'MyObjectBuilder_CubeBlock_Window1x1Flat',\n",
    "    'MyObjectBuilder_InteriorLight_LargeBlockLight_1corner'\n",
    "]\n",
    "\n",
    "for k in used_ll_blocks:\n",
    "    ll_alphabet[k] = {\"action\": AtomAction.PLACE, \"args\": [k]}"
   ]
  },
  {
   "cell_type": "markdown",
   "id": "9275b560-454a-4cab-b574-c00730ebe81b",
   "metadata": {
    "jp-MarkdownHeadingCollapsed": true,
    "tags": []
   },
   "source": [
    "## L-System components"
   ]
  },
  {
   "cell_type": "code",
   "execution_count": 33,
   "id": "65def23a-5419-4765-971b-7e0334b309ae",
   "metadata": {
    "execution": {
     "iopub.execute_input": "2022-02-21T11:49:33.186434Z",
     "iopub.status.busy": "2022-02-21T11:49:33.186434Z",
     "iopub.status.idle": "2022-02-21T11:49:33.200398Z",
     "shell.execute_reply": "2022-02-21T11:49:33.200398Z",
     "shell.execute_reply.started": "2022-02-21T11:49:33.186434Z"
    },
    "tags": []
   },
   "outputs": [],
   "source": [
    "hl_rules = RuleMaker(ruleset='hlrules').get_rules()\n",
    "ll_rules = RuleMaker(ruleset='llrules').get_rules()\n",
    "\n",
    "hl_parser = HLParser(rules=hl_rules)\n",
    "ll_parser = LLParser(rules=ll_rules)\n",
    "\n",
    "hl_solver = LSolver(parser=hl_parser,\n",
    "                    atoms_alphabet=hl_alphabet,\n",
    "                    extra_args={\n",
    "                        'tiles_dimensions': tiles_dimensions,\n",
    "                        'tiles_block_offset': tiles_block_offset,\n",
    "                        'll_rules': ll_rules\n",
    "                    })\n",
    "ll_solver = LSolver(parser=ll_parser,\n",
    "                    atoms_alphabet=dict(hl_alphabet, **ll_alphabet),\n",
    "                    extra_args={})"
   ]
  },
  {
   "cell_type": "code",
   "execution_count": 34,
   "id": "7b84c390-6759-4288-acf3-f6ac68ab572c",
   "metadata": {
    "execution": {
     "iopub.execute_input": "2022-02-21T11:49:33.202391Z",
     "iopub.status.busy": "2022-02-21T11:49:33.202391Z",
     "iopub.status.idle": "2022-02-21T11:49:33.216385Z",
     "shell.execute_reply": "2022-02-21T11:49:33.216385Z",
     "shell.execute_reply.started": "2022-02-21T11:49:33.202391Z"
    },
    "tags": []
   },
   "outputs": [],
   "source": [
    "rcc1 = ConstraintHandler(\n",
    "    name=\"required_components\",\n",
    "    level=ConstraintLevel.HARD_CONSTRAINT,\n",
    "    when=ConstraintTime.END,\n",
    "    f=components_constraint,\n",
    "    extra_args={\n",
    "        'alphabet': hl_alphabet\n",
    "    }\n",
    ")\n",
    "rcc1.extra_args[\"req_tiles\"] = ['cockpit']\n",
    "\n",
    "rcc2 = ConstraintHandler(\n",
    "    name=\"required_components\",\n",
    "    level=ConstraintLevel.HARD_CONSTRAINT,\n",
    "    when=ConstraintTime.END,\n",
    "    f=components_constraint,\n",
    "    extra_args={\n",
    "        'alphabet': hl_alphabet\n",
    "    }\n",
    ")\n",
    "rcc2.extra_args[\"req_tiles\"] = ['corridorcargo', 'corridorgyros', 'corridorreactors']\n",
    "\n",
    "rcc3 = ConstraintHandler(\n",
    "    name=\"required_components\",\n",
    "    level=ConstraintLevel.HARD_CONSTRAINT,\n",
    "    when=ConstraintTime.END,\n",
    "    f=components_constraint,\n",
    "    extra_args={\n",
    "        'alphabet': hl_alphabet\n",
    "    }\n",
    ")\n",
    "rcc3.extra_args[\"req_tiles\"] = ['thrusters']\n",
    "\n",
    "nic = ConstraintHandler(\n",
    "    name=\"no_intersections\",\n",
    "    level=ConstraintLevel.HARD_CONSTRAINT,\n",
    "    when=ConstraintTime.DURING,\n",
    "    f=intersection_constraint,\n",
    "    extra_args={\n",
    "        'alphabet': dict(hl_alphabet, **ll_alphabet)\n",
    "    },\n",
    "    needs_ll=True\n",
    ")\n",
    "nic.extra_args[\"tiles_dimensions\"] = tiles_dimensions\n",
    "\n",
    "sc = ConstraintHandler(\n",
    "    name=\"symmetry\",\n",
    "    level=ConstraintLevel.SOFT_CONSTRAINT,\n",
    "    when=ConstraintTime.END,\n",
    "    f=symmetry_constraint,\n",
    "    extra_args={\n",
    "        'alphabet': dict(hl_alphabet, **ll_alphabet)\n",
    "    }\n",
    ")"
   ]
  },
  {
   "cell_type": "code",
   "execution_count": 35,
   "id": "427e0cf0-3dc6-4285-8963-eb171cb870de",
   "metadata": {
    "execution": {
     "iopub.execute_input": "2022-02-21T11:49:33.217350Z",
     "iopub.status.busy": "2022-02-21T11:49:33.217350Z",
     "iopub.status.idle": "2022-02-21T11:49:33.232344Z",
     "shell.execute_reply": "2022-02-21T11:49:33.232344Z",
     "shell.execute_reply.started": "2022-02-21T11:49:33.217350Z"
    },
    "tags": []
   },
   "outputs": [],
   "source": [
    "lsystem = LSystem(\n",
    "    hl_solver=hl_solver, ll_solver=ll_solver, names=['HeadModule', 'BodyModule', 'TailModule']\n",
    ")"
   ]
  },
  {
   "cell_type": "code",
   "execution_count": 36,
   "id": "d9ef6f61-369e-427a-a865-80452e125693",
   "metadata": {
    "execution": {
     "iopub.execute_input": "2022-02-21T11:49:33.233307Z",
     "iopub.status.busy": "2022-02-21T11:49:33.233307Z",
     "iopub.status.idle": "2022-02-21T11:49:33.247475Z",
     "shell.execute_reply": "2022-02-21T11:49:33.247475Z",
     "shell.execute_reply.started": "2022-02-21T11:49:33.233307Z"
    },
    "tags": []
   },
   "outputs": [],
   "source": [
    "lsystem.add_hl_constraints(cs=[\n",
    "    [nic, rcc1],\n",
    "    [nic, rcc2],\n",
    "    [nic, rcc3]\n",
    "])\n",
    "\n",
    "lsystem.add_ll_constraints(cs=[\n",
    "    [sc],\n",
    "    [sc],\n",
    "    [sc]\n",
    "])"
   ]
  },
  {
   "cell_type": "code",
   "execution_count": 37,
   "id": "0286d232-3b08-4a43-ba5a-f5dc9c84bdb5",
   "metadata": {
    "execution": {
     "iopub.execute_input": "2022-02-21T11:49:33.248473Z",
     "iopub.status.busy": "2022-02-21T11:49:33.248473Z",
     "iopub.status.idle": "2022-02-21T11:49:33.262467Z",
     "shell.execute_reply": "2022-02-21T11:49:33.262467Z",
     "shell.execute_reply.started": "2022-02-21T11:49:33.248473Z"
    },
    "tags": []
   },
   "outputs": [],
   "source": [
    "expander.initialize(rules=lsystem.hl_solver.parser.rules)"
   ]
  },
  {
   "cell_type": "markdown",
   "id": "a6788134-93ff-451e-8352-85ff29af5d78",
   "metadata": {
    "tags": []
   },
   "source": [
    "## MAP-Elites"
   ]
  },
  {
   "cell_type": "code",
   "execution_count": 38,
   "id": "54ce358d-03bb-4ca8-9d88-a021165f8075",
   "metadata": {
    "execution": {
     "iopub.execute_input": "2022-02-21T11:49:33.263432Z",
     "iopub.status.busy": "2022-02-21T11:49:33.263432Z",
     "iopub.status.idle": "2022-02-21T11:49:33.278424Z",
     "shell.execute_reply": "2022-02-21T11:49:33.278424Z",
     "shell.execute_reply.started": "2022-02-21T11:49:33.263432Z"
    },
    "tags": []
   },
   "outputs": [],
   "source": [
    "from pcgsepy.evo.fitness import box_filling_fitness, bounding_box_fitness, func_blocks_fitness, axis_fitness\n",
    "\n",
    "feasible_fitnesses = [bounding_box_fitness,\n",
    "                      box_filling_fitness,\n",
    "                      func_blocks_fitness,\n",
    "                      axis_fitness]"
   ]
  },
  {
   "cell_type": "code",
   "execution_count": 39,
   "id": "892b56c7-0650-41dd-b43f-df763dd2dfca",
   "metadata": {
    "execution": {
     "iopub.execute_input": "2022-02-21T11:49:33.281384Z",
     "iopub.status.busy": "2022-02-21T11:49:33.280387Z",
     "iopub.status.idle": "2022-02-21T11:49:33.294382Z",
     "shell.execute_reply": "2022-02-21T11:49:33.294382Z",
     "shell.execute_reply.started": "2022-02-21T11:49:33.281384Z"
    }
   },
   "outputs": [],
   "source": [
    "from pcgsepy.mapelites.behaviors import BehaviorCharacterization, mame, mami, avg_ma, symmetry\n",
    "\n",
    "# b0 = BehaviorCharacterization(name='Major axis / Medium axis',\n",
    "#                               func=mame,\n",
    "#                               bounds=(0, 20))\n",
    "# b1 = BehaviorCharacterization(name='Major axis / Smallest axis',\n",
    "#                               func=mami,\n",
    "#                               bounds=(0, 20))\n",
    "\n",
    "b0 = BehaviorCharacterization(name='Average Proportions',\n",
    "                              func=avg_ma,\n",
    "                              bounds=(0, 20))\n",
    "b1 = BehaviorCharacterization(name='Symmetry',\n",
    "                              func=symmetry,\n",
    "                              # bounds=(0, 1))\n",
    "                              bounds=(0, 1))"
   ]
  },
  {
   "cell_type": "code",
   "execution_count": 40,
   "id": "938b8b0e-cd33-4da5-82fe-acc67ca5128a",
   "metadata": {
    "execution": {
     "iopub.execute_input": "2022-02-21T11:49:33.295347Z",
     "iopub.status.busy": "2022-02-21T11:49:33.295347Z",
     "iopub.status.idle": "2022-02-21T11:49:33.310339Z",
     "shell.execute_reply": "2022-02-21T11:49:33.310339Z",
     "shell.execute_reply.started": "2022-02-21T11:49:33.295347Z"
    },
    "tags": []
   },
   "outputs": [],
   "source": [
    "from pcgsepy.mapelites.map import MAPElites\n",
    "import pickle"
   ]
  },
  {
   "cell_type": "code",
   "execution_count": 41,
   "id": "758e5d2f-92f6-4183-941a-175ec41d23b7",
   "metadata": {
    "execution": {
     "iopub.execute_input": "2022-02-21T11:49:33.311304Z",
     "iopub.status.busy": "2022-02-21T11:49:33.311304Z",
     "iopub.status.idle": "2022-02-21T11:49:33.673370Z",
     "shell.execute_reply": "2022-02-21T11:49:33.673370Z",
     "shell.execute_reply.started": "2022-02-21T11:49:33.311304Z"
    },
    "tags": []
   },
   "outputs": [],
   "source": [
    "# mapelites = MAPElites(lsystem=lsystem,\n",
    "#                       feasible_fitnesses=feasible_fitnesses,\n",
    "#                       behavior_descriptors=(b0, b1),\n",
    "#                       n_bins=(8, 8))\n",
    "\n",
    "mapelites = None\n",
    "with open('me.pkl', 'rb') as f:\n",
    "    mapelites = pickle.load(f)"
   ]
  },
  {
   "cell_type": "markdown",
   "id": "98d24139-c933-4f31-9091-16611032a9e0",
   "metadata": {},
   "source": [
    "## DASH"
   ]
  },
  {
   "cell_type": "code",
   "execution_count": 42,
   "id": "d5b0a602-edb5-4d59-ae27-ec18f01f5514",
   "metadata": {
    "execution": {
     "iopub.execute_input": "2022-02-21T11:49:33.675331Z",
     "iopub.status.busy": "2022-02-21T11:49:33.675331Z",
     "iopub.status.idle": "2022-02-21T11:49:33.688296Z",
     "shell.execute_reply": "2022-02-21T11:49:33.688296Z",
     "shell.execute_reply.started": "2022-02-21T11:49:33.675331Z"
    },
    "tags": []
   },
   "outputs": [],
   "source": [
    "import dash\n",
    "from dash import dcc\n",
    "from dash import html\n",
    "from dash.dependencies import Input, Output, State\n",
    "import plotly.graph_objects as go\n",
    "import numpy as np\n",
    "import plotly.express as px\n",
    "from dash.exceptions import PreventUpdate\n",
    "import logging\n",
    "from datetime import datetime\n",
    "\n",
    "import matplotlib.pyplot as plt\n",
    "\n",
    "from typing import Tuple"
   ]
  },
  {
   "cell_type": "code",
   "execution_count": 43,
   "id": "606f8f90-1e72-4bf3-874c-23ed3bc8dcb8",
   "metadata": {
    "execution": {
     "iopub.execute_input": "2022-02-21T11:49:33.689312Z",
     "iopub.status.busy": "2022-02-21T11:49:33.689312Z",
     "iopub.status.idle": "2022-02-21T11:49:33.703257Z",
     "shell.execute_reply": "2022-02-21T11:49:33.703257Z",
     "shell.execute_reply.started": "2022-02-21T11:49:33.689312Z"
    },
    "tags": []
   },
   "outputs": [],
   "source": [
    "class DashLoggerHandler(logging.StreamHandler):\n",
    "    def __init__(self):\n",
    "        logging.StreamHandler.__init__(self)\n",
    "        self.queue = []\n",
    "\n",
    "    def emit(self, record):\n",
    "        t = datetime.now().strftime(\"%Y-%m-%d %H:%M:%S\")\n",
    "        msg = self.format(record)\n",
    "        self.queue.append(f'[{t}]\\t{msg}')\n",
    "\n",
    "\n",
    "logger = logging.getLogger('dash-msgs')\n",
    "logger.setLevel(logging.DEBUG)\n",
    "dashLoggerHandler = DashLoggerHandler()\n",
    "logger.addHandler(dashLoggerHandler)"
   ]
  },
  {
   "cell_type": "code",
   "execution_count": 44,
   "id": "7d24ba5b-2732-4523-8556-91e52591c051",
   "metadata": {
    "execution": {
     "iopub.execute_input": "2022-02-21T11:49:33.704254Z",
     "iopub.status.busy": "2022-02-21T11:49:33.704254Z",
     "iopub.status.idle": "2022-02-21T11:49:33.719215Z",
     "shell.execute_reply": "2022-02-21T11:49:33.718251Z",
     "shell.execute_reply.started": "2022-02-21T11:49:33.704254Z"
    },
    "tags": []
   },
   "outputs": [],
   "source": [
    "from pcgsepy.config import BIN_POP_SIZE, CS_MAX_AGE\n",
    "\n",
    "hm_callback_props = {\n",
    "    'pop': {\n",
    "        'Feasible': 'feasible',\n",
    "        'Infeasible': 'infeasible'\n",
    "    },\n",
    "    'metric': {\n",
    "        'Fitness': {\n",
    "            'name': 'fitness',\n",
    "            'zmax': {\n",
    "                'feasible': 4.5,  # TODO: get from mapelites\n",
    "                'infeasible': 2.\n",
    "            },\n",
    "            'colorscale': 'Inferno'\n",
    "        },\n",
    "        'Age':  {\n",
    "            'name': 'age',\n",
    "            'zmax': {\n",
    "                'feasible': CS_MAX_AGE,\n",
    "                'infeasible': CS_MAX_AGE\n",
    "            },\n",
    "            'colorscale': 'Greys'\n",
    "        },\n",
    "        'Coverage': {\n",
    "            'name': 'size',\n",
    "            'zmax': {\n",
    "                'feasible': BIN_POP_SIZE,\n",
    "                'infeasible': BIN_POP_SIZE\n",
    "            },\n",
    "            'colorscale': 'Hot'\n",
    "        }\n",
    "    },\n",
    "    'method': {\n",
    "        'Population': True,\n",
    "        'Elite': False\n",
    "    }\n",
    "}"
   ]
  },
  {
   "cell_type": "code",
   "execution_count": 45,
   "id": "48432708-5043-4e24-8791-243ab32d2735",
   "metadata": {
    "execution": {
     "iopub.execute_input": "2022-02-21T11:49:33.720211Z",
     "iopub.status.busy": "2022-02-21T11:49:33.720211Z",
     "iopub.status.idle": "2022-02-21T11:49:33.758239Z",
     "shell.execute_reply": "2022-02-21T11:49:33.758239Z",
     "shell.execute_reply.started": "2022-02-21T11:49:33.720211Z"
    },
    "tags": []
   },
   "outputs": [],
   "source": [
    "def from_bc_to_idx(bcs: Tuple[float, float], me: MAPElites) -> Tuple[int, int]:\n",
    "    b0, b1 = bcs\n",
    "    i = np.digitize([b0], np.arange(me.b_descs[0].bounds[0], me.b_descs[0].bounds[1], me.bin_sizes[0]), right=False)[0] - 1\n",
    "    j = np.digitize([b1], np.arange(me.b_descs[1].bounds[0], me.b_descs[1].bounds[1], me.bin_sizes[1]), right=False)[0] - 1\n",
    "    return (i, j)\n",
    "\n",
    "\n",
    "description_str, help_str = '', ''\n",
    "with open('./assets/description.md', 'r') as f:\n",
    "    description_str = f.read()\n",
    "with open('./assets/help.md', 'r') as f:\n",
    "    help_str = f.read()\n",
    "\n",
    "\n",
    "external_stylesheets = ['https://codepen.io/chriddyp/pen/bWLwgP.css']\n",
    "app = dash.Dash(__name__,\n",
    "                title='SE ICMAP-Elites',\n",
    "                external_stylesheets=external_stylesheets,\n",
    "                update_title=None)\n",
    "\n",
    "app.layout = html.Div(children=[\n",
    "    # HEADER\n",
    "    html.Div(children=[\n",
    "            html.H1(children='🚀Space Engineers🚀 IC MAP-Elites',\n",
    "                    className='title'),\n",
    "            dcc.Markdown(children=description_str,\n",
    "                         className='page-description'),\n",
    "        ],\n",
    "                className='header'),\n",
    "    html.Br(),\n",
    "    # BODY\n",
    "    html.Div(children=[\n",
    "        # PLOT CONTROLS\n",
    "        html.Div(children=[\n",
    "            html.H6(children='Plot settings',\n",
    "                    className='section-title'),\n",
    "            html.P(children='Choose which population to display.',\n",
    "                   className='generic-description'),\n",
    "            dcc.Dropdown(['Feasible', 'Infeasible'],\n",
    "                         'Feasible',\n",
    "                         id='population-dropdown',\n",
    "                         className='dropdown'),\n",
    "            html.Br(),\n",
    "            html.P(children='Choose which metric to plot.',\n",
    "                   className='generic-description'),\n",
    "            dcc.Dropdown(['Fitness', 'Age', 'Coverage'],\n",
    "                         'Fitness',\n",
    "                         id='metric-dropdown',\n",
    "                         className='dropdown'),\n",
    "            html.Br(),\n",
    "            html.P(children='Choose whether to compute the metric for the entire bin population or just the elite.',\n",
    "                   className='generic-description'),\n",
    "            dcc.RadioItems(['Population', 'Elite'],\n",
    "                           'Population',\n",
    "                           id='method-radio',\n",
    "                           className='radio')\n",
    "            ],\n",
    "                 className='graph-controls-div'),\n",
    "        # PLOTS\n",
    "        html.Div(children=[\n",
    "            # HEATMAP\n",
    "            html.Div(children=[\n",
    "                dcc.Graph(id=\"heatmap-plot\")\n",
    "                ],\n",
    "                     className='heatmap-div'),\n",
    "            # CONTENT PLOT\n",
    "            html.Div(children=[\n",
    "                dcc.Graph(id=\"content-plot\"),\n",
    "            ],\n",
    "                     className='content-div'),\n",
    "        ],\n",
    "                 className='plots'),\n",
    "        # EXPERIMENT CONTROLS\n",
    "        html.Div(children=[\n",
    "            html.H6(children='Experiment settings',\n",
    "                    className='section-title'),\n",
    "            html.P(children='Valid bins are: ',\n",
    "                   className='properties-text',\n",
    "                   id='valid-bins'),\n",
    "            html.P(children='Current generation: 0',\n",
    "                   className='properties-text',\n",
    "                   id='gen-display'),\n",
    "            html.P(children='Selected bin(s): []',\n",
    "                   className='properties-text',\n",
    "                   id='selected-bin'),\n",
    "            html.H6('Experiment controls',\n",
    "                    className='section-title'),\n",
    "            html.Div(children=[\n",
    "                html.Button(children='Initialize/Reset',\n",
    "                            id='reset-btn',\n",
    "                            n_clicks=0,\n",
    "                            className='button')\n",
    "                ],\n",
    "                     className='button-div'),\n",
    "            html.Br(),\n",
    "            html.Div(children=[\n",
    "                html.Button(children='Toggle single bin selection',\n",
    "                            id='selection-btn',\n",
    "                            n_clicks=0,\n",
    "                            className='button')\n",
    "                ],\n",
    "                     className='button-div'),\n",
    "            html.Br(),\n",
    "            html.Div(children=[\n",
    "                html.Button(children='Clear selection',\n",
    "                            id='selection-clr-btn',\n",
    "                            n_clicks=0,\n",
    "                            className='button')\n",
    "                ],\n",
    "                     className='button-div'),\n",
    "            html.Br(),\n",
    "            html.Div(children=[\n",
    "                html.Button(children='Apply step',\n",
    "                            id='step-btn',\n",
    "                            n_clicks=0,\n",
    "                            className='button')\n",
    "                ],\n",
    "                     className='button-div'),\n",
    "            html.Br()\n",
    "            ],\n",
    "                 className='experiment-controls-div')\n",
    "        ],\n",
    "            className='body-div'),\n",
    "    html.Br(),\n",
    "    # LOG\n",
    "    html.Div(children=[\n",
    "        html.Div(children=[\n",
    "            dcc.Interval(id='interval1',\n",
    "                         interval=1 * 1000,\n",
    "                         n_intervals=0),\n",
    "            html.H6(children='Log',\n",
    "                    className='section-title'),\n",
    "            html.Iframe(srcDoc='', id='console-out', style={'width': '100%'})\n",
    "        ],\n",
    "                style={'width': '50%', 'display': 'inline-block'}),\n",
    "        html.Div(children=[\n",
    "                html.H6(children='Elite content string',\n",
    "                        className='section-title'),\n",
    "                html.Iframe(srcDoc='', id='content-string', style={'width': '100%'})\n",
    "        ],\n",
    "                style={'width': '50%', 'display': 'inline-block'})\n",
    "    ]),\n",
    "    html.Br(),\n",
    "    # FOOTER\n",
    "    html.Div(children=[\n",
    "            html.H6(children='Help',\n",
    "                    className='section-title'),\n",
    "            dcc.Markdown(help_str,\n",
    "                         className='page-description')\n",
    "        ],\n",
    "             className='footer'),\n",
    "    # client-side storage\n",
    "    dcc.Store(id='gen-counter'),\n",
    "    dcc.Store(id='selected-bins')\n",
    "])"
   ]
  },
  {
   "cell_type": "code",
   "execution_count": 46,
   "id": "5b7fd7b3-bb46-466b-8590-06325321a7c7",
   "metadata": {
    "execution": {
     "iopub.execute_input": "2022-02-21T11:49:33.759246Z",
     "iopub.status.busy": "2022-02-21T11:49:33.759246Z",
     "iopub.status.idle": "2022-02-21T11:49:33.790157Z",
     "shell.execute_reply": "2022-02-21T11:49:33.790157Z",
     "shell.execute_reply.started": "2022-02-21T11:49:33.759246Z"
    },
    "tags": []
   },
   "outputs": [],
   "source": [
    "def switch(ls):\n",
    "    res = []\n",
    "    for e in ls:\n",
    "        res.append((e[1], e[0]))\n",
    "    return res\n",
    "\n",
    "\n",
    "def get_valid_bins():\n",
    "    valid_bins = [x.bin_idx for x in mapelites._valid_bins()]\n",
    "    return switch(valid_bins)\n",
    "\n",
    "\n",
    "def build_heatmap(pop_name,\n",
    "                  metric_name,\n",
    "                  method_name):\n",
    "    metric = hm_callback_props['metric'][metric_name]\n",
    "    use_mean = hm_callback_props['method'][method_name]\n",
    "    population = hm_callback_props['pop'][pop_name]\n",
    "    # build hotmap\n",
    "    disp_map = np.zeros(shape=mapelites.bins.shape)\n",
    "    for i in range(mapelites.bins.shape[0]):\n",
    "        for j in range(mapelites.bins.shape[1]):\n",
    "            v = mapelites.bins[i, j].get_metric(metric=metric['name'],\n",
    "                                                use_mean=use_mean,\n",
    "                                                population=population)\n",
    "            disp_map[i, j] = v  # if v > 0 else None\n",
    "    # plot\n",
    "    x_labels = np.arange(0, mapelites.limits[0], mapelites.bin_sizes[0])\n",
    "    y_labels = np.arange(0, mapelites.limits[1], mapelites.bin_sizes[1])\n",
    "    title = f'{pop_name} population {metric_name.lower()} ({\"Average\" if use_mean else \"Elite\"})'\n",
    "    heatmap = go.Figure(data=go.Heatmap(\n",
    "        z=disp_map,\n",
    "        zmin=0,\n",
    "        zmax=hm_callback_props['metric'][metric_name]['zmax'][population],\n",
    "        x=x_labels,\n",
    "        y=y_labels,\n",
    "        hoverongaps=False,\n",
    "        colorscale=hm_callback_props['metric'][metric_name]['colorscale']\n",
    "    ))\n",
    "    heatmap.update_xaxes(title=dict(text=mapelites.b_descs[0].name))\n",
    "    heatmap.update_yaxes(title=dict(text=mapelites.b_descs[1].name))\n",
    "    heatmap.update_coloraxes(colorbar_title_text=metric_name)\n",
    "    heatmap.update_layout(title=dict(text=title),\n",
    "                          autosize=False,\n",
    "                          clickmode='event+select')\n",
    "    hovertemplate = f'{mapelites.b_descs[0].name}: X<br>{mapelites.b_descs[1].name}: Y<br>{metric_name}: Z<extra></extra>'\n",
    "    hovertemplate = hovertemplate.replace('X', '%{x}').replace('Y', '%{y}').replace('Z', '%{z}')\n",
    "    heatmap.update_traces(hovertemplate=hovertemplate,\n",
    "                          selector=dict(type='heatmap'))\n",
    "    heatmap.update_layout(\n",
    "        xaxis={\n",
    "            'tickmode': 'linear',\n",
    "            'tick0': 0,\n",
    "            'dtick': mapelites.bin_sizes[0]\n",
    "        },\n",
    "        yaxis={\n",
    "            'tickmode': 'linear',\n",
    "            'tick0': 0,\n",
    "            'dtick': mapelites.bin_sizes[1]\n",
    "        }\n",
    "    )\n",
    "\n",
    "    return heatmap\n",
    "\n",
    "\n",
    "block_to_colour = {\n",
    "    # colours from https://developer.mozilla.org/en-US/docs/Web/CSS/color_value\n",
    "    'LargeBlockArmorCorner': '#778899',\n",
    "    'LargeBlockArmorSlope': '#778899',\n",
    "    'LargeBlockArmorCornerInv': '#778899',\n",
    "    'LargeBlockArmorBlock': '#778899',\n",
    "    'LargeBlockGyro': '#2f4f4f',\n",
    "    'LargeBlockSmallGenerator': '#ffa07a',\n",
    "    'LargeBlockSmallContainer': '#008b8b',\n",
    "    'OpenCockpitLarge': '#32cd32',\n",
    "    'LargeBlockSmallThrust': '#ff8c00',\n",
    "    'SmallLight': '#fffaf0',\n",
    "    'Window1x1Slope': '#fffff0',\n",
    "    'Window1x1Flat': '#fffff0',\n",
    "    'LargeBlockLight_1corner': '#fffaf0'\n",
    "}\n",
    "\n",
    "\n",
    "def get_colour_mapping(block_types):\n",
    "    colour_map = {}\n",
    "    for block_type in block_types:\n",
    "        c = block_to_colour.get(block_type, '#ff0000')\n",
    "        if block_type not in colour_map.keys():\n",
    "            colour_map[block_type] = c\n",
    "    return colour_map\n",
    "\n",
    "\n",
    "def get_elite_content(me: MAPElites,\n",
    "                      bin_idx,\n",
    "                      pop):\n",
    "    # get elite content\n",
    "    elite = me.get_elite(bin_idx=bin_idx,\n",
    "                         pop=pop).content\n",
    "    structure = elite.as_array()\n",
    "    arr = np.nonzero(structure)\n",
    "    x, y, z = arr\n",
    "    cs = [structure[i, j, k] for i, j, k in zip(x, y, z)]\n",
    "    ss = [elite._clean_label(elite.ks[v - 1]) for v in cs]\n",
    "    fig = px.scatter_3d(x=x,\n",
    "                        y=y,\n",
    "                        z=z,\n",
    "                        color=ss,\n",
    "                        color_discrete_map=get_colour_mapping(ss),\n",
    "                        labels={\n",
    "                            'x': 'x',\n",
    "                            'y': 'y',\n",
    "                            'z': 'z',\n",
    "                            'color': 'Block type'\n",
    "                        },\n",
    "                        title='Last clicked elite content')\n",
    "    fig.update_layout(scene=dict(aspectmode='data'))\n",
    "    return fig"
   ]
  },
  {
   "cell_type": "code",
   "execution_count": 47,
   "id": "fbdc12b9-a2a6-4cab-8819-023de2c049dd",
   "metadata": {
    "execution": {
     "iopub.execute_input": "2022-02-21T11:49:33.792132Z",
     "iopub.status.busy": "2022-02-21T11:49:33.791152Z",
     "iopub.status.idle": "2022-02-21T11:49:33.822068Z",
     "shell.execute_reply": "2022-02-21T11:49:33.822068Z",
     "shell.execute_reply.started": "2022-02-21T11:49:33.792132Z"
    },
    "tags": []
   },
   "outputs": [],
   "source": [
    "@app.callback(Output('console-out', 'srcDoc'),\n",
    "              Input('interval1', 'n_intervals'))\n",
    "def update_output(n):\n",
    "    return ('\\n'.join(dashLoggerHandler.queue)).replace('\\n', '<BR>')\n",
    "\n",
    "\n",
    "@app.callback(Output('selected-bin', 'children'),\n",
    "              Output('content-plot', 'figure'),\n",
    "              Output('selected-bins', 'data'),\n",
    "              Output('content-string', 'srcDoc'),\n",
    "              Input('heatmap-plot', 'clickData'),\n",
    "              Input('population-dropdown', 'value'),\n",
    "              Input('selection-btn', 'n_clicks'),\n",
    "              Input('selection-clr-btn', 'n_clicks'),\n",
    "              State('selected-bin', 'children'),\n",
    "              State('content-plot', 'figure'),\n",
    "              State('selected-bins', 'data'))\n",
    "def display_click_data(clickData, pop_name, selection_btn, clear_btn,\n",
    "                       curr_selected, curr_fig, selected_bins):\n",
    "    selected_bins = json.loads(selected_bins) if selected_bins else []\n",
    "    if len(selected_bins) > 0:\n",
    "        selected_bins = [(x[0], x[1]) for x in selected_bins if x != []]\n",
    "\n",
    "    ctx = dash.callback_context\n",
    "\n",
    "    if not ctx.triggered:\n",
    "        event_trig = None\n",
    "    else:\n",
    "        event_trig = ctx.triggered[0]['prop_id'].split('.')[0]\n",
    "\n",
    "    if event_trig == 'heatmap-plot' or event_trig == 'population_dropdown':\n",
    "        i, j = from_bc_to_idx(bcs=(clickData['points'][0]['x'],\n",
    "                                   clickData['points'][0]['y']),\n",
    "                              me=mapelites)\n",
    "        if mapelites.non_empty(\n",
    "                bin_idx=(j, i),\n",
    "                pop='feasible' if pop_name == 'Feasible' else 'infeasible'):\n",
    "            fig = get_elite_content(\n",
    "                me=mapelites,\n",
    "                bin_idx=(j, i),\n",
    "                pop='feasible' if pop_name == 'Feasible' else 'infeasible')\n",
    "            if not mapelites.enforce_qnt and curr_selected != 'Selected bin(s): []':\n",
    "                if (i, j) not in selected_bins:\n",
    "                    selected_bins.append((i, j))\n",
    "                else:\n",
    "                    selected_bins.remove((i, j))\n",
    "            else:\n",
    "                selected_bins = [(i, j)]\n",
    "            if len(selected_bins) > 0:\n",
    "                v = \"; \".join([str(x) for x in selected_bins])\n",
    "            else:\n",
    "                v = '[]'\n",
    "            selected_bins = [[int(x[0]), int(x[1])] for x in selected_bins]\n",
    "            content_str = ''\n",
    "            if len(selected_bins) > 0:\n",
    "                b = selected_bins[-1]\n",
    "                b = (b[1], b[0])\n",
    "                elite = mapelites.get_elite(bin_idx=b,\n",
    "                                           pop='feasible' if pop_name == 'Feasible' else 'infeasible')\n",
    "                content_str = elite.string\n",
    "            return f'Selected bin(s): {v}', fig, json.dumps(selected_bins), content_str\n",
    "        else:\n",
    "            logging.getLogger('dash-msgs').error(\n",
    "                msg=f'Empty bin selected ({i}, {j}).')\n",
    "            raise PreventUpdate\n",
    "\n",
    "    elif event_trig == 'selection-btn':\n",
    "        mapelites.enforce_qnt = not mapelites.enforce_qnt\n",
    "        logging.getLogger('dash-msgs').debug(msg=f'MAP-Elites single bin selection set to {mapelites.enforce_qnt}.')\n",
    "        if mapelites.enforce_qnt:\n",
    "            selected_bins = [selected_bins[-1]] if selected_bins else []\n",
    "        if len(selected_bins) > 0:\n",
    "            v = \"; \".join([str(x) for x in selected_bins])\n",
    "        else:\n",
    "            v = '[]'\n",
    "        content_str = ''\n",
    "        if len(selected_bins) > 0:\n",
    "            b = selected_bins[-1]\n",
    "            b = (b[1], b[0])\n",
    "            elite = mapelites.get_elite(bin_idx=b,\n",
    "                                        pop='feasible' if pop_name == 'Feasible' else 'infeasible')\n",
    "            content_str = elite.string\n",
    "        selected_bins = [[int(x[0]), int(x[1])] for x in selected_bins]\n",
    "        curr_fig = curr_fig if curr_fig is not None else go.Figure(data=[])\n",
    "        return f'Selected bin(s): {v}', curr_fig, json.dumps(selected_bins), content_str\n",
    "\n",
    "    elif event_trig == 'selection-clr-btn':\n",
    "        logging.getLogger('dash-msgs').debug(msg='Cleared bins selection.')\n",
    "        selected_bins = []\n",
    "        curr_fig = curr_fig if curr_fig is not None else go.Figure(data=[])\n",
    "        return f'Selected bin(s): {selected_bins}', curr_fig, json.dumps(selected_bins), ''\n",
    "\n",
    "    else:\n",
    "        raise PreventUpdate\n",
    "\n",
    "\n",
    "@app.callback(Output('heatmap-plot', 'figure'),\n",
    "              Output('valid-bins', 'children'),\n",
    "              Output('gen-display', 'children'),\n",
    "              Output('gen-counter', 'data'),\n",
    "              State('heatmap-plot', 'figure'),\n",
    "              Input('population-dropdown', 'value'),\n",
    "              Input('metric-dropdown', 'value'),\n",
    "              Input('method-radio', 'value'),\n",
    "              Input('step-btn', 'n_clicks'),\n",
    "              Input('reset-btn', 'n_clicks'),\n",
    "              State('selected-bins', 'data'),\n",
    "              State('gen-counter', 'data'))\n",
    "def update_heatmap(curr_heatmap, pop_name, metric_name, method_name,\n",
    "                   n_clicks_step, n_clicks_reset, selected_bins, gen_counter):\n",
    "    gen_counter = json.loads(gen_counter) if gen_counter else 0\n",
    "    selected_bins = json.loads(selected_bins) if selected_bins else []\n",
    "    selected_bins = [(x[1], x[0]) for x in selected_bins]\n",
    "\n",
    "    ctx = dash.callback_context\n",
    "\n",
    "    if not ctx.triggered:\n",
    "        event_trig = None\n",
    "    else:\n",
    "        event_trig = ctx.triggered[0]['prop_id'].split('.')[0]\n",
    "\n",
    "    if event_trig == 'step-btn':\n",
    "        if len(selected_bins) > 0:\n",
    "            valid = True\n",
    "            if mapelites.enforce_qnt:\n",
    "                valid_bins = [x.bin_idx for x in mapelites._valid_bins()]\n",
    "                for bin_idx in selected_bins:\n",
    "                    valid &= bin_idx in valid_bins\n",
    "            if valid:\n",
    "                logging.getLogger('dash-msgs').debug(\n",
    "                    msg=f'Started step {gen_counter}...')\n",
    "                mapelites._interactive_step(bin_idxs=selected_bins,\n",
    "                                            n_gen=gen_counter)\n",
    "                gen_counter += 1\n",
    "                curr_heatmap = build_heatmap(pop_name=pop_name,\n",
    "                                             metric_name=metric_name,\n",
    "                                             method_name=method_name)\n",
    "                logging.getLogger('dash-msgs').debug(\n",
    "                    msg=f'Completed step {gen_counter - 1}.')\n",
    "            else:\n",
    "                logging.getLogger('dash-msgs').error(\n",
    "                    msg='Step not applied: invalid bin(s) selected.')\n",
    "        return curr_heatmap, f'Valid bins are: {get_valid_bins()}', f'Current generation: {gen_counter}', json.dumps(\n",
    "            gen_counter)\n",
    "    elif event_trig == 'reset-btn':\n",
    "        logging.getLogger('dash-msgs').debug(\n",
    "            msg='Started resetting all bins...')\n",
    "        gen_counter = 0\n",
    "        mapelites.reset()\n",
    "        heatmap = build_heatmap(pop_name=pop_name,\n",
    "                                metric_name=metric_name,\n",
    "                                method_name=method_name)\n",
    "        logging.getLogger('dash-msgs').debug(msg='Reset completed.')\n",
    "        return heatmap, f'Valid bins are: {get_valid_bins()}', f'Current generation: {gen_counter}', json.dumps(\n",
    "            gen_counter)\n",
    "    else:\n",
    "        heatmap = build_heatmap(pop_name=pop_name,\n",
    "                                metric_name=metric_name,\n",
    "                                method_name=method_name)\n",
    "        return heatmap, f'Valid bins are: {get_valid_bins()}', f'Current generation: {gen_counter}', json.dumps(\n",
    "            gen_counter)"
   ]
  },
  {
   "cell_type": "code",
   "execution_count": 48,
   "id": "46442edf-63d1-491f-900a-eaa9240f0a27",
   "metadata": {
    "execution": {
     "iopub.execute_input": "2022-02-21T11:49:33.823051Z",
     "iopub.status.busy": "2022-02-21T11:49:33.823051Z",
     "iopub.status.idle": "2022-02-21T11:49:56.878780Z",
     "shell.execute_reply": "2022-02-21T11:49:56.877631Z",
     "shell.execute_reply.started": "2022-02-21T11:49:33.823051Z"
    },
    "tags": []
   },
   "outputs": [
    {
     "name": "stdout",
     "output_type": "stream",
     "text": [
      "Dash is running on http://127.0.0.1:8050/\n",
      "\n",
      "Dash is running on http://127.0.0.1:8050/\n",
      "\n",
      " * Serving Flask app '__main__' (lazy loading)\n",
      " * Environment: production\n",
      "\u001b[31m   WARNING: This is a development server. Do not use it in a production deployment.\u001b[0m\n",
      "\u001b[2m   Use a production WSGI server instead.\u001b[0m\n",
      " * Debug mode: on\n"
     ]
    }
   ],
   "source": [
    "# app.run_server(debug=True, host='0.0.0.0', port = 8080, use_reloader=False)\n",
    "app.run_server(debug=True, use_reloader=False)"
   ]
  },
  {
   "cell_type": "code",
   "execution_count": 49,
   "id": "ca3a1436-77cd-424c-ac41-5186eecf16d6",
   "metadata": {
    "execution": {
     "iopub.execute_input": "2022-02-21T11:49:56.878780Z",
     "iopub.status.busy": "2022-02-21T11:49:56.878780Z",
     "iopub.status.idle": "2022-02-21T11:49:56.893742Z",
     "shell.execute_reply": "2022-02-21T11:49:56.893742Z",
     "shell.execute_reply.started": "2022-02-21T11:49:56.878780Z"
    },
    "tags": []
   },
   "outputs": [],
   "source": [
    "# with open('me.pkl', 'wb') as f:\n",
    "#     pickle.dump(mapelites, f)"
   ]
  },
  {
   "cell_type": "code",
   "execution_count": null,
   "id": "cc2b4c0c-ce38-4183-8252-33f38098aca5",
   "metadata": {},
   "outputs": [],
   "source": []
  }
 ],
 "metadata": {
  "kernelspec": {
   "display_name": "Python 3 (ipykernel)",
   "language": "python",
   "name": "python3"
  },
  "language_info": {
   "codemirror_mode": {
    "name": "ipython",
    "version": 3
   },
   "file_extension": ".py",
   "mimetype": "text/x-python",
   "name": "python",
   "nbconvert_exporter": "python",
   "pygments_lexer": "ipython3",
   "version": "3.8.12"
  }
 },
 "nbformat": 4,
 "nbformat_minor": 5
}
