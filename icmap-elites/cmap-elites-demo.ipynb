{
 "cells": [
  {
   "cell_type": "markdown",
   "id": "649aa1d1-0648-4841-9ede-ab0bd518aeed",
   "metadata": {},
   "source": [
    "# CMAP-Elites DEMO"
   ]
  },
  {
   "cell_type": "markdown",
   "id": "0d6fe01d-6f83-4027-9e95-b8edcf9e47f5",
   "metadata": {
    "jp-MarkdownHeadingCollapsed": true,
    "tags": []
   },
   "source": [
    "## Imports"
   ]
  },
  {
   "cell_type": "code",
   "execution_count": 1,
   "id": "6a63d0b6-94a2-4ed9-9c9a-8abd761692d7",
   "metadata": {
    "execution": {
     "iopub.execute_input": "2022-02-07T16:38:00.680941Z",
     "iopub.status.busy": "2022-02-07T16:38:00.679940Z",
     "iopub.status.idle": "2022-02-07T16:38:00.711872Z",
     "shell.execute_reply": "2022-02-07T16:38:00.710875Z",
     "shell.execute_reply.started": "2022-02-07T16:38:00.679940Z"
    },
    "tags": []
   },
   "outputs": [],
   "source": [
    "import json"
   ]
  },
  {
   "cell_type": "markdown",
   "id": "ff1aa8ff-4cc8-45a6-a3a4-464576d73737",
   "metadata": {},
   "source": [
    "GECCO-compatible `matplotlib` options:"
   ]
  },
  {
   "cell_type": "code",
   "execution_count": 2,
   "id": "4b7b9ee4-feb0-4d0d-a107-4cd99493b122",
   "metadata": {
    "execution": {
     "iopub.execute_input": "2022-02-07T16:38:00.714615Z",
     "iopub.status.busy": "2022-02-07T16:38:00.713866Z",
     "iopub.status.idle": "2022-02-07T16:38:01.606511Z",
     "shell.execute_reply": "2022-02-07T16:38:01.604516Z",
     "shell.execute_reply.started": "2022-02-07T16:38:00.714615Z"
    },
    "tags": []
   },
   "outputs": [],
   "source": [
    "import matplotlib\n",
    "\n",
    "matplotlib.rcParams['pdf.fonttype'] = 42\n",
    "matplotlib.rcParams['ps.fonttype'] = 42"
   ]
  },
  {
   "cell_type": "markdown",
   "id": "17fbaa1e-1def-4d50-b6c2-bfe368e22234",
   "metadata": {},
   "source": [
    "Import `PCGSEPy` modules:"
   ]
  },
  {
   "cell_type": "code",
   "execution_count": 3,
   "id": "74178d80-9093-4c59-85ce-3d6cdb2fbeb1",
   "metadata": {
    "execution": {
     "iopub.execute_input": "2022-02-07T16:38:01.611619Z",
     "iopub.status.busy": "2022-02-07T16:38:01.610625Z",
     "iopub.status.idle": "2022-02-07T16:38:03.315876Z",
     "shell.execute_reply": "2022-02-07T16:38:03.315876Z",
     "shell.execute_reply.started": "2022-02-07T16:38:01.611619Z"
    },
    "tags": []
   },
   "outputs": [],
   "source": [
    "from pcgsepy.common.vecs import orientation_from_str, Vec \n",
    "from pcgsepy.config import COMMON_ATOMS, HL_ATOMS, N_ITERATIONS, REQ_TILES \n",
    "from pcgsepy.lsystem.rules import RuleMaker\n",
    "from pcgsepy.lsystem.actions import AtomAction, Rotations\n",
    "from pcgsepy.lsystem.parser import HLParser, LLParser\n",
    "from pcgsepy.lsystem.solver import LSolver\n",
    "from pcgsepy.lsystem.constraints import ConstraintHandler, ConstraintLevel, ConstraintTime\n",
    "from pcgsepy.lsystem.constraints_funcs import components_constraint, intersection_constraint, symmetry_constraint, axis_constraint\n",
    "from pcgsepy.lsystem.lsystem import LSystem\n",
    "from pcgsepy.structure import block_definitions\n",
    "from pcgsepy.evo.genops import expander"
   ]
  },
  {
   "cell_type": "markdown",
   "id": "c74744d6-32ab-4d73-a873-968e4a7f58a5",
   "metadata": {
    "jp-MarkdownHeadingCollapsed": true,
    "tags": []
   },
   "source": [
    "## Setup"
   ]
  },
  {
   "cell_type": "code",
   "execution_count": 4,
   "id": "5471baba-1f3e-4796-97ea-5fb863e07999",
   "metadata": {
    "execution": {
     "iopub.execute_input": "2022-02-07T16:38:03.315876Z",
     "iopub.status.busy": "2022-02-07T16:38:03.315876Z",
     "iopub.status.idle": "2022-02-07T16:38:03.335238Z",
     "shell.execute_reply": "2022-02-07T16:38:03.334217Z",
     "shell.execute_reply.started": "2022-02-07T16:38:03.315876Z"
    },
    "tags": []
   },
   "outputs": [],
   "source": [
    "with open(COMMON_ATOMS, \"r\") as f:\n",
    "    common_alphabet = json.load(f)\n",
    "\n",
    "for k in common_alphabet:\n",
    "    action, args = common_alphabet[k][\"action\"], common_alphabet[k][\"args\"]\n",
    "    action = AtomAction(action)\n",
    "    if action == AtomAction.MOVE:\n",
    "        args = orientation_from_str[args]\n",
    "    elif action == AtomAction.ROTATE:\n",
    "        args = Rotations(args)\n",
    "    common_alphabet[k] = {\"action\": action, \"args\": args}"
   ]
  },
  {
   "cell_type": "code",
   "execution_count": 5,
   "id": "6cc5ef87-1d4f-4217-af11-02b400e461c1",
   "metadata": {
    "execution": {
     "iopub.execute_input": "2022-02-07T16:38:03.337367Z",
     "iopub.status.busy": "2022-02-07T16:38:03.337367Z",
     "iopub.status.idle": "2022-02-07T16:38:03.349104Z",
     "shell.execute_reply": "2022-02-07T16:38:03.348078Z",
     "shell.execute_reply.started": "2022-02-07T16:38:03.337367Z"
    },
    "tags": []
   },
   "outputs": [],
   "source": [
    "with open(HL_ATOMS, \"r\") as f:\n",
    "    hl_atoms = json.load(f)\n",
    "\n",
    "tiles_dimensions = {}\n",
    "tiles_block_offset = {}\n",
    "for tile in hl_atoms.keys():\n",
    "    dx, dy, dz = hl_atoms[tile][\"dimensions\"]\n",
    "    tiles_dimensions[tile] = Vec.v3i(dx, dy, dz)\n",
    "    tiles_block_offset[tile] = hl_atoms[tile][\"offset\"]\n",
    "\n",
    "hl_alphabet = {}\n",
    "for k in common_alphabet.keys():\n",
    "    hl_alphabet[k] = common_alphabet[k]\n",
    "\n",
    "for hk in hl_atoms.keys():\n",
    "    hl_alphabet[hk] = {\"action\": AtomAction.PLACE, \"args\": []}"
   ]
  },
  {
   "cell_type": "code",
   "execution_count": 6,
   "id": "25b2c7ae-ee02-4870-abed-dd2d648d160a",
   "metadata": {
    "execution": {
     "iopub.execute_input": "2022-02-07T16:38:03.350967Z",
     "iopub.status.busy": "2022-02-07T16:38:03.349969Z",
     "iopub.status.idle": "2022-02-07T16:38:03.357974Z",
     "shell.execute_reply": "2022-02-07T16:38:03.357139Z",
     "shell.execute_reply.started": "2022-02-07T16:38:03.350967Z"
    },
    "tags": []
   },
   "outputs": [],
   "source": [
    "ll_alphabet = {}\n",
    "\n",
    "for k in common_alphabet.keys():\n",
    "    ll_alphabet[k] = common_alphabet[k]\n",
    "\n",
    "# for k in block_definitions.keys():\n",
    "#     if k != \"\":  # TODO: This is a probable bug, reported to the SE API devs\n",
    "#         ll_alphabet[k] = {\"action\": AtomAction.PLACE, \"args\": [k]}"
   ]
  },
  {
   "cell_type": "code",
   "execution_count": 7,
   "id": "6606b3f8-d22f-497b-8ab7-80a4ce2cad2e",
   "metadata": {
    "execution": {
     "iopub.execute_input": "2022-02-07T16:38:03.360085Z",
     "iopub.status.busy": "2022-02-07T16:38:03.360085Z",
     "iopub.status.idle": "2022-02-07T16:38:03.372290Z",
     "shell.execute_reply": "2022-02-07T16:38:03.372290Z",
     "shell.execute_reply.started": "2022-02-07T16:38:03.360085Z"
    },
    "tags": []
   },
   "outputs": [],
   "source": [
    "used_ll_blocks = [\n",
    "    'MyObjectBuilder_CubeBlock_LargeBlockArmorCorner',\n",
    "    'MyObjectBuilder_CubeBlock_LargeBlockArmorSlope',\n",
    "    'MyObjectBuilder_CubeBlock_LargeBlockArmorCornerInv',\n",
    "    'MyObjectBuilder_CubeBlock_LargeBlockArmorBlock',\n",
    "    'MyObjectBuilder_Gyro_LargeBlockGyro',\n",
    "    'MyObjectBuilder_Reactor_LargeBlockSmallGenerator',\n",
    "    'MyObjectBuilder_CargoContainer_LargeBlockSmallContainer',\n",
    "    'MyObjectBuilder_Cockpit_OpenCockpitLarge',\n",
    "    'MyObjectBuilder_Thrust_LargeBlockSmallThrust',\n",
    "    'MyObjectBuilder_InteriorLight_SmallLight',\n",
    "    'MyObjectBuilder_CubeBlock_Window1x1Slope',\n",
    "    'MyObjectBuilder_CubeBlock_Window1x1Flat',\n",
    "    'MyObjectBuilder_InteriorLight_LargeBlockLight_1corner'\n",
    "]\n",
    "\n",
    "for k in used_ll_blocks:\n",
    "    ll_alphabet[k] = {\"action\": AtomAction.PLACE, \"args\": [k]}"
   ]
  },
  {
   "cell_type": "markdown",
   "id": "9275b560-454a-4cab-b574-c00730ebe81b",
   "metadata": {
    "jp-MarkdownHeadingCollapsed": true,
    "tags": []
   },
   "source": [
    "## L-System components"
   ]
  },
  {
   "cell_type": "code",
   "execution_count": 8,
   "id": "65def23a-5419-4765-971b-7e0334b309ae",
   "metadata": {
    "execution": {
     "iopub.execute_input": "2022-02-07T16:38:03.375133Z",
     "iopub.status.busy": "2022-02-07T16:38:03.373315Z",
     "iopub.status.idle": "2022-02-07T16:38:03.399420Z",
     "shell.execute_reply": "2022-02-07T16:38:03.398421Z",
     "shell.execute_reply.started": "2022-02-07T16:38:03.375133Z"
    },
    "tags": []
   },
   "outputs": [],
   "source": [
    "hl_rules = RuleMaker(ruleset='hlrules').get_rules()\n",
    "ll_rules = RuleMaker(ruleset='llrules').get_rules()\n",
    "\n",
    "hl_parser = HLParser(rules=hl_rules)\n",
    "ll_parser = LLParser(rules=ll_rules)\n",
    "\n",
    "hl_solver = LSolver(parser=hl_parser,\n",
    "                    atoms_alphabet=hl_alphabet,\n",
    "                    extra_args={\n",
    "                        'tiles_dimensions': tiles_dimensions,\n",
    "                        'tiles_block_offset': tiles_block_offset,\n",
    "                        'll_rules': ll_rules\n",
    "                    })\n",
    "ll_solver = LSolver(parser=ll_parser,\n",
    "                    atoms_alphabet=dict(hl_alphabet, **ll_alphabet),\n",
    "                    extra_args={})"
   ]
  },
  {
   "cell_type": "code",
   "execution_count": 9,
   "id": "7b84c390-6759-4288-acf3-f6ac68ab572c",
   "metadata": {
    "execution": {
     "iopub.execute_input": "2022-02-07T16:38:03.401311Z",
     "iopub.status.busy": "2022-02-07T16:38:03.400418Z",
     "iopub.status.idle": "2022-02-07T16:38:03.415696Z",
     "shell.execute_reply": "2022-02-07T16:38:03.414263Z",
     "shell.execute_reply.started": "2022-02-07T16:38:03.401311Z"
    },
    "tags": []
   },
   "outputs": [],
   "source": [
    "rcc1 = ConstraintHandler(\n",
    "    name=\"required_components\",\n",
    "    level=ConstraintLevel.HARD_CONSTRAINT,\n",
    "    when=ConstraintTime.END,\n",
    "    f=components_constraint,\n",
    "    extra_args={\n",
    "        'alphabet': hl_alphabet\n",
    "    }\n",
    ")\n",
    "rcc1.extra_args[\"req_tiles\"] = ['cockpit']\n",
    "\n",
    "rcc2 = ConstraintHandler(\n",
    "    name=\"required_components\",\n",
    "    level=ConstraintLevel.HARD_CONSTRAINT,\n",
    "    when=ConstraintTime.END,\n",
    "    f=components_constraint,\n",
    "    extra_args={\n",
    "        'alphabet': hl_alphabet\n",
    "    }\n",
    ")\n",
    "rcc2.extra_args[\"req_tiles\"] = ['corridorcargo', 'corridorgyros', 'corridorreactors']\n",
    "\n",
    "rcc3 = ConstraintHandler(\n",
    "    name=\"required_components\",\n",
    "    level=ConstraintLevel.HARD_CONSTRAINT,\n",
    "    when=ConstraintTime.END,\n",
    "    f=components_constraint,\n",
    "    extra_args={\n",
    "        'alphabet': hl_alphabet\n",
    "    }\n",
    ")\n",
    "rcc3.extra_args[\"req_tiles\"] = ['thrusters']\n",
    "\n",
    "nic = ConstraintHandler(\n",
    "    name=\"no_intersections\",\n",
    "    level=ConstraintLevel.HARD_CONSTRAINT,\n",
    "    when=ConstraintTime.DURING,\n",
    "    f=intersection_constraint,\n",
    "    extra_args={\n",
    "        'alphabet': dict(hl_alphabet, **ll_alphabet)\n",
    "    },\n",
    "    needs_ll=True\n",
    ")\n",
    "nic.extra_args[\"tiles_dimensions\"] = tiles_dimensions\n",
    "\n",
    "sc = ConstraintHandler(\n",
    "    name=\"symmetry\",\n",
    "    level=ConstraintLevel.SOFT_CONSTRAINT,\n",
    "    when=ConstraintTime.END,\n",
    "    f=symmetry_constraint,\n",
    "    extra_args={\n",
    "        'alphabet': dict(hl_alphabet, **ll_alphabet)\n",
    "    }\n",
    ")"
   ]
  },
  {
   "cell_type": "code",
   "execution_count": 10,
   "id": "427e0cf0-3dc6-4285-8963-eb171cb870de",
   "metadata": {
    "execution": {
     "iopub.execute_input": "2022-02-07T16:38:03.417706Z",
     "iopub.status.busy": "2022-02-07T16:38:03.416639Z",
     "iopub.status.idle": "2022-02-07T16:38:03.424429Z",
     "shell.execute_reply": "2022-02-07T16:38:03.423727Z",
     "shell.execute_reply.started": "2022-02-07T16:38:03.417706Z"
    },
    "tags": []
   },
   "outputs": [],
   "source": [
    "lsystem = LSystem(\n",
    "    hl_solver=hl_solver, ll_solver=ll_solver, names=['HeadModule', 'BodyModule', 'TailModule']\n",
    ")"
   ]
  },
  {
   "cell_type": "code",
   "execution_count": 11,
   "id": "d9ef6f61-369e-427a-a865-80452e125693",
   "metadata": {
    "execution": {
     "iopub.execute_input": "2022-02-07T16:38:03.427989Z",
     "iopub.status.busy": "2022-02-07T16:38:03.426992Z",
     "iopub.status.idle": "2022-02-07T16:38:03.440258Z",
     "shell.execute_reply": "2022-02-07T16:38:03.439370Z",
     "shell.execute_reply.started": "2022-02-07T16:38:03.427989Z"
    },
    "tags": []
   },
   "outputs": [],
   "source": [
    "lsystem.add_hl_constraints(cs=[\n",
    "    [nic, rcc1],\n",
    "    [nic, rcc2],\n",
    "    [nic, rcc3]\n",
    "])\n",
    "\n",
    "lsystem.add_ll_constraints(cs=[\n",
    "    [sc],\n",
    "    [sc],\n",
    "    [sc]\n",
    "])"
   ]
  },
  {
   "cell_type": "code",
   "execution_count": 12,
   "id": "0286d232-3b08-4a43-ba5a-f5dc9c84bdb5",
   "metadata": {
    "execution": {
     "iopub.execute_input": "2022-02-07T16:38:03.445708Z",
     "iopub.status.busy": "2022-02-07T16:38:03.444711Z",
     "iopub.status.idle": "2022-02-07T16:38:03.454182Z",
     "shell.execute_reply": "2022-02-07T16:38:03.453186Z",
     "shell.execute_reply.started": "2022-02-07T16:38:03.444711Z"
    },
    "tags": []
   },
   "outputs": [],
   "source": [
    "expander.initialize(rules=lsystem.hl_solver.parser.rules)"
   ]
  },
  {
   "cell_type": "markdown",
   "id": "a6788134-93ff-451e-8352-85ff29af5d78",
   "metadata": {},
   "source": [
    "## MAP-Elites"
   ]
  },
  {
   "cell_type": "code",
   "execution_count": 13,
   "id": "54ce358d-03bb-4ca8-9d88-a021165f8075",
   "metadata": {
    "execution": {
     "iopub.execute_input": "2022-02-07T16:38:03.456210Z",
     "iopub.status.busy": "2022-02-07T16:38:03.456210Z",
     "iopub.status.idle": "2022-02-07T16:38:04.626229Z",
     "shell.execute_reply": "2022-02-07T16:38:04.626229Z",
     "shell.execute_reply.started": "2022-02-07T16:38:03.456210Z"
    },
    "tags": []
   },
   "outputs": [],
   "source": [
    "from pcgsepy.evo.fitness import box_filling_fitness, bounding_box_fitness, func_blocks_fitness, axis_fitness\n",
    "\n",
    "feasible_fitnesses = [bounding_box_fitness,\n",
    "                      box_filling_fitness,\n",
    "                      func_blocks_fitness,\n",
    "                      axis_fitness]"
   ]
  },
  {
   "cell_type": "code",
   "execution_count": 14,
   "id": "a7232c88-8717-4436-9ba3-0578c9710470",
   "metadata": {
    "execution": {
     "iopub.execute_input": "2022-02-07T16:38:04.626229Z",
     "iopub.status.busy": "2022-02-07T16:38:04.626229Z",
     "iopub.status.idle": "2022-02-07T16:38:04.649539Z",
     "shell.execute_reply": "2022-02-07T16:38:04.648510Z",
     "shell.execute_reply.started": "2022-02-07T16:38:04.626229Z"
    }
   },
   "outputs": [],
   "source": [
    "from pcgsepy.common.vecs import Orientation, Vec\n",
    "from pcgsepy.lsystem.structure_maker import LLStructureMaker\n",
    "from pcgsepy.structure import Structure\n",
    "\n",
    "\n",
    "def get_structure(axiom, extra_args):\n",
    "    base_position, orientation_forward, orientation_up = Vec.v3i(\n",
    "        0, 0, 0), Orientation.FORWARD.value, Orientation.UP.value\n",
    "    structure = Structure(origin=base_position,\n",
    "                          orientation_forward=orientation_forward,\n",
    "                          orientation_up=orientation_up)\n",
    "    structure = LLStructureMaker(atoms_alphabet=extra_args['alphabet'],\n",
    "                                 position=base_position).fill_structure(\n",
    "                                     structure=structure,\n",
    "                                     axiom=axiom,\n",
    "                                     additional_args={})\n",
    "    structure.update(origin=base_position,\n",
    "                     orientation_forward=orientation_forward,\n",
    "                     orientation_up=orientation_up)\n",
    "    return structure"
   ]
  },
  {
   "cell_type": "code",
   "execution_count": 15,
   "id": "efc005be-cd56-4512-a618-4b34339acdfe",
   "metadata": {
    "execution": {
     "iopub.execute_input": "2022-02-07T16:38:04.653325Z",
     "iopub.status.busy": "2022-02-07T16:38:04.652293Z",
     "iopub.status.idle": "2022-02-07T16:38:04.681259Z",
     "shell.execute_reply": "2022-02-07T16:38:04.681259Z",
     "shell.execute_reply.started": "2022-02-07T16:38:04.653325Z"
    },
    "tags": []
   },
   "outputs": [],
   "source": [
    "from typing import List, Tuple\n",
    "from pcgsepy.lsystem.solution import CandidateSolution\n",
    "\n",
    "\n",
    "BIN_POP_SIZE = 5\n",
    "\n",
    "\n",
    "class MAPBin:\n",
    "    def __init__(self,\n",
    "                 bin_idx: Tuple[int, int],\n",
    "                 bin_size: Tuple[float, float]):\n",
    "        self._feasible = []\n",
    "        self._infeasible = []\n",
    "        self.bin_idx = bin_idx\n",
    "        self.bin_size = bin_size\n",
    "\n",
    "    def __str__(self) -> str:\n",
    "        vmin = (self.bin_idx[0] * self.bin_size[0], self.bin_idx[1] * self.bin_size[1])\n",
    "        vmax = (vmin[0] + self.bin_size[0], vmin[1] + self.bin_size[1])\n",
    "        return f'Bin {vmin}-{vmax} w/ {len(self._feasible)}f and {len(self._infeasible)}i cs'\n",
    "\n",
    "    def __repr__(self) -> str:\n",
    "        return str(self)\n",
    "\n",
    "    def _reduce(self,\n",
    "                pop: List[CandidateSolution]):\n",
    "        if len(pop) > BIN_POP_SIZE:\n",
    "            pop.sort(key=lambda x: x.c_fitness, reverse=True)\n",
    "            pop = pop[:BIN_POP_SIZE]\n",
    "\n",
    "    def insert_cs(self,\n",
    "                  cs: CandidateSolution):\n",
    "        if cs.is_feasible:\n",
    "            if cs not in self._feasible:\n",
    "                self._feasible.append(cs)\n",
    "                self._reduce(self._feasible)\n",
    "        else:\n",
    "            if cs not in self._infeasible:\n",
    "                self._infeasible.append(cs)\n",
    "                self._reduce(self._infeasible)\n",
    "\n",
    "    def get_fitness(self,\n",
    "                    use_mean: bool = True,\n",
    "                    population: str = 'feasible'):\n",
    "        op = np.mean if use_mean else np.max\n",
    "        pop = self._feasible if population == 'feasible' else self._infeasible\n",
    "        return op([cs.c_fitness for cs in pop]) if len(pop) > 0 else 0.\n"
   ]
  },
  {
   "cell_type": "code",
   "execution_count": 24,
   "id": "630f9c95-2aa6-420b-a2b2-3503a78241d4",
   "metadata": {
    "execution": {
     "iopub.execute_input": "2022-02-07T16:43:00.811599Z",
     "iopub.status.busy": "2022-02-07T16:43:00.811599Z",
     "iopub.status.idle": "2022-02-07T16:43:00.867151Z",
     "shell.execute_reply": "2022-02-07T16:43:00.866531Z",
     "shell.execute_reply.started": "2022-02-07T16:43:00.811599Z"
    },
    "tags": []
   },
   "outputs": [],
   "source": [
    "import numpy as np\n",
    "import matplotlib.pyplot as plt\n",
    "from pcgsepy.fi2pop.utils import create_new_pool\n",
    "import random\n",
    "from typing import Any, Dict, List\n",
    "from tqdm.notebook import trange\n",
    "from pcgsepy.fi2pop.utils import subdivide_axioms\n",
    "\n",
    "\n",
    "class MAPElites:\n",
    "    def __init__(self):\n",
    "        self.limits = (20, 20)\n",
    "        self.bin_qnt = (8, 8)\n",
    "        self.bin_sizes = (self.limits[0] / self.bin_qnt[0], self.limits[1] / self.bin_qnt[1])\n",
    "\n",
    "        self.bins = np.empty(shape=self.bin_qnt, dtype=object)\n",
    "        for i in range(self.bin_qnt[0]):\n",
    "            for j in range(self.bin_qnt[1]):\n",
    "                self.bins[i, j] = MAPBin(bin_idx=(i, j),\n",
    "                                         bin_size=self.bin_sizes)\n",
    "\n",
    "    def show_fitness(self,\n",
    "                     show_mean: bool = True,\n",
    "                     population: str = 'feasible'):\n",
    "        disp_map = np.zeros(shape=self.bins.shape)\n",
    "        for i in range(self.bins.shape[0]):\n",
    "            for j in range(self.bins.shape[1]):\n",
    "                disp_map[i, j] = self.bins[i, j].get_fitness(show_mean,\n",
    "                                                             population)\n",
    "        plt.imshow(disp_map,\n",
    "                   origin='lower',\n",
    "                   cmap='hot',\n",
    "                   interpolation='nearest',\n",
    "                   vmin=0,\n",
    "                   vmax=4.5 if population == 'feasible' else 2)\n",
    "        plt.xlabel('Largest / Smallest')\n",
    "        plt.ylabel('Largest / Medium')\n",
    "        plt.title(f'CMAP-Elites ({population})')\n",
    "        cbar = plt.colorbar()\n",
    "        cbar.set_label(f'Cumulative fitness ({\"mean\" if show_mean else \"max\"})', rotation=270)\n",
    "        plt.show()\n",
    "\n",
    "    def show_coverage(self,\n",
    "                      population: str = 'feasible'):\n",
    "        disp_map = np.zeros(shape=self.bins.shape)\n",
    "        for i in range(self.bins.shape[0]):\n",
    "            for j in range(self.bins.shape[1]):\n",
    "                pop = self.bins[i, j]._feasible if population == 'feasible' else self.bins[i, j]._infeasible\n",
    "                disp_map[i, j] = len(pop)\n",
    "        plt.imshow(disp_map,\n",
    "                   origin='lower',\n",
    "                   cmap='hot',\n",
    "                   interpolation='nearest')\n",
    "        plt.xlabel('Largest / Smallest')\n",
    "        plt.ylabel('Largest / Medium')\n",
    "        plt.title(f'CMAP-Elites ({population})')\n",
    "        cbar = plt.colorbar()\n",
    "        cbar.set_label('Number of solutions', rotation=270)\n",
    "        plt.show()\n",
    "\n",
    "    def _set_behavior_descriptors(self,\n",
    "                                  cs: CandidateSolution):\n",
    "        volume = cs.content.as_array().shape\n",
    "        largest_axis, medium_axis, smallest_axis = reversed(sorted(list(volume)))\n",
    "        mame = largest_axis / medium_axis\n",
    "        mami = largest_axis / smallest_axis\n",
    "        cs.b_descs = (mame, mami)\n",
    "\n",
    "    def compute_fitness(self,\n",
    "                        axiom: str,\n",
    "                        extra_args: Dict[str, Any]) -> float:\n",
    "        return sum([f(axiom, extra_args) for f in feasible_fitnesses])\n",
    "\n",
    "    def generate_initial_populations(self,\n",
    "                                     lsystem: LSystem,\n",
    "                                     pops_size: int = 20,\n",
    "                                     n_retries: int = 100,):\n",
    "        feasible_pop, infeasible_pop = [], []\n",
    "        lsystem.disable_sat_check()\n",
    "        with trange(n_retries, desc='Initialization ') as iterations:\n",
    "            for i in iterations:\n",
    "                _, hl_axioms, _ = lsystem.apply_rules(starting_axioms=['head', 'body', 'tail'],\n",
    "                                                      iterations=[1, N_ITERATIONS, 1],\n",
    "                                                      create_structures=False,\n",
    "                                                      make_graph=False)\n",
    "                axioms_sats = subdivide_axioms(hl_axioms=hl_axioms,\n",
    "                                               lsystem=lsystem)\n",
    "                for axiom in axioms_sats.keys():\n",
    "                    cs = CandidateSolution(string=axiom)\n",
    "                    if axioms_sats[axiom]['feasible'] and len(feasible_pop) < pops_size and axiom not in feasible_pop:\n",
    "                        cs.c_fitness = self.compute_fitness(axiom=lsystem.hl_to_ll(axiom=axiom),\n",
    "                                                            extra_args={\n",
    "                                                                'alphabet': lsystem.ll_solver.atoms_alphabet\n",
    "                                                                }) + (0.5 - axioms_sats[axiom]['n_constraints_v'])\n",
    "                        cs.is_feasible = True\n",
    "                        cs.set_content(get_structure(axiom=lsystem.hl_to_ll(axiom=axiom),\n",
    "                                                     extra_args={\n",
    "                                                         'alphabet': lsystem.ll_solver.atoms_alphabet\n",
    "                                                         }))\n",
    "                        self._set_behavior_descriptors(cs=cs)\n",
    "                        feasible_pop.append(cs)\n",
    "                    elif not axioms_sats[axiom]['feasible'] and len(infeasible_pop) < pops_size and axiom not in feasible_pop:\n",
    "                        cs.c_fitness = axioms_sats[axiom]['n_constraints_v']\n",
    "                        cs.set_content(get_structure(axiom=lsystem.hl_to_ll(axiom=axiom),\n",
    "                                                     extra_args={\n",
    "                                                         'alphabet': lsystem.ll_solver.atoms_alphabet\n",
    "                                                         }))\n",
    "                        self._set_behavior_descriptors(cs=cs)\n",
    "                        infeasible_pop.append(cs)\n",
    "                iterations.set_postfix(ordered_dict={'fpop-size': f'{len(feasible_pop)}/{pops_size}',\n",
    "                                                     'ipop-size': f'{len(infeasible_pop)}/{pops_size}'},\n",
    "                                       refresh=True)\n",
    "                if i == n_retries or (len(feasible_pop) == pops_size and len(infeasible_pop) == pops_size):\n",
    "                    break\n",
    "        self._update_bins(lcs=feasible_pop)\n",
    "        self._update_bins(lcs=infeasible_pop)\n",
    "\n",
    "    def _update_bins(self,\n",
    "                     lcs: List[CandidateSolution]):\n",
    "        for cs in lcs:\n",
    "            b0, b1 = cs.b_descs\n",
    "            i, j = int(b0 // self.bin_sizes[0]), int(b1 // self.bin_sizes[1])\n",
    "            self.bins[i, j].insert_cs(cs)\n",
    "\n",
    "    def rand_step(self,\n",
    "                  gen: int = 0):\n",
    "        valid_bins = []\n",
    "        for i in range(self.bins.shape[0]):\n",
    "            for j in range(self.bins.shape[1]):\n",
    "                cbin = self.bins[i, j]\n",
    "                if len(cbin._feasible) > 1 and len(cbin._infeasible) > 1:\n",
    "                    valid_bins.append(cbin)\n",
    "        # pick random bin\n",
    "        rnd_bin = random.choice(valid_bins)\n",
    "        f_pop = rnd_bin._feasible\n",
    "        i_pop = rnd_bin._infeasible\n",
    "        generated = []\n",
    "        for pop, minimize in zip([f_pop, i_pop], [False, True]):\n",
    "            strings = [cs.string for cs in pop]\n",
    "            fitnesses = [cs.c_fitness for cs in pop]\n",
    "            new_pool = create_new_pool(population=strings,\n",
    "                                       fitnesses=fitnesses,\n",
    "                                       generation=gen,\n",
    "                                       translator=lsystem.hl_solver.translator,\n",
    "                                       minimize=minimize)\n",
    "            axioms_sats = subdivide_axioms(hl_axioms=new_pool,\n",
    "                                           lsystem=lsystem)\n",
    "            for axiom in axioms_sats.keys():\n",
    "                cs = CandidateSolution(string=axiom)\n",
    "                if axioms_sats[axiom]['feasible']:\n",
    "                    cs.is_feasible = True\n",
    "                    cs.c_fitness = self.compute_fitness(axiom=lsystem.hl_to_ll(axiom=axiom),\n",
    "                                                        extra_args={\n",
    "                                                            'alphabet': lsystem.ll_solver.atoms_alphabet\n",
    "                                                            }) + (0.5 - axioms_sats[axiom]['n_constraints_v'])\n",
    "                else:\n",
    "                    cs.c_fitness = axioms_sats[axiom]['n_constraints_v']\n",
    "                    cs.set_content(get_structure(axiom=lsystem.hl_to_ll(axiom=axiom),\n",
    "                                                 extra_args={\n",
    "                                                     'alphabet': lsystem.ll_solver.atoms_alphabet\n",
    "                                                     }))\n",
    "                    self._set_behavior_descriptors(cs=cs)\n",
    "                generated.append(cs)\n",
    "        self._update_bins(lcs=generated)"
   ]
  },
  {
   "cell_type": "code",
   "execution_count": 25,
   "id": "62d265a9-198a-4053-94aa-1afdd757b3fe",
   "metadata": {
    "execution": {
     "iopub.execute_input": "2022-02-07T16:43:01.383296Z",
     "iopub.status.busy": "2022-02-07T16:43:01.382953Z",
     "iopub.status.idle": "2022-02-07T16:45:09.878020Z",
     "shell.execute_reply": "2022-02-07T16:45:09.876994Z",
     "shell.execute_reply.started": "2022-02-07T16:43:01.383296Z"
    },
    "tags": []
   },
   "outputs": [
    {
     "data": {
      "application/vnd.jupyter.widget-view+json": {
       "model_id": "9af48731c049494ab86b82c49e8ba164",
       "version_major": 2,
       "version_minor": 0
      },
      "text/plain": [
       "Initialization :   0%|          | 0/100 [00:00<?, ?it/s]"
      ]
     },
     "metadata": {},
     "output_type": "display_data"
    },
    {
     "data": {
      "image/png": "[encoded data removed]",
      "text/plain": [
       "<Figure size 432x288 with 2 Axes>"
      ]
     },
     "metadata": {
      "needs_background": "light"
     },
     "output_type": "display_data"
    },
    {
     "data": {
      "image/png": "[encoded data removed]",
      "text/plain": [
       "<Figure size 432x288 with 2 Axes>"
      ]
     },
     "metadata": {
      "needs_background": "light"
     },
     "output_type": "display_data"
    },
    {
     "data": {
      "image/png": "[encoded data removed]",
      "text/plain": [
       "<Figure size 432x288 with 2 Axes>"
      ]
     },
     "metadata": {
      "needs_background": "light"
     },
     "output_type": "display_data"
    },
    {
     "data": {
      "image/png": "[encoded data removed]",
      "text/plain": [
       "<Figure size 432x288 with 2 Axes>"
      ]
     },
     "metadata": {
      "needs_background": "light"
     },
     "output_type": "display_data"
    },
    {
     "data": {
      "image/png": "[encoded data removed]",
      "text/plain": [
       "<Figure size 432x288 with 2 Axes>"
      ]
     },
     "metadata": {
      "needs_background": "light"
     },
     "output_type": "display_data"
    },
    {
     "data": {
      "image/png": "[encoded data removed]",
      "text/plain": [
       "<Figure size 432x288 with 2 Axes>"
      ]
     },
     "metadata": {
      "needs_background": "light"
     },
     "output_type": "display_data"
    }
   ],
   "source": [
    "mapelites = MAPElites()\n",
    "mapelites.generate_initial_populations(lsystem=lsystem,\n",
    "                                       pops_size=20,\n",
    "                                       n_retries=100)\n",
    "\n",
    "mapelites.show_fitness(show_mean=True,\n",
    "                       population='feasible')\n",
    "mapelites.show_fitness(show_mean=False,\n",
    "                       population='feasible')\n",
    "mapelites.show_fitness(show_mean=True,\n",
    "                       population='infeasible')\n",
    "mapelites.show_fitness(show_mean=False,\n",
    "                       population='infeasible')\n",
    "mapelites.show_coverage(population='feasible')\n",
    "mapelites.show_coverage(population='infeasible')"
   ]
  },
  {
   "cell_type": "code",
   "execution_count": 26,
   "id": "6315720e-96de-4863-9efd-7618364aca15",
   "metadata": {
    "execution": {
     "iopub.execute_input": "2022-02-07T16:45:09.881924Z",
     "iopub.status.busy": "2022-02-07T16:45:09.880892Z",
     "iopub.status.idle": "2022-02-07T16:51:21.276878Z",
     "shell.execute_reply": "2022-02-07T16:51:21.275840Z",
     "shell.execute_reply.started": "2022-02-07T16:45:09.881924Z"
    },
    "tags": []
   },
   "outputs": [
    {
     "data": {
      "application/vnd.jupyter.widget-view+json": {
       "model_id": "e5be833f9cef40e9800d6aabc0697d1f",
       "version_major": 2,
       "version_minor": 0
      },
      "text/plain": [
       "  0%|          | 0/10 [00:00<?, ?it/s]"
      ]
     },
     "metadata": {},
     "output_type": "display_data"
    },
    {
     "data": {
      "image/png": "[encoded data removed]",
      "text/plain": [
       "<Figure size 432x288 with 2 Axes>"
      ]
     },
     "metadata": {
      "needs_background": "light"
     },
     "output_type": "display_data"
    },
    {
     "data": {
      "image/png": "[encoded data removed]",
      "text/plain": [
       "<Figure size 432x288 with 2 Axes>"
      ]
     },
     "metadata": {
      "needs_background": "light"
     },
     "output_type": "display_data"
    },
    {
     "data": {
      "image/png": "[encoded data removed]",
      "text/plain": [
       "<Figure size 432x288 with 2 Axes>"
      ]
     },
     "metadata": {
      "needs_background": "light"
     },
     "output_type": "display_data"
    },
    {
     "data": {
      "image/png": "[encoded data removed]",
      "text/plain": [
       "<Figure size 432x288 with 2 Axes>"
      ]
     },
     "metadata": {
      "needs_background": "light"
     },
     "output_type": "display_data"
    },
    {
     "data": {
      "image/png": "[encoded data removed]",
      "text/plain": [
       "<Figure size 432x288 with 2 Axes>"
      ]
     },
     "metadata": {
      "needs_background": "light"
     },
     "output_type": "display_data"
    },
    {
     "data": {
      "image/png": "[encoded data removed]",
      "text/plain": [
       "<Figure size 432x288 with 2 Axes>"
      ]
     },
     "metadata": {
      "needs_background": "light"
     },
     "output_type": "display_data"
    }
   ],
   "source": [
    "for i in trange(10):\n",
    "    mapelites.rand_step(gen=i)\n",
    "\n",
    "mapelites.show_fitness(show_mean=True,\n",
    "                       population='feasible')\n",
    "mapelites.show_fitness(show_mean=False,\n",
    "                       population='feasible')\n",
    "mapelites.show_fitness(show_mean=True,\n",
    "                       population='infeasible')\n",
    "mapelites.show_fitness(show_mean=False,\n",
    "                       population='infeasible')\n",
    "mapelites.show_coverage(population='feasible')\n",
    "mapelites.show_coverage(population='infeasible')"
   ]
  },
  {
   "cell_type": "code",
   "execution_count": null,
   "id": "75a61e4f-a98e-4f97-9f9c-3ef5a5c52237",
   "metadata": {},
   "outputs": [],
   "source": []
  }
 ],
 "metadata": {
  "kernelspec": {
   "display_name": "Python 3 (ipykernel)",
   "language": "python",
   "name": "python3"
  },
  "language_info": {
   "codemirror_mode": {
    "name": "ipython",
    "version": 3
   },
   "file_extension": ".py",
   "mimetype": "text/x-python",
   "name": "python",
   "nbconvert_exporter": "python",
   "pygments_lexer": "ipython3",
   "version": "3.8.12"
  }
 },
 "nbformat": 4,
 "nbformat_minor": 5
}
