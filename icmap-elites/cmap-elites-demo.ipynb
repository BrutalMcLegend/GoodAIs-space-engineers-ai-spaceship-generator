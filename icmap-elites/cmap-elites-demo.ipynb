{
 "cells": [
  {
   "cell_type": "markdown",
   "id": "649aa1d1-0648-4841-9ede-ab0bd518aeed",
   "metadata": {},
   "source": [
    "# ICMAP-Elites DEMO"
   ]
  },
  {
   "cell_type": "markdown",
   "id": "59780f73",
   "metadata": {},
   "source": [
    "## Imports"
   ]
  },
  {
   "cell_type": "code",
   "execution_count": 1,
   "id": "1b9e5b29",
   "metadata": {},
   "outputs": [],
   "source": [
    "from pcgsepy.common.jsonifier import json_dumps, json_loads\n",
    "from pcgsepy.evo.fitness import (Fitness, bounding_box_fitness,\n",
    "                                 box_filling_fitness, func_blocks_fitness,\n",
    "                                 mame_fitness, mami_fitness)\n",
    "from pcgsepy.evo.genops import expander\n",
    "from pcgsepy.fi2pop.utils import MLPEstimator\n",
    "from pcgsepy.mapelites.behaviors import (BehaviorCharacterization, avg_ma,\n",
    "                                         mame, mami, symmetry)\n",
    "from pcgsepy.mapelites.buffer import Buffer, max_merge, mean_merge, min_merge\n",
    "from pcgsepy.mapelites.emitters import HumanPrefMatrixEmitter\n",
    "from pcgsepy.mapelites.map import MAPElites\n",
    "from pcgsepy.mapelites.webapp import app, set_app_layout, set_callback_props\n",
    "from pcgsepy.setup_utils import get_default_lsystem, setup_matplotlib\n"
   ]
  },
  {
   "cell_type": "markdown",
   "id": "c875cd74",
   "metadata": {},
   "source": [
    "## Settings & L-system initialization"
   ]
  },
  {
   "cell_type": "code",
   "execution_count": 2,
   "id": "dd8e126e",
   "metadata": {},
   "outputs": [],
   "source": [
    "load_existing_mapelites = True"
   ]
  },
  {
   "cell_type": "code",
   "execution_count": 3,
   "id": "9cd548f4",
   "metadata": {},
   "outputs": [],
   "source": [
    "setup_matplotlib(larger_fonts=False)\n",
    "\n",
    "used_ll_blocks = [\n",
    "    'MyObjectBuilder_CubeBlock_LargeBlockArmorCornerInv',\n",
    "    'MyObjectBuilder_CubeBlock_LargeBlockArmorCorner',\n",
    "    'MyObjectBuilder_CubeBlock_LargeBlockArmorSlope',\n",
    "    'MyObjectBuilder_CubeBlock_LargeBlockArmorBlock',\n",
    "    'MyObjectBuilder_Gyro_LargeBlockGyro',\n",
    "    'MyObjectBuilder_Reactor_LargeBlockSmallGenerator',\n",
    "    'MyObjectBuilder_CargoContainer_LargeBlockSmallContainer',\n",
    "    'MyObjectBuilder_Cockpit_OpenCockpitLarge',\n",
    "    'MyObjectBuilder_Thrust_LargeBlockSmallThrust',\n",
    "    'MyObjectBuilder_InteriorLight_SmallLight',\n",
    "    'MyObjectBuilder_CubeBlock_Window1x1Slope',\n",
    "    'MyObjectBuilder_CubeBlock_Window1x1Flat',\n",
    "    'MyObjectBuilder_InteriorLight_LargeBlockLight_1corner'\n",
    "]\n",
    "\n",
    "lsystem = get_default_lsystem(used_ll_blocks=used_ll_blocks)"
   ]
  },
  {
   "cell_type": "code",
   "execution_count": 4,
   "id": "8204871e",
   "metadata": {},
   "outputs": [],
   "source": [
    "expander.initialize(rules=lsystem.hl_solver.parser.rules)"
   ]
  },
  {
   "cell_type": "markdown",
   "id": "d023922f",
   "metadata": {},
   "source": [
    "## CMAP-Elites"
   ]
  },
  {
   "cell_type": "code",
   "execution_count": 5,
   "id": "54ce358d-03bb-4ca8-9d88-a021165f8075",
   "metadata": {
    "execution": {
     "iopub.execute_input": "2022-02-22T09:54:44.780391Z",
     "iopub.status.busy": "2022-02-22T09:54:44.780391Z",
     "iopub.status.idle": "2022-02-22T09:54:44.796393Z",
     "shell.execute_reply": "2022-02-22T09:54:44.796393Z",
     "shell.execute_reply.started": "2022-02-22T09:54:44.780391Z"
    },
    "tags": []
   },
   "outputs": [],
   "source": [
    "feasible_fitnesses = [\n",
    "    #     Fitness(name='BoundingBox',\n",
    "    #             f=bounding_box_fitness,\n",
    "    #             bounds=(0, 1)),\n",
    "    Fitness(name='BoxFilling',\n",
    "            f=box_filling_fitness,\n",
    "            bounds=(0, 1)),\n",
    "    Fitness(name='FuncionalBlocks',\n",
    "            f=func_blocks_fitness,\n",
    "            bounds=(0, 1)),\n",
    "    Fitness(name='MajorMediumProportions',\n",
    "            f=mame_fitness,\n",
    "            bounds=(0, 1)),\n",
    "    Fitness(name='MajorMinimumProportions',\n",
    "            f=mami_fitness,\n",
    "            bounds=(0, 1))\n",
    "]\n",
    "\n",
    "behavior_descriptors = [\n",
    "    BehaviorCharacterization(name='Major axis / Medium axis',\n",
    "                             func=mame,\n",
    "                             bounds=(0, 10)),\n",
    "    BehaviorCharacterization(name='Major axis / Smallest axis',\n",
    "                             func=mami,\n",
    "                             bounds=(0, 20)),\n",
    "    BehaviorCharacterization(name='Average Proportions',\n",
    "                             func=avg_ma,\n",
    "                             bounds=(0, 20)),\n",
    "    BehaviorCharacterization(name='Symmetry',\n",
    "                             func=symmetry,\n",
    "                             bounds=(0, 1))\n",
    "]\n",
    "\n",
    "behavior_descriptors_names = [x.name for x in behavior_descriptors]"
   ]
  },
  {
   "cell_type": "code",
   "execution_count": 6,
   "id": "758e5d2f-92f6-4183-941a-175ec41d23b7",
   "metadata": {
    "execution": {
     "iopub.execute_input": "2022-02-22T09:54:44.828419Z",
     "iopub.status.busy": "2022-02-22T09:54:44.828419Z",
     "iopub.status.idle": "2022-02-22T09:54:45.284522Z",
     "shell.execute_reply": "2022-02-22T09:54:45.284522Z",
     "shell.execute_reply.started": "2022-02-22T09:54:44.828419Z"
    },
    "tags": []
   },
   "outputs": [],
   "source": [
    "if load_existing_mapelites:\n",
    "    with open('me.json', 'r') as f:\n",
    "        mapelites = json_loads(f.read())\n",
    "else:\n",
    "    mapelites = MAPElites(lsystem=lsystem,\n",
    "                          feasible_fitnesses=feasible_fitnesses,\n",
    "                          behavior_descriptors=(behavior_descriptors[0], behavior_descriptors[1]),\n",
    "                          estimator=MLPEstimator(xshape=len(feasible_fitnesses),\n",
    "                                                 yshape=1),\n",
    "                          buffer = Buffer(merge_method=mean_merge),\n",
    "                          emitter=HumanPrefMatrixEmitter(),\n",
    "                          n_bins=(8, 8))\n",
    "    mapelites.generate_initial_populations()\n",
    "    with open('me.json', 'w') as f:\n",
    "        f.write(json_dumps(mapelites))\n",
    "\n"
   ]
  },
  {
   "cell_type": "markdown",
   "id": "98d24139-c933-4f31-9091-16611032a9e0",
   "metadata": {},
   "source": [
    "## Webapp"
   ]
  },
  {
   "cell_type": "code",
   "execution_count": 7,
   "id": "c517fcbd",
   "metadata": {},
   "outputs": [],
   "source": [
    "set_callback_props(mapelites=mapelites)\n",
    "\n",
    "set_app_layout(mapelites=mapelites)"
   ]
  },
  {
   "cell_type": "code",
   "execution_count": 8,
   "id": "ddddb5ac",
   "metadata": {},
   "outputs": [
    {
     "name": "stdout",
     "output_type": "stream",
     "text": [
      "Dash is running on http://127.0.0.1:8050/\n",
      "\n",
      " * Serving Flask app 'pcgsepy.mapelites.webapp' (lazy loading)\n",
      " * Environment: production\n",
      "\u001b[31m   WARNING: This is a development server. Do not use it in a production deployment.\u001b[0m\n",
      "\u001b[2m   Use a production WSGI server instead.\u001b[0m\n",
      " * Debug mode: on\n"
     ]
    }
   ],
   "source": [
    "# app.run_server(debug=True, host='0.0.0.0', port = 8080, use_reloader=False)\n",
    "app.run_server(debug=True, use_reloader=False)"
   ]
  },
  {
   "cell_type": "code",
   "execution_count": null,
   "id": "073ee970",
   "metadata": {},
   "outputs": [],
   "source": []
  }
 ],
 "metadata": {
  "interpreter": {
   "hash": "85e76c4bc43e413dfce165bc9f67e2eed2bd079b772695d2cbf6e182af7522ce"
  },
  "kernelspec": {
   "display_name": "Python 3.8.12 ('pcg')",
   "language": "python",
   "name": "python3"
  },
  "language_info": {
   "codemirror_mode": {
    "name": "ipython",
    "version": 3
   },
   "file_extension": ".py",
   "mimetype": "text/x-python",
   "name": "python",
   "nbconvert_exporter": "python",
   "pygments_lexer": "ipython3",
   "version": "3.8.12"
  }
 },
 "nbformat": 4,
 "nbformat_minor": 5
}
