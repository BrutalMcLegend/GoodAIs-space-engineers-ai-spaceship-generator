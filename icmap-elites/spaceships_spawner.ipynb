{
 "cells": [
  {
   "cell_type": "markdown",
   "metadata": {},
   "source": [
    "# Spaceship spawner\n",
    "\n",
    "Spawns a spaceship in Space Engineers."
   ]
  },
  {
   "cell_type": "markdown",
   "metadata": {},
   "source": [
    "## Imports and setup"
   ]
  },
  {
   "cell_type": "code",
   "execution_count": null,
   "metadata": {},
   "outputs": [],
   "source": [
    "from pcgsepy.common.api_call import get_base_values, GameMode, toggle_gamemode\n",
    "from pcgsepy.common.vecs import Vec, Orientation\n",
    "from pcgsepy.lsystem.structure_maker import LLStructureMaker\n",
    "from pcgsepy.setup_utils import setup_matplotlib, get_default_lsystem\n",
    "from pcgsepy.structure import Structure, place_structure, place_blocks\n",
    "from pcgsepy.hullbuilder import HullBuilder"
   ]
  },
  {
   "cell_type": "code",
   "execution_count": null,
   "metadata": {},
   "outputs": [],
   "source": [
    "setup_matplotlib(larger_fonts=False)\n",
    "\n",
    "used_ll_blocks = [\n",
    "    'MyObjectBuilder_CubeBlock_LargeBlockArmorCornerInv',\n",
    "    'MyObjectBuilder_CubeBlock_LargeBlockArmorCorner',\n",
    "    'MyObjectBuilder_CubeBlock_LargeBlockArmorSlope',\n",
    "    'MyObjectBuilder_CubeBlock_LargeBlockArmorBlock',\n",
    "    'MyObjectBuilder_Gyro_LargeBlockGyro',\n",
    "    'MyObjectBuilder_Reactor_LargeBlockSmallGenerator',\n",
    "    'MyObjectBuilder_CargoContainer_LargeBlockSmallContainer',\n",
    "    'MyObjectBuilder_Cockpit_OpenCockpitLarge',\n",
    "    'MyObjectBuilder_Thrust_LargeBlockSmallThrust',\n",
    "    'MyObjectBuilder_InteriorLight_SmallLight',\n",
    "    'MyObjectBuilder_CubeBlock_Window1x1Slope',\n",
    "    'MyObjectBuilder_CubeBlock_Window1x1Flat',\n",
    "    'MyObjectBuilder_InteriorLight_LargeBlockLight_1corner'\n",
    "]\n",
    "\n",
    "lsystem = get_default_lsystem(used_ll_blocks=used_ll_blocks)"
   ]
  },
  {
   "cell_type": "markdown",
   "metadata": {},
   "source": [
    "## Spaceship string\n",
    "\n",
    "Define here the high-level spaceship string."
   ]
  },
  {
   "cell_type": "code",
   "execution_count": null,
   "metadata": {},
   "outputs": [],
   "source": [
    "spaceship_string = 'cockpitcorridorsimple(1)corridorsimple(1)[RotYcwZcorridorsimple(2)]corridorgyros(1)[RotYcwXcorridorsimple(2)]corridorsimple(1)corridorreactors(2)corridorsimple(1)[RotYccwXcorridorsimple(1)]corridorcargo(1)thrusters'"
   ]
  },
  {
   "cell_type": "markdown",
   "metadata": {},
   "source": [
    "## Spaceship creation"
   ]
  },
  {
   "cell_type": "code",
   "execution_count": null,
   "metadata": {},
   "outputs": [],
   "source": [
    "ml_string = lsystem.hl_solver.translator.transform(string=spaceship_string)\n",
    "ll_solution = lsystem.ll_solver.solve(string=ml_string,\n",
    "                                   iterations=1,\n",
    "                                   strings_per_iteration=1,\n",
    "                                   check_sat=False)[0]\n",
    "base_position, orientation_forward, orientation_up = Vec.v3i(\n",
    "            0, 0, 0), Orientation.FORWARD.value, Orientation.UP.value\n",
    "structure = Structure(origin=base_position,\n",
    "                      orientation_forward=orientation_forward,\n",
    "                      orientation_up=orientation_up)\n",
    "structure = LLStructureMaker(\n",
    "    atoms_alphabet=lsystem.ll_solver.atoms_alphabet,\n",
    "    position=base_position).fill_structure(structure=structure,\n",
    "                                           string=ll_solution.string)\n",
    "structure.sanify()\n",
    "\n",
    "hull_builder = HullBuilder(erosion_type='bin',\n",
    "                           apply_erosion=True,\n",
    "                           apply_smoothing=False)\n",
    "hull_builder.add_external_hull(structure=structure)\n",
    "\n",
    "structure.show('')"
   ]
  },
  {
   "cell_type": "markdown",
   "metadata": {},
   "source": [
    "## In-game placement"
   ]
  },
  {
   "cell_type": "code",
   "execution_count": null,
   "metadata": {},
   "outputs": [],
   "source": [
    "base_position, orientation_forward, orientation_up = get_base_values()\n",
    "# place_structure(structure=structure,\n",
    "#                 position=base_position,\n",
    "#                 orientation_forward=orientation_forward,\n",
    "#                 orientation_up=orientation_up,\n",
    "#                 batchify=False)\n",
    "structure.update(\n",
    "    origin=base_position,\n",
    "    orientation_forward=orientation_forward,\n",
    "    orientation_up=orientation_up,\n",
    ")\n",
    "toggle_gamemode(GameMode.PLACING)\n",
    "all_blocks = structure.get_all_blocks(to_place=True)\n",
    "for block in all_blocks:\n",
    "    block.position = block.position.sum(base_position)\n",
    "place_blocks(all_blocks, sequential=False)\n",
    "toggle_gamemode(GameMode.EVALUATING)"
   ]
  }
 ],
 "metadata": {
  "kernelspec": {
   "display_name": "Python 3.8.13 ('pcg')",
   "language": "python",
   "name": "python3"
  },
  "language_info": {
   "codemirror_mode": {
    "name": "ipython",
    "version": 3
   },
   "file_extension": ".py",
   "mimetype": "text/x-python",
   "name": "python",
   "nbconvert_exporter": "python",
   "pygments_lexer": "ipython3",
   "version": "3.8.13"
  },
  "orig_nbformat": 4,
  "vscode": {
   "interpreter": {
    "hash": "baec60536c6749885c57d3beb549b4412d50c1c1ea218f0ac711a9872f2242c3"
   }
  }
 },
 "nbformat": 4,
 "nbformat_minor": 2
}
