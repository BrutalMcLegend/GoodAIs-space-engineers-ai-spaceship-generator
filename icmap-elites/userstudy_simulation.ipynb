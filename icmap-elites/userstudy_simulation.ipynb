{
 "cells": [
  {
   "cell_type": "markdown",
   "metadata": {},
   "source": [
    "# Questionnaire\n",
    "\n",
    "The questionnaire to ask users at the end of the experiment."
   ]
  },
  {
   "cell_type": "markdown",
   "metadata": {},
   "source": [
    "Scale: {`Excellent`, `Good`, `Fair`, `Poor`}\n",
    "\n",
    "1. Attainment of desired/interesting solution: did you find a solution that you consider interesting or that you had in mind before the beginning of the experiment?\n",
    "2. System efficiency: was the system efficient in providing you with possible solutions?\n",
    "3. User-friendliness: how user-friendly was the system?\n",
    "4. Runtime response: how fast was the system when handling your requests?\n",
    "5. User fatigue: how tiresome was the experiment?"
   ]
  },
  {
   "cell_type": "code",
   "execution_count": 30,
   "metadata": {},
   "outputs": [],
   "source": [
    "n_volunteers = 15\n",
    "n_questions = 5\n",
    "n_categories = 4\n",
    "\n",
    "questions_place = {\n",
    "    'A': 'Attainment of desired/interesting solution',\n",
    "    'B': 'System efficiency',\n",
    "    'C': 'User-friendliness',\n",
    "    'D': 'Runtime response',\n",
    "    'E': 'User fatigue'\n",
    "} \n",
    "\n",
    "scale = ['', 'Excellent', 'Good', 'Fair', 'Poor']"
   ]
  },
  {
   "cell_type": "code",
   "execution_count": 31,
   "metadata": {},
   "outputs": [],
   "source": [
    "import numpy as np\n",
    "\n",
    "responses = np.random.random((n_questions, n_categories))\n",
    "responses /= np.sum(responses, axis=1)[:, None]\n",
    "responses *= n_volunteers"
   ]
  },
  {
   "cell_type": "code",
   "execution_count": 32,
   "metadata": {},
   "outputs": [
    {
     "name": "stderr",
     "output_type": "stream",
     "text": [
      "C:\\Users\\rober\\AppData\\Local\\Temp\\ipykernel_4332\\3338967711.py:14: UserWarning: FixedFormatter should only be used together with FixedLocator\n",
      "  axd[plot_idx].set_xticklabels(scale)\n"
     ]
    },
    {
     "data": {
      "image/png": "[encoded data removed]",
      "text/plain": [
       "<Figure size 432x288 with 5 Axes>"
      ]
     },
     "metadata": {
      "needs_background": "light"
     },
     "output_type": "display_data"
    }
   ],
   "source": [
    "import matplotlib.pyplot as plt\n",
    "\n",
    "axd = plt.figure(constrained_layout=True).subplot_mosaic(\n",
    "    \"\"\"\n",
    "    AB\n",
    "    CD\n",
    "    E.\n",
    "    \"\"\"\n",
    ")\n",
    "\n",
    "for i in range(len(list(questions_place.keys()))):\n",
    "    plot_idx = list(questions_place.keys())[i]\n",
    "    axd[plot_idx].bar(np.arange(n_categories), responses[i], 1, color='lightblue', alpha=0.75)\n",
    "    axd[plot_idx].set_xticklabels(scale)\n",
    "    axd[plot_idx].set_yticks(np.arange(0, n_volunteers + 1, 1))\n",
    "    axd[plot_idx].set_title(questions_place[plot_idx])\n",
    "    axd[plot_idx].grid()\n",
    "\n",
    "plt.suptitle('Questionnaire responses distribution')\n",
    "\n",
    "plt.show()"
   ]
  },
  {
   "cell_type": "markdown",
   "metadata": {},
   "source": [
    "# Emitters ranking\n",
    "\n",
    "Simulate the ranking of emitters per type and perform the statistical analysis."
   ]
  },
  {
   "cell_type": "code",
   "execution_count": 33,
   "metadata": {},
   "outputs": [],
   "source": [
    "import numpy as np\n",
    "\n",
    "scores = [1, 2, 3]\n",
    "\n",
    "emitter1_scores = np.random.choice(scores, size=n_volunteers)\n",
    "\n",
    "emitter2_scores = []\n",
    "for score in emitter1_scores:\n",
    "    scores_copy = scores.copy()\n",
    "    scores_copy.remove(score)\n",
    "    emitter2_scores.append(np.random.choice(scores_copy))\n",
    "\n",
    "emitter3_scores = []\n",
    "for score1, score2 in zip(emitter1_scores, emitter2_scores):\n",
    "    scores_copy = scores.copy()\n",
    "    scores_copy.remove(score)\n",
    "    emitter3_scores.append(np.random.choice(scores_copy))"
   ]
  },
  {
   "cell_type": "markdown",
   "metadata": {},
   "source": [
    "## Shapiro-Wilk test\n",
    "\n",
    "Shapiro-Wilk test for normality. We want the statistic to be as close to `1` as possible."
   ]
  },
  {
   "cell_type": "code",
   "execution_count": 34,
   "metadata": {},
   "outputs": [
    {
     "name": "stdout",
     "output_type": "stream",
     "text": [
      "Results for scores 1:\n",
      "\tShapiro statistic: 0.6288859844207764\n",
      "\tShapiro p-value: 4.748814899357967e-05\n",
      "Results for scores 2:\n",
      "\tShapiro statistic: 0.7436332702636719\n",
      "\tShapiro p-value: 0.0007582613616250455\n",
      "Results for scores 3:\n",
      "\tShapiro statistic: 0.6434077024459839\n",
      "\tShapiro p-value: 6.561598274856806e-05\n"
     ]
    }
   ],
   "source": [
    "from scipy.stats import shapiro\n",
    "\n",
    "for i, emitter_scores in enumerate([emitter1_scores, emitter2_scores, emitter3_scores]):\n",
    "    shapiro_test = shapiro(emitter_scores)\n",
    "    print(f'Results for scores {i + 1}:')\n",
    "    print(f'\\tShapiro statistic: {shapiro_test.statistic}')\n",
    "    print(f'\\tShapiro p-value: {shapiro_test.pvalue}')"
   ]
  },
  {
   "cell_type": "markdown",
   "metadata": {},
   "source": [
    "## One-way ANOVA\n",
    "\n",
    "The one-way ANOVA tests the null hypothesis that two or more groups have the same population mean. The test is applied to samples from two or more groups, possibly with differing sizes."
   ]
  },
  {
   "cell_type": "code",
   "execution_count": 35,
   "metadata": {},
   "outputs": [
    {
     "name": "stdout",
     "output_type": "stream",
     "text": [
      "Overall ANOVA:\n",
      "\tF-value: 8.816455696202528\n",
      "\tp-value: 0.0006353731035701782\n",
      "1-2 ANOVA:\n",
      "\tF-value: 9.099999999999998\n",
      "\tp-value: 0.0053908770441631945\n",
      "1-3 ANOVA:\n",
      "\tF-value: 0.24347826086956514\n",
      "\tp-value: 0.6255533444804928\n",
      "2-3 ANOVA:\n",
      "\tF-value: 22.1830985915493\n",
      "\tp-value: 6.129223282606367e-05\n"
     ]
    }
   ],
   "source": [
    "from scipy.stats import f_oneway\n",
    "\n",
    "F, p = f_oneway(emitter1_scores, emitter2_scores, emitter3_scores)\n",
    "print('Overall ANOVA:')\n",
    "print(f'\\tF-value: {F}')\n",
    "print(f'\\tp-value: {p}')\n",
    "\n",
    "F, p = f_oneway(emitter1_scores, emitter2_scores)\n",
    "print('1-2 ANOVA:')\n",
    "print(f'\\tF-value: {F}')\n",
    "print(f'\\tp-value: {p}')\n",
    "\n",
    "F, p = f_oneway(emitter1_scores, emitter3_scores)\n",
    "print('1-3 ANOVA:')\n",
    "print(f'\\tF-value: {F}')\n",
    "print(f'\\tp-value: {p}')\n",
    "\n",
    "F, p = f_oneway(emitter2_scores, emitter3_scores)\n",
    "print('2-3 ANOVA:')\n",
    "print(f'\\tF-value: {F}')\n",
    "print(f'\\tp-value: {p}')"
   ]
  },
  {
   "cell_type": "markdown",
   "metadata": {},
   "source": [
    "The ANOVA test has important assumptions that must be satisfied in order for the associated p-value to be valid:\n",
    "- The samples are independent.\n",
    "- Each sample is from a normally distributed population.\n",
    "- The population standard deviations of the groups are all equal. This property is known as homoscedasticity.\n",
    "\n",
    "If these assumptions are not true for a given set of data, it may still be possible to use the Kruskal-Wallis H-test (scipy.stats.kruskal) or the Alexander-Govern test (scipy.stats.alexandergovern) although with some loss of power."
   ]
  },
  {
   "cell_type": "markdown",
   "metadata": {},
   "source": [
    "## Ranking plotting"
   ]
  },
  {
   "cell_type": "code",
   "execution_count": 36,
   "metadata": {},
   "outputs": [
    {
     "data": {
      "image/png": "[encoded data removed]",
      "text/plain": [
       "<Figure size 432x288 with 1 Axes>"
      ]
     },
     "metadata": {
      "needs_background": "light"
     },
     "output_type": "display_data"
    }
   ],
   "source": [
    "import pandas as pd\n",
    "import matplotlib.pyplot as plt\n",
    "import numpy as np\n",
    "\n",
    "emitter_names = ['random-emitter', 'preference-matrix-emitter', 'contextual-bandit-emitter']\n",
    "\n",
    "first_place_count = [\n",
    "    np.sum([1 if x == 1 else 0 for x in emitter1_scores]),\n",
    "    np.sum([1 if x == 1 else 0 for x in emitter2_scores]),\n",
    "    np.sum([1 if x == 1 else 0 for x in emitter3_scores])\n",
    "]\n",
    "second_place_count = [\n",
    "    np.sum([1 if x == 2 else 0 for x in emitter1_scores]),\n",
    "    np.sum([1 if x == 2 else 0 for x in emitter2_scores]),\n",
    "    np.sum([1 if x == 2 else 0 for x in emitter3_scores])\n",
    "]\n",
    "third_place_count = [\n",
    "    np.sum([1 if x == 3 else 0 for x in emitter1_scores]),\n",
    "    np.sum([1 if x == 3 else 0 for x in emitter2_scores]),\n",
    "    np.sum([1 if x == 3 else 0 for x in emitter3_scores])\n",
    "]\n",
    "\n",
    "df = pd.DataFrame({'1st place': first_place_count,\n",
    "                   '2nd place': second_place_count,\n",
    "                   '3rd place': third_place_count\n",
    "                   }, index=emitter_names)\n",
    "\n",
    "ax = df.plot.barh()\n",
    "plt.title('Emitters ranking')\n",
    "plt.show()"
   ]
  },
  {
   "cell_type": "code",
   "execution_count": 39,
   "metadata": {},
   "outputs": [
    {
     "data": {
      "image/png": "[encoded data removed]",
      "text/plain": [
       "<Figure size 432x288 with 1 Axes>"
      ]
     },
     "metadata": {
      "needs_background": "light"
     },
     "output_type": "display_data"
    }
   ],
   "source": [
    "all_values = []\n",
    "score_to_value = {\n",
    "    1: 1,\n",
    "    2: 0.5,\n",
    "    3: 0.25\n",
    "}\n",
    "\n",
    "for arr in [emitter1_scores, emitter2_scores, emitter3_scores]:\n",
    "    all_values.append([])\n",
    "    for e in arr:\n",
    "        all_values[-1].append(score_to_value[e])\n",
    "\n",
    "plt.bar(emitter_names, height=[np.sum(x) for x in all_values])\n",
    "plt.title('Emitters score')\n",
    "plt.show()"
   ]
  },
  {
   "cell_type": "code",
   "execution_count": null,
   "metadata": {},
   "outputs": [],
   "source": []
  }
 ],
 "metadata": {
  "kernelspec": {
   "display_name": "Python 3.8.13 ('pcg')",
   "language": "python",
   "name": "python3"
  },
  "language_info": {
   "codemirror_mode": {
    "name": "ipython",
    "version": 3
   },
   "file_extension": ".py",
   "mimetype": "text/x-python",
   "name": "python",
   "nbconvert_exporter": "python",
   "pygments_lexer": "ipython3",
   "version": "3.8.13"
  },
  "orig_nbformat": 4,
  "vscode": {
   "interpreter": {
    "hash": "baec60536c6749885c57d3beb549b4412d50c1c1ea218f0ac711a9872f2242c3"
   }
  }
 },
 "nbformat": 4,
 "nbformat_minor": 2
}
