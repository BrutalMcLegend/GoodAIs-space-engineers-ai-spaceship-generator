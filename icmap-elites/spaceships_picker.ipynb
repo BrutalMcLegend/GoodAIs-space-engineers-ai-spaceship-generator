{
 "cells": [
  {
   "cell_type": "markdown",
   "metadata": {},
   "source": [
    "# Spaceships picker\n",
    "\n",
    "Pick spaceships with same (or similar) behavior characteristics, randomly."
   ]
  },
  {
   "cell_type": "markdown",
   "metadata": {},
   "source": [
    "## Imports"
   ]
  },
  {
   "cell_type": "code",
   "execution_count": null,
   "metadata": {},
   "outputs": [],
   "source": [
    "import numpy as np\n",
    "import os\n",
    "\n",
    "from typing import List, Tuple"
   ]
  },
  {
   "cell_type": "markdown",
   "metadata": {},
   "source": [
    "## MAP-Elites properties"
   ]
  },
  {
   "cell_type": "code",
   "execution_count": null,
   "metadata": {},
   "outputs": [],
   "source": [
    "BIN_N = (32, 32)\n",
    "BIN_BOUNDS = (1, 1)"
   ]
  },
  {
   "cell_type": "markdown",
   "metadata": {},
   "source": [
    "## Solutions parsing\n",
    "\n",
    "Solutions are high-level spaceships strings saved in a `.log` file as\n",
    "\n",
    "```\n",
    "{spaceship_string}\n",
    "{[fitness_1, fitness_2, ..., fitness_n]}\n",
    "\\r\n",
    "```"
   ]
  },
  {
   "cell_type": "code",
   "execution_count": null,
   "metadata": {},
   "outputs": [],
   "source": [
    "main_folder = 'results'\n",
    "\n",
    "methods_names = ['FI-2Pop', 'm-FI-2Pop', 'CMAP-Elites', 'Em-CMAP-Elites']\n",
    "folder_names = ['cog_experiment01', 'cog_experiment01', 'cog_experiment02', 'cog_experiment05']\n",
    "log_names = ['standard-fi2pop-elites_atoms.log', 'variant-fi2pop-min_merge-elites_atoms.log', 'standard-mapelites-elites_atoms.log', 'variant-optim-mapelites-min_merge-elites_atoms.log']\n",
    "\n",
    "def read_file(fname: str) -> Tuple[List[str], List[np.ndarray]]:\n",
    "    strings, fitnesses = [], []\n",
    "    \n",
    "    with open(fname, 'r') as f:\n",
    "        contents = f.readlines()\n",
    "\n",
    "        i = 0\n",
    "        while i < len(contents):\n",
    "            strings.append(contents[i])\n",
    "            fitnesses.append(np.asanyarray(list(map(float, contents[i+1].replace('Fitness: ', '').replace('[', '').replace(']', '').replace('\\n', '').split(',')))))\n",
    "            i += 3\n",
    "    \n",
    "    return strings, fitnesses"
   ]
  },
  {
   "cell_type": "markdown",
   "metadata": {},
   "source": [
    "Parse all `log` files:"
   ]
  },
  {
   "cell_type": "code",
   "execution_count": null,
   "metadata": {},
   "outputs": [],
   "source": [
    "all_strings = {}\n",
    "all_fitnesses = {}\n",
    "\n",
    "for method, logname, foldername in zip(methods_names, log_names, folder_names):\n",
    "    fname = os.path.join(main_folder, foldername)\n",
    "    logloc = os.path.join(fname, logname)\n",
    "    ss, fs = read_file(fname=logloc)\n",
    "    all_strings[method] = ss\n",
    "    all_fitnesses[method] = fs"
   ]
  },
  {
   "cell_type": "markdown",
   "metadata": {},
   "source": [
    "## Bins selection"
   ]
  },
  {
   "cell_type": "code",
   "execution_count": null,
   "metadata": {},
   "outputs": [],
   "source": [
    "def to_grid_bin_idxs(fitness: np.ndarray) -> Tuple[int, int]:\n",
    "    b1 = np.arange(0, BIN_BOUNDS[0], BIN_BOUNDS[0] / BIN_N[0])\n",
    "    b2 = np.arange(0, BIN_BOUNDS[1], BIN_BOUNDS[1] / BIN_N[1])    \n",
    "    bx = np.digitize(x=[fitness[0]], bins=b1, right=False)[0] - 1\n",
    "    by = np.digitize(x=[fitness[1]], bins=b2, right=False)[0] - 1\n",
    "    return (bx, by)\n",
    "\n",
    "def pick_random_viable_index(ref_bc: Tuple[int, int],\n",
    "                             fitnesses: List[np.ndarray]) -> int:\n",
    "    bcs = [to_grid_bin_idxs(fitness=f) for f in fitnesses]\n",
    "    if ref_bc in bcs:\n",
    "        print(f'Found same BC: {ref_bc}')\n",
    "        return bcs.index(ref_bc)\n",
    "    else:\n",
    "        scores = [np.abs(ref_bc[0] - b1) + np.abs(ref_bc[0] - b2) for (b1, b2) in bcs]\n",
    "        closest = np.argmin(scores)\n",
    "        print(f'Selecting closest BC: {bcs[closest]}')\n",
    "        return closest"
   ]
  },
  {
   "cell_type": "markdown",
   "metadata": {},
   "source": [
    "## Spaceships selection"
   ]
  },
  {
   "cell_type": "code",
   "execution_count": null,
   "metadata": {},
   "outputs": [],
   "source": [
    "# Enforce selecting a specific bin by setting the value of ref_bc\n",
    "ref_bc = None\n",
    "# ref_bc = (28, 3)"
   ]
  },
  {
   "cell_type": "code",
   "execution_count": null,
   "metadata": {},
   "outputs": [],
   "source": [
    "chosen_spaceships = {}\n",
    "# pick a random spaceship for the first experiment\n",
    "if not ref_bc:\n",
    "    ref_spaceship_idx = np.random.choice(np.arange(len(all_strings[list(all_strings.keys())[0]])))\n",
    "    ref_bc = to_grid_bin_idxs(fitness=all_fitnesses[list(all_fitnesses.keys())[0]][ref_spaceship_idx])\n",
    "for k in all_strings.keys():\n",
    "    print(f'Choosing spaceship for {k}...')\n",
    "    i = pick_random_viable_index(ref_bc=ref_bc,\n",
    "                                 fitnesses=all_fitnesses[k])\n",
    "    print(f'Chosen spaceship is {all_strings[k][i]}')\n"
   ]
  }
 ],
 "metadata": {
  "kernelspec": {
   "display_name": "Python 3.8.13 ('pcg')",
   "language": "python",
   "name": "python3"
  },
  "language_info": {
   "codemirror_mode": {
    "name": "ipython",
    "version": 3
   },
   "file_extension": ".py",
   "mimetype": "text/x-python",
   "name": "python",
   "nbconvert_exporter": "python",
   "pygments_lexer": "ipython3",
   "version": "3.8.13"
  },
  "orig_nbformat": 4,
  "vscode": {
   "interpreter": {
    "hash": "baec60536c6749885c57d3beb549b4412d50c1c1ea218f0ac711a9872f2242c3"
   }
  }
 },
 "nbformat": 4,
 "nbformat_minor": 2
}
